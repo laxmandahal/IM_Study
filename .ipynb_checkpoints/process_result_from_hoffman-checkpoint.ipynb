{
 "cells": [
  {
   "cell_type": "code",
   "execution_count": 1,
   "id": "4e830319",
   "metadata": {},
   "outputs": [],
   "source": [
    "import pandas as pd \n",
    "import numpy as np\n",
    "import matplotlib.pyplot as plt \n",
    "\n",
    "import os \n",
    "import sys\n",
    "import time\n",
    "\n",
    "cwd = r'/Users/laxmandahal/Desktop/UCLA/Phd/Research/IM_study'\n",
    "\n",
    "dataDir = os.path.join(cwd, *['Results', 'IM_study'])\n",
    "# sys.path.append(os.path.join(cwd, *['Codes','DesignTool']))\n",
    "# sys.path.append(os.path.join(cwd, *['Codes','ModelingTool']))\n",
    "# sys.path.append(os.path.join(cwd, *['Codes', 'PostProcessing']))\n",
    "\n",
    "\n",
    "import ExtractMaxEDP as extractedps\n",
    "\n",
    "\n",
    "pd.set_option('display.max_colwidth', None)\n",
    "%load_ext autoreload\n",
    "%autoreload 2"
   ]
  },
  {
   "cell_type": "code",
   "execution_count": 2,
   "id": "d3b69d2c",
   "metadata": {},
   "outputs": [
    {
     "data": {
      "text/plain": [
       "['s1_48x32_high',\n",
       " 's1_48x32_veryhigh',\n",
       " 's1_96x48_high',\n",
       " 's1_96x48_veryhigh',\n",
       " 's2_48x32_high',\n",
       " 's2_48x32_veryhigh',\n",
       " 's2_96x48_high',\n",
       " 's2_96x48_veryhigh',\n",
       " 's4_96x48_high',\n",
       " 's4_96x48_veryhigh']"
      ]
     },
     "execution_count": 2,
     "metadata": {},
     "output_type": "execute_result"
    }
   ],
   "source": [
    "with open('BuildingNames.txt', 'r') as f:\n",
    "    BuildingList = f.read() \n",
    "BuildingList = BuildingList.split('\\n')\n",
    "BuildingList"
   ]
  },
  {
   "cell_type": "code",
   "execution_count": null,
   "id": "a7ff203a",
   "metadata": {},
   "outputs": [],
   "source": []
  },
  {
   "cell_type": "code",
   "execution_count": 3,
   "id": "5948fbe1",
   "metadata": {},
   "outputs": [],
   "source": [
    "numGM = np.array([50, 47, 47, 47, 45])\n",
    "# numGM = np.array([100, 94, 94, 94, 90])\n",
    "\n",
    "CollapseCriteria = 0.1\n",
    "DemolitionCriteria = 0.01\n",
    "\n",
    "# numCount = extractedps.Count(sdr_mfd6b, CollapseCriteria, numGM)\n",
    "# numCount\n"
   ]
  },
  {
   "cell_type": "code",
   "execution_count": 5,
   "id": "a2e61314",
   "metadata": {},
   "outputs": [
    {
     "name": "stdout",
     "output_type": "stream",
     "text": [
      "Collapse count for Building ID s1_48x32_high is [0, 0, 0, 0, 0]\n",
      "Collapse count for Building ID s1_48x32_veryhigh is [0, 0, 0, 0, 0]\n",
      "Collapse count for Building ID s1_96x48_high is [0, 0, 0, 0, 6]\n",
      "Collapse count for Building ID s1_96x48_veryhigh is [0, 0, 0, 0, 8]\n",
      "Collapse count for Building ID s2_48x32_high is [0, 2, 11, 17, 23]\n",
      "Collapse count for Building ID s2_48x32_veryhigh is [0, 0, 9, 13, 22]\n",
      "Collapse count for Building ID s2_96x48_high is [0, 7, 16, 20, 28]\n",
      "Collapse count for Building ID s2_96x48_veryhigh is [0, 3, 13, 21, 25]\n",
      "Collapse count for Building ID s4_96x48_high is [0, 12, 25, 34, 43]\n",
      "Collapse count for Building ID s4_96x48_veryhigh is [0, 9, 22, 27, 36]\n"
     ]
    }
   ],
   "source": [
    "def getCollpseCount(numGM, CollapseCriteria, BuildingName, cwd):\n",
    "    os.chdir(os.path.join(cwd, *['Results', 'IM_study', BuildingName]))\n",
    "    sdr = pd.read_csv('SDR.csv', header = None)\n",
    "    peak_sdr_over_height = np.max(sdr.iloc[:,3:], axis=1)\n",
    "    is_collapsed = peak_sdr_over_height > CollapseCriteria\n",
    "    numGM_temp = np.insert(numGM, 0, 0) * 2\n",
    "    numGM_total = np.cumsum(numGM_temp)\n",
    "    \n",
    "    count = []\n",
    "    for i in range (1, len(numGM) + 1):\n",
    "        count.append(sum(is_collapsed[numGM_total[i-1]:numGM_total[i]]))\n",
    "    return count\n",
    "    \n",
    "if __name__ == '__main__':\n",
    "    for i in range(len(BuildingList)):\n",
    "        count = getCollpseCount(numGM, CollapseCriteria, BuildingList[i], cwd)\n",
    "        print('Collapse count for Building ID %s is %s'%(BuildingList[i], count))"
   ]
  },
  {
   "cell_type": "code",
   "execution_count": null,
   "id": "e089668b",
   "metadata": {},
   "outputs": [],
   "source": []
  },
  {
   "cell_type": "code",
   "execution_count": null,
   "id": "51edad70",
   "metadata": {},
   "outputs": [],
   "source": []
  },
  {
   "cell_type": "code",
   "execution_count": null,
   "id": "2c4c7474",
   "metadata": {},
   "outputs": [],
   "source": []
  },
  {
   "cell_type": "code",
   "execution_count": null,
   "id": "dcffbd94",
   "metadata": {},
   "outputs": [],
   "source": []
  },
  {
   "cell_type": "code",
   "execution_count": null,
   "id": "4cf026a3",
   "metadata": {},
   "outputs": [],
   "source": []
  }
 ],
 "metadata": {
  "kernelspec": {
   "display_name": "Python 3 (ipykernel)",
   "language": "python",
   "name": "python3"
  },
  "language_info": {
   "codemirror_mode": {
    "name": "ipython",
    "version": 3
   },
   "file_extension": ".py",
   "mimetype": "text/x-python",
   "name": "python",
   "nbconvert_exporter": "python",
   "pygments_lexer": "ipython3",
   "version": "3.8.6"
  }
 },
 "nbformat": 4,
 "nbformat_minor": 5
}
