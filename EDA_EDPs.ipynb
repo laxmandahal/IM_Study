{
 "cells": [
  {
   "cell_type": "code",
   "execution_count": 1,
   "id": "4bffe974",
   "metadata": {},
   "outputs": [
    {
     "name": "stderr",
     "output_type": "stream",
     "text": [
      "/Users/laxmandahal/opt/miniconda3/lib/python3.8/site-packages/statsmodels/compat/pandas.py:61: FutureWarning: pandas.Int64Index is deprecated and will be removed from pandas in a future version. Use pandas.Index with the appropriate dtype instead.\n",
      "  from pandas import Int64Index as NumericIndex\n"
     ]
    }
   ],
   "source": [
    "import os \n",
    "import sys\n",
    "import random\n",
    "import math\n",
    "\n",
    "import numpy as np\n",
    "import pandas as pd\n",
    "import matplotlib.pyplot as plt\n",
    "import seaborn as sns\n",
    "\n",
    "from scipy.stats import lognorm\n",
    "from scipy.stats import norm \n",
    "from scipy import integrate\n",
    "from scipy.stats import gmean\n",
    "\n",
    "from scipy.stats import pearsonr\n",
    "\n",
    "import statsmodels.api as sm \n",
    "import statsmodels.formula.api as smf\n",
    "\n",
    "### src; https://github.com/arkottke/pyrotd\n",
    "import pyrotd\n",
    "\n"
   ]
  },
  {
   "cell_type": "code",
   "execution_count": 2,
   "id": "4c0aaabb",
   "metadata": {},
   "outputs": [
    {
     "data": {
      "text/plain": [
       "['s1_48x32_high',\n",
       " 's1_48x32_veryhigh',\n",
       " 's1_96x48_high',\n",
       " 's1_96x48_veryhigh',\n",
       " 's2_48x32_high',\n",
       " 's2_48x32_veryhigh',\n",
       " 's2_96x48_high',\n",
       " 's2_96x48_veryhigh',\n",
       " 's4_96x48_high',\n",
       " 's4_96x48_veryhigh']"
      ]
     },
     "execution_count": 2,
     "metadata": {},
     "output_type": "execute_result"
    }
   ],
   "source": [
    "with open('BuildingNames.txt', 'r') as f:\n",
    "    BuildingList = f.read() \n",
    "BuildingList = BuildingList.split('\\n')\n",
    "BuildingList"
   ]
  },
  {
   "cell_type": "code",
   "execution_count": 3,
   "id": "e22d4df0",
   "metadata": {},
   "outputs": [],
   "source": [
    "baseDir = r'/Users/laxmandahal/Desktop/UCLA/Phd/Research/IM_study'\n",
    "\n",
    "## time period of the buildings\n",
    "T = np.array([0.13, 0.12, 0.22, 0.22, 0.16, 0.15, 0.26, 0.25, 0.49, 0.49])\n",
    "\n",
    "numGM = 826\n",
    "g = 980.665 ## converts GM record to cm/sec^2\n",
    "\n",
    "def compute_RotDxx_EDP(edpX, edpZ, percentile = 50):\n",
    "    angles = np.arange(0, 180, step=1)\n",
    "    radians = np.radians(angles)\n",
    "    coeffs = np.c_[np.cos(radians), np.sin(radians)]\n",
    "    \n",
    "    edp_stacked = np.vstack([edpX, edpZ])\n",
    "    rotated_edp = np.dot(coeffs, edp_stacked)\n",
    "    percentile_edp = np.percentile(rotated_edp, q = percentile, axis = 0, interpolation='linear')\n",
    "    return percentile_edp\n",
    "def correlation_from_covariance(covariance):\n",
    "    v = np.sqrt(np.diag(covariance))\n",
    "    outer_v = np.outer(v, v)\n",
    "    correlation = covariance / outer_v\n",
    "    correlation[covariance == 0] = 0\n",
    "    return correlation"
   ]
  },
  {
   "cell_type": "code",
   "execution_count": 4,
   "id": "83cc2c10",
   "metadata": {},
   "outputs": [],
   "source": [
    "# heresi_GM_dir = os.path.join(baseDir, *['References', 'Heresi GMs'])\n",
    "# os.chdir(heresi_GM_dir)\n",
    "# heresiGM = pd.read_csv('Ground Motion Records.csv')\n",
    "# RSNs = heresiGM['Record Sequence Number\\n(NGA-West2)'].values\n",
    "# np.savetxt('Heresi_831_RSNs.txt',[RSNs], delimiter=',', fmt='%d')"
   ]
  },
  {
   "cell_type": "code",
   "execution_count": 5,
   "id": "7d61e145",
   "metadata": {},
   "outputs": [],
   "source": [
    "gminfo_h1 = pd.read_csv(r'data/Complete_GM_info_h1.csv')\n",
    "gminfo_h1 = gminfo_h1.set_index('key_0')\n",
    "gminfo_h1.index.names = ['GMID']"
   ]
  },
  {
   "cell_type": "code",
   "execution_count": 6,
   "id": "1203eb0b",
   "metadata": {},
   "outputs": [],
   "source": [
    "gminfo_h2 = pd.read_csv(r'data/Complete_GM_info_h2.csv')\n",
    "gminfo_h2 = gminfo_h2.set_index('key_0')\n",
    "gminfo_h2.index.names = ['GMID']"
   ]
  },
  {
   "cell_type": "code",
   "execution_count": 7,
   "id": "3fa4724c",
   "metadata": {},
   "outputs": [
    {
     "data": {
      "text/plain": [
       "Index(['PGA', 'PGV', 'DS_5to75', 'DS_5to95', 'CAV', 'T_0.01', 'T_0.02',\n",
       "       'T_0.03', 'T_0.04', 'T_0.05',\n",
       "       ...\n",
       "       'SI', 'ASI', 'DSI', 'Sa_avg', '5-75% Duration (sec)_NGA2',\n",
       "       '5-95% Duration (sec)_NGA2', 'Magnitude', 'Distance_Rjb',\n",
       "       'Distance_rup', 'Vs_30'],\n",
       "      dtype='object', length=156)"
      ]
     },
     "execution_count": 7,
     "metadata": {},
     "output_type": "execute_result"
    }
   ],
   "source": [
    "gminfo_rotD50 = pd.read_csv(r'data/Complete_GM_info_RotD50.csv')\n",
    "gminfo_rotD50 = gminfo_rotD50.set_index('key_0')\n",
    "gminfo_rotD50.index.names = ['GMID']\n",
    "gminfo_rotD50.columns"
   ]
  },
  {
   "cell_type": "code",
   "execution_count": 8,
   "id": "4cdac0b6",
   "metadata": {},
   "outputs": [],
   "source": [
    "sv_rotD50 = pd.read_csv('data/Spectral_velocity_rotD50.csv', index_col='GMID')\n",
    "sd_rotD50 = pd.read_csv('data/Spectral_Displacement_rotD50.csv', index_col='GMID')"
   ]
  },
  {
   "cell_type": "code",
   "execution_count": 9,
   "id": "5636de5f",
   "metadata": {},
   "outputs": [],
   "source": [
    "# os.chdir(os.path.join(baseDir, *['Codes', 'data']))\n",
    "# np.savetxt('Magnitude.txt', gminfo_rotD50['Magnitude'].values, fmt = '%.3f')\n",
    "# np.savetxt('Distance_Rjb.txt', gminfo_rotD50['Distance_Rjb'].values, fmt = '%.3f')"
   ]
  },
  {
   "cell_type": "markdown",
   "id": "4e2ed54e",
   "metadata": {},
   "source": [
    "## Defining Classes for efficiency and sufficiency"
   ]
  },
  {
   "cell_type": "code",
   "execution_count": 10,
   "id": "0323e5fc",
   "metadata": {},
   "outputs": [],
   "source": [
    "def extract_EDP_data(baseDir, buildingIndex, edp_type = 'SDR', pairingID = 1, \n",
    "                     direction = 'X', remove_collapse = False):\n",
    "    \n",
    "    dataDir = dataDir = os.path.join(baseDir, *['Results', 'IM_study_826GMs', BuildingList[buildingIndex]])\n",
    "#     dataDir = dataDir = os.path.join(baseDir, *['Results', 'IM_study', BuildingList[buildingIndex]])\n",
    "    edp = pd.read_csv(os.path.join(dataDir, '%s.csv'%edp_type), header = None)\n",
    "    \n",
    "    numStory = int(BuildingList[buildingIndex].split('_')[0][1])\n",
    "    base_col_names = ['Hazard_Level', 'Pairing_ID', 'GM_ID']\n",
    "    if edp_type == 'PFA':\n",
    "        story_col_name = ['Story_%i'%x for x in range(numStory + 1)]\n",
    "    else:\n",
    "        story_col_name = ['Story_%i'%x for x in range(1, numStory + 1)]\n",
    "    col_names = base_col_names + story_col_name\n",
    "    edp = edp.rename(columns = dict(zip(edp.columns, col_names)))\n",
    "    \n",
    "    if pairingID == 1:\n",
    "        edp = edp[edp['Pairing_ID'] == pairingID]\n",
    "        start_index_multiplier = 0\n",
    "        end_index_multiplier = 1\n",
    "    elif pairingID == 2:\n",
    "        edp = edp[edp['Pairing_ID'] == pairingID]\n",
    "        start_index_multiplier = 2\n",
    "        end_index_multiplier = 3\n",
    "    else:\n",
    "        pass\n",
    "        \n",
    "    \n",
    "    if direction == 'X':\n",
    "        edp = edp[(edp['GM_ID']> 826 * start_index_multiplier) & (edp['GM_ID']<= 826 * end_index_multiplier)]\n",
    "    else:\n",
    "        edp = edp[(edp['GM_ID']> 826 * end_index_multiplier) & (edp['GM_ID']<= 826 * (end_index_multiplier + 1))]\n",
    "    \n",
    "    if edp_type == 'SDR':\n",
    "        if remove_collapse:\n",
    "            edp = edp[edp['Story_1'] < 0.1]\n",
    "    edp['Max_EDP'] = edp.loc[:,story_col_name].max(axis=1)\n",
    "    \n",
    "    return edp"
   ]
  },
  {
   "cell_type": "code",
   "execution_count": 19,
   "id": "cd1f4ccf",
   "metadata": {},
   "outputs": [
    {
     "data": {
      "text/html": [
       "<div>\n",
       "<style scoped>\n",
       "    .dataframe tbody tr th:only-of-type {\n",
       "        vertical-align: middle;\n",
       "    }\n",
       "\n",
       "    .dataframe tbody tr th {\n",
       "        vertical-align: top;\n",
       "    }\n",
       "\n",
       "    .dataframe thead th {\n",
       "        text-align: right;\n",
       "    }\n",
       "</style>\n",
       "<table border=\"1\" class=\"dataframe\">\n",
       "  <thead>\n",
       "    <tr style=\"text-align: right;\">\n",
       "      <th></th>\n",
       "      <th>Hazard_Level</th>\n",
       "      <th>Pairing_ID</th>\n",
       "      <th>GM_ID</th>\n",
       "      <th>Story_1</th>\n",
       "      <th>Story_2</th>\n",
       "      <th>Story_3</th>\n",
       "      <th>Story_4</th>\n",
       "      <th>Max_EDP</th>\n",
       "    </tr>\n",
       "  </thead>\n",
       "  <tbody>\n",
       "    <tr>\n",
       "      <th>826</th>\n",
       "      <td>1</td>\n",
       "      <td>1</td>\n",
       "      <td>827</td>\n",
       "      <td>0.002964</td>\n",
       "      <td>0.002030</td>\n",
       "      <td>0.001032</td>\n",
       "      <td>0.000176</td>\n",
       "      <td>0.002964</td>\n",
       "    </tr>\n",
       "    <tr>\n",
       "      <th>827</th>\n",
       "      <td>1</td>\n",
       "      <td>1</td>\n",
       "      <td>828</td>\n",
       "      <td>0.002864</td>\n",
       "      <td>0.001884</td>\n",
       "      <td>0.000790</td>\n",
       "      <td>0.000243</td>\n",
       "      <td>0.002864</td>\n",
       "    </tr>\n",
       "    <tr>\n",
       "      <th>828</th>\n",
       "      <td>1</td>\n",
       "      <td>1</td>\n",
       "      <td>829</td>\n",
       "      <td>0.004377</td>\n",
       "      <td>0.003890</td>\n",
       "      <td>0.002114</td>\n",
       "      <td>0.001051</td>\n",
       "      <td>0.004377</td>\n",
       "    </tr>\n",
       "    <tr>\n",
       "      <th>829</th>\n",
       "      <td>1</td>\n",
       "      <td>1</td>\n",
       "      <td>830</td>\n",
       "      <td>0.002904</td>\n",
       "      <td>0.001953</td>\n",
       "      <td>0.001726</td>\n",
       "      <td>0.001131</td>\n",
       "      <td>0.002904</td>\n",
       "    </tr>\n",
       "    <tr>\n",
       "      <th>830</th>\n",
       "      <td>1</td>\n",
       "      <td>1</td>\n",
       "      <td>831</td>\n",
       "      <td>0.002856</td>\n",
       "      <td>0.001947</td>\n",
       "      <td>0.000874</td>\n",
       "      <td>0.000185</td>\n",
       "      <td>0.002856</td>\n",
       "    </tr>\n",
       "  </tbody>\n",
       "</table>\n",
       "</div>"
      ],
      "text/plain": [
       "     Hazard_Level  Pairing_ID  GM_ID   Story_1   Story_2   Story_3   Story_4  \\\n",
       "826             1           1    827  0.002964  0.002030  0.001032  0.000176   \n",
       "827             1           1    828  0.002864  0.001884  0.000790  0.000243   \n",
       "828             1           1    829  0.004377  0.003890  0.002114  0.001051   \n",
       "829             1           1    830  0.002904  0.001953  0.001726  0.001131   \n",
       "830             1           1    831  0.002856  0.001947  0.000874  0.000185   \n",
       "\n",
       "      Max_EDP  \n",
       "826  0.002964  \n",
       "827  0.002864  \n",
       "828  0.004377  \n",
       "829  0.002904  \n",
       "830  0.002856  "
      ]
     },
     "execution_count": 19,
     "metadata": {},
     "output_type": "execute_result"
    }
   ],
   "source": [
    "sdr = extract_EDP_data(baseDir, 9, edp_type='SDR', pairingID=1, direction='Z', remove_collapse=False)\n",
    "sdr.head()"
   ]
  },
  {
   "cell_type": "code",
   "execution_count": 20,
   "id": "6cf11e71",
   "metadata": {},
   "outputs": [
    {
     "data": {
      "text/html": [
       "<div>\n",
       "<style scoped>\n",
       "    .dataframe tbody tr th:only-of-type {\n",
       "        vertical-align: middle;\n",
       "    }\n",
       "\n",
       "    .dataframe tbody tr th {\n",
       "        vertical-align: top;\n",
       "    }\n",
       "\n",
       "    .dataframe thead th {\n",
       "        text-align: right;\n",
       "    }\n",
       "</style>\n",
       "<table border=\"1\" class=\"dataframe\">\n",
       "  <thead>\n",
       "    <tr style=\"text-align: right;\">\n",
       "      <th></th>\n",
       "      <th>Hazard_Level</th>\n",
       "      <th>Pairing_ID</th>\n",
       "      <th>GM_ID</th>\n",
       "      <th>Story_1</th>\n",
       "      <th>Story_2</th>\n",
       "      <th>Story_3</th>\n",
       "      <th>Story_4</th>\n",
       "      <th>Max_EDP</th>\n",
       "    </tr>\n",
       "  </thead>\n",
       "  <tbody>\n",
       "    <tr>\n",
       "      <th>count</th>\n",
       "      <td>826.0</td>\n",
       "      <td>826.0</td>\n",
       "      <td>826.000000</td>\n",
       "      <td>826.000000</td>\n",
       "      <td>826.000000</td>\n",
       "      <td>826.000000</td>\n",
       "      <td>826.000000</td>\n",
       "      <td>826.000000</td>\n",
       "    </tr>\n",
       "    <tr>\n",
       "      <th>mean</th>\n",
       "      <td>1.0</td>\n",
       "      <td>1.0</td>\n",
       "      <td>1239.500000</td>\n",
       "      <td>0.003989</td>\n",
       "      <td>0.002477</td>\n",
       "      <td>0.001345</td>\n",
       "      <td>0.000428</td>\n",
       "      <td>0.003991</td>\n",
       "    </tr>\n",
       "    <tr>\n",
       "      <th>std</th>\n",
       "      <td>0.0</td>\n",
       "      <td>0.0</td>\n",
       "      <td>238.589955</td>\n",
       "      <td>0.006390</td>\n",
       "      <td>0.001940</td>\n",
       "      <td>0.001449</td>\n",
       "      <td>0.000467</td>\n",
       "      <td>0.006390</td>\n",
       "    </tr>\n",
       "    <tr>\n",
       "      <th>min</th>\n",
       "      <td>1.0</td>\n",
       "      <td>1.0</td>\n",
       "      <td>827.000000</td>\n",
       "      <td>0.000649</td>\n",
       "      <td>0.000509</td>\n",
       "      <td>0.000299</td>\n",
       "      <td>0.000010</td>\n",
       "      <td>0.000649</td>\n",
       "    </tr>\n",
       "    <tr>\n",
       "      <th>25%</th>\n",
       "      <td>1.0</td>\n",
       "      <td>1.0</td>\n",
       "      <td>1033.250000</td>\n",
       "      <td>0.002131</td>\n",
       "      <td>0.001531</td>\n",
       "      <td>0.000732</td>\n",
       "      <td>0.000139</td>\n",
       "      <td>0.002134</td>\n",
       "    </tr>\n",
       "    <tr>\n",
       "      <th>50%</th>\n",
       "      <td>1.0</td>\n",
       "      <td>1.0</td>\n",
       "      <td>1239.500000</td>\n",
       "      <td>0.002969</td>\n",
       "      <td>0.001966</td>\n",
       "      <td>0.000949</td>\n",
       "      <td>0.000265</td>\n",
       "      <td>0.002975</td>\n",
       "    </tr>\n",
       "    <tr>\n",
       "      <th>75%</th>\n",
       "      <td>1.0</td>\n",
       "      <td>1.0</td>\n",
       "      <td>1445.750000</td>\n",
       "      <td>0.003814</td>\n",
       "      <td>0.002538</td>\n",
       "      <td>0.001253</td>\n",
       "      <td>0.000571</td>\n",
       "      <td>0.003814</td>\n",
       "    </tr>\n",
       "    <tr>\n",
       "      <th>max</th>\n",
       "      <td>1.0</td>\n",
       "      <td>1.0</td>\n",
       "      <td>1652.000000</td>\n",
       "      <td>0.106067</td>\n",
       "      <td>0.014933</td>\n",
       "      <td>0.010851</td>\n",
       "      <td>0.003949</td>\n",
       "      <td>0.106067</td>\n",
       "    </tr>\n",
       "  </tbody>\n",
       "</table>\n",
       "</div>"
      ],
      "text/plain": [
       "       Hazard_Level  Pairing_ID        GM_ID     Story_1     Story_2  \\\n",
       "count         826.0       826.0   826.000000  826.000000  826.000000   \n",
       "mean            1.0         1.0  1239.500000    0.003989    0.002477   \n",
       "std             0.0         0.0   238.589955    0.006390    0.001940   \n",
       "min             1.0         1.0   827.000000    0.000649    0.000509   \n",
       "25%             1.0         1.0  1033.250000    0.002131    0.001531   \n",
       "50%             1.0         1.0  1239.500000    0.002969    0.001966   \n",
       "75%             1.0         1.0  1445.750000    0.003814    0.002538   \n",
       "max             1.0         1.0  1652.000000    0.106067    0.014933   \n",
       "\n",
       "          Story_3     Story_4     Max_EDP  \n",
       "count  826.000000  826.000000  826.000000  \n",
       "mean     0.001345    0.000428    0.003991  \n",
       "std      0.001449    0.000467    0.006390  \n",
       "min      0.000299    0.000010    0.000649  \n",
       "25%      0.000732    0.000139    0.002134  \n",
       "50%      0.000949    0.000265    0.002975  \n",
       "75%      0.001253    0.000571    0.003814  \n",
       "max      0.010851    0.003949    0.106067  "
      ]
     },
     "execution_count": 20,
     "metadata": {},
     "output_type": "execute_result"
    }
   ],
   "source": [
    "sdr[sdr['Hazard_Level']==1].describe()"
   ]
  },
  {
   "cell_type": "code",
   "execution_count": 21,
   "id": "b12375cf",
   "metadata": {},
   "outputs": [
    {
     "data": {
      "text/plain": [
       "0.002969115"
      ]
     },
     "execution_count": 21,
     "metadata": {},
     "output_type": "execute_result"
    }
   ],
   "source": [
    "np.median(sdr.Story_1)"
   ]
  },
  {
   "cell_type": "code",
   "execution_count": 24,
   "id": "a258cbec",
   "metadata": {},
   "outputs": [
    {
     "data": {
      "text/html": [
       "<div>\n",
       "<style scoped>\n",
       "    .dataframe tbody tr th:only-of-type {\n",
       "        vertical-align: middle;\n",
       "    }\n",
       "\n",
       "    .dataframe tbody tr th {\n",
       "        vertical-align: top;\n",
       "    }\n",
       "\n",
       "    .dataframe thead th {\n",
       "        text-align: right;\n",
       "    }\n",
       "</style>\n",
       "<table border=\"1\" class=\"dataframe\">\n",
       "  <thead>\n",
       "    <tr style=\"text-align: right;\">\n",
       "      <th></th>\n",
       "      <th>Hazard_Level</th>\n",
       "      <th>Pairing_ID</th>\n",
       "      <th>GM_ID</th>\n",
       "      <th>Story_0</th>\n",
       "      <th>Story_1</th>\n",
       "      <th>Story_2</th>\n",
       "      <th>Story_3</th>\n",
       "      <th>Story_4</th>\n",
       "      <th>Max_EDP</th>\n",
       "    </tr>\n",
       "  </thead>\n",
       "  <tbody>\n",
       "    <tr>\n",
       "      <th>826</th>\n",
       "      <td>1</td>\n",
       "      <td>1</td>\n",
       "      <td>827</td>\n",
       "      <td>0.045270</td>\n",
       "      <td>0.085317</td>\n",
       "      <td>0.111551</td>\n",
       "      <td>0.114419</td>\n",
       "      <td>0.128071</td>\n",
       "      <td>0.128071</td>\n",
       "    </tr>\n",
       "    <tr>\n",
       "      <th>827</th>\n",
       "      <td>1</td>\n",
       "      <td>1</td>\n",
       "      <td>828</td>\n",
       "      <td>0.059029</td>\n",
       "      <td>0.118398</td>\n",
       "      <td>0.180858</td>\n",
       "      <td>0.168013</td>\n",
       "      <td>0.178223</td>\n",
       "      <td>0.180858</td>\n",
       "    </tr>\n",
       "    <tr>\n",
       "      <th>828</th>\n",
       "      <td>1</td>\n",
       "      <td>1</td>\n",
       "      <td>829</td>\n",
       "      <td>0.368237</td>\n",
       "      <td>0.721778</td>\n",
       "      <td>0.843903</td>\n",
       "      <td>0.881731</td>\n",
       "      <td>0.986480</td>\n",
       "      <td>0.986480</td>\n",
       "    </tr>\n",
       "    <tr>\n",
       "      <th>829</th>\n",
       "      <td>1</td>\n",
       "      <td>1</td>\n",
       "      <td>830</td>\n",
       "      <td>0.271781</td>\n",
       "      <td>0.500525</td>\n",
       "      <td>0.580342</td>\n",
       "      <td>0.561967</td>\n",
       "      <td>0.745916</td>\n",
       "      <td>0.745916</td>\n",
       "    </tr>\n",
       "    <tr>\n",
       "      <th>830</th>\n",
       "      <td>1</td>\n",
       "      <td>1</td>\n",
       "      <td>831</td>\n",
       "      <td>0.057533</td>\n",
       "      <td>0.133925</td>\n",
       "      <td>0.125278</td>\n",
       "      <td>0.120166</td>\n",
       "      <td>0.131927</td>\n",
       "      <td>0.133925</td>\n",
       "    </tr>\n",
       "  </tbody>\n",
       "</table>\n",
       "</div>"
      ],
      "text/plain": [
       "     Hazard_Level  Pairing_ID  GM_ID   Story_0   Story_1   Story_2   Story_3  \\\n",
       "826             1           1    827  0.045270  0.085317  0.111551  0.114419   \n",
       "827             1           1    828  0.059029  0.118398  0.180858  0.168013   \n",
       "828             1           1    829  0.368237  0.721778  0.843903  0.881731   \n",
       "829             1           1    830  0.271781  0.500525  0.580342  0.561967   \n",
       "830             1           1    831  0.057533  0.133925  0.125278  0.120166   \n",
       "\n",
       "      Story_4   Max_EDP  \n",
       "826  0.128071  0.128071  \n",
       "827  0.178223  0.180858  \n",
       "828  0.986480  0.986480  \n",
       "829  0.745916  0.745916  \n",
       "830  0.131927  0.133925  "
      ]
     },
     "execution_count": 24,
     "metadata": {},
     "output_type": "execute_result"
    }
   ],
   "source": [
    "pfa = extract_EDP_data(baseDir, 9, edp_type='PFA', pairingID=1, direction='Z', remove_collapse=True)\n",
    "pfa = pfa[pfa['GM_ID'].isin(sdr['GM_ID'].values)]\n",
    "pfa.head()"
   ]
  },
  {
   "cell_type": "code",
   "execution_count": 25,
   "id": "25c00c86",
   "metadata": {
    "scrolled": true
   },
   "outputs": [
    {
     "data": {
      "text/plain": [
       "(826, 9)"
      ]
     },
     "execution_count": 25,
     "metadata": {},
     "output_type": "execute_result"
    }
   ],
   "source": [
    "pfa.shape"
   ]
  },
  {
   "cell_type": "code",
   "execution_count": 26,
   "id": "28c099a5",
   "metadata": {},
   "outputs": [
    {
     "data": {
      "text/plain": [
       "<seaborn.axisgrid.JointGrid at 0x7f874d4272b0>"
      ]
     },
     "execution_count": 26,
     "metadata": {},
     "output_type": "execute_result"
    },
    {
     "data": {
      "image/png": "[encoded data removed]",
      "text/plain": [
       "<Figure size 432x432 with 3 Axes>"
      ]
     },
     "metadata": {
      "needs_background": "light"
     },
     "output_type": "display_data"
    }
   ],
   "source": [
    "\n",
    "sns.jointplot(x = np.log(sdr['Story_1'].values), y = np.log(pfa['Story_1'].values), kind='kde')\n"
   ]
  },
  {
   "cell_type": "code",
   "execution_count": 34,
   "id": "dd76a291",
   "metadata": {},
   "outputs": [
    {
     "data": {
      "text/plain": [
       "Text(27.0, 0.5, 'Max PFA')"
      ]
     },
     "execution_count": 34,
     "metadata": {},
     "output_type": "execute_result"
    },
    {
     "data": {
      "image/png": "[encoded data removed]",
      "text/plain": [
       "<Figure size 432x432 with 3 Axes>"
      ]
     },
     "metadata": {
      "needs_background": "light"
     },
     "output_type": "display_data"
    }
   ],
   "source": [
    "# fig, ax = plt.subplots(figsize=(10,10))\n",
    "g = sns.jointplot(x = np.log(sdr['Max_EDP'].values), y = np.log(pfa['Max_EDP'].values), kind='kde')\n",
    "g.ax_joint.set_xlabel('Max PSDR', fontsize=14)\n",
    "g.ax_joint.set_ylabel('Max PFA', fontsize=14)\n"
   ]
  },
  {
   "cell_type": "code",
   "execution_count": null,
   "id": "5d71bcec",
   "metadata": {},
   "outputs": [],
   "source": [
    "X.shape"
   ]
  },
  {
   "cell_type": "code",
   "execution_count": null,
   "id": "6b0f4b40",
   "metadata": {},
   "outputs": [],
   "source": [
    "from pingouin import multivariate_normality\n",
    "X = [np.log(sdr['Story_1'].values), np.log(pfa['Story_1'].values)]\n",
    "# X = np.concatenate((np.log(sdr['Story_1'].values), np.log(pfa['Story_1'].values)))\n",
    "X = np.array(X).T\n",
    "# multivariate_normality(X, alpha=.05)\n",
    "from scipy.stats import normaltest\n",
    "k2, pval = normaltest(X)\n"
   ]
  },
  {
   "cell_type": "code",
   "execution_count": null,
   "id": "12a2c5f8",
   "metadata": {},
   "outputs": [],
   "source": [
    "pval"
   ]
  },
  {
   "cell_type": "code",
   "execution_count": null,
   "id": "8ea0d908",
   "metadata": {},
   "outputs": [],
   "source": [
    "multivariate_normality(np.log(sdr[['Story_1', 'Story_2', 'Story_3', 'Story_4']]), alpha=0.05)"
   ]
  },
  {
   "cell_type": "code",
   "execution_count": null,
   "id": "f42ad2d5",
   "metadata": {},
   "outputs": [],
   "source": [
    "from scipy import stats\n",
    "stats.kstest(np.log(sdr['Story_1'].values), stats.norm.cdf, alternative='two-sided')"
   ]
  },
  {
   "cell_type": "code",
   "execution_count": null,
   "id": "9856863b",
   "metadata": {},
   "outputs": [],
   "source": [
    "stats.anderson(np.log(sdr['Story_1'].values), dist='norm')"
   ]
  },
  {
   "cell_type": "code",
   "execution_count": null,
   "id": "88046207",
   "metadata": {},
   "outputs": [],
   "source": [
    "stats.shapiro(np.log(sdr['Story_4'].values))"
   ]
  },
  {
   "cell_type": "code",
   "execution_count": null,
   "id": "46e23b6e",
   "metadata": {},
   "outputs": [],
   "source": [
    "multivariate_normality(sdr[['Story_1', 'Story_2', 'Story_3', 'Story_4']], alpha=0.05)"
   ]
  },
  {
   "cell_type": "code",
   "execution_count": null,
   "id": "7e10b45a",
   "metadata": {},
   "outputs": [],
   "source": [
    "gminfo_rotD50['T_0.13'] = np.round(gminfo_rotD50['T_0.13'] / g, 1)"
   ]
  },
  {
   "cell_type": "code",
   "execution_count": null,
   "id": "ff3ff075",
   "metadata": {},
   "outputs": [],
   "source": [
    "gminfo_rotD50['T_0.13'].value_counts()"
   ]
  },
  {
   "cell_type": "code",
   "execution_count": 15,
   "id": "6c74363c",
   "metadata": {},
   "outputs": [
    {
     "data": {
      "text/plain": [
       "array([[0.39173104, 0.50035664],\n",
       "       [0.50035664, 0.97075795]])"
      ]
     },
     "execution_count": 15,
     "metadata": {},
     "output_type": "execute_result"
    }
   ],
   "source": [
    "covariance = np.cov(np.log(sdr['Story_1'].values), np.log(pfa['Story_1'].values), ddof=0)\n",
    "covariance"
   ]
  },
  {
   "cell_type": "code",
   "execution_count": null,
   "id": "b9f0f9d9",
   "metadata": {},
   "outputs": [],
   "source": [
    "correlation_from_covariance(covariance)"
   ]
  },
  {
   "cell_type": "code",
   "execution_count": null,
   "id": "21476252",
   "metadata": {},
   "outputs": [],
   "source": [
    "np.std(np.log(sdr['Story_1'].values), ddof=0)**2"
   ]
  },
  {
   "cell_type": "code",
   "execution_count": 16,
   "id": "76c74032",
   "metadata": {},
   "outputs": [
    {
     "data": {
      "image/png": "[encoded data removed]",
      "text/plain": [
       "<Figure size 720x720 with 1 Axes>"
      ]
     },
     "metadata": {
      "needs_background": "light"
     },
     "output_type": "display_data"
    }
   ],
   "source": [
    "from scipy.stats import multivariate_normal\n",
    "from mpl_toolkits.mplot3d import Axes3D\n",
    "\n",
    "#Parameters to set\n",
    "mu_x = np.mean(np.log(sdr['Story_1'].values))\n",
    "variance_x = np.std(np.log(sdr['Story_1'].values))**2\n",
    "\n",
    "mu_y = np.mean(np.log(pfa['Story_1'].values))\n",
    "variance_y = np.std(np.log(pfa['Story_1'].values))**2\n",
    "\n",
    "#Create grid and multivariate normal\n",
    "x = np.linspace(-8,0,500)\n",
    "y = np.linspace(-8,0,500)\n",
    "X, Y = np.meshgrid(x,y)\n",
    "pos = np.empty(X.shape + (2,))\n",
    "pos[:, :, 0] = X; pos[:, :, 1] = Y\n",
    "# pos = np.array([X.flatten(),Y.flatten()]).T\n",
    "rv = multivariate_normal([mu_x, mu_y], covariance)\n",
    "\n",
    "#Make a 3D plot\n",
    "fig = plt.figure(figsize=(10,10))\n",
    "# ax = fig.gca(projection='3d')\n",
    "ax = fig.add_subplot(111, projection='3d')\n",
    "ax.plot_surface(X, Y, rv.pdf(pos),cmap='viridis',linewidth=0)\n",
    "ax.set_xlabel('X axis')\n",
    "ax.set_ylabel('Y axis')\n",
    "ax.set_zlabel('Z axis')\n",
    "plt.show()"
   ]
  },
  {
   "cell_type": "code",
   "execution_count": null,
   "id": "ccbd02ce",
   "metadata": {},
   "outputs": [],
   "source": []
  },
  {
   "cell_type": "code",
   "execution_count": null,
   "id": "fff815d8",
   "metadata": {},
   "outputs": [],
   "source": []
  },
  {
   "cell_type": "code",
   "execution_count": null,
   "id": "c1d05576",
   "metadata": {},
   "outputs": [],
   "source": [
    "class OLS:\n",
    "    def __init__(self, EDP, IM):\n",
    "        self.EDP = EDP\n",
    "        self.IM = IM\n",
    "        self.Y = np.log(EDP)\n",
    "        self.X = sm.add_constant(np.log(IM))\n",
    "        \n",
    "        self.residual_mean = None\n",
    "        self.residual_std = None\n",
    "        self.xmin = None\n",
    "        self.xmax = None\n",
    "        \n",
    "        self.fitModel()\n",
    "        self.get_summary()\n",
    "        \n",
    "#         self.plot_residuals_hist()\n",
    "#         self.plot_model_fit()\n",
    "        \n",
    "    def fitModel(self):\n",
    "        model = sm.OLS(self.Y, self.X)\n",
    "        self.result = model.fit()\n",
    "        \n",
    "    def get_summary(self):\n",
    "        return self.result.summary()\n",
    "    \n",
    "    def plot_residuals_hist(self):\n",
    "        fig, ax = plt.subplots()\n",
    "        sns.histplot(x = self.result.resid, ax=ax, stat = 'density', linewidth = 0, kde=True)\n",
    "        ax.set(title = 'Distribution of residuals', xlabel = 'residuals')\n",
    "        \n",
    "        self.residual_mean, self.residual_std = norm.fit(self.result.resid)\n",
    "        ##plotting normal pdf\n",
    "        self.xmin, self.xmax = plt.xlim() # using maxi/min values from histogram\n",
    "        x = np.linspace(self.xmin, self.xmax, 200)\n",
    "        pdf = norm.pdf(x, self.residual_mean, self.residual_std)\n",
    "        sns.lineplot(x = x, y = pdf, color = 'red', ax = ax)\n",
    "        plt.show()\n",
    "    \n",
    "    def get_efficiency(self):\n",
    "        return np.std(self.result.resid)\n",
    "            \n",
    "    def qqplot(self):\n",
    "        sm.qqplot(self.result.resid, line = 's')\n",
    "\n",
    "\n",
    "    def fitplot(self):\n",
    "        sm.graphics.plot_fit(self.result, 1, vlines = False);\n",
    "        \n",
    "    def plot_model_fit(self):\n",
    "        Ymin = self.Y.min()\n",
    "        Ymax = self.Y.max()\n",
    "#         ax = sns.subplots()\n",
    "        ax = sns.scatterplot(x = self.result.fittedvalues, y = self.Y)\n",
    "#         ax.set_ylim(Ymin, Ymax)\n",
    "#         ax.set_xlim(self.xmin, self.xmax)\n",
    "        ax.set_xlabel('Predicted Values')\n",
    "        ax.set_ylabel('Observed Values')\n",
    "        \n",
    "        X_ref = Y_ref = np.linspace(Ymin, Ymax, 200)\n",
    "        plt.plot(X_ref, Y_ref, color = 'red', linewidth = 1.3)\n",
    "        plt.show()\n",
    "        \n",
    "class Sufficiency():\n",
    "    def __init__(self, ln_EDP, ln_IM, Rjb, Mag):\n",
    "        self.EDP = ln_EDP\n",
    "        self.IM = ln_IM\n",
    "        self.X = sm.add_constant(self.IM)\n",
    "        \n",
    "        temp = {'I': np.ones(shape = len(Mag)),\n",
    "                'lnEDP': self.EDP,\n",
    "                'lnIM': self.IM,\n",
    "                'lnRjb': np.log(Rjb),\n",
    "                'M': Mag}\n",
    "        self.dummydf = pd.DataFrame(temp, index = None)\n",
    "        \n",
    "        self.sufficiency_against_R()\n",
    "        self.sufficiency_against_M()\n",
    "        self.sufficiency_against_M_and_R()\n",
    "        \n",
    "    def sufficiency_against_R(self):\n",
    "        self.model_IM_vs_R = smf.ols('lnEDP ~ lnIM + lnRjb', data = self.dummydf)\n",
    "        model_res = self.model_IM_vs_R.fit()\n",
    "        self.summary_against_R = model_res.summary()\n",
    "        return model_res.pvalues['lnRjb']\n",
    "        \n",
    "    def sufficiency_against_M(self):\n",
    "        self.model_IM_vs_M = smf.ols('lnEDP ~ lnIM + M', data = self.dummydf)\n",
    "        model_res = self.model_IM_vs_M.fit()\n",
    "        self.summary_against_M = model_res.summary()\n",
    "        return model_res.pvalues['M']\n",
    "\n",
    "    def sufficiency_against_M_and_R(self):\n",
    "        self.model_IM_vs_R_and_M = smf.ols('lnEDP ~ lnIM + M + lnRjb', data = self.dummydf)\n",
    "        model_res = self.model_IM_vs_R_and_M.fit()\n",
    "        self.summary_against_M_and_R = model_res.summary()\n",
    "        return model_res.pvalues\n",
    "    \n",
    "    def qqplot(self, model):\n",
    "        sm.qqplot(model.fit(), line = 's')\n",
    "      "
   ]
  },
  {
   "cell_type": "code",
   "execution_count": null,
   "id": "32ca3b9c",
   "metadata": {},
   "outputs": [],
   "source": []
  },
  {
   "cell_type": "code",
   "execution_count": null,
   "id": "5321d22e",
   "metadata": {},
   "outputs": [],
   "source": [
    "def SummaryResutls_efficiency(buildingIndex, df_IMs, IMs=['SaT1', 'PGA', 'PGV', 'Sa_avg'],\n",
    "                              pairingID = 1, average_EDP = False, rotate_EDP = False):\n",
    "    '''\n",
    "    pairingID: if 1, GM_h1 applied in X-direction, GM_h2 applied in Y-direction\n",
    "               if 2, GM_h2 applied in X-direction, GM_h1 applied in Y-direction\n",
    "               \n",
    "    Note:\n",
    "    Care must be taken while using gminfo and pairing ID\n",
    "    -------------\n",
    "    df_IMs = gminfo_RotD50 can be used with pairing ID 1 OR 2 \n",
    "    df_IMs = gminfo_h1 can only be used with pairing ID 1\n",
    "    df_IMs = gminfo_h2 can only be used with pairing ID 2\n",
    "    '''\n",
    "    dataDir = os.path.join(baseDir, *['Results', 'IM_study_826GMs', BuildingList[buildingIndex]])\n",
    "    os.chdir(dataDir)\n",
    "    sdr = pd.read_csv('SDR.csv', header = None)\n",
    "    pfa = pd.read_csv('PFA.csv', header = None)\n",
    "    \n",
    "    numStory = int(BuildingList[buildingIndex].split('_')[0][1])\n",
    "    tempdf = []\n",
    "    d = []\n",
    "    keys = ['1st Story', '2nd Story', '3rd Story', '4th Story']\n",
    "    temp_sdr = {}\n",
    "    \n",
    "    if pairingID == 1:\n",
    "        start_index_multiplier = 0\n",
    "        end_index_multiplier = 1\n",
    "    else:\n",
    "        start_index_multiplier = 2\n",
    "        end_index_multiplier = 3\n",
    "    \n",
    "    for i in range(len(IMs)):\n",
    "        if IMs[i] == 'SaT1':\n",
    "            IM = df_IMs['T_%s'%T[buildingIndex]].values\n",
    "            ######### result for SaT1, SvT1 and SdT1 is the same b/c they are constantly relate\n",
    "#         elif IMs[i] == 'SvT1':\n",
    "#             IM = sv_rotD50['T_%s'%T[buildingIndex]].values\n",
    "#         elif IMs[i] == 'SdT1':\n",
    "#             IM = sd_rotD50['T_%s'%T[buildingIndex]].values\n",
    "        else:\n",
    "            IM = df_IMs[IMs[i]]\n",
    "\n",
    "        for j in range(numStory):\n",
    "            \n",
    "            sdrX = sdr[3+j].values[numGM * start_index_multiplier : numGM * end_index_multiplier]\n",
    "            sdrZ = sdr[3+j].values[numGM * end_index_multiplier : numGM * (end_index_multiplier + 1)]\n",
    "\n",
    "            pfaX = pfa[4+j].values[numGM * start_index_multiplier : numGM * end_index_multiplier]\n",
    "            pfaZ = pfa[4+j].values[numGM * end_index_multiplier : numGM * (end_index_multiplier + 1)]\n",
    "            \n",
    "            if average_EDP:\n",
    "                sdrX_avg = gmean([sdr[3+j].values[0:numGM], sdr[3+j].values[numGM*2:numGM*3]])\n",
    "                pfaX_avg = gmean([pfa[4+j].values[0:numGM], pfa[4+j].values[numGM*2:numGM*3]])\n",
    "                \n",
    "                sdrZ_avg = gmean([sdr[3+j].values[numGM:numGM*2], sdr[3+j].values[numGM*3:numGM*4]])\n",
    "                pfaZ_avg = gmean([pfa[4+j].values[numGM:numGM*2], pfa[4+j].values[numGM*3:numGM*4]])\n",
    "#                 compute_RotDxx_EDP(sdrX, sdrZ, percentile=50)\n",
    "#                 pfa_rotD50 = compute_RotDxx_EDP(pfaX, pfaZ, percentile=50)\n",
    "                if rotate_EDP:\n",
    "                    sdr_rotD50 = compute_RotDxx_EDP(sdrX_avg, sdrZ_avg, percentile=50)\n",
    "                    pfa_rotD50 = compute_RotDxx_EDP(pfaX_avg, pfaZ_avg, percentile=50)\n",
    "                    ols_sdrX = OLS(sdr_rotD50, IM)\n",
    "                    ols_pfaZ = OLS(pfa_rotD50, IM)\n",
    "                    temp_sdr[keys[j]] = {'SDR_RotD50':ols_sdrX.get_efficiency(),\n",
    "                                         'PFA_RotD50': ols_pfaZ.get_efficiency()}\n",
    "                else:\n",
    "                    ols_sdrX = OLS(sdrX_avg, IM)\n",
    "                    ols_sdrZ = OLS(sdrZ_avg, IM)\n",
    "                    ols_pfaX = OLS(pfaX_avg, IM)\n",
    "                    ols_pfaZ = OLS(pfaZ_avg, IM)\n",
    "                    temp_sdr[keys[j]] = {'SDR_X_Avg':ols_sdrX.get_efficiency(),\n",
    "                                         'SDR_Z_Avg':ols_sdrZ.get_efficiency(),\n",
    "                                         'PFA_X_Avg': ols_pfaX.get_efficiency(),\n",
    "                                         'PFA_Z_Avg': ols_pfaZ.get_efficiency()}\n",
    "            else:\n",
    "                ols_sdrX = OLS(sdrX, IM)\n",
    "                ols_sdrZ = OLS(sdrZ, IM)\n",
    "                ols_pfaX = OLS(pfaX, IM)\n",
    "                ols_pfaZ = OLS(pfaZ, IM)\n",
    "                temp_sdr[keys[j]] = {'SDR_X':ols_sdrX.get_efficiency(),\n",
    "                                     'SDR_Z':ols_sdrZ.get_efficiency(),\n",
    "                                     'PFA_X': ols_pfaX.get_efficiency(),\n",
    "                                     'PFA_Z': ols_pfaZ.get_efficiency()}\n",
    "        reform = {(outerKey, innerKey): values for outerKey, innerDict in temp_sdr.items() for innerKey, values in innerDict.items()}\n",
    "        df = pd.DataFrame.from_dict(reform, orient='index').transpose()\n",
    "        df.columns = pd.MultiIndex.from_tuples(df.columns)\n",
    "        df['IM'] = IMs[i]\n",
    "        df = df.set_index('IM')\n",
    "        tempdf.append(df)\n",
    "\n",
    "    return pd.concat(tempdf)\n"
   ]
  },
  {
   "cell_type": "code",
   "execution_count": null,
   "id": "d7d2e9f1",
   "metadata": {},
   "outputs": [],
   "source": []
  },
  {
   "cell_type": "code",
   "execution_count": null,
   "id": "d6be50b2",
   "metadata": {},
   "outputs": [],
   "source": [
    "# buildingIndex = 2\n",
    "# IM_list = ['SaT1', 'PGA', 'PGV', 'Sa_avg', 'CAV', 'SI', 'ASI', 'DSI', 'SvT1', 'SdT1']\n",
    "# for i in range(len(IM_list)):\n",
    "#     print(IM_list[i])\n",
    "#     if IM_list[i] == 'SaT1':\n",
    "#         IM = gminfo_rotD50['T_%s'%T[buildingIndex]].values\n",
    "#     elif IM_list[i] == 'SvT1':\n",
    "        \n",
    "#         IM = gminfo_rotD50['T_%s'%T[buildingIndex]].values\n",
    "#         print('YES')\n",
    "#     elif IM_list[i] == 'SD':\n",
    "#         print('YES')\n",
    "#         IM = gminfo_rotD50['T_%s'%T[buildingIndex]].values\n",
    "#     else:\n",
    "#         IM = gminfo_rotD50[IM_list[i]]"
   ]
  },
  {
   "cell_type": "code",
   "execution_count": null,
   "id": "ab9be650",
   "metadata": {},
   "outputs": [],
   "source": [
    "IM_list = ['SaT1', 'PGA', 'PGV', 'Sa_avg', 'CAV', 'SI', 'ASI', 'DSI','DS_5to75', 'DS_5to95' ]\n",
    "s1_48x32_high= SummaryResutls_efficiency(9, gminfo_rotD50, IM_list, pairingID = 1, average_EDP=True)\n",
    "s1_48x32_high"
   ]
  },
  {
   "cell_type": "code",
   "execution_count": null,
   "id": "31785826",
   "metadata": {},
   "outputs": [],
   "source": [
    "s1_48x32_high.min().min()\n"
   ]
  },
  {
   "cell_type": "code",
   "execution_count": null,
   "id": "6b1e29d7",
   "metadata": {
    "scrolled": true
   },
   "outputs": [],
   "source": [
    "s1_48x32_high.iloc[:, 0].values"
   ]
  },
  {
   "cell_type": "code",
   "execution_count": null,
   "id": "a3e12bf3",
   "metadata": {
    "scrolled": true
   },
   "outputs": [],
   "source": [
    "s1_48x32_high.iloc[:, 1].values[:2]"
   ]
  },
  {
   "cell_type": "code",
   "execution_count": null,
   "id": "b023dbe9",
   "metadata": {},
   "outputs": [],
   "source": [
    "fig = plt.figure(figsize=(8, 3))\n",
    "ax1 = fig.add_subplot(121, projection='3d')\n",
    "ax1.bar3d(x = [0.1, 0.3], y = [0.5,0.7], z = [1],\n",
    "          dx = s1_48x32_high.iloc[:, 0].values[:2], dy = s1_48x32_high.iloc[:, 1].values[:2], dz = [0, 1])"
   ]
  },
  {
   "cell_type": "code",
   "execution_count": null,
   "id": "bc69cbbf",
   "metadata": {},
   "outputs": [],
   "source": [
    "ax = plt.figure(figsize=(10,8)).add_subplot(projection='3d')\n",
    "color_pallet = ['b', 'g', 'r', 'm', 'c', 'k', 'y', 'dodgerblue', 'lime', 'darkorange']\n",
    "# Prepare arrays x, y, z\n",
    "z = [1, 2]\n",
    "for i in range(len(IM_list)):\n",
    "    x =[s1_48x32_high.iloc[:, 0].values[i], s1_48x32_high.iloc[:, 4].values[i]]\n",
    "    y = [s1_48x32_high.iloc[:, 1].values[i], s1_48x32_high.iloc[:, 5].values[i]]\n",
    "\n",
    "    ax.plot(xs = y, ys= x, zs = z, color = color_pallet[i], label = '%s'%IM_list[i])\n",
    "    ax.plot(xs = x, ys = y, zs=z, color = color_pallet[i], linestyle = '--')\n",
    "# ax.legend()\n",
    "# ax.view_init(elev = 30, azim= 90)\n",
    "plt.legend(bbox_to_anchor=(1.1, 1), loc='upper left', ncol=1)\n",
    "plt.show()"
   ]
  },
  {
   "cell_type": "code",
   "execution_count": null,
   "id": "383bfa0f",
   "metadata": {},
   "outputs": [],
   "source": [
    "ax = plt.figure(figsize=(10,8)).add_subplot(projection='3d')\n",
    "color_pallet = ['b', 'g', 'r', 'm', 'c', 'k', 'y', 'dodgerblue', 'lime', 'darkorange']\n",
    "# Prepare arrays x, y, z\n",
    "z = [1, 2, 3, 4]\n",
    "for i in range(len(IM_list)):\n",
    "    x =[s1_48x32_high.iloc[:, 2].values[i], s1_48x32_high.iloc[:, 6].values[i], s1_48x32_high.iloc[:, 10].values[i], s1_48x32_high.iloc[:, 14].values[i]]\n",
    "    y = [s1_48x32_high.iloc[:, 3].values[i], s1_48x32_high.iloc[:,7].values[i], s1_48x32_high.iloc[:, 11].values[i], s1_48x32_high.iloc[:, 15].values[i]]\n",
    "\n",
    "    ax.plot(xs = y, ys= x, zs = z, color = color_pallet[i], label = '%s'%IM_list[i])\n",
    "    ax.plot(xs = x, ys = y, zs=z, color = color_pallet[i], linestyle = '--')\n",
    "# ax.legend()\n",
    "# ax.view_init(elev = 45, azim= 120)\n",
    "plt.legend(bbox_to_anchor=(1.1, 1), loc='upper left', ncol=1)\n",
    "plt.show()"
   ]
  },
  {
   "cell_type": "code",
   "execution_count": null,
   "id": "75b5f634",
   "metadata": {},
   "outputs": [],
   "source": [
    "ax = plt.figure(figsize=(10,8)).add_subplot(projection='3d')\n",
    "color_pallet = ['b', 'g', 'r', 'm', 'c', 'k', 'y', 'dodgerblue', 'lime', 'darkorange']\n",
    "# Prepare arrays x, y, z\n",
    "z = [1, 2, 3, 4]\n",
    "for i in range(len(IM_list)):\n",
    "    x =[s1_48x32_high.iloc[:, 0].values[i], s1_48x32_high.iloc[:, 4].values[i], s1_48x32_high.iloc[:, 8].values[i], s1_48x32_high.iloc[:, 12].values[i]]\n",
    "    y = [s1_48x32_high.iloc[:, 1].values[i], s1_48x32_high.iloc[:,5].values[i], s1_48x32_high.iloc[:, 9].values[i], s1_48x32_high.iloc[:, 13].values[i]]\n",
    "\n",
    "    ax.plot(xs = y, ys= x, zs = z, color = color_pallet[i], label = '%s'%IM_list[i])\n",
    "    ax.plot(xs = x, ys = y, zs=z, color = color_pallet[i], linestyle = '--')\n",
    "# ax.legend()\n",
    "ax.view_init(elev = 60, azim= 45)\n",
    "plt.legend(bbox_to_anchor=(1.1, 1), loc='upper left', ncol=1)\n",
    "plt.show()"
   ]
  },
  {
   "cell_type": "code",
   "execution_count": null,
   "id": "102b0daf",
   "metadata": {},
   "outputs": [],
   "source": [
    "print(x, y)"
   ]
  },
  {
   "cell_type": "code",
   "execution_count": null,
   "id": "c6a5b91c",
   "metadata": {},
   "outputs": [],
   "source": [
    "s1_48x32_high= SummaryResutls_efficiency(2, gminfo_rotD50, IM_list, pairingID = 1, average_EDP=True, rotate_EDP=True)\n",
    "s1_48x32_high"
   ]
  },
  {
   "cell_type": "code",
   "execution_count": null,
   "id": "452a05c9",
   "metadata": {},
   "outputs": [],
   "source": [
    "s1_48x32_high= SummaryResutls_efficiency(9, gminfo_rotD50, IM_list, pairingID = 1, average_EDP=True, rotate_EDP=True)\n",
    "s1_48x32_high"
   ]
  },
  {
   "cell_type": "code",
   "execution_count": null,
   "id": "b3a781d9",
   "metadata": {},
   "outputs": [],
   "source": [
    "s1_48x32_high.columns"
   ]
  },
  {
   "cell_type": "code",
   "execution_count": null,
   "id": "eb66c143",
   "metadata": {},
   "outputs": [],
   "source": [
    "s1_48x32_high.groupby([('1st Story', 'SDR_RotD50')]).mean(axis=1)"
   ]
  },
  {
   "cell_type": "code",
   "execution_count": null,
   "id": "a5d6ae54",
   "metadata": {},
   "outputs": [],
   "source": [
    "s1_48x32_high= SummaryResutls_efficiency(9, gminfo_rotD50, IM_list, pairingID = 1, average_EDP=True)\n",
    "s1_48x32_high"
   ]
  },
  {
   "cell_type": "code",
   "execution_count": null,
   "id": "84316a7b",
   "metadata": {},
   "outputs": [],
   "source": [
    "s1_48x32_high= SummaryResutls_efficiency(9, gminfo_rotD50, IM_list, pairingID = 1, average_EDP=True, rotate_EDP=True)\n",
    "s1_48x32_high"
   ]
  },
  {
   "cell_type": "code",
   "execution_count": null,
   "id": "13c841c3",
   "metadata": {},
   "outputs": [],
   "source": [
    "s1_48x32_high.loc['SaT1'][1::2].values"
   ]
  },
  {
   "cell_type": "code",
   "execution_count": null,
   "id": "c297f6a9",
   "metadata": {},
   "outputs": [],
   "source": [
    "def SummaryResutls_sufficiency(buildingIndex, df_IMs, IMs=['SaT1', 'PGA', 'PGV', 'Sa_avg'],\n",
    "                               pairingID = 1, fit_residual = True, average_EDP = False):\n",
    "    dataDir = os.path.join(baseDir, *['Results', 'IM_study_826GMs', BuildingList[buildingIndex]])\n",
    "    os.chdir(dataDir)\n",
    "    sdr = pd.read_csv('SDR.csv', header = None)\n",
    "    pfa = pd.read_csv('PFA.csv', header = None)\n",
    "    \n",
    "    numStory = int(BuildingList[buildingIndex].split('_')[0][1])\n",
    "    tempdf = []\n",
    "    d = []\n",
    "    keys = ['1st Story', '2nd Story', '3rd Story', '4th Story']\n",
    "    temp_sdr = {}\n",
    "    \n",
    "    if pairingID == 1:\n",
    "        start_index_multiplier = 0\n",
    "        end_index_multiplier = 1\n",
    "    else:\n",
    "        start_index_multiplier = 2\n",
    "        end_index_multiplier = 3\n",
    "    \n",
    "    for i in range(len(IMs)):\n",
    "        if IMs[i] == 'SaT1':\n",
    "            IM = df_IMs['T_%s'%T[buildingIndex]].values\n",
    "        else:\n",
    "            IM = df_IMs[IMs[i]]\n",
    "\n",
    "        for j in range(numStory):\n",
    "                ## geometric average of EDP (in X and Z direction) between pairing ID 1 and 2\n",
    "            if average_EDP: \n",
    "                sdrX = gmean([sdr[3+j].values[0:numGM], sdr[3+j].values[numGM*2:numGM*3]])\n",
    "                pfaX = gmean([pfa[4+j].values[0:numGM], pfa[4+j].values[numGM*2:numGM*3]])\n",
    "                \n",
    "                sdrZ = gmean([sdr[3+j].values[numGM:numGM*2], sdr[3+j].values[numGM*3:numGM*4]])\n",
    "                pfaZ = gmean([pfa[4+j].values[numGM:numGM*2], pfa[4+j].values[numGM*3:numGM*4]])\n",
    "            else:\n",
    "                sdrX = sdr[3+j].values[numGM * start_index_multiplier : numGM * end_index_multiplier]\n",
    "                sdrZ = sdr[3+j].values[numGM * end_index_multiplier : numGM * (end_index_multiplier + 1)]\n",
    "\n",
    "                pfaX = pfa[4+j].values[numGM * start_index_multiplier : numGM * end_index_multiplier]\n",
    "                pfaZ = pfa[4+j].values[numGM * end_index_multiplier : numGM * (end_index_multiplier + 1)]\n",
    "            \n",
    "            residuals_sdrX = OLS(sdrX, IM).result.resid\n",
    "            residuals_sdrZ = OLS(sdrZ, IM).result.resid\n",
    "            residuals_pfaX = OLS(pfaX, IM).result.resid\n",
    "            residuals_pfaZ = OLS(pfaZ, IM).result.resid\n",
    "            \n",
    "            if fit_residual:\n",
    "                suff_sdrX = Sufficiency(residuals_sdrX, np.log(IM),\n",
    "                                    df_IMs['Distance_Rjb'].values, df_IMs['Magnitude'].values)\n",
    "                suff_sdrZ = Sufficiency(residuals_sdrZ, np.log(IM),\n",
    "                                        df_IMs['Distance_Rjb'].values, df_IMs['Magnitude'].values)\n",
    "                suff_pfaX = Sufficiency(residuals_pfaX, np.log(IM),\n",
    "                                        df_IMs['Distance_Rjb'].values, df_IMs['Magnitude'].values)\n",
    "                suff_pfaZ = Sufficiency(residuals_pfaZ, np.log(IM),\n",
    "                                        df_IMs['Distance_Rjb'].values, df_IMs['Magnitude'].values)\n",
    "            else:\n",
    "                suff_sdrX = Sufficiency(np.log(sdrX), np.log(IM),\n",
    "                                        df_IMs['Distance_Rjb'].values, df_IMs['Magnitude'].values)\n",
    "                suff_sdrZ = Sufficiency(np.log(sdrZ), np.log(IM),\n",
    "                                        df_IMs['Distance_Rjb'].values, df_IMs['Magnitude'].values)\n",
    "                suff_pfaX = Sufficiency(np.log(pfaX), np.log(IM),\n",
    "                                        df_IMs['Distance_Rjb'].values, df_IMs['Magnitude'].values)\n",
    "                suff_pfaZ = Sufficiency(np.log(pfaZ), np.log(IM),\n",
    "                                        df_IMs['Distance_Rjb'].values, df_IMs['Magnitude'].values)\n",
    "            #### sufficiency against R\n",
    "            p_sdrX_R = np.round(suff_sdrX.sufficiency_against_R(), 4)\n",
    "            p_sdrZ_R = np.round(suff_sdrZ.sufficiency_against_R(), 4)\n",
    "            p_pfaX_R = np.round(suff_pfaX.sufficiency_against_R(), 4)\n",
    "            p_pfaZ_R = np.round(suff_pfaZ.sufficiency_against_R(), 4)\n",
    "            #### sufficiency against M \n",
    "            p_sdrX_M = np.round(suff_sdrX.sufficiency_against_M(), 4)\n",
    "            p_sdrZ_M = np.round(suff_sdrZ.sufficiency_against_M(), 4)\n",
    "            p_pfaX_M = np.round(suff_pfaX.sufficiency_against_M(), 4)\n",
    "            p_pfaZ_M = np.round(suff_pfaZ.sufficiency_against_M(), 4)\n",
    "            temp_sdr[keys[j]] = {'SDR_X vs M':'YES(%s)'%p_sdrX_M if p_sdrX_M >= 0.05 else 'NO(%s)'%p_sdrX_M,\n",
    "                                 'SDR_Z vs M':'YES(%s)'%p_sdrZ_M if p_sdrZ_M >= 0.05 else 'NO(%s)'%p_sdrZ_M,\n",
    "                                 'PFA_X vs M':'YES(%s)'%p_pfaX_M if p_pfaX_M >= 0.05 else 'NO(%s)'%p_pfaX_M,\n",
    "                                 'PFA_Z vs M':'YES(%s)'%p_pfaZ_M if p_pfaZ_M >= 0.05 else 'NO(%s)'%p_pfaZ_M,\n",
    "                                 'SDR_X vs R':'YES(%s)'%p_sdrX_R if p_sdrX_R >= 0.05 else 'NO(%s)'%p_sdrX_R,\n",
    "                                 'SDR_Z vs R':'YES(%s)'%p_sdrZ_R if p_sdrZ_R >= 0.05 else 'NO(%s)'%p_sdrZ_R,\n",
    "                                 'PFA_X vs R':'YES(%s)'%p_pfaX_R if p_pfaX_R >= 0.05 else 'NO(%s)'%p_pfaX_R,\n",
    "                                 'PFA_Z vs R':'YES(%s)'%p_pfaZ_R if p_pfaZ_R >= 0.05 else 'NO(%s)'%p_pfaZ_R\n",
    "                                 \n",
    "                                }\n",
    "        reform = {(outerKey, innerKey): values for outerKey, innerDict in temp_sdr.items() for innerKey, values in innerDict.items()}\n",
    "        df = pd.DataFrame.from_dict(reform, orient='index').transpose()\n",
    "        df.columns = pd.MultiIndex.from_tuples(df.columns)\n",
    "        df['IM'] = IMs[i]\n",
    "        df = df.set_index('IM')\n",
    "        tempdf.append(df)\n",
    "\n",
    "    return pd.concat(tempdf)\n",
    "IM_list = ['SaT1', 'PGA', 'PGV', 'Sa_avg', 'CAV', 'SI', 'ASI', 'DSI','DS_5to75', 'DS_5to95' ]\n",
    "s1_48x32_high= SummaryResutls_sufficiency(2, gminfo_rotD50, IM_list, pairingID = 1, fit_residual=False)\n",
    "s1_48x32_high"
   ]
  },
  {
   "cell_type": "code",
   "execution_count": null,
   "id": "0846b2c1",
   "metadata": {},
   "outputs": [],
   "source": [
    "s2_48x32_high= SummaryResutls_sufficiency(4, gminfo_rotD50, IM_list, fit_residual=True, average_EDP=True)\n",
    "s2_48x32_high.T"
   ]
  },
  {
   "cell_type": "code",
   "execution_count": null,
   "id": "51626ad8",
   "metadata": {},
   "outputs": [],
   "source": [
    "s4_96x48_veryhigh= SummaryResutls_sufficiency(9, gminfo_rotD50, IM_list, fit_residual=True, average_EDP=True)\n",
    "s4_96x48_veryhigh.T"
   ]
  },
  {
   "cell_type": "code",
   "execution_count": null,
   "id": "b63c24d1",
   "metadata": {},
   "outputs": [],
   "source": [
    "s1_48x32_high= SummaryResutls_sufficiency(2, gminfo_rotD50, IM_list, pairingID = 1, fit_residual=False, average_EDP=True)\n",
    "s1_48x32_high"
   ]
  },
  {
   "cell_type": "code",
   "execution_count": null,
   "id": "6c7b3e30",
   "metadata": {},
   "outputs": [],
   "source": [
    "def plot_efficiency(buildingIndex, df_IMs, IM=['SaT1', 'PGA', 'PGV', 'Sa_avg', 'CAV'], savefig = False,\n",
    "                   pairingID = 1, average_EDP = False, Uni_Direction = False):\n",
    "    numStory = int(BuildingList[buildingIndex].split('_')[0][1])\n",
    "    floor = np.arange(1, numStory + 1)\n",
    "    \n",
    "    summaryResult = SummaryResutls_efficiency(buildingIndex, df_IMs, IM, pairingID = pairingID,\n",
    "                                              average_EDP=average_EDP, rotate_EDP=Uni_Direction)\n",
    "    minEDP = summaryResult.min().min()\n",
    "    maxEDP = summaryResult.max().max()\n",
    "    xtick_value = np.arange(np.round(minEDP, 1), 1, 0.1)\n",
    "    markerList = ['.', '*', '+', 'o', 's', 'p', 'd', 'X', 'v', 'D', 'P']\n",
    "    colorList = ['b', 'g', 'darkorange', 'k', 'dodgerblue', 'lime', 'r', 'c', 'm', 'y']\n",
    "    labelList = [r'Sa$_{T1}$', 'PGA', 'PGV', r'$Sa_{avg}$', 'CAV', 'SI', 'ASI', 'DSI', r'$DS_{5-75}$',  r'$DS_{5-95}$' ]\n",
    "    \n",
    "    if Uni_Direction:\n",
    "        fileName = 'RotEDP_RotD50'\n",
    "        fig, axs = plt.subplots(1, 2, figsize=(10,6), sharey = True)\n",
    "        plt.rcParams[\"font.family\"] = \"Times New Roman\"\n",
    "        plt.rcParams['xtick.labelsize'] = 13\n",
    "        plt.rcParams['ytick.labelsize'] = 13\n",
    "#         fig.suptitle('%s Avg Rot (X+Z) EDP (pID 1&2) and GM RotD50'%BuildingList[buildingIndex], fontsize = 16)\n",
    "        for i in range(len(IM)):\n",
    "            axs[0].plot(summaryResult.loc['%s'%IM[i]][::2].values, floor, label = labelList[i], marker = markerList[i],\n",
    "                       linewidth =1.55, markersize=5, color = colorList[i])\n",
    "            axs[0].set_yticks(floor)\n",
    "            axs[0].set_xticks(xtick_value)\n",
    "            axs[0].set_xlabel(r'Dispersion ($\\sigma_{SDR_{RotD50}|IM}$)', fontsize = 16)\n",
    "            axs[0].set_ylabel('Floor Level', fontsize = 16)\n",
    "#             axs[0].legend()\n",
    "#             axs[1, 0].plot(summaryResult.loc['%s'%IM[i]][1::2], floor, label = IM[i], marker = markerList[i])\n",
    "#             axs[1, 0].set_yticks(floor)\n",
    "#             axs[1, 0].set_title('Dispersion SDR Z')\n",
    "            axs[1].plot(summaryResult.loc['%s'%IM[i]][1::2], floor, label = labelList[i], marker = markerList[i],\n",
    "                       linewidth =1.55, markersize=5, color = colorList[i])\n",
    "            axs[1].set_yticks(floor)\n",
    "            axs[1].set_xticks(xtick_value)\n",
    "            axs[1].set_xlabel(r'Dispersion ($\\sigma_{PFA_{RotD50}|IM}$)', fontsize = 16)\n",
    "#             axs[1].set_ylabel('Floor Level', fontsize = 16)\n",
    "        plt.legend(bbox_to_anchor=(1.22, 0.5), loc='center', ncol=1, fontsize = 13)\n",
    "\n",
    "    else:\n",
    "        fileName = 'AvgEDP_RotD50'\n",
    "        fig, axs = plt.subplots(2, 2, figsize=(10,12), sharey = True)\n",
    "        plt.rcParams[\"font.family\"] = \"Times New Roman\"\n",
    "        plt.rcParams['xtick.labelsize'] = 13\n",
    "        plt.rcParams['ytick.labelsize'] = 13\n",
    "        \n",
    "#         fig.suptitle('%s EDP Pairing ID 1 and GM H1'%BuildingList[buildingIndex], fontsize = 16)\n",
    "        for i in range(len(IM)):\n",
    "            axs[0, 0].plot(summaryResult.loc['%s'%IM[i]][::4], floor, label = labelList[i], marker = markerList[i],\n",
    "                           linewidth =1.55, markersize=5, color = colorList[i])\n",
    "            axs[0, 0].set_yticks(floor)\n",
    "            axs[0, 0].set_xticks(xtick_value)\n",
    "            axs[0, 0].set_xlabel(r'Dispersion ($\\sigma_{SDR_X|IM}$)', fontsize = 16)\n",
    "            axs[0, 0].set_ylabel('Floor Level', fontsize = 16)\n",
    "#             axs[0, 0].legend()\n",
    "            axs[1, 0].plot(summaryResult.loc['%s'%IM[i]][1::4], floor, label = labelList[i], marker = markerList[i],\n",
    "                           linewidth =1.55, markersize=5, color = colorList[i])\n",
    "            axs[1, 0].set_yticks(floor)\n",
    "            axs[1, 0].set_xticks(xtick_value)\n",
    "            axs[1, 0].set_xlabel(r'Dispersion ($\\sigma_{SDR_Z|IM}$)', fontsize = 16)\n",
    "            axs[1, 0].set_ylabel('Floor Level', fontsize = 16)\n",
    "            axs[0, 1].plot(summaryResult.loc['%s'%IM[i]][2::4], floor, label = labelList[i], marker = markerList[i],\n",
    "                           linewidth =1.55, markersize=5, color = colorList[i])\n",
    "            axs[0, 1].set_yticks(floor)\n",
    "            axs[0, 1].set_xticks(xtick_value)\n",
    "            axs[0, 1].set_xlabel(r'Dispersion ($\\sigma_{PFA_X|IM}$)', fontsize = 16)\n",
    "            axs[1, 1].plot(summaryResult.loc['%s'%IM[i]][3::4], floor, label = labelList[i], marker = markerList[i],\n",
    "                           linewidth =1.55, markersize=5, color = colorList[i])\n",
    "            axs[1, 1].set_yticks(floor)\n",
    "            axs[1, 1].set_xticks(xtick_value)\n",
    "            axs[1, 1].set_xlabel(r'Dispersion ($\\sigma_{PFA_X|IM}$)', fontsize = 16)\n",
    "        plt.legend(bbox_to_anchor=(1.23, 1.1), loc='center', ncol=1, fontsize = 13)\n",
    "    dataDir = os.path.join(baseDir, *['Results', 'IM_study_826GMs', BuildingList[buildingIndex]])\n",
    "    os.chdir(dataDir)\n",
    "    \n",
    "    if savefig:\n",
    "        plt.savefig('%s_%s.png'%(BuildingList[buildingIndex], fileName), bbox_inches=\"tight\")\n",
    "    else:\n",
    "        plt.show()\n",
    "\n"
   ]
  },
  {
   "cell_type": "code",
   "execution_count": null,
   "id": "2c82f51f",
   "metadata": {},
   "outputs": [],
   "source": [
    "for i in range(len(BuildingList)):\n",
    "    plot_efficiency(i, gminfo_rotD50, IM_list, pairingID = 1, savefig=False, average_EDP=True, Uni_Direction=False)\n"
   ]
  },
  {
   "cell_type": "code",
   "execution_count": null,
   "id": "b81acf0f",
   "metadata": {},
   "outputs": [],
   "source": [
    "for i in range(len(BuildingList)):\n",
    "    plot_efficiency(i, gminfo_rotD50, IM_list, pairingID = 1, savefig=False, average_EDP=True, Uni_Direction=True)\n"
   ]
  },
  {
   "cell_type": "code",
   "execution_count": null,
   "id": "b8336fda",
   "metadata": {},
   "outputs": [],
   "source": [
    "plot_efficiency(4, gminfo_rotD50, IM_list, pairingID = 1, savefig=True, average_EDP=True, Uni_Direction=False)"
   ]
  },
  {
   "cell_type": "code",
   "execution_count": null,
   "id": "dc7b488a",
   "metadata": {},
   "outputs": [],
   "source": [
    "plot_efficiency(4, gminfo_rotD50, IM_list, pairingID = 1, savefig=True, average_EDP=True, Uni_Direction=True)"
   ]
  },
  {
   "cell_type": "code",
   "execution_count": null,
   "id": "ee5c73c0",
   "metadata": {},
   "outputs": [],
   "source": [
    "def portfolio_mean_efficiency(buildingList, df_IMs, IM,\n",
    "                   pairingID = 1, average_EDP = True, Uni_Direction = False):\n",
    "    \n",
    "    buildingName = ['IM', 'SFD1B', 'SFD3B', 'SFD2B', 'SFD4B', 'MFD1B', 'MFD4B', 'MFD2B', 'MFD5B', 'MFD3B', 'MFD6B']\n",
    "    avg_sdr_eff = pd.DataFrame(data = [], columns=buildingName)\n",
    "    avg_sdr_eff = avg_sdr_eff.set_index('IM')\n",
    "    \n",
    "    avg_pfa_eff = pd.DataFrame(data = [], columns=buildingName)\n",
    "    avg_pfa_eff = avg_pfa_eff.set_index('IM')\n",
    "    \n",
    "    for buildingIndex in range(len(buildingList)):\n",
    "        numStory = int(BuildingList[buildingIndex].split('_')[0][1])\n",
    "        floor = np.arange(1, numStory + 1)\n",
    "        summaryResult = SummaryResutls_efficiency(buildingIndex, df_IMs, IM, pairingID = pairingID,\n",
    "                                              average_EDP=average_EDP, rotate_EDP=Uni_Direction)\n",
    "        for i in range(len(IM)):\n",
    "            if Uni_Direction:\n",
    "                avg_sdr_eff.loc['%s'%IM[i], buildingName[buildingIndex + 1]] = np.mean(summaryResult.loc['%s'%IM[i]][::2].values)\n",
    "                avg_pfa_eff.loc['%s'%IM[i], buildingName[buildingIndex + 1]] = np.mean(summaryResult.loc['%s'%IM[i]][1::2].values)\n",
    "            else:\n",
    "                avg_sdr_eff.loc['%s'%IM[i], buildingName[buildingIndex + 1]] = np.mean(summaryResult.loc['%s'%IM[i]][::4].values)\n",
    "                avg_pfa_eff.loc['%s'%IM[i], buildingName[buildingIndex + 1]] = np.mean(summaryResult.loc['%s'%IM[i]][1::4].values)\n",
    "    return avg_sdr_eff, avg_pfa_eff\n",
    "        \n",
    "IM_list = ['SaT1', 'PGA', 'PGV', 'Sa_avg', 'CAV', 'SI', 'ASI', 'DSI','DS_5to75', 'DS_5to95']      \n",
    "SDR_mean, PFA_mean= portfolio_mean_efficiency(BuildingList, gminfo_rotD50, IM_list, average_EDP=True, Uni_Direction=True)      "
   ]
  },
  {
   "cell_type": "code",
   "execution_count": null,
   "id": "5b56883c",
   "metadata": {},
   "outputs": [],
   "source": [
    "SDR_mean['mean'] = SDR_mean.mean(axis=1)\n",
    "SDR_mean['meanSFD'] = SDR_mean.loc[:,'SFD1B':'SFD4B'].mean(axis=1)\n",
    "SDR_mean['meanMFD'] = SDR_mean.loc[:,'MFD1B':'MFD6B'].mean(axis=1)\n",
    "\n",
    "\n",
    "PFA_mean['mean'] = PFA_mean.mean(axis=1)\n",
    "PFA_mean['meanSFD'] = PFA_mean.loc[:,'SFD1B':'SFD4B'].mean(axis=1)\n",
    "PFA_mean['meanMFD'] = PFA_mean.loc[:,'MFD1B':'MFD6B'].mean(axis=1)\n",
    "SDR_mean.head(n=10)"
   ]
  },
  {
   "cell_type": "code",
   "execution_count": null,
   "id": "3e9b6484",
   "metadata": {},
   "outputs": [],
   "source": [
    "PFA_mean.head(n=10)"
   ]
  },
  {
   "cell_type": "code",
   "execution_count": null,
   "id": "9aaede10",
   "metadata": {},
   "outputs": [],
   "source": [
    "np.mean([0.13,0.13,0.22,0.22])"
   ]
  },
  {
   "cell_type": "code",
   "execution_count": null,
   "id": "7b71f78f",
   "metadata": {},
   "outputs": [],
   "source": [
    "np.mean([0.16, 0.16, 0.26, 0.26, 0.49, 0.49])"
   ]
  },
  {
   "cell_type": "code",
   "execution_count": null,
   "id": "1251e721",
   "metadata": {},
   "outputs": [],
   "source": [
    "PFA_mean['mean'] == PFA_mean['meanSFD']"
   ]
  },
  {
   "cell_type": "code",
   "execution_count": null,
   "id": "b53faefa",
   "metadata": {},
   "outputs": [],
   "source": [
    "labels = [r'Sa$_{T1}$', 'PGA', 'PGV', r'$Sa_{avg}$', 'CAV', 'SI', 'ASI', 'DSI', r'$DS_{5-75}$',  r'$DS_{5-95}$' ]\n",
    "\n",
    "meanSFD = SDR_mean['meanSFD'].values\n",
    "meanMFD = SDR_mean['meanMFD'].values\n",
    "\n",
    "x = np.arange(len(labels))  # the label locations\n",
    "width = 0.30  # the width of the bars\n",
    "\n",
    "set\n",
    "rects1 = ax.bar(x - width/2, meanSFD, width, label='SFD', color = 'orangered')\n",
    "rects2 = ax.bar(x + width/2, meanMFD, width, label='MFD', color = 'royalblue')\n",
    "\n",
    "# Add some text for labels, title and custom x-axis tick labels, etc.\n",
    "ax.set_ylabel(r'Dispersion ($\\sigma_{SDR|IM}$)', fontsize = 20)\n",
    "ax.set_xlabel('Intensity Measures', fontsize = 20)\n",
    "ax.set_xticks(x)\n",
    "ax.set_xticklabels(labels, rotation=90, ha = 'right')\n",
    "ax.xaxis.set_tick_params(labelsize=16)\n",
    "ax.yaxis.set_tick_params(labelsize=16)\n",
    "ax.legend(fontsize = 15)\n",
    "os.chdir(r'/Users/laxmandahal/Desktop/UCLA/Phd/Research/IM_study/Paper/images')\n",
    "plt.savefig('eff_regional_SDR.png', bbox_inches=\"tight\")"
   ]
  },
  {
   "cell_type": "code",
   "execution_count": null,
   "id": "7ffe07c6",
   "metadata": {},
   "outputs": [],
   "source": []
  },
  {
   "cell_type": "code",
   "execution_count": null,
   "id": "7d69810f",
   "metadata": {},
   "outputs": [],
   "source": [
    "labels = IM_list\n",
    "\n",
    "meanSFD = PFA_mean['meanSFD'].values\n",
    "meanMFD = PFA_mean['meanMFD'].values\n",
    "\n",
    "x = np.arange(len(labels))  # the label locations\n",
    "width = 0.30  # the width of the bars\n",
    "\n",
    "fig, ax = plt.subplots(figsize = (10,6.5))\n",
    "plt.rcParams[\"font.family\"] = \"Times New Roman\"\n",
    "plt.rcParams['xtick.labelsize'] = 14\n",
    "plt.rcParams['ytick.labelsize'] = 14\n",
    "rects1 = ax.bar(x - width/2, meanSFD, width, label='SFD', color = 'orangered')\n",
    "rects2 = ax.bar(x + width/2, meanMFD, width, label='MFD', color = 'royalblue')\n",
    "\n",
    "# Add some text for labels, title and custom x-axis tick labels, etc.\n",
    "ax.set_ylabel(r'Dispersion ($\\sigma_{PFA|IM}$)', fontsize = 20)\n",
    "ax.set_xlabel('Intensity Measures', fontsize = 20)\n",
    "ax.set_xticks(x)\n",
    "ax.set_xticklabels(labels, rotation=90, ha = 'right')\n",
    "ax.xaxis.set_tick_params(labelsize=16)\n",
    "ax.yaxis.set_tick_params(labelsize=16)\n",
    "ax.legend(fontsize = 15)\n",
    "os.chdir(r'/Users/laxmandahal/Desktop/UCLA/Phd/Research/IM_study/Paper/images')\n",
    "plt.savefig('eff_regional_PFA.png', bbox_inches=\"tight\")"
   ]
  },
  {
   "cell_type": "code",
   "execution_count": null,
   "id": "62f131d6",
   "metadata": {},
   "outputs": [],
   "source": [
    "print(gminfo_rotD50.columns.tolist())"
   ]
  },
  {
   "cell_type": "code",
   "execution_count": null,
   "id": "149ae3c4",
   "metadata": {},
   "outputs": [],
   "source": [
    "sa_list = ['T_0.01', 'T_0.05', 'T_0.10', 'T_0.11', 'T_0.12', 'T_0.13', 'T_0.14', 'T_0.15', 'T_0.16', 'T_0.17',\n",
    "           'T_0.18', 'T_0.19', 'T_0.20', 'T_0.21', 'T_0.22', 'T_0.23', 'T_0.24', 'T_0.25', 'T_0.26', 'T_0.27',\n",
    "           'T_0.28', 'T_0.29', 'T_0.30', 'T_0.31', 'T_0.32', 'T_0.33', 'T_0.34', 'T_0.35', 'T_0.36', 'T_0.37',\n",
    "           'T_0.38', 'T_0.39', 'T_0.40', 'T_0.41', 'T_0.42', 'T_0.43', 'T_0.44', 'T_0.45', 'T_0.46', 'T_0.47',\n",
    "           'T_0.48', 'T_0.49', 'T_0.50']\n",
    "\n",
    "SDR_mean, PFA_mean= portfolio_mean_efficiency(BuildingList, gminfo_rotD50, sa_list, average_EDP=True, Uni_Direction=True)      "
   ]
  },
  {
   "cell_type": "code",
   "execution_count": null,
   "id": "1c811992",
   "metadata": {},
   "outputs": [],
   "source": [
    "# sa_list[0].split('_')[]\n",
    "period_list = []\n",
    "for ii in range(len(sa_list)):\n",
    "    period_list.append(float(sa_list[ii].split('_')[1]))\n"
   ]
  },
  {
   "cell_type": "code",
   "execution_count": null,
   "id": "d9cb5f8d",
   "metadata": {},
   "outputs": [],
   "source": [
    "SDR_mean['mean'] = SDR_mean.mean(axis=1)\n",
    "SDR_mean['meanSFD'] = SDR_mean.loc[:,'SFD1B':'SFD4B'].mean(axis=1)\n",
    "SDR_mean['meanMFD'] = SDR_mean.loc[:,'MFD1B':'MFD6B'].mean(axis=1)\n",
    "SDR_mean['weighted_mean'] = SDR_mean[['meanSFD','meanMFD']].mean(axis=1)\n",
    "\n",
    "PFA_mean['mean'] = PFA_mean.mean(axis=1)\n",
    "PFA_mean['meanSFD'] = PFA_mean.loc[:,'SFD1B':'SFD4B'].mean(axis=1)\n",
    "PFA_mean['meanMFD'] = PFA_mean.loc[:,'MFD1B':'MFD6B'].mean(axis=1)\n",
    "PFA_mean['weighted_mean'] = PFA_mean[['meanSFD','meanMFD']].mean(axis=1)\n",
    "PFA_mean.head(200)"
   ]
  },
  {
   "cell_type": "code",
   "execution_count": null,
   "id": "d167133e",
   "metadata": {},
   "outputs": [],
   "source": [
    "plt.plot(period_list, SDR_mean['mean'].values)\n",
    "plt.plot(period_list, SDR_mean['meanSFD'].values)\n",
    "plt.plot(period_list, SDR_mean['meanMFD'].values)\n",
    "plt.plot(period_list, SDR_mean[['meanSFD','meanMFD']].mean(axis=1))"
   ]
  },
  {
   "cell_type": "code",
   "execution_count": null,
   "id": "9986947a",
   "metadata": {},
   "outputs": [],
   "source": []
  },
  {
   "cell_type": "code",
   "execution_count": null,
   "id": "a92aa62d",
   "metadata": {},
   "outputs": [],
   "source": [
    "ytickList = [0.1, 0.15, 0.2, 0.25, 0.3, 0.35, 0.4, 0.45, 0.5, 0.55]\n",
    "fig, axs = plt.subplots(1, 2, figsize=(13,7))\n",
    "plt.rcParams[\"font.family\"] = \"Times New Roman\"\n",
    "plt.rcParams['xtick.labelsize'] = 13\n",
    "plt.rcParams['ytick.labelsize'] = 13\n",
    "markerList = ['.', '*', '+', 'o', 's', 'p', 'd', 'X', 'v', 'D', 'P']\n",
    "\n",
    "\n",
    "axs[0].plot(period_list, SDR_mean['meanSFD'].values, label = 'SFD', linewidth =2, color = 'r')\n",
    "axs[0].plot(period_list, SDR_mean['meanMFD'].values, label = 'MFD', linewidth =2, color = 'g')\n",
    "# axs[0].plot(period_list, SDR_mean['mean'].values, label = 'All Buildings', linewidth =2, color = 'b')\n",
    "axs[0].plot(period_list, SDR_mean['weighted_mean'].values, label = 'All Buildings', linewidth =2, color = 'k')\n",
    "axs[0].set_ylabel(r'Dispersion ($\\sigma_{SDR_{RotD50}|IM}$)', fontsize = 16)\n",
    "axs[0].set_xlabel('Period (sec)', fontsize = 16)\n",
    "axs[0].set_yticks(ytickList)\n",
    "# axs[1].plot(period_list, PFA_mean['mean'].values, linewidth =2, color = 'b')\n",
    "axs[1].plot(period_list, PFA_mean['weighted_mean'].values, linewidth =2, color = 'k')\n",
    "axs[1].plot(period_list, PFA_mean['meanSFD'].values, linewidth =2, color = 'r')\n",
    "axs[1].plot(period_list, PFA_mean['meanMFD'].values,linewidth =2, color = 'g')\n",
    "\n",
    "axs[1].set_ylabel(r'Dispersion ($\\sigma_{PFA_{RotD50}|IM}$)', fontsize = 16)\n",
    "axs[1].set_xlabel('Period (sec)', fontsize = 16)\n",
    "axs[1].set_yticks(ytickList)\n",
    "axs[0].legend(loc= 'best', fontsize = 14)\n",
    "os.chdir(r'/Users/laxmandahal/Desktop/UCLA/Phd/Research/IM_study/Paper/images')\n",
    "plt.savefig('period_benchmark.png', bbox_inches=\"tight\")"
   ]
  },
  {
   "cell_type": "code",
   "execution_count": null,
   "id": "f866cd18",
   "metadata": {},
   "outputs": [],
   "source": [
    "SDR_mean[np.round(SDR_mean['weighted_mean'].values, 2) == np.round(SDR_mean['meanSFD'].values, 2)]"
   ]
  },
  {
   "cell_type": "code",
   "execution_count": null,
   "id": "22d6bdd8",
   "metadata": {},
   "outputs": [],
   "source": [
    "PFA_mean[np.round(PFA_mean['weighted_mean'].values, 2) == np.round(PFA_mean['meanSFD'].values, 2)]"
   ]
  },
  {
   "cell_type": "code",
   "execution_count": null,
   "id": "457c803b",
   "metadata": {},
   "outputs": [],
   "source": [
    "SDR_mean['meanSFD'].idxmin()"
   ]
  },
  {
   "cell_type": "code",
   "execution_count": null,
   "id": "4aa96c44",
   "metadata": {},
   "outputs": [],
   "source": [
    "SDR_mean['weighted_mean'].idxmin()"
   ]
  },
  {
   "cell_type": "code",
   "execution_count": null,
   "id": "7d16613d",
   "metadata": {},
   "outputs": [],
   "source": [
    "(SDR_mean.loc['T_0.24','weighted_mean'] - SDR_mean['weighted_mean'].min())*100/SDR_mean['weighted_mean'].min()"
   ]
  },
  {
   "cell_type": "code",
   "execution_count": null,
   "id": "83d29678",
   "metadata": {},
   "outputs": [],
   "source": [
    "(PFA_mean.loc['T_0.19','weighted_mean'] - PFA_mean['weighted_mean'].min())*100/PFA_mean['weighted_mean'].min()"
   ]
  },
  {
   "cell_type": "code",
   "execution_count": null,
   "id": "77b771da",
   "metadata": {},
   "outputs": [],
   "source": [
    "PFA_mean['meanSFD'].idxmin()"
   ]
  },
  {
   "cell_type": "code",
   "execution_count": null,
   "id": "89b4c600",
   "metadata": {},
   "outputs": [],
   "source": [
    "SDR_mean['meanMFD'].idxmin()"
   ]
  },
  {
   "cell_type": "code",
   "execution_count": null,
   "id": "38db036c",
   "metadata": {},
   "outputs": [],
   "source": [
    "PFA_mean['weighted_mean'].idxmin()"
   ]
  },
  {
   "cell_type": "code",
   "execution_count": null,
   "id": "1b5f1ed5",
   "metadata": {},
   "outputs": [],
   "source": [
    "plt.plot(period_list, SDR_mean['meanSFD'].values)"
   ]
  },
  {
   "cell_type": "code",
   "execution_count": null,
   "id": "ac459ad4",
   "metadata": {},
   "outputs": [],
   "source": [
    "plt.plot(period_list, SDR_mean['meanMFD'].values)"
   ]
  },
  {
   "cell_type": "code",
   "execution_count": null,
   "id": "8d6ca32f",
   "metadata": {},
   "outputs": [],
   "source": [
    "SDR_mean['mean'].plot(kind = 'bar')"
   ]
  },
  {
   "cell_type": "code",
   "execution_count": null,
   "id": "8f216270",
   "metadata": {},
   "outputs": [],
   "source": [
    "SDR_mean['mean'].plot(kind = 'bar')"
   ]
  },
  {
   "cell_type": "code",
   "execution_count": null,
   "id": "0bd642e7",
   "metadata": {},
   "outputs": [],
   "source": [
    "PFA_mean['mean'].plot(kind = 'bar')"
   ]
  },
  {
   "cell_type": "code",
   "execution_count": null,
   "id": "59d926ab",
   "metadata": {},
   "outputs": [],
   "source": [
    "buildingName = ['IM', 'SFD1B', 'SFD3B', 'SFD2B', 'SFD4B', 'MFD1B', 'MFD4B', 'MFD2B', 'MFD5B', 'MFD3B', 'MFD6B']\n",
    "df = pd.DataFrame(data = [], columns=buildingName)\n",
    "df = df.set_index('IM')"
   ]
  },
  {
   "cell_type": "code",
   "execution_count": null,
   "id": "e3af0cbd",
   "metadata": {},
   "outputs": [],
   "source": [
    "df.loc['SaT1','SFD1B'] = np.mean(s1_48x32_high.loc['SaT1'][::2].values)\n",
    "df.head()"
   ]
  },
  {
   "cell_type": "code",
   "execution_count": null,
   "id": "3ef8420a",
   "metadata": {},
   "outputs": [],
   "source": [
    "# ### Not used for now as the focus is dispersion not the median value\n",
    "# def plot_empirical_EDP(buildingIndex, EDP = 'SDR', separate_direction = False):\n",
    "#     dataDir = os.path.join(baseDir, *['Results', 'IM_study_826GMs', BuildingList[buildingIndex]])\n",
    "#     os.chdir(dataDir)\n",
    "#     if EDP == 'SDR':\n",
    "#         edp = pd.read_csv('SDR.csv', header = None)\n",
    "#         start_index = 3 #for dataframe\n",
    "#     elif EDP == 'PFA':\n",
    "#         edp = pd.read_csv('PFA.csv', header = None)\n",
    "#         start_index = 4\n",
    "#     else:\n",
    "#         print('Enter Valid EDP')\n",
    "#         sys.exit(1)\n",
    "    \n",
    "#     if separate_direction:\n",
    "#         start = 0\n",
    "#         increment = 2\n",
    "#     else:\n",
    "#         start = 0\n",
    "#         increment = 1\n",
    "        \n",
    "        \n",
    "#     edpX = edp[:numGM][start::increment]\n",
    "#     edpY = edp[numGM:numGM*2][start::increment]\n",
    "    \n",
    "#     numStory = int(BuildingList[buildingIndex].split('_')[0][1])\n",
    "#     floor = np.arange(1, numStory + 1)\n",
    "    \n",
    "#     median_edpX = np.zeros(shape = numStory)\n",
    "#     median_edpY = []\n",
    "#     logstd_edpX = []\n",
    "#     logstd_edpY = []\n",
    "    \n",
    "#     for i in range(numStory):\n",
    "#         median_edpX[i] = np.median(edpX[start_index + i].values[:numGM])\n",
    "#         median_edpY.append(np.median(edpY[start_index + i].values[:numGM]))\n",
    "#         logstd_edpX.append(np.std(np.log(edpX[start_index + i].values[:numGM])))\n",
    "#         logstd_edpY.append(np.std(np.log(edpY[start_index + i].values[:numGM])))\n",
    "    \n",
    "#     fig, axs = plt.subplots(2, 2)\n",
    "#     axs[0, 0].plot(median_edpX[::-1], floor)\n",
    "#     axs[0, 0].set_title('Median X')\n",
    "#     axs[0, 1].plot(logstd_edpX, floor, 'tab:green')\n",
    "#     axs[0, 1].set_title('Axis [1, 0]')\n",
    "    \n",
    "#     axs[1, 0].plot(median_edpY[::-1], floor, 'tab:orange')\n",
    "#     axs[1, 0].set_title('Axis [0, 1]')\n",
    "    \n",
    "#     axs[1, 1].plot(logstd_edpY[::-1], floor, 'tab:red')\n",
    "#     axs[1, 1].set_title('Axis [1, 1]')\n",
    "\n",
    "#     for ax in axs.flat:\n",
    "#         ax.set(xlabel='x-label', ylabel='y-label')\n",
    "\n",
    "#     # Hide x labels and tick labels for top plots and y ticks for right plots.\n",
    "#     for ax in axs.flat:\n",
    "#         ax.label_outer()\n",
    "# #     print(median_edpX)\n",
    "\n",
    "# # plot_efficiency(9, 'SDR')\n",
    "    "
   ]
  },
  {
   "cell_type": "code",
   "execution_count": null,
   "id": "1f537ee6",
   "metadata": {},
   "outputs": [],
   "source": [
    "s4_96x48_high_suff = SummaryResutls_sufficiency(9, gminfo_rotD50, IM_list, pairingID = 1, fit_residual=True)\n",
    "s4_96x48_high_suff.T"
   ]
  },
  {
   "cell_type": "code",
   "execution_count": null,
   "id": "2239613e",
   "metadata": {},
   "outputs": [],
   "source": [
    "s4_96x48_high_suff = SummaryResutls_sufficiency(9, gminfo_rotD50, IM_list, pairingID = 1, fit_residual=True, average_EDP=True)\n",
    "s4_96x48_high_suff.T"
   ]
  },
  {
   "cell_type": "code",
   "execution_count": null,
   "id": "20237c0f",
   "metadata": {},
   "outputs": [],
   "source": [
    "s4_96x48_high_suff = SummaryResutls_sufficiency(8, gminfo_h1, IM_list, pairingID = 1, fit_residual=True)\n",
    "s4_96x48_high_suff.T"
   ]
  },
  {
   "cell_type": "code",
   "execution_count": null,
   "id": "feb41543",
   "metadata": {},
   "outputs": [],
   "source": [
    "def save_data_for_R(buildingIndex, df_IMs, IMs=['SaT1', 'PGA', 'PGV', 'Sa_avg', 'CAV'], pairingID = 1, \n",
    "                   average_EDP = False, rotate_EDP = False):\n",
    "    dataDir = os.path.join(baseDir, *['Results', 'IM_study_826GMs', BuildingList[buildingIndex]])\n",
    "    os.chdir(dataDir)\n",
    "    sdr = pd.read_csv('SDR.csv', header = None)\n",
    "    pfa = pd.read_csv('PFA.csv', header = None)\n",
    "    \n",
    "    if pairingID == 1:\n",
    "        start_index_multiplier = 0\n",
    "        end_index_multiplier = 1\n",
    "    else:\n",
    "        start_index_multiplier = 2\n",
    "        end_index_multiplier = 3\n",
    "    \n",
    "    \n",
    "    \n",
    "    numStory = int(BuildingList[buildingIndex].split('_')[0][1])\n",
    "    temp = {}\n",
    "    for i in range(numStory):\n",
    "        ## geometric average of EDP (in X and Z direction) between pairing ID 1 and 2\n",
    "        if average_EDP:\n",
    "            name_suffix = 'avg_EDP'\n",
    "            sdrX = gmean([sdr[3+i].values[0:numGM], sdr[3+i].values[numGM*2:numGM*3]])\n",
    "            pfaX = gmean([pfa[4+i].values[0:numGM], pfa[4+i].values[numGM*2:numGM*3]])\n",
    "\n",
    "            sdrZ = gmean([sdr[3+i].values[numGM:numGM*2], sdr[3+i].values[numGM*3:numGM*4]])\n",
    "            pfaZ = gmean([pfa[4+i].values[numGM:numGM*2], pfa[4+i].values[numGM*3:numGM*4]])\n",
    "            \n",
    "            if rotate_EDP:\n",
    "                name_suffix = 'rot_EDP'\n",
    "                sdr_rotD50 = compute_RotDxx_EDP(sdrX, sdrZ, percentile=50)\n",
    "                pfa_rotD50 = compute_RotDxx_EDP(pfaX, pfaZ, percentile=50)\n",
    "            \n",
    "        else:\n",
    "            name_suffix = 'pID%s'%pairingID\n",
    "            sdrX = sdr[3+i].values[numGM * start_index_multiplier : numGM * end_index_multiplier]\n",
    "            sdrZ = sdr[3+i].values[numGM * end_index_multiplier : numGM * (end_index_multiplier + 1)]\n",
    "\n",
    "            pfaX = pfa[4+i].values[numGM * start_index_multiplier : numGM * end_index_multiplier]\n",
    "            pfaZ = pfa[4+i].values[numGM * end_index_multiplier : numGM * (end_index_multiplier + 1)]\n",
    "        \n",
    "        if rotate_EDP:\n",
    "            temp['story_%s_SDR_rotD50'%(i+1)] = sdr_rotD50\n",
    "            temp['story_%s_PFA_rotD50'%(i+1)] = pfa_rotD50\n",
    "        else:\n",
    "            temp['story_%s_sdrX'%(i+1)] = sdrX\n",
    "            temp['story_%s_sdrZ'%(i+1)] = sdrZ\n",
    "            temp['story_%s_pfaX'%(i+1)] = pfaX\n",
    "            temp['story_%s_pfaZ'%(i+1)] = pfaZ\n",
    "    \n",
    "    for i in range(len(IMs)):\n",
    "        if IMs[i] == 'SaT1':\n",
    "            temp[IMs[i]] = df_IMs['T_%s'%T[buildingIndex]].values\n",
    "        else:\n",
    "            temp[IMs[i]] = df_IMs[IMs[i]]\n",
    "    temp['Magnitude'] = df_IMs['Magnitude']\n",
    "    temp['Distance_Rjb'] = df_IMs['Distance_Rjb']\n",
    "    temp['Distance_rup'] = df_IMs['Distance_rup']\n",
    "    final_df = pd.DataFrame(temp)\n",
    "#     final_df.to_csv('Inputs_for_%s_%s.csv'%(BuildingList[buildingIndex], name_suffix))\n",
    "    return final_df"
   ]
  },
  {
   "cell_type": "code",
   "execution_count": null,
   "id": "3fc58586",
   "metadata": {},
   "outputs": [],
   "source": [
    "IM_list = ['SaT1', 'PGA', 'PGV', 'Sa_avg', 'CAV', 'SI', 'ASI', 'DSI','DS_5to75', 'DS_5to95' ]\n",
    "for ii in range(len(BuildingList)):\n",
    "    save_data_for_R(ii, gminfo_rotD50, IM_list, pairingID=1, average_EDP=True, rotate_EDP=False)\n"
   ]
  },
  {
   "cell_type": "code",
   "execution_count": null,
   "id": "8f224938",
   "metadata": {},
   "outputs": [],
   "source": [
    "df_comb = save_data_for_R(9, gminfo_rotD50, IM_list, pairingID=1, average_EDP=True, rotate_EDP=True)\n",
    "df_comb.head()"
   ]
  },
  {
   "cell_type": "code",
   "execution_count": null,
   "id": "f3a145ba",
   "metadata": {},
   "outputs": [],
   "source": [
    "df_comb = save_data_for_R(9, gminfo_rotD50, IM_list, pairingID=1, average_EDP=True, rotate_EDP=False)\n",
    "df_comb1 = save_data_for_R(4, gminfo_rotD50, IM_list, pairingID=1, average_EDP=True, rotate_EDP=False)\n",
    "df_comb1.head()"
   ]
  },
  {
   "cell_type": "code",
   "execution_count": null,
   "id": "13ba2325",
   "metadata": {},
   "outputs": [],
   "source": [
    "df_comb.columns"
   ]
  },
  {
   "cell_type": "code",
   "execution_count": null,
   "id": "e015a3b3",
   "metadata": {},
   "outputs": [],
   "source": []
  },
  {
   "cell_type": "code",
   "execution_count": null,
   "id": "3db8909a",
   "metadata": {},
   "outputs": [],
   "source": [
    "# plt.figure(figsize=(10,10))\n",
    "# sns.heatmap(np.log(df_comb.loc[:,'story_1_sdrX':'story_4_pfaZ']).corr(), cmap= 'crest');"
   ]
  },
  {
   "cell_type": "code",
   "execution_count": null,
   "id": "838e0bcb",
   "metadata": {},
   "outputs": [],
   "source": [
    "plt.figure(figsize=(14,14))\n",
    "sns.heatmap(df_comb1.corr(), cmap= 'crest', annot=True);"
   ]
  },
  {
   "cell_type": "code",
   "execution_count": null,
   "id": "ac039167",
   "metadata": {},
   "outputs": [],
   "source": [
    "df_comb1.cov()"
   ]
  },
  {
   "cell_type": "code",
   "execution_count": null,
   "id": "d09b66b8",
   "metadata": {},
   "outputs": [],
   "source": [
    "def correlation_from_covariance(covariance):\n",
    "    v = np.sqrt(np.diag(covariance))\n",
    "    outer_v = np.outer(v, v)\n",
    "    correlation = covariance / outer_v\n",
    "    correlation[covariance == 0] = 0\n",
    "    return correlation"
   ]
  },
  {
   "cell_type": "code",
   "execution_count": null,
   "id": "6444aba8",
   "metadata": {},
   "outputs": [],
   "source": [
    "correlation_from_covariance(df_comb1.loc[:,'story_1_sdrX':'story_%d_pfaZ'%2].cov())"
   ]
  },
  {
   "cell_type": "code",
   "execution_count": null,
   "id": "29abb418",
   "metadata": {},
   "outputs": [],
   "source": [
    "correlation_from_covariance([[1, 0.5], [0.5, 2]])"
   ]
  },
  {
   "cell_type": "code",
   "execution_count": null,
   "id": "928b0de0",
   "metadata": {},
   "outputs": [],
   "source": [
    "gminfo_rotD50.columns"
   ]
  },
  {
   "cell_type": "code",
   "execution_count": null,
   "id": "44b0c4dc",
   "metadata": {},
   "outputs": [],
   "source": [
    "def plot_correlation(buildingIndex, df_IMs, IMs, average_EDP = True, rotate_EDP = False,\n",
    "                     savefig = False):\n",
    "    summary_df = save_data_for_R(buildingIndex, df_IMs, IMs, pairingID=1,\n",
    "                                 average_EDP=average_EDP, rotate_EDP=rotate_EDP)\n",
    "    \n",
    "    numStory = int(BuildingList[buildingIndex].split('_')[0][1])\n",
    "    if rotate_EDP:\n",
    "        tickList = [r'Floor 1 SDR$_{RotD50}$',r'Floor 1 PFA$_{RotD50}$',\n",
    "                    r'Floor 2 SDR$_{RotD50}$',r'Floor 2 PFA$_{RotD50}$',\n",
    "                    r'Floor 3 SDR$_{RotD50}$',r'Floor 3 PFA$_{RotD50}$',\n",
    "                    r'Floor 4 SDR$_{RotD50}$',r'Floor 4 PFA$_{RotD50}$']\n",
    "        corr = summary_df.loc[:,'story_1_SDR_rotD50':'story_%d_PFA_rotD50'%numStory].corr()\n",
    "    else:\n",
    "        tickList = [r'Floor 1 SDR$_X$', r'Floor 1 SDR$_Z$',r'Floor 1 PFA$_X$', r'Floor 1 PFA$_Z$',\n",
    "                    r'Floor 2 SDR$_X$', r'Floor 2 SDR$_Z$',r'Floor 2 PFA$_X$', r'Floor 2 PFA$_Z$',\n",
    "                    r'Floor 3 SDR$_X$', r'Floor 3 SDR$_Z$',r'Floor 3 PFA$_X$', r'Floor 3 PFA$_Z$',\n",
    "                    r'Floor 4 SDR$_X$', r'Floor 4 SDR$_Z$',r'Floor 4 PFA$_X$', r'Floor 4 PFA$_Z$']\n",
    "\n",
    "        corr = summary_df.loc[:,'story_1_sdrX':'story_%d_pfaZ'%numStory].corr()\n",
    "    \n",
    "    plt.figure(figsize=(10,10))\n",
    "    plt.rcParams[\"font.family\"] = \"Times New Roman\"\n",
    "    plt.rcParams['xtick.labelsize'] = 14\n",
    "    plt.rcParams['ytick.labelsize'] = 14\n",
    "    sns.heatmap(corr, cmap=\"Greens\",annot=True, annot_kws={\"fontsize\":'large'},\n",
    "                xticklabels=tickList[:numStory*4], yticklabels=tickList[:numStory*4])\n",
    "    \n",
    "    if savefig:\n",
    "        os.chdir(r'/Users/laxmandahal/Desktop/UCLA/Phd/Research/IM_study/Paper/images')\n",
    "        plt.savefig('%s_corrPlot.png'%BuildingList[buildingIndex], bbox_inches=\"tight\")\n",
    "    else:\n",
    "        plt.show()"
   ]
  },
  {
   "cell_type": "code",
   "execution_count": null,
   "id": "05c9f6d1",
   "metadata": {},
   "outputs": [],
   "source": [
    "plot_correlation(4, gminfo_rotD50, IM_list, average_EDP = True, rotate_EDP = False, savefig = True)"
   ]
  },
  {
   "cell_type": "code",
   "execution_count": null,
   "id": "fdfa1a84",
   "metadata": {},
   "outputs": [],
   "source": [
    "plt.figure(figsize=(10,10))\n",
    "corr = df_comb1.loc[:,'story_1_sdrX':'story_2_pfaZ'].corr()\n",
    "tickList = [r'Floor 1 SDR$_X$', r'Floor 1 SDR$_Z$',r'Floor 1 PFA$_X$', r'Floor 1 PFA$_Z$',\n",
    "            r'Floor 2 SDR$_X$', r'Floor 2 SDR$_Z$',r'Floor 2 PFA$_X$', r'Floor 2 PFA$_Z$']\n",
    "# corr.style.background_gradient(cmap = 'coolwarm')\n",
    "plt.figure(figsize=(11,8))\n",
    "sns.heatmap(corr, cmap=\"Greens\",annot=True, annot_kws={\"fontsize\":'x-large'}, xticklabels=tickList, yticklabels=tickList)\n",
    "plt.show()"
   ]
  },
  {
   "cell_type": "code",
   "execution_count": null,
   "id": "fab5fce1",
   "metadata": {},
   "outputs": [],
   "source": [
    "plt.figure(figsize=(10,10))\n",
    "corr = df_comb1.loc[:,'story_1_sdrX':'story_2_pfaZ'].corr()\n",
    "tickList = [r'Floor 1 SDR$_X$', r'Floor 1 SDR$_Z$',r'Floor 1 PFA$_X$', r'Floor 1 PFA$_Z$',\n",
    "            r'Floor 2 SDR$_X$', r'Floor 2 SDR$_Z$',r'Floor 2 PFA$_X$', r'Floor 2 PFA$_Z$']\n",
    "# corr.style.background_gradient(cmap = 'coolwarm')\n",
    "plt.figure(figsize=(11,8))\n",
    "sns.pairplot(np.log(df_comb1.loc[:,'story_1_sdrX':'story_2_pfaZ']), kind=\"kde\")\n",
    "plt.show()"
   ]
  },
  {
   "cell_type": "code",
   "execution_count": null,
   "id": "2e2d12ea",
   "metadata": {},
   "outputs": [],
   "source": [
    "from scipy.stats import chi2_contingency\n",
    "\n",
    "def calc_MI(x, y, bins):\n",
    "    '''\n",
    "    Calculates mutual information\n",
    "    '''\n",
    "    c_xy = np.histogram2d(x, y, bins)[0]\n",
    "    g, p, dof, expected = chi2_contingency(c_xy, lambda_=\"log-likelihood\", correction=False)\n",
    "    mi = 0.5 * g / c_xy.sum()\n",
    "    return mi"
   ]
  },
  {
   "cell_type": "code",
   "execution_count": null,
   "id": "e2cb11d4",
   "metadata": {},
   "outputs": [],
   "source": [
    "calc_MI(np.log(df_comb1['SaT1'].values), np.log(df_comb1['SaT1'].values), bins = 23)"
   ]
  },
  {
   "cell_type": "code",
   "execution_count": null,
   "id": "73fd017c",
   "metadata": {},
   "outputs": [],
   "source": [
    "calc_MI(np.log(df_comb1['story_1_sdrX'].values), np.log(df_comb1['story_1_sdrX'].values), bins = 16)"
   ]
  },
  {
   "cell_type": "code",
   "execution_count": null,
   "id": "3f65df39",
   "metadata": {},
   "outputs": [],
   "source": [
    "calc_MI(np.log(df_comb1['story_1_sdrX'].values), np.log(df_comb1['Distance_Rjb'].values), bins = 13)"
   ]
  },
  {
   "cell_type": "code",
   "execution_count": null,
   "id": "a5b35617",
   "metadata": {},
   "outputs": [],
   "source": [
    "calc_MI(np.log(df_comb1['Distance_Rjb'].values), np.log(df_comb1['Distance_Rjb'].values), bins = 13)"
   ]
  },
  {
   "cell_type": "code",
   "execution_count": null,
   "id": "cff4044a",
   "metadata": {},
   "outputs": [],
   "source": [
    "calc_MI(np.log(df_comb1['SaT1'].values), df_comb1['Magnitude'].values, bins = 15)"
   ]
  },
  {
   "cell_type": "code",
   "execution_count": null,
   "id": "a5147119",
   "metadata": {},
   "outputs": [],
   "source": [
    "calc_MI(np.log(df_comb1['Distance_Rjb'].values), df_comb1['Magnitude'].values, bins = 13)"
   ]
  },
  {
   "cell_type": "code",
   "execution_count": null,
   "id": "e4faa2fa",
   "metadata": {},
   "outputs": [],
   "source": [
    "calc_MI(df_comb1['Magnitude'].values, df_comb1['Magnitude'].values, bins = 15)"
   ]
  },
  {
   "cell_type": "code",
   "execution_count": null,
   "id": "169e2a1f",
   "metadata": {},
   "outputs": [],
   "source": []
  },
  {
   "cell_type": "code",
   "execution_count": null,
   "id": "97bc2ebc",
   "metadata": {},
   "outputs": [],
   "source": []
  },
  {
   "cell_type": "code",
   "execution_count": null,
   "id": "bf1d0a49",
   "metadata": {},
   "outputs": [],
   "source": [
    "calc_MI(df_comb1.loc[:,'story_1_sdrX'].values, df_comb1.loc[:,'story_1_sdrX'].values, 5)"
   ]
  },
  {
   "cell_type": "code",
   "execution_count": null,
   "id": "433b9b10",
   "metadata": {},
   "outputs": [],
   "source": [
    "0.5 * -np.log(1-0.96**2)"
   ]
  },
  {
   "cell_type": "code",
   "execution_count": null,
   "id": "8d77766f",
   "metadata": {},
   "outputs": [],
   "source": [
    "0.5 * -np.log(1-0.77**2)"
   ]
  },
  {
   "cell_type": "code",
   "execution_count": null,
   "id": "19a6fbce",
   "metadata": {},
   "outputs": [],
   "source": [
    "0.5 * -np.log(1-0.999**2)"
   ]
  },
  {
   "cell_type": "code",
   "execution_count": null,
   "id": "d3e015a2",
   "metadata": {},
   "outputs": [],
   "source": [
    "calc_MI(df_comb1.loc[:,'story_2_pfaZ'].values, df_comb1.loc[:,'story_1_sdrX'].values, 5)"
   ]
  },
  {
   "cell_type": "code",
   "execution_count": null,
   "id": "fb867c7c",
   "metadata": {},
   "outputs": [],
   "source": [
    "for ii in range(len(BuildingList)):\n",
    "    save_data_for_R(ii, gminfo_rotD50, IM_list, pairingID=1, average_EDP=True, rotate_EDP=True)"
   ]
  },
  {
   "cell_type": "code",
   "execution_count": null,
   "id": "00f492ee",
   "metadata": {},
   "outputs": [],
   "source": [
    "s2_48x32_high= SummaryResutls_efficiency(4, ['SaT1', 'PGA', 'PGV'])\n",
    "s2_48x32_high"
   ]
  },
  {
   "cell_type": "code",
   "execution_count": null,
   "id": "84ed9329",
   "metadata": {},
   "outputs": [],
   "source": [
    "s4_96x48_high= SummaryResutls_efficiency(8, ['SaT1', 'PGA', 'PGV', 'Sa_avg'])\n",
    "s4_96x48_high"
   ]
  },
  {
   "cell_type": "code",
   "execution_count": null,
   "id": "40434e7d",
   "metadata": {},
   "outputs": [],
   "source": [
    "s4_96x48_veryhigh= SummaryResutls_efficiency(9, ['SaT1', 'PGA', 'PGV', 'Sa_avg'])\n",
    "s4_96x48_veryhigh"
   ]
  },
  {
   "cell_type": "markdown",
   "id": "b6fa9c06",
   "metadata": {},
   "source": [
    "Combining all the data efficiency into a big data frame."
   ]
  },
  {
   "cell_type": "code",
   "execution_count": null,
   "id": "59b30f5e",
   "metadata": {},
   "outputs": [],
   "source": [
    "d = []\n",
    "for i in range(len(BuildingList)):\n",
    "    d.append(SummaryResutls_efficiency(i, ['SaT1', 'PGA', 'PGV', 'Sa_avg', 'CAV']))\n",
    "\n",
    "finaldf = pd.concat(d, keys = BuildingList)\n",
    "finaldf.head(50)"
   ]
  },
  {
   "cell_type": "markdown",
   "id": "b2c87f2d",
   "metadata": {},
   "source": [
    "## Debugging"
   ]
  },
  {
   "cell_type": "code",
   "execution_count": null,
   "id": "aaa3e0b1",
   "metadata": {},
   "outputs": [],
   "source": [
    "def compute_RotDxx_EDP(edpX, edpZ, percentile = 50):\n",
    "    angles = np.arange(0, 180, step=1)\n",
    "    radians = np.radians(angles)\n",
    "    coeffs = np.c_[np.cos(radians), np.sin(radians)]\n",
    "    \n",
    "    edp_stacked = np.vstack([edpX, edpZ])\n",
    "    rotated_edp = np.dot(coeffs, edp_stacked)\n",
    "    percentile_edp = np.percentile(rotated_edp, q = percentile, axis = 0, interpolation='linear')\n",
    "    return percentile_edp"
   ]
  },
  {
   "cell_type": "code",
   "execution_count": null,
   "id": "d8b35cd1",
   "metadata": {},
   "outputs": [],
   "source": [
    "buildingIndex = 9\n",
    "pairingID = 1\n",
    "IMs = 'SaT1'\n",
    "numGM = 826\n",
    "\n",
    "if pairingID == 1:\n",
    "    start_index_multiplier = 0\n",
    "    end_index_multiplier = 1\n",
    "else:\n",
    "    start_index_multiplier = 2\n",
    "    end_index_multiplier = 3\n",
    "\n",
    "if IMs == 'SaT1':\n",
    "    IM = gminfo_rotD50['T_%s'%T[buildingIndex]].values\n",
    "else:\n",
    "    IM = gminfo_rotD50[IMs]\n",
    "    \n",
    "baseDir = r'/Users/laxmandahal/Desktop/UCLA/Phd/Research/IM_study'\n",
    "dataDir = os.path.join(baseDir, *['Results', 'IM_study_826GMs', BuildingList[buildingIndex]])\n",
    "\n",
    "os.chdir(dataDir)\n",
    "sdr = pd.read_csv('SDR.csv', header = None)\n",
    "pfa = pd.read_csv('PFA.csv', header = None)\n",
    "\n",
    "#story index\n",
    "i = 0\n",
    "j = 0\n",
    "sdrX = sdr[3+i].values[numGM * start_index_multiplier : numGM * end_index_multiplier]\n",
    "sdrZ = sdr[3+i].values[numGM * end_index_multiplier : numGM * (end_index_multiplier + 1)]\n",
    "\n",
    "pfaX = pfa[4+i].values[numGM * start_index_multiplier : numGM * end_index_multiplier]\n",
    "pfaZ = pfa[4+i].values[numGM * end_index_multiplier : numGM * (end_index_multiplier + 1)]\n",
    "\n",
    "sdr_rotd50 = compute_RotDxx_EDP(sdrX, sdrZ, percentile=50)\n",
    "pfa_rotd50 = compute_RotDxx_EDP(pfaX, pfaZ, percentile=50)\n",
    "X = sm.add_constant(np.log(IM))\n",
    "\n",
    "sdrX_avg = gmean([sdr[3+j].values[0:numGM], sdr[3+j].values[numGM*2:numGM*3]])\n",
    "pfaX_avg = gmean([pfa[3+j].values[0:numGM], pfa[3+j].values[numGM*2:numGM*3]])\n",
    "\n",
    "sdrZ_avg = gmean([sdr[3+j].values[numGM:numGM*2], sdr[3+j].values[numGM*3:numGM*4]])\n",
    "pfaZ_avg = gmean([pfa[3+j].values[numGM:numGM*2], pfa[3+j].values[numGM*3:numGM*4]])\n",
    "print(pfaZ_avg.shape)\n",
    "#                 compute_RotDxx_EDP(sdrX, sdrZ, percentile=50)\n",
    "#                 pfa_rotD50 = compute_RotDxx_EDP(pfaX, pfaZ, percentile=50)\n",
    "ols_sdrX = OLS(sdrX_avg, IM)\n",
    "ols_sdrZ = OLS(sdrZ_avg, IM)\n",
    "ols_pfaX = OLS(pfaX_avg, IM)\n",
    "ols_pfaZ = OLS(pfaZ_avg, IM)"
   ]
  },
  {
   "cell_type": "code",
   "execution_count": null,
   "id": "191de13e",
   "metadata": {},
   "outputs": [],
   "source": [
    "calc_MI(gminfo_rotD50['Magnitude'].values, ols_pfaX.result.resid, bins = 8)"
   ]
  },
  {
   "cell_type": "code",
   "execution_count": null,
   "id": "ff8f5727",
   "metadata": {},
   "outputs": [],
   "source": [
    "calc_MI(gminfo_rotD50['Distance_Rjb'].values, ols_pfaX.result.resid, bins=8)"
   ]
  },
  {
   "cell_type": "code",
   "execution_count": null,
   "id": "545f7095",
   "metadata": {},
   "outputs": [],
   "source": [
    "calc_MI(gminfo_rotD50['Distance_Rjb'].values, gminfo_rotD50['Magnitude'].values, bins=15)"
   ]
  },
  {
   "cell_type": "code",
   "execution_count": null,
   "id": "4fe450bc",
   "metadata": {},
   "outputs": [],
   "source": [
    "calc_MI(IM, gminfo_rotD50['Magnitude'].values, bins=8)"
   ]
  },
  {
   "cell_type": "code",
   "execution_count": null,
   "id": "aab2c720",
   "metadata": {},
   "outputs": [],
   "source": [
    "calc_MI(IM, gminfo_rotD50['Distance_Rjb'].values, bins=8)"
   ]
  },
  {
   "cell_type": "code",
   "execution_count": null,
   "id": "574773e6",
   "metadata": {},
   "outputs": [],
   "source": [
    "calc_MI(IM, sdrZ_avg, bins=6)"
   ]
  },
  {
   "cell_type": "code",
   "execution_count": null,
   "id": "c3c356e2",
   "metadata": {},
   "outputs": [],
   "source": [
    "calc_MI(np.log(sdrZ_avg), np.log(sdrZ_avg), bins=14)"
   ]
  },
  {
   "cell_type": "code",
   "execution_count": null,
   "id": "7f9b2830",
   "metadata": {},
   "outputs": [],
   "source": [
    "calc_MI(IM, IM, bins=8)"
   ]
  },
  {
   "cell_type": "code",
   "execution_count": null,
   "id": "6a5af757",
   "metadata": {},
   "outputs": [],
   "source": [
    "pfa.shape"
   ]
  },
  {
   "cell_type": "code",
   "execution_count": null,
   "id": "04000693",
   "metadata": {},
   "outputs": [],
   "source": [
    "sdrgmean = gmean([sdrX, sdrZ])\n",
    "sdr.shape"
   ]
  },
  {
   "cell_type": "code",
   "execution_count": null,
   "id": "c7986733",
   "metadata": {},
   "outputs": [],
   "source": [
    "np.exp(np.mean([np.log(sdrX[0]), np.log(sdrZ[0])]))"
   ]
  },
  {
   "cell_type": "code",
   "execution_count": null,
   "id": "008e65ff",
   "metadata": {},
   "outputs": [],
   "source": [
    "np.sqrt(sdrX[0]**2 + sdrZ[0]**2)"
   ]
  },
  {
   "cell_type": "code",
   "execution_count": null,
   "id": "4395efa0",
   "metadata": {},
   "outputs": [],
   "source": [
    "angles = np.arange(0, 180, step=1)\n",
    "radians = np.radians(angles)\n",
    "coeffs = np.c_[np.cos(radians), np.sin(radians)]\n",
    "sdr_stacked = np.vstack([sdrX, sdrZ])\n",
    "rotated_sdr = np.dot(coeffs, sdr_stacked)"
   ]
  },
  {
   "cell_type": "code",
   "execution_count": null,
   "id": "5624f3bc",
   "metadata": {},
   "outputs": [],
   "source": [
    "percentile_sdr = np.percentile(rotated_sdr, 50, axis = 0, interpolation='linear')\n",
    "percentile_sdr.shape"
   ]
  },
  {
   "cell_type": "code",
   "execution_count": null,
   "id": "601283ee",
   "metadata": {},
   "outputs": [],
   "source": [
    "np.median(rotated_sdr)"
   ]
  },
  {
   "cell_type": "code",
   "execution_count": null,
   "id": "acd238dc",
   "metadata": {},
   "outputs": [],
   "source": [
    "testEff = OLS(sdrX, IM)\n",
    "np.std(testEff.result.resid)"
   ]
  },
  {
   "cell_type": "code",
   "execution_count": null,
   "id": "870be8cd",
   "metadata": {},
   "outputs": [],
   "source": [
    "testEff = OLS(sdr, IM)\n",
    "np.std(testEff.result.resid)\n"
   ]
  },
  {
   "cell_type": "code",
   "execution_count": null,
   "id": "98fb66b1",
   "metadata": {},
   "outputs": [],
   "source": [
    "# testSuff = sm.OLS(testEff.result.resid, sm.add_constant(np.log(gminfo_rotD50['Distance_Rjb'])))\n",
    "testSuff = sm.OLS(testEff.result.resid, sm.add_constant(np.log(gminfo_rotD50['Magnitude'])))\n",
    "\n",
    "testSuff.fit().summary()\n"
   ]
  },
  {
   "cell_type": "code",
   "execution_count": null,
   "id": "c050bca4",
   "metadata": {},
   "outputs": [],
   "source": [
    "testSuff.fit().pvalues\n"
   ]
  },
  {
   "cell_type": "code",
   "execution_count": null,
   "id": "b2f3d5ee",
   "metadata": {},
   "outputs": [],
   "source": [
    "##### Using residual from efficiency to compute sufficiency instead of direct linear model\n",
    "\n",
    "temp = {'I': np.ones(shape = int(numGM)),\n",
    "        'lnEDP': np.log(sdrX),\n",
    "        'lnSaT1': np.log(IM),\n",
    "        'M': gminfo_rotD50['Magnitude'].values}\n",
    "dummydf = pd.DataFrame(temp, index = None)\n",
    "model = smf.ols('lnEDP ~ lnSaT1 + M', data = dummydf)\n",
    "model_res = model.fit()\n",
    "model_res.summary()"
   ]
  },
  {
   "cell_type": "code",
   "execution_count": null,
   "id": "539692db",
   "metadata": {},
   "outputs": [],
   "source": [
    "##### Using residual from efficiency to compute sufficiency instead of direct linear model\n",
    "\n",
    "temp = {'I': np.ones(shape = int(numGM)),\n",
    "        'lnEDP': np.log(sdr),\n",
    "        'lnSaT1': np.log(IM),\n",
    "        'M': gminfo_rotD50['Magnitude'].values}\n",
    "dummydf = pd.DataFrame(temp, index = None)\n",
    "model = smf.ols('lnEDP ~ lnSaT1 + M', data = dummydf)\n",
    "model_res = model.fit()\n",
    "model_res.summary()"
   ]
  },
  {
   "cell_type": "code",
   "execution_count": null,
   "id": "0e2925d2",
   "metadata": {},
   "outputs": [],
   "source": [
    "model_res.pvalues"
   ]
  },
  {
   "cell_type": "code",
   "execution_count": null,
   "id": "d249f26d",
   "metadata": {},
   "outputs": [],
   "source": [
    "# I = np.ones(shape = numGM)\n",
    "# Y = np.log()\n",
    "sa_T013 = spectral_acc[T[4]].values\n",
    "temp = {'I': np.ones(shape = numGM),\n",
    "        'lnEDP': np.log(sdrX),\n",
    "        'lnSaT1': np.log(sa_T013),\n",
    "        'M': gm_info['Magnitude'].values}\n",
    "dummydf = pd.DataFrame(temp, index = None)\n",
    "model = smf.ols('lnEDP ~ lnSaT1 + M', data = dummydf)\n",
    "model_res = model.fit()\n",
    "model_res.summary()"
   ]
  },
  {
   "cell_type": "code",
   "execution_count": null,
   "id": "def63943",
   "metadata": {},
   "outputs": [],
   "source": [
    "# I = np.ones(shape = numGM)\n",
    "# Y = np.log()\n",
    "sa_T013 = spectral_acc[T[4]].values\n",
    "temp = {'I': np.ones(shape = numGM),\n",
    "        'lnEDP': np.log(sdrX),\n",
    "        'lnSaT1': np.log(sa_T013),\n",
    "        'lnRjb': np.log(gm_info['Distance 1 (km)'].values)}\n",
    "dummydf = pd.DataFrame(temp, index = None)\n",
    "model = smf.ols('lnEDP ~ lnSaT1 + lnRjb', data = dummydf)\n",
    "model_res = model.fit()\n",
    "model_res.summary()"
   ]
  },
  {
   "cell_type": "code",
   "execution_count": null,
   "id": "eff1d89c",
   "metadata": {},
   "outputs": [],
   "source": [
    "model_res.pvalues"
   ]
  },
  {
   "cell_type": "code",
   "execution_count": null,
   "id": "57961220",
   "metadata": {},
   "outputs": [],
   "source": [
    "sa_T013 = spectral_acc[T[4]].values\n",
    "temp = {'I': np.ones(shape = numGM),\n",
    "        'lnEDP': np.log(sdrX),\n",
    "        'lnSaT1': np.log(sa_T013),\n",
    "        'lnRjb': np.log(gm_info['Distance 1 (km)'].values),\n",
    "        'M':gm_info['Magnitude'].values}\n",
    "dummydf = pd.DataFrame(temp, index = None)\n",
    "model = smf.ols('lnEDP ~ lnSaT1 + lnRjb + M', data = dummydf)\n",
    "model_res = model.fit()\n",
    "model_res.summary()"
   ]
  },
  {
   "cell_type": "code",
   "execution_count": null,
   "id": "4e066ec1",
   "metadata": {},
   "outputs": [],
   "source": [
    "model_res.pvalues"
   ]
  },
  {
   "cell_type": "code",
   "execution_count": null,
   "id": "71b076c8",
   "metadata": {},
   "outputs": [],
   "source": []
  },
  {
   "cell_type": "code",
   "execution_count": null,
   "id": "05b8497c",
   "metadata": {},
   "outputs": [],
   "source": []
  },
  {
   "cell_type": "code",
   "execution_count": null,
   "id": "3cc4eaf1",
   "metadata": {},
   "outputs": [],
   "source": [
    "sdrXx = sdr[3].values[:numGM][1::2]\n",
    "len(sdrXx)"
   ]
  },
  {
   "cell_type": "code",
   "execution_count": null,
   "id": "96aab823",
   "metadata": {},
   "outputs": [],
   "source": [
    "linear_fit = sm.OLS(np.log(sdrX), X)\n",
    "fit_result = linear_fit.fit()\n",
    "fit_result.summary()"
   ]
  },
  {
   "cell_type": "code",
   "execution_count": null,
   "id": "51a026f5",
   "metadata": {},
   "outputs": [],
   "source": [
    "np.std(fit_result.resid)"
   ]
  },
  {
   "cell_type": "code",
   "execution_count": null,
   "id": "a7048db5",
   "metadata": {},
   "outputs": [],
   "source": [
    "linear_fit = sm.OLS(np.log(sdrXx), Xx)\n",
    "fit_result = linear_fit.fit()\n",
    "fit_result.summary()"
   ]
  },
  {
   "cell_type": "code",
   "execution_count": null,
   "id": "f3c79e20",
   "metadata": {},
   "outputs": [],
   "source": [
    "np.std(fit_result.resid)"
   ]
  },
  {
   "cell_type": "code",
   "execution_count": null,
   "id": "b0516452",
   "metadata": {},
   "outputs": [],
   "source": [
    "temp = {'I': np.ones(shape = 240),\n",
    "        'lnEDP': np.log(sdrX),\n",
    "        'lnSaT1': np.log(sa_T013),\n",
    "        'lnRjb': np.log(gm_info['Distance 1 (km)'].values),\n",
    "        'M':gm_info['Magnitude'].values}\n",
    "dummydf = pd.DataFrame(temp, index = None)\n",
    "model = smf.ols('lnEDP ~ lnSaT1 + M', data = dummydf)\n",
    "model_res = model.fit()\n",
    "model_res.summary()"
   ]
  },
  {
   "cell_type": "code",
   "execution_count": null,
   "id": "e84ea28e",
   "metadata": {},
   "outputs": [],
   "source": [
    "model_res.pvalues['lnRjb']\n",
    "\n",
    "a = 'Yes' if model_res.pvalues['lnRjb'] >= 0.05 else 'No'"
   ]
  },
  {
   "cell_type": "code",
   "execution_count": null,
   "id": "d268b84e",
   "metadata": {},
   "outputs": [],
   "source": [
    "np.round(model_res.pvalues['lnRjb'], 2)\n",
    "\n"
   ]
  },
  {
   "cell_type": "code",
   "execution_count": null,
   "id": "2ade8da8",
   "metadata": {},
   "outputs": [],
   "source": [
    "temp = {'I': np.ones(shape = 240),\n",
    "        'lnEDP': np.log(sdrX),\n",
    "        'lnSaT1': np.log(sa_T013),\n",
    "        'lnRjb': np.log(gm_info['Distance 1 (km)'].values),\n",
    "        'M':gm_info['Magnitude'].values}\n",
    "dummydf = pd.DataFrame(temp, index = None)\n",
    "model = smf.ols('lnEDP ~ lnSaT1 + lnRjb', data = dummydf)\n",
    "model_res = model.fit()\n",
    "model_res.summary()"
   ]
  },
  {
   "cell_type": "code",
   "execution_count": null,
   "id": "f8e3f301",
   "metadata": {},
   "outputs": [],
   "source": [
    "sns.histplot(fit_result.resid)"
   ]
  },
  {
   "cell_type": "code",
   "execution_count": null,
   "id": "6cf109e5",
   "metadata": {},
   "outputs": [],
   "source": [
    "mu, std = norm.fit(fit_result.resid)\n",
    "mu, std"
   ]
  },
  {
   "cell_type": "code",
   "execution_count": null,
   "id": "39c0986a",
   "metadata": {},
   "outputs": [],
   "source": [
    "np.std(fit_result.resid)"
   ]
  },
  {
   "cell_type": "code",
   "execution_count": null,
   "id": "54edecde",
   "metadata": {},
   "outputs": [],
   "source": []
  },
  {
   "cell_type": "code",
   "execution_count": null,
   "id": "8a04d1c8",
   "metadata": {},
   "outputs": [],
   "source": [
    "np.std(fit_result.resid)"
   ]
  },
  {
   "cell_type": "code",
   "execution_count": null,
   "id": "a0d7185c",
   "metadata": {},
   "outputs": [],
   "source": [
    "np.std(fit_result.resid)"
   ]
  },
  {
   "cell_type": "code",
   "execution_count": null,
   "id": "24593500",
   "metadata": {},
   "outputs": [],
   "source": [
    "ols_sdrX_saT1 = OLS(sdrX, sa_T013)"
   ]
  },
  {
   "cell_type": "code",
   "execution_count": null,
   "id": "c6e18bf8",
   "metadata": {},
   "outputs": [],
   "source": [
    "ols_sdrX_saT1.get_summary()"
   ]
  },
  {
   "cell_type": "code",
   "execution_count": null,
   "id": "b73305f0",
   "metadata": {},
   "outputs": [],
   "source": [
    "ols_sdrX_saT1.plot_model_fit()"
   ]
  },
  {
   "cell_type": "code",
   "execution_count": null,
   "id": "802b2cb6",
   "metadata": {},
   "outputs": [],
   "source": [
    "ols_sdrX_saT1.plot_residuals_hist()"
   ]
  },
  {
   "cell_type": "code",
   "execution_count": null,
   "id": "c576cd72",
   "metadata": {},
   "outputs": [],
   "source": [
    "# setup the figure and axes\n",
    "fig = plt.figure(figsize=(8, 3))\n",
    "ax1 = fig.add_subplot(121, projection='3d')\n",
    "ax2 = fig.add_subplot(122, projection='3d')\n",
    "\n",
    "# fake data\n",
    "_x = np.arange(4)\n",
    "_y = np.arange(5)\n",
    "_xx, _yy = np.meshgrid(_x, _y)\n",
    "x, y = _xx.ravel(), _yy.ravel()\n",
    "\n",
    "top = x + y\n",
    "bottom = np.zeros_like(top)\n",
    "width = depth = 1\n",
    "\n",
    "ax1.bar3d(x, y, bottom, width, depth, top, shade=True)\n",
    "ax1.set_title('Shaded')\n",
    "\n",
    "ax2.bar3d(x, y, bottom, width, depth, top, shade=False)\n",
    "ax2.set_title('Not Shaded')\n",
    "\n",
    "plt.show()"
   ]
  },
  {
   "cell_type": "code",
   "execution_count": null,
   "id": "53cd06c0",
   "metadata": {},
   "outputs": [],
   "source": [
    "x\n"
   ]
  },
  {
   "cell_type": "code",
   "execution_count": null,
   "id": "ae5af823",
   "metadata": {},
   "outputs": [],
   "source": [
    "y"
   ]
  },
  {
   "cell_type": "code",
   "execution_count": null,
   "id": "eabecf6b",
   "metadata": {},
   "outputs": [],
   "source": [
    "from mpl_toolkits.mplot3d import Axes3D\n",
    "import matplotlib.pyplot as plt\n",
    "import numpy as np\n",
    "\n",
    "fig = plt.figure()\n",
    "ax = fig.add_subplot(111, projection='3d')\n",
    "for c, z in zip(['r', 'g', 'b', 'y'], [30, 20, 10, 0]):\n",
    "    xs = np.arange(20)\n",
    "    ys = np.random.rand(20)\n",
    "\n",
    "    # You can provide either a single color or an array. To demonstrate this,\n",
    "    # the first bar of each set will be colored cyan.\n",
    "    cs = [c] * len(xs)\n",
    "    cs[0] = 'c'\n",
    "    ax.bar(xs, ys, zs=z, zdir='y', color=cs, alpha=0.8)\n",
    "\n",
    "ax.set_xlabel('X')\n",
    "ax.set_ylabel('Y')\n",
    "ax.set_zlabel('Z')\n",
    "\n",
    "plt.show()"
   ]
  },
  {
   "cell_type": "code",
   "execution_count": null,
   "id": "cf95b6d2",
   "metadata": {},
   "outputs": [],
   "source": [
    "z"
   ]
  },
  {
   "cell_type": "code",
   "execution_count": null,
   "id": "a83aa7e1",
   "metadata": {},
   "outputs": [],
   "source": []
  }
 ],
 "metadata": {
  "kernelspec": {
   "display_name": "Python 3 (ipykernel)",
   "language": "python",
   "name": "python3"
  },
  "language_info": {
   "codemirror_mode": {
    "name": "ipython",
    "version": 3
   },
   "file_extension": ".py",
   "mimetype": "text/x-python",
   "name": "python",
   "nbconvert_exporter": "python",
   "pygments_lexer": "ipython3",
   "version": "3.8.2"
  }
 },
 "nbformat": 4,
 "nbformat_minor": 5
}
