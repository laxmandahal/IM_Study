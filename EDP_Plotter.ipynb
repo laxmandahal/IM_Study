{
 "cells": [
  {
   "cell_type": "code",
   "execution_count": 1,
   "id": "a09ce193",
   "metadata": {},
   "outputs": [],
   "source": [
    "import os \n",
    "\n",
    "import numpy as np\n",
    "import pandas as pd\n",
    "import matplotlib.pyplot as plt\n",
    "import seaborn as sns\n",
    "\n",
    "from scipy.stats import gmean"
   ]
  },
  {
   "cell_type": "code",
   "execution_count": 2,
   "id": "2d1a6443",
   "metadata": {},
   "outputs": [
    {
     "data": {
      "text/plain": [
       "['s1_48x32_high',\n",
       " 's1_48x32_veryhigh',\n",
       " 's1_96x48_high',\n",
       " 's1_96x48_veryhigh',\n",
       " 's2_48x32_high',\n",
       " 's2_48x32_veryhigh',\n",
       " 's2_96x48_high',\n",
       " 's2_96x48_veryhigh',\n",
       " 's4_96x48_high',\n",
       " 's4_96x48_veryhigh']"
      ]
     },
     "execution_count": 2,
     "metadata": {},
     "output_type": "execute_result"
    }
   ],
   "source": [
    "baseDir = r'/Users/laxmandahal/Desktop/UCLA/Phd/Research/IM_study'\n",
    "with open(os.path.join(baseDir, 'Codes','BuildingNames.txt'), 'r') as f:\n",
    "    BuildingList = f.read() \n",
    "BuildingList = BuildingList.split('\\n')\n",
    "BuildingList"
   ]
  },
  {
   "cell_type": "code",
   "execution_count": 3,
   "id": "4732488c",
   "metadata": {},
   "outputs": [],
   "source": [
    "T = np.array([0.13, 0.12, 0.16, 0.15, 0.22, 0.22, 0.26, 0.25, 0.49, 0.49])\n",
    "numGM = 826\n",
    "g = 980.665 ## converts GM record to cm/sec^2\n",
    "\n",
    "def compute_RotDxx_EDP(edpX, edpZ, percentile = 50):\n",
    "    angles = np.arange(0, 180, step=1)\n",
    "    radians = np.radians(angles)\n",
    "    coeffs = np.c_[np.cos(radians), np.sin(radians)]\n",
    "    \n",
    "    edp_stacked = np.vstack([edpX, edpZ])\n",
    "    rotated_edp = np.dot(coeffs, edp_stacked)\n",
    "    percentile_edp = np.percentile(rotated_edp, q = percentile, axis = 0, interpolation='linear')\n",
    "    return percentile_edp"
   ]
  },
  {
   "cell_type": "code",
   "execution_count": 12,
   "id": "03eca8cc",
   "metadata": {},
   "outputs": [],
   "source": [
    "def plot_edp_profile(baseDir, BuildingList, buildingIndex, pairingID=1,\n",
    "                     combine_pairingIDs=False,\n",
    "                     combine_biDirectional_edp=False, save_fig=False):\n",
    "    numStory = int(BuildingList[buildingIndex].split('_')[0][1])\n",
    "#     floor = np.arange(1, numStory + 1)\n",
    "#     baseDir = r'/Users/laxmandahal/Desktop/UCLA/Phd/Research/IM_study'\n",
    "    dataDir = os.path.join(baseDir, *['Results', 'IM_study_826GMs', BuildingList[buildingIndex]])\n",
    "\n",
    "    sdr = pd.read_csv(os.path.join(dataDir, 'SDR.csv'), header = None)\n",
    "    pfa = pd.read_csv(os.path.join(dataDir, 'PFA.csv'), header = None)\n",
    "    \n",
    "    if pairingID == 1:\n",
    "        start_index_multiplier = 0\n",
    "        end_index_multiplier = 1\n",
    "    else:\n",
    "        start_index_multiplier = 2\n",
    "        end_index_multiplier = 3\n",
    "        \n",
    "    plotting_sdrX = []\n",
    "    plotting_sdrZ = []\n",
    "    plotting_pfaX = []\n",
    "    plotting_pfaZ = []\n",
    "    plotting_sdr_RotD50 = []\n",
    "    plotting_pfa_RotD50 = []\n",
    "\n",
    "    for i in range(numStory):\n",
    "\n",
    "        if combine_pairingIDs:\n",
    "            sdrX = gmean([sdr[3+i].values[0:numGM], sdr[3+i].values[numGM*2:numGM*3]])\n",
    "            sdrZ = gmean([sdr[3+i].values[numGM:numGM*2], sdr[3+i].values[numGM*3:numGM*4]])\n",
    "            \n",
    "            if i == 0:\n",
    "                pfaX = gmean([pfa[3+i].values[0:numGM], pfa[3+i].values[numGM*2:numGM*3]])\n",
    "                pfaZ = gmean([pfa[3+i].values[numGM:numGM*2], pfa[3+i].values[numGM*3:numGM*4]])\n",
    "                plotting_pfaX.append(max(pfaX))\n",
    "                plotting_pfaZ.append(max(pfaZ))\n",
    "                if combine_biDirectional_edp:\n",
    "                    pfa_rotd50_level_0 = compute_RotDxx_EDP(pfaX, pfaZ, percentile=50)\n",
    "                    plotting_pfa_RotD50.append()\n",
    "            pfaX = gmean([pfa[4+i].values[0:numGM], pfa[4+i].values[numGM*2:numGM*3]])\n",
    "            pfaZ = gmean([pfa[4+i].values[numGM:numGM*2], pfa[4+i].values[numGM*3:numGM*4]])\n",
    "        else:   \n",
    "            sdrX = sdr[3+i].values[numGM * start_index_multiplier : numGM * end_index_multiplier]\n",
    "            sdrZ = sdr[3+i].values[numGM * end_index_multiplier : numGM * (end_index_multiplier + 1)]\n",
    "            if i == 0:\n",
    "                pfaX = pfa[3+i].values[numGM * start_index_multiplier : numGM * end_index_multiplier]\n",
    "                pfaZ = pfa[3+i].values[numGM * end_index_multiplier : numGM * (end_index_multiplier + 1)]\n",
    "                plotting_pfaX.append(max(pfaX))\n",
    "                plotting_pfaZ.append(max(pfaZ))\n",
    "                if combine_biDirectional_edp:\n",
    "                    pfa_rotd50_level_0 = compute_RotDxx_EDP(pfaX, pfaZ, percentile=50)\n",
    "                    plotting_pfa_RotD50.append()\n",
    "            pfaX = pfa[4+i].values[numGM * start_index_multiplier : numGM * end_index_multiplier]\n",
    "            pfaZ = pfa[4+i].values[numGM * end_index_multiplier : numGM * (end_index_multiplier + 1)]\n",
    "            \n",
    "        if combine_biDirectional_edp:\n",
    "            sdr_rotd50 = compute_RotDxx_EDP(sdrX, sdrZ, percentile=50)\n",
    "            pfa_rotd50 = compute_RotDxx_EDP(pfaX, pfaZ, percentile=50)\n",
    "            plotting_pfa_RotD50.append(pfa_rotd50)\n",
    "            plotting_sdr_RotD50.append(sdr_rotd50)\n",
    "            \n",
    "        plotting_sdrX.append(max(sdrX))\n",
    "        plotting_sdrZ.append(max(sdrZ))\n",
    "        plotting_pfaX.append(max(pfaX))\n",
    "        plotting_pfaZ.append(max(pfaZ))\n",
    "    \n",
    "    if combine_biDirectional_edp:\n",
    "        fileName = 'RotEDP_RotD50'\n",
    "        fig, axs = plt.subplots(1, 2, figsize=(10,6), sharey = True)\n",
    "        plt.rcParams[\"font.family\"] = \"Times New Roman\"\n",
    "        plt.rcParams['xtick.labelsize'] = 15\n",
    "        plt.rcParams['ytick.labelsize'] = 15\n",
    "        \n",
    "        axs[0].step(plotting_sdr_RotD50, np.arange(1, numStory+1), linewidth=1.75, color='darkorange',\n",
    "                   label='SDR')\n",
    "        axs[0].set_yticks(np.arange(1, numStory+1))\n",
    "        axs[0].set_xlabel('SDR', fontsize = 16)\n",
    "        axs[0].set_ylabel('Floor Level', fontsize = 16)\n",
    "        axs[1].step(plotting_pfa_RotD50, np.arange(0, numStory+1), linewidth=1.75, color='dodgerblue',\n",
    "                   label='PFA')\n",
    "        axs[1].set_yticks(np.arange(0, numStory+1))\n",
    "        axs[1].set_xlabel('PFA', fontsize = 16)\n",
    "        axs[1].set_ylabel('Floor Level', fontsize = 16)\n",
    "    else:\n",
    "        fileName = 'AvgEDP_RotD50'\n",
    "        fig, axs = plt.subplots(2, 2, figsize=(10,12), sharey = False)\n",
    "        plt.rcParams[\"font.family\"] = \"Times New Roman\"\n",
    "        plt.rcParams['xtick.labelsize'] = 15\n",
    "        plt.rcParams['ytick.labelsize'] = 15\n",
    "        axs[0, 0].step(plotting_sdrX, np.arange(1, numStory+1), linewidth=1.75, color='darkorange',\n",
    "                   label='SDR')\n",
    "        axs[0, 0].set_yticks(np.arange(1, numStory+1))\n",
    "        axs[0, 0].set_xlabel('SDR X (%)', fontsize = 16)\n",
    "        axs[0, 0].set_ylabel('Floor Level', fontsize = 16)\n",
    "        axs[1, 0].step(plotting_sdrZ, np.arange(1, numStory+1), linewidth=1.75, color='darkorange',\n",
    "                   label='SDR')\n",
    "        axs[1, 0].set_yticks(np.arange(1, numStory+1))\n",
    "        axs[1, 0].set_xlabel('SDR Z (%)', fontsize = 16)\n",
    "        axs[1, 0].set_ylabel('Floor Level', fontsize = 16)\n",
    "        axs[0, 1].step(plotting_pfaX, np.arange(0, numStory+1), linewidth=1.75, color='dodgerblue',\n",
    "                   label='SDR')\n",
    "        axs[0, 1].set_yticks(np.arange(1, numStory+1))\n",
    "        axs[0, 1].set_xlabel('PFA X (g)', fontsize = 16)\n",
    "        axs[0, 1].set_ylabel('Floor Level', fontsize = 16)\n",
    "        axs[1, 1].step(plotting_pfaZ, np.arange(0, numStory+1), linewidth=1.75, color='dodgerblue',\n",
    "                   label='SDR')\n",
    "        axs[1, 1].set_yticks(np.arange(1, numStory+1))\n",
    "        axs[1, 1].set_xlabel('PFA Z (g)', fontsize = 16)\n",
    "        axs[1, 1].set_ylabel('Floor Level', fontsize = 16)\n",
    "    if save_fig:\n",
    "        plt.savefig(os.path.join(dataDir, '%s_%s.png'%(BuildingList[buildingIndex], fileName)), \n",
    "                    bbox_inches=\"tight\")\n",
    "    else:\n",
    "        plt.show()"
   ]
  },
  {
   "cell_type": "code",
   "execution_count": 13,
   "id": "2f1a2905",
   "metadata": {},
   "outputs": [
    {
     "data": {
      "image/png": "[encoded data removed]",
      "text/plain": [
       "<Figure size 720x864 with 4 Axes>"
      ]
     },
     "metadata": {
      "needs_background": "light"
     },
     "output_type": "display_data"
    }
   ],
   "source": [
    "plot_edp_profile(baseDir, BuildingList, 9, pairingID=1,\n",
    "                     combine_pairingIDs=False,\n",
    "                     combine_biDirectional_edp=False, \n",
    "                 save_fig=False)"
   ]
  },
  {
   "cell_type": "code",
   "execution_count": null,
   "id": "a89513c3",
   "metadata": {},
   "outputs": [],
   "source": []
  },
  {
   "cell_type": "code",
   "execution_count": null,
   "id": "60896943",
   "metadata": {},
   "outputs": [],
   "source": []
  },
  {
   "cell_type": "code",
   "execution_count": null,
   "id": "56dee9fb",
   "metadata": {},
   "outputs": [],
   "source": []
  },
  {
   "cell_type": "code",
   "execution_count": null,
   "id": "5f44912b",
   "metadata": {},
   "outputs": [],
   "source": []
  }
 ],
 "metadata": {
  "kernelspec": {
   "display_name": "Python 3 (ipykernel)",
   "language": "python",
   "name": "python3"
  },
  "language_info": {
   "codemirror_mode": {
    "name": "ipython",
    "version": 3
   },
   "file_extension": ".py",
   "mimetype": "text/x-python",
   "name": "python",
   "nbconvert_exporter": "python",
   "pygments_lexer": "ipython3",
   "version": "3.8.2"
  }
 },
 "nbformat": 4,
 "nbformat_minor": 5
}
