{
 "cells": [
  {
   "cell_type": "code",
   "execution_count": 1,
   "id": "a09ce193",
   "metadata": {},
   "outputs": [
    {
     "name": "stderr",
     "output_type": "stream",
     "text": [
      "/Users/laxmandahal/opt/miniconda3/lib/python3.8/site-packages/statsmodels/compat/pandas.py:61: FutureWarning: pandas.Int64Index is deprecated and will be removed from pandas in a future version. Use pandas.Index with the appropriate dtype instead.\n",
      "  from pandas import Int64Index as NumericIndex\n"
     ]
    }
   ],
   "source": [
    "import os \n",
    "import sys\n",
    "import random\n",
    "import math\n",
    "\n",
    "import numpy as np\n",
    "import pandas as pd\n",
    "import matplotlib.pyplot as plt\n",
    "import seaborn as sns\n",
    "\n",
    "from scipy.stats import lognorm\n",
    "from scipy.stats import norm \n",
    "from scipy import integrate\n",
    "from scipy.stats import gmean\n",
    "\n",
    "from scipy.stats import pearsonr\n",
    "\n",
    "import statsmodels.api as sm \n",
    "import statsmodels.formula.api as smf\n",
    "\n",
    "### src; https://github.com/arkottke/pyrotd\n",
    "import pyrotd\n",
    "\n",
    "\n",
    "\n",
    "%load_ext autoreload\n",
    "%autoreload 2"
   ]
  },
  {
   "cell_type": "code",
   "execution_count": 2,
   "id": "2ef1dd9b",
   "metadata": {},
   "outputs": [],
   "source": [
    "l1 = [2, 4, 3]\n",
    "l2 = [5, 6, 4]"
   ]
  },
  {
   "cell_type": "code",
   "execution_count": 10,
   "id": "259a4ef6",
   "metadata": {},
   "outputs": [],
   "source": [
    "n1 = int(''.join([str(i) for i in l1[::-1]]))\n",
    "n2 = int(''.join([str(i) for i in l2[::-1]]))\n",
    "n3 = n1+n2"
   ]
  },
  {
   "cell_type": "code",
   "execution_count": 16,
   "id": "d79efbdb",
   "metadata": {},
   "outputs": [
    {
     "data": {
      "text/plain": [
       "[7, 0, 8]"
      ]
     },
     "execution_count": 16,
     "metadata": {},
     "output_type": "execute_result"
    }
   ],
   "source": [
    "[int(x) for x in str(n3)][::-1]"
   ]
  },
  {
   "cell_type": "code",
   "execution_count": null,
   "id": "437c7618",
   "metadata": {},
   "outputs": [],
   "source": [
    "with open('BuildingNames.txt', 'r') as f:\n",
    "    BuildingList = f.read() \n",
    "BuildingList = BuildingList.split('\\n')\n",
    "IM_list = ['SaT1', 'PGA', 'PGV', 'Sa_avg', 'CAV', 'SI', 'ASI', 'DSI','DS_5to75', 'DS_5to95' ]\n",
    "\n",
    "\n",
    "baseDir = r'/Users/laxmandahal/Desktop/UCLA/Phd/Research/IM_study'\n",
    "\n",
    "## time period of the buildings\n",
    "# T = np.array([0.13, 0.12, 0.22, 0.22, 0.16, 0.15, 0.26, 0.25, 0.49, 0.49])\n",
    "T = np.array([0.13, 0.12, 0.16, 0.15, 0.22, 0.22, 0.26, 0.25, 0.49, 0.49])\n",
    "\n",
    "numGM = 826\n",
    "g = 980.665 ## converts GM record to cm/sec^2\n"
   ]
  },
  {
   "cell_type": "code",
   "execution_count": null,
   "id": "16c20b63",
   "metadata": {},
   "outputs": [],
   "source": [
    "BuildingList"
   ]
  },
  {
   "cell_type": "code",
   "execution_count": null,
   "id": "25146096",
   "metadata": {},
   "outputs": [],
   "source": [
    "gminfo_rotD50 = pd.read_csv(r'data/Complete_GM_info_RotD50.csv')\n",
    "gminfo_rotD50 = gminfo_rotD50.set_index('key_0')\n",
    "gminfo_rotD50.index.names = ['GMID']"
   ]
  },
  {
   "cell_type": "code",
   "execution_count": null,
   "id": "8a696dcc",
   "metadata": {},
   "outputs": [],
   "source": [
    "from plotting_utilities import plot_efficiency_OLS, plot_efficiency_OLS_portfolio\n",
    "\n",
    "plot_efficiency_OLS(baseDir, BuildingList, 9, gminfo_rotD50, IM_list, pairingID=1, average_EDP=True,\n",
    "               Uni_Direction=False, savefig=True, fileName='efficiency_OLS')"
   ]
  },
  {
   "cell_type": "code",
   "execution_count": null,
   "id": "0753ab68",
   "metadata": {},
   "outputs": [],
   "source": [
    "entropy_efficiency = pd.read_csv(os.path.join(baseDir, *['Codes', 'GAM_models',\n",
    "                                                         'Summary_results',\n",
    "                                                         'summary_efficiency_GAM_entropy.csv']), index_col=0)\n"
   ]
  },
  {
   "cell_type": "code",
   "execution_count": null,
   "id": "7bef0f89",
   "metadata": {},
   "outputs": [],
   "source": [
    "from plotting_utilities import plot_efficiency_entropy, plot_efficiency_entropy_portfolio\n",
    "\n",
    "plot_efficiency_entropy(baseDir, BuildingList, 9, entropy_efficiency,\n",
    "                        IM_list, savefig=True, fileName='entropy_efficiency')"
   ]
  },
  {
   "cell_type": "code",
   "execution_count": null,
   "id": "4ad61247",
   "metadata": {},
   "outputs": [],
   "source": [
    "from efficiency_OLS import portfolio_mean_efficiency\n",
    "mean_sdr_ols, mean_pfa_ols = portfolio_mean_efficiency(baseDir, BuildingList, gminfo_rotD50, IM_list,\n",
    "                                                         pairingID = 1, average_EDP = True, Uni_Direction = False)"
   ]
  },
  {
   "cell_type": "code",
   "execution_count": null,
   "id": "b7de9c09",
   "metadata": {},
   "outputs": [],
   "source": [
    "plot_efficiency_OLS_portfolio(baseDir, mean_sdr_ols, IM_list, EDP_type='SDR',\n",
    "                              savefig=True, fileName='efficiency_OLS_portfolio')"
   ]
  },
  {
   "cell_type": "code",
   "execution_count": null,
   "id": "4cbf3d32",
   "metadata": {},
   "outputs": [],
   "source": [
    "plot_efficiency_OLS_portfolio(baseDir, mean_pfa_ols, IM_list, EDP_type='PFA',\n",
    "                              savefig=True, fileName='efficiency_OLS_portfolio')"
   ]
  },
  {
   "cell_type": "code",
   "execution_count": null,
   "id": "8b1b0432",
   "metadata": {},
   "outputs": [],
   "source": [
    "plot_efficiency_entropy_portfolio(baseDir, entropy_efficiency, IM_list, \n",
    "                                  savefig=True, fileName = 'entropy_efficiency_portfolio')"
   ]
  },
  {
   "cell_type": "code",
   "execution_count": null,
   "id": "c80d49b1",
   "metadata": {},
   "outputs": [],
   "source": [
    "from efficiency_OLS import SummaryResutls_efficiency\n",
    "\n",
    "tempdf = SummaryResutls_efficiency(baseDir, BuildingList, 9, gminfo_rotD50, IM_list, \n",
    "                         pairingID=1, average_EDP=True, rotate_EDP=False)\n",
    "tempdf"
   ]
  },
  {
   "cell_type": "code",
   "execution_count": null,
   "id": "336680e0",
   "metadata": {},
   "outputs": [],
   "source": [
    "from utility_functions import save_data_for_R\n",
    "\n",
    "mfd_6b = save_data_for_R(baseDir, BuildingList, 9, gminfo_rotD50, IM_list, pairingID=1, \n",
    "                        average_EDP=False, rotate_EDP=False, save_to_csv=False)\n",
    "mfd_6b"
   ]
  },
  {
   "cell_type": "code",
   "execution_count": null,
   "id": "17fe7e6a",
   "metadata": {},
   "outputs": [],
   "source": [
    "mfd_6b.columns"
   ]
  },
  {
   "cell_type": "code",
   "execution_count": null,
   "id": "1724944a",
   "metadata": {},
   "outputs": [],
   "source": [
    "0.5 * -np.log(1-0.996**2)"
   ]
  },
  {
   "cell_type": "code",
   "execution_count": null,
   "id": "d0c93fd5",
   "metadata": {},
   "outputs": [],
   "source": [
    "from utility_functions import calc_mutual_information, calc_mutual_information_sklearn\n",
    "\n",
    "calc_mutual_information(np.log(mfd_6b.story_1_sdrX), np.log(mfd_6b.story_1_pfaX), bins=15)"
   ]
  },
  {
   "cell_type": "code",
   "execution_count": null,
   "id": "a28ac748",
   "metadata": {},
   "outputs": [],
   "source": [
    "calc_mutual_information(np.log(mfd_6b.story_1_sdrX), np.log(mfd_6b.story_1_sdrX), bins=15)"
   ]
  },
  {
   "cell_type": "code",
   "execution_count": null,
   "id": "68153bf7",
   "metadata": {},
   "outputs": [],
   "source": [
    "calc_mutual_information(np.log(mfd_6b.story_1_sdrX), np.log(mfd_6b.SaT1), bins=15)"
   ]
  },
  {
   "cell_type": "code",
   "execution_count": null,
   "id": "3b460a18",
   "metadata": {},
   "outputs": [],
   "source": [
    "calc_mutual_information(np.log(mfd_6b.story_1_sdrX),mfd_6b.Magnitude, bins=15)"
   ]
  },
  {
   "cell_type": "code",
   "execution_count": null,
   "id": "6393e90f",
   "metadata": {},
   "outputs": [],
   "source": [
    "calc_mutual_information(np.log(mfd_6b.story_1_sdrX), mfd_6b.Distance_Rjb, bins=15)"
   ]
  },
  {
   "cell_type": "code",
   "execution_count": null,
   "id": "abcfa501",
   "metadata": {},
   "outputs": [],
   "source": [
    "calc_mutual_information(np.log(mfd_6b.story_1_pfaX), np.log(mfd_6b.story_1_pfaX), bins=15)"
   ]
  },
  {
   "cell_type": "code",
   "execution_count": null,
   "id": "0826cae3",
   "metadata": {},
   "outputs": [],
   "source": [
    "calc_mutual_information(np.log(mfd_6b.story_1_pfaX), np.log(mfd_6b.SaT1), bins=15)"
   ]
  },
  {
   "cell_type": "code",
   "execution_count": null,
   "id": "924a5b3f",
   "metadata": {},
   "outputs": [],
   "source": [
    "calc_mutual_information(np.log(mfd_6b.story_1_pfaX),mfd_6b.Magnitude, bins=15)"
   ]
  },
  {
   "cell_type": "code",
   "execution_count": null,
   "id": "8a38bcfd",
   "metadata": {},
   "outputs": [],
   "source": [
    "calc_mutual_information(np.log(mfd_6b.story_1_pfaX), mfd_6b.Distance_Rjb, bins=15)"
   ]
  },
  {
   "cell_type": "code",
   "execution_count": null,
   "id": "b7a70615",
   "metadata": {},
   "outputs": [],
   "source": [
    "calc_mutual_information(mfd_6b.Magnitude, mfd_6b.Magnitude, bins=15)"
   ]
  },
  {
   "cell_type": "code",
   "execution_count": null,
   "id": "fb27d464",
   "metadata": {},
   "outputs": [],
   "source": [
    "calc_mutual_information(mfd_6b.Distance_Rjb, mfd_6b.Distance_Rjb, bins=15)"
   ]
  },
  {
   "cell_type": "code",
   "execution_count": null,
   "id": "012ac3cd",
   "metadata": {},
   "outputs": [],
   "source": [
    "calc_mutual_information(mfd_6b.Magnitude, mfd_6b.Distance_Rjb, bins=15)"
   ]
  },
  {
   "cell_type": "code",
   "execution_count": null,
   "id": "149975f5",
   "metadata": {},
   "outputs": [],
   "source": [
    "from plotting_utilities import plot_mutual_information\n",
    "\n",
    "a = plot_mutual_information(baseDir, mfd_6b, hide_upper= False, savefig = True, figname='MFD6B')"
   ]
  },
  {
   "cell_type": "code",
   "execution_count": null,
   "id": "89401d80",
   "metadata": {},
   "outputs": [],
   "source": [
    "a"
   ]
  },
  {
   "cell_type": "code",
   "execution_count": null,
   "id": "a89513c3",
   "metadata": {},
   "outputs": [],
   "source": []
  },
  {
   "cell_type": "code",
   "execution_count": null,
   "id": "60896943",
   "metadata": {},
   "outputs": [],
   "source": []
  },
  {
   "cell_type": "code",
   "execution_count": null,
   "id": "56dee9fb",
   "metadata": {},
   "outputs": [],
   "source": []
  },
  {
   "cell_type": "code",
   "execution_count": null,
   "id": "5f44912b",
   "metadata": {},
   "outputs": [],
   "source": []
  }
 ],
 "metadata": {
  "kernelspec": {
   "display_name": "Python 3 (ipykernel)",
   "language": "python",
   "name": "python3"
  },
  "language_info": {
   "codemirror_mode": {
    "name": "ipython",
    "version": 3
   },
   "file_extension": ".py",
   "mimetype": "text/x-python",
   "name": "python",
   "nbconvert_exporter": "python",
   "pygments_lexer": "ipython3",
   "version": "3.8.2"
  }
 },
 "nbformat": 4,
 "nbformat_minor": 5
}
