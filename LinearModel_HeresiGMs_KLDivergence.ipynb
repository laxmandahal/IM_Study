{
 "cells": [
  {
   "cell_type": "code",
   "execution_count": 1,
   "id": "4bffe974",
   "metadata": {},
   "outputs": [],
   "source": [
    "import os \n",
    "import sys\n",
    "import random\n",
    "import math\n",
    "\n",
    "import numpy as np\n",
    "import pandas as pd\n",
    "import matplotlib.pyplot as plt\n",
    "import seaborn as sns\n",
    "\n",
    "from scipy.stats import lognorm\n",
    "from scipy.stats import norm \n",
    "from scipy import integrate\n",
    "from scipy.stats import gmean\n",
    "\n",
    "from scipy.stats import pearsonr\n",
    "\n",
    "import statsmodels.api as sm \n",
    "import statsmodels.formula.api as smf\n",
    "\n",
    "### src; https://github.com/arkottke/pyrotd\n",
    "import pyrotd\n",
    "\n"
   ]
  },
  {
   "cell_type": "markdown",
   "id": "01577cdd",
   "metadata": {},
   "source": []
  },
  {
   "cell_type": "code",
   "execution_count": 3,
   "id": "4c0aaabb",
   "metadata": {},
   "outputs": [
    {
     "data": {
      "text/plain": [
       "['s1_48x32_high',\n",
       " 's1_48x32_veryhigh',\n",
       " 's1_96x48_high',\n",
       " 's1_96x48_veryhigh',\n",
       " 's2_48x32_high',\n",
       " 's2_48x32_veryhigh',\n",
       " 's2_96x48_high',\n",
       " 's2_96x48_veryhigh',\n",
       " 's4_96x48_high',\n",
       " 's4_96x48_veryhigh']"
      ]
     },
     "execution_count": 3,
     "metadata": {},
     "output_type": "execute_result"
    }
   ],
   "source": [
    "with open('BuildingNames.txt', 'r') as f:\n",
    "    BuildingList = f.read() \n",
    "BuildingList = BuildingList.split('\\n')\n",
    "BuildingList"
   ]
  },
  {
   "cell_type": "code",
   "execution_count": 4,
   "id": "e22d4df0",
   "metadata": {},
   "outputs": [],
   "source": [
    "baseDir = r'/Users/laxmandahal/Desktop/UCLA/Phd/Research/IM_study'\n",
    "\n",
    "## time period of the buildings\n",
    "T = np.array([0.13, 0.12, 0.22, 0.22, 0.16, 0.15, 0.26, 0.25, 0.49, 0.49])\n",
    "\n",
    "numGM = 826\n",
    "g = 980.665 ## converts GM record to cm/sec^2\n",
    "\n",
    "def compute_RotDxx_EDP(edpX, edpZ, percentile = 50):\n",
    "    angles = np.arange(0, 180, step=1)\n",
    "    radians = np.radians(angles)\n",
    "    coeffs = np.c_[np.cos(radians), np.sin(radians)]\n",
    "    \n",
    "    edp_stacked = np.vstack([edpX, edpZ])\n",
    "    rotated_edp = np.dot(coeffs, edp_stacked)\n",
    "    percentile_edp = np.percentile(rotated_edp, q = percentile, axis = 0, interpolation='linear')\n",
    "    return percentile_edp"
   ]
  },
  {
   "cell_type": "code",
   "execution_count": 4,
   "id": "83cc2c10",
   "metadata": {},
   "outputs": [],
   "source": [
    "# heresi_GM_dir = os.path.join(baseDir, *['References', 'Heresi GMs'])\n",
    "# os.chdir(heresi_GM_dir)\n",
    "# heresiGM = pd.read_csv('Ground Motion Records.csv')\n",
    "# RSNs = heresiGM['Record Sequence Number\\n(NGA-West2)'].values\n",
    "# np.savetxt('Heresi_831_RSNs.txt',[RSNs], delimiter=',', fmt='%d')"
   ]
  },
  {
   "cell_type": "code",
   "execution_count": 5,
   "id": "7d61e145",
   "metadata": {},
   "outputs": [],
   "source": [
    "gminfo_h1 = pd.read_csv(r'data/Complete_GM_info_h1.csv')\n",
    "gminfo_h1 = gminfo_h1.set_index('key_0')\n",
    "gminfo_h1.index.names = ['GMID']"
   ]
  },
  {
   "cell_type": "code",
   "execution_count": 6,
   "id": "1203eb0b",
   "metadata": {},
   "outputs": [],
   "source": [
    "gminfo_h2 = pd.read_csv(r'data/Complete_GM_info_h2.csv')\n",
    "gminfo_h2 = gminfo_h2.set_index('key_0')\n",
    "gminfo_h2.index.names = ['GMID']"
   ]
  },
  {
   "cell_type": "code",
   "execution_count": 7,
   "id": "3fa4724c",
   "metadata": {},
   "outputs": [
    {
     "data": {
      "text/plain": [
       "Index(['PGA', 'PGV', 'DS_5to75', 'DS_5to95', 'CAV', 'T_0.01', 'T_0.02',\n",
       "       'T_0.03', 'T_0.04', 'T_0.05',\n",
       "       ...\n",
       "       'SI', 'ASI', 'DSI', 'Sa_avg', '5-75% Duration (sec)_NGA2',\n",
       "       '5-95% Duration (sec)_NGA2', 'Magnitude', 'Distance_Rjb',\n",
       "       'Distance_rup', 'Vs_30'],\n",
       "      dtype='object', length=156)"
      ]
     },
     "execution_count": 7,
     "metadata": {},
     "output_type": "execute_result"
    }
   ],
   "source": [
    "gminfo_rotD50 = pd.read_csv(r'data/Complete_GM_info_RotD50.csv')\n",
    "gminfo_rotD50 = gminfo_rotD50.set_index('key_0')\n",
    "gminfo_rotD50.index.names = ['GMID']\n",
    "gminfo_rotD50.columns"
   ]
  },
  {
   "cell_type": "code",
   "execution_count": 8,
   "id": "4cdac0b6",
   "metadata": {},
   "outputs": [],
   "source": [
    "sv_rotD50 = pd.read_csv('data/Spectral_velocity_rotD50.csv', index_col='GMID')\n",
    "sd_rotD50 = pd.read_csv('data/Spectral_Displacement_rotD50.csv', index_col='GMID')"
   ]
  },
  {
   "cell_type": "code",
   "execution_count": 9,
   "id": "5636de5f",
   "metadata": {},
   "outputs": [],
   "source": [
    "# os.chdir(os.path.join(baseDir, *['Codes', 'data']))\n",
    "# np.savetxt('Magnitude.txt', gminfo_rotD50['Magnitude'].values, fmt = '%.3f')\n",
    "# np.savetxt('Distance_Rjb.txt', gminfo_rotD50['Distance_Rjb'].values, fmt = '%.3f')"
   ]
  },
  {
   "cell_type": "markdown",
   "id": "4e2ed54e",
   "metadata": {},
   "source": [
    "## Defining Classes for efficiency and sufficiency"
   ]
  },
  {
   "cell_type": "code",
   "execution_count": 10,
   "id": "c1d05576",
   "metadata": {},
   "outputs": [],
   "source": [
    "class OLS:\n",
    "    def __init__(self, EDP, IM):\n",
    "        self.EDP = EDP\n",
    "        self.IM = IM\n",
    "        self.Y = np.log(EDP)\n",
    "        self.X = sm.add_constant(np.log(IM))\n",
    "        \n",
    "        self.residual_mean = None\n",
    "        self.residual_std = None\n",
    "        self.xmin = None\n",
    "        self.xmax = None\n",
    "        \n",
    "        self.fitModel()\n",
    "        self.get_summary()\n",
    "        \n",
    "#         self.plot_residuals_hist()\n",
    "#         self.plot_model_fit()\n",
    "        \n",
    "    def fitModel(self):\n",
    "        model = sm.OLS(self.Y, self.X)\n",
    "        self.result = model.fit()\n",
    "        \n",
    "    def get_summary(self):\n",
    "        return self.result.summary()\n",
    "    \n",
    "    def plot_residuals_hist(self):\n",
    "        fig, ax = plt.subplots()\n",
    "        sns.histplot(x = self.result.resid, ax=ax, stat = 'density', linewidth = 0, kde=True)\n",
    "        ax.set(title = 'Distribution of residuals', xlabel = 'residuals')\n",
    "        \n",
    "        self.residual_mean, self.residual_std = norm.fit(self.result.resid)\n",
    "        ##plotting normal pdf\n",
    "        self.xmin, self.xmax = plt.xlim() # using maxi/min values from histogram\n",
    "        x = np.linspace(self.xmin, self.xmax, 200)\n",
    "        pdf = norm.pdf(x, self.residual_mean, self.residual_std)\n",
    "        sns.lineplot(x = x, y = pdf, color = 'red', ax = ax)\n",
    "        plt.show()\n",
    "    \n",
    "    def get_efficiency(self):\n",
    "        return np.std(self.result.resid)\n",
    "            \n",
    "    def qqplot(self):\n",
    "        sm.qqplot(self.result.resid, line = 's')\n",
    "\n",
    "\n",
    "    def fitplot(self):\n",
    "        sm.graphics.plot_fit(self.result, 1, vlines = False);\n",
    "        \n",
    "    def plot_model_fit(self):\n",
    "        Ymin = self.Y.min()\n",
    "        Ymax = self.Y.max()\n",
    "#         ax = sns.subplots()\n",
    "        ax = sns.scatterplot(x = self.result.fittedvalues, y = self.Y)\n",
    "#         ax.set_ylim(Ymin, Ymax)\n",
    "#         ax.set_xlim(self.xmin, self.xmax)\n",
    "        ax.set_xlabel('Predicted Values')\n",
    "        ax.set_ylabel('Observed Values')\n",
    "        \n",
    "        X_ref = Y_ref = np.linspace(Ymin, Ymax, 200)\n",
    "        plt.plot(X_ref, Y_ref, color = 'red', linewidth = 1.3)\n",
    "        plt.show()\n",
    "        \n",
    "class Sufficiency():\n",
    "    def __init__(self, ln_EDP, ln_IM, Rjb, Mag):\n",
    "        self.EDP = ln_EDP\n",
    "        self.IM = ln_IM\n",
    "        self.X = sm.add_constant(self.IM)\n",
    "        \n",
    "        temp = {'I': np.ones(shape = len(Mag)),\n",
    "                'lnEDP': self.EDP,\n",
    "                'lnIM': self.IM,\n",
    "                'lnRjb': np.log(Rjb),\n",
    "                'M': Mag}\n",
    "        self.dummydf = pd.DataFrame(temp, index = None)\n",
    "        \n",
    "        self.sufficiency_against_R()\n",
    "        self.sufficiency_against_M()\n",
    "        self.sufficiency_against_M_and_R()\n",
    "        \n",
    "    def sufficiency_against_R(self):\n",
    "        self.model_IM_vs_R = smf.ols('lnEDP ~ lnIM + lnRjb', data = self.dummydf)\n",
    "        model_res = self.model_IM_vs_R.fit()\n",
    "        self.summary_against_R = model_res.summary()\n",
    "        return model_res.pvalues['lnRjb']\n",
    "        \n",
    "    def sufficiency_against_M(self):\n",
    "        self.model_IM_vs_M = smf.ols('lnEDP ~ lnIM + M', data = self.dummydf)\n",
    "        model_res = self.model_IM_vs_M.fit()\n",
    "        self.summary_against_M = model_res.summary()\n",
    "        return model_res.pvalues['M']\n",
    "\n",
    "    def sufficiency_against_M_and_R(self):\n",
    "        self.model_IM_vs_R_and_M = smf.ols('lnEDP ~ lnIM + M + lnRjb', data = self.dummydf)\n",
    "        model_res = self.model_IM_vs_R_and_M.fit()\n",
    "        self.summary_against_M_and_R = model_res.summary()\n",
    "        return model_res.pvalues\n",
    "    \n",
    "    def qqplot(self, model):\n",
    "        sm.qqplot(model.fit(), line = 's')\n",
    "      "
   ]
  },
  {
   "cell_type": "code",
   "execution_count": null,
   "id": "32ca3b9c",
   "metadata": {},
   "outputs": [],
   "source": []
  },
  {
   "cell_type": "code",
   "execution_count": 11,
   "id": "5321d22e",
   "metadata": {},
   "outputs": [],
   "source": [
    "def SummaryResutls_efficiency(buildingIndex, df_IMs, IMs=['SaT1', 'PGA', 'PGV', 'Sa_avg'],\n",
    "                              pairingID = 1, average_EDP = False, rotate_EDP = False):\n",
    "    '''\n",
    "    pairingID: if 1, GM_h1 applied in X-direction, GM_h2 applied in Y-direction\n",
    "               if 2, GM_h2 applied in X-direction, GM_h1 applied in Y-direction\n",
    "               \n",
    "    Note:\n",
    "    Care must be taken while using gminfo and pairing ID\n",
    "    -------------\n",
    "    df_IMs = gminfo_RotD50 can be used with pairing ID 1 OR 2 \n",
    "    df_IMs = gminfo_h1 can only be used with pairing ID 1\n",
    "    df_IMs = gminfo_h2 can only be used with pairing ID 2\n",
    "    '''\n",
    "    dataDir = os.path.join(baseDir, *['Results', 'IM_study_826GMs', BuildingList[buildingIndex]])\n",
    "    os.chdir(dataDir)\n",
    "    sdr = pd.read_csv('SDR.csv', header = None)\n",
    "    pfa = pd.read_csv('PFA.csv', header = None)\n",
    "    \n",
    "    numStory = int(BuildingList[buildingIndex].split('_')[0][1])\n",
    "    tempdf = []\n",
    "    d = []\n",
    "    keys = ['1st Story', '2nd Story', '3rd Story', '4th Story']\n",
    "    temp_sdr = {}\n",
    "    \n",
    "    if pairingID == 1:\n",
    "        start_index_multiplier = 0\n",
    "        end_index_multiplier = 1\n",
    "    else:\n",
    "        start_index_multiplier = 2\n",
    "        end_index_multiplier = 3\n",
    "    \n",
    "    for i in range(len(IMs)):\n",
    "        if IMs[i] == 'SaT1':\n",
    "            IM = df_IMs['T_%s'%T[buildingIndex]].values\n",
    "            ######### result for SaT1, SvT1 and SdT1 is the same b/c they are constantly relate\n",
    "#         elif IMs[i] == 'SvT1':\n",
    "#             IM = sv_rotD50['T_%s'%T[buildingIndex]].values\n",
    "#         elif IMs[i] == 'SdT1':\n",
    "#             IM = sd_rotD50['T_%s'%T[buildingIndex]].values\n",
    "        else:\n",
    "            IM = df_IMs[IMs[i]]\n",
    "\n",
    "        for j in range(numStory):\n",
    "            \n",
    "            sdrX = sdr[3+j].values[numGM * start_index_multiplier : numGM * end_index_multiplier]\n",
    "            sdrZ = sdr[3+j].values[numGM * end_index_multiplier : numGM * (end_index_multiplier + 1)]\n",
    "\n",
    "            pfaX = pfa[4+j].values[numGM * start_index_multiplier : numGM * end_index_multiplier]\n",
    "            pfaZ = pfa[4+j].values[numGM * end_index_multiplier : numGM * (end_index_multiplier + 1)]\n",
    "            \n",
    "            if average_EDP:\n",
    "                sdrX_avg = gmean([sdr[3+j].values[0:numGM], sdr[3+j].values[numGM*2:numGM*3]])\n",
    "                pfaX_avg = gmean([pfa[4+j].values[0:numGM], pfa[4+j].values[numGM*2:numGM*3]])\n",
    "                \n",
    "                sdrZ_avg = gmean([sdr[3+j].values[numGM:numGM*2], sdr[3+j].values[numGM*3:numGM*4]])\n",
    "                pfaZ_avg = gmean([pfa[4+j].values[numGM:numGM*2], pfa[4+j].values[numGM*3:numGM*4]])\n",
    "#                 compute_RotDxx_EDP(sdrX, sdrZ, percentile=50)\n",
    "#                 pfa_rotD50 = compute_RotDxx_EDP(pfaX, pfaZ, percentile=50)\n",
    "                if rotate_EDP:\n",
    "                    sdr_rotD50 = compute_RotDxx_EDP(sdrX_avg, sdrZ_avg, percentile=50)\n",
    "                    pfa_rotD50 = compute_RotDxx_EDP(pfaX_avg, pfaZ_avg, percentile=50)\n",
    "                    ols_sdrX = OLS(sdr_rotD50, IM)\n",
    "                    ols_pfaZ = OLS(pfa_rotD50, IM)\n",
    "                    temp_sdr[keys[j]] = {'SDR_RotD50':ols_sdrX.get_efficiency(),\n",
    "                                         'PFA_RotD50': ols_pfaZ.get_efficiency()}\n",
    "                else:\n",
    "                    ols_sdrX = OLS(sdrX_avg, IM)\n",
    "                    ols_sdrZ = OLS(sdrZ_avg, IM)\n",
    "                    ols_pfaX = OLS(pfaX_avg, IM)\n",
    "                    ols_pfaZ = OLS(pfaZ_avg, IM)\n",
    "                    temp_sdr[keys[j]] = {'SDR_X_Avg':ols_sdrX.get_efficiency(),\n",
    "                                         'SDR_Z_Avg':ols_sdrZ.get_efficiency(),\n",
    "                                         'PFA_X_Avg': ols_pfaX.get_efficiency(),\n",
    "                                         'PFA_Z_Avg': ols_pfaZ.get_efficiency()}\n",
    "            else:\n",
    "                ols_sdrX = OLS(sdrX, IM)\n",
    "                ols_sdrZ = OLS(sdrZ, IM)\n",
    "                ols_pfaX = OLS(pfaX, IM)\n",
    "                ols_pfaZ = OLS(pfaZ, IM)\n",
    "                temp_sdr[keys[j]] = {'SDR_X':ols_sdrX.get_efficiency(),\n",
    "                                     'SDR_Z':ols_sdrZ.get_efficiency(),\n",
    "                                     'PFA_X': ols_pfaX.get_efficiency(),\n",
    "                                     'PFA_Z': ols_pfaZ.get_efficiency()}\n",
    "        reform = {(outerKey, innerKey): values for outerKey, innerDict in temp_sdr.items() for innerKey, values in innerDict.items()}\n",
    "        df = pd.DataFrame.from_dict(reform, orient='index').transpose()\n",
    "        df.columns = pd.MultiIndex.from_tuples(df.columns)\n",
    "        df['IM'] = IMs[i]\n",
    "        df = df.set_index('IM')\n",
    "        tempdf.append(df)\n",
    "\n",
    "    return pd.concat(tempdf)\n"
   ]
  },
  {
   "cell_type": "code",
   "execution_count": null,
   "id": "d7d2e9f1",
   "metadata": {},
   "outputs": [],
   "source": []
  },
  {
   "cell_type": "code",
   "execution_count": 12,
   "id": "d6be50b2",
   "metadata": {},
   "outputs": [],
   "source": [
    "# buildingIndex = 2\n",
    "# IM_list = ['SaT1', 'PGA', 'PGV', 'Sa_avg', 'CAV', 'SI', 'ASI', 'DSI', 'SvT1', 'SdT1']\n",
    "# for i in range(len(IM_list)):\n",
    "#     print(IM_list[i])\n",
    "#     if IM_list[i] == 'SaT1':\n",
    "#         IM = gminfo_rotD50['T_%s'%T[buildingIndex]].values\n",
    "#     elif IM_list[i] == 'SvT1':\n",
    "        \n",
    "#         IM = gminfo_rotD50['T_%s'%T[buildingIndex]].values\n",
    "#         print('YES')\n",
    "#     elif IM_list[i] == 'SD':\n",
    "#         print('YES')\n",
    "#         IM = gminfo_rotD50['T_%s'%T[buildingIndex]].values\n",
    "#     else:\n",
    "#         IM = gminfo_rotD50[IM_list[i]]"
   ]
  },
  {
   "cell_type": "code",
   "execution_count": 13,
   "id": "ab9be650",
   "metadata": {},
   "outputs": [
    {
     "data": {
      "text/html": [
       "<div>\n",
       "<style scoped>\n",
       "    .dataframe tbody tr th:only-of-type {\n",
       "        vertical-align: middle;\n",
       "    }\n",
       "\n",
       "    .dataframe tbody tr th {\n",
       "        vertical-align: top;\n",
       "    }\n",
       "\n",
       "    .dataframe thead tr th {\n",
       "        text-align: left;\n",
       "    }\n",
       "\n",
       "    .dataframe thead tr:last-of-type th {\n",
       "        text-align: right;\n",
       "    }\n",
       "</style>\n",
       "<table border=\"1\" class=\"dataframe\">\n",
       "  <thead>\n",
       "    <tr>\n",
       "      <th></th>\n",
       "      <th colspan=\"4\" halign=\"left\">1st Story</th>\n",
       "      <th colspan=\"4\" halign=\"left\">2nd Story</th>\n",
       "      <th colspan=\"4\" halign=\"left\">3rd Story</th>\n",
       "      <th colspan=\"4\" halign=\"left\">4th Story</th>\n",
       "    </tr>\n",
       "    <tr>\n",
       "      <th></th>\n",
       "      <th>SDR_X_Avg</th>\n",
       "      <th>SDR_Z_Avg</th>\n",
       "      <th>PFA_X_Avg</th>\n",
       "      <th>PFA_Z_Avg</th>\n",
       "      <th>SDR_X_Avg</th>\n",
       "      <th>SDR_Z_Avg</th>\n",
       "      <th>PFA_X_Avg</th>\n",
       "      <th>PFA_Z_Avg</th>\n",
       "      <th>SDR_X_Avg</th>\n",
       "      <th>SDR_Z_Avg</th>\n",
       "      <th>PFA_X_Avg</th>\n",
       "      <th>PFA_Z_Avg</th>\n",
       "      <th>SDR_X_Avg</th>\n",
       "      <th>SDR_Z_Avg</th>\n",
       "      <th>PFA_X_Avg</th>\n",
       "      <th>PFA_Z_Avg</th>\n",
       "    </tr>\n",
       "    <tr>\n",
       "      <th>IM</th>\n",
       "      <th></th>\n",
       "      <th></th>\n",
       "      <th></th>\n",
       "      <th></th>\n",
       "      <th></th>\n",
       "      <th></th>\n",
       "      <th></th>\n",
       "      <th></th>\n",
       "      <th></th>\n",
       "      <th></th>\n",
       "      <th></th>\n",
       "      <th></th>\n",
       "      <th></th>\n",
       "      <th></th>\n",
       "      <th></th>\n",
       "      <th></th>\n",
       "    </tr>\n",
       "  </thead>\n",
       "  <tbody>\n",
       "    <tr>\n",
       "      <th>SaT1</th>\n",
       "      <td>0.306560</td>\n",
       "      <td>0.298939</td>\n",
       "      <td>0.212809</td>\n",
       "      <td>0.299464</td>\n",
       "      <td>0.251068</td>\n",
       "      <td>0.258472</td>\n",
       "      <td>0.180937</td>\n",
       "      <td>0.291670</td>\n",
       "      <td>0.277566</td>\n",
       "      <td>0.280441</td>\n",
       "      <td>0.184343</td>\n",
       "      <td>0.284668</td>\n",
       "      <td>0.240318</td>\n",
       "      <td>0.239300</td>\n",
       "      <td>0.237981</td>\n",
       "      <td>0.298973</td>\n",
       "    </tr>\n",
       "    <tr>\n",
       "      <th>PGA</th>\n",
       "      <td>0.345271</td>\n",
       "      <td>0.340625</td>\n",
       "      <td>0.202065</td>\n",
       "      <td>0.193986</td>\n",
       "      <td>0.286287</td>\n",
       "      <td>0.296319</td>\n",
       "      <td>0.221042</td>\n",
       "      <td>0.211531</td>\n",
       "      <td>0.286733</td>\n",
       "      <td>0.294519</td>\n",
       "      <td>0.225105</td>\n",
       "      <td>0.216176</td>\n",
       "      <td>0.221077</td>\n",
       "      <td>0.220843</td>\n",
       "      <td>0.231202</td>\n",
       "      <td>0.229705</td>\n",
       "    </tr>\n",
       "    <tr>\n",
       "      <th>PGV</th>\n",
       "      <td>0.367408</td>\n",
       "      <td>0.367921</td>\n",
       "      <td>0.515318</td>\n",
       "      <td>0.613536</td>\n",
       "      <td>0.365682</td>\n",
       "      <td>0.376729</td>\n",
       "      <td>0.484165</td>\n",
       "      <td>0.601925</td>\n",
       "      <td>0.385978</td>\n",
       "      <td>0.393045</td>\n",
       "      <td>0.471412</td>\n",
       "      <td>0.582273</td>\n",
       "      <td>0.560894</td>\n",
       "      <td>0.560785</td>\n",
       "      <td>0.523527</td>\n",
       "      <td>0.596837</td>\n",
       "    </tr>\n",
       "    <tr>\n",
       "      <th>Sa_avg</th>\n",
       "      <td>0.301730</td>\n",
       "      <td>0.294439</td>\n",
       "      <td>0.161258</td>\n",
       "      <td>0.236964</td>\n",
       "      <td>0.243988</td>\n",
       "      <td>0.249735</td>\n",
       "      <td>0.162919</td>\n",
       "      <td>0.244688</td>\n",
       "      <td>0.259856</td>\n",
       "      <td>0.263950</td>\n",
       "      <td>0.178400</td>\n",
       "      <td>0.243784</td>\n",
       "      <td>0.211794</td>\n",
       "      <td>0.212310</td>\n",
       "      <td>0.221485</td>\n",
       "      <td>0.260257</td>\n",
       "    </tr>\n",
       "    <tr>\n",
       "      <th>CAV</th>\n",
       "      <td>0.417079</td>\n",
       "      <td>0.412715</td>\n",
       "      <td>0.531557</td>\n",
       "      <td>0.611540</td>\n",
       "      <td>0.412766</td>\n",
       "      <td>0.417970</td>\n",
       "      <td>0.500670</td>\n",
       "      <td>0.593449</td>\n",
       "      <td>0.430475</td>\n",
       "      <td>0.434717</td>\n",
       "      <td>0.480714</td>\n",
       "      <td>0.571337</td>\n",
       "      <td>0.559970</td>\n",
       "      <td>0.560207</td>\n",
       "      <td>0.512541</td>\n",
       "      <td>0.578204</td>\n",
       "    </tr>\n",
       "    <tr>\n",
       "      <th>SI</th>\n",
       "      <td>0.339409</td>\n",
       "      <td>0.340051</td>\n",
       "      <td>0.473371</td>\n",
       "      <td>0.591283</td>\n",
       "      <td>0.338039</td>\n",
       "      <td>0.347350</td>\n",
       "      <td>0.444218</td>\n",
       "      <td>0.582619</td>\n",
       "      <td>0.360086</td>\n",
       "      <td>0.366708</td>\n",
       "      <td>0.437628</td>\n",
       "      <td>0.564052</td>\n",
       "      <td>0.530075</td>\n",
       "      <td>0.529516</td>\n",
       "      <td>0.498297</td>\n",
       "      <td>0.580770</td>\n",
       "    </tr>\n",
       "    <tr>\n",
       "      <th>ASI</th>\n",
       "      <td>0.354667</td>\n",
       "      <td>0.344909</td>\n",
       "      <td>0.202595</td>\n",
       "      <td>0.146872</td>\n",
       "      <td>0.295303</td>\n",
       "      <td>0.295745</td>\n",
       "      <td>0.200995</td>\n",
       "      <td>0.137543</td>\n",
       "      <td>0.294913</td>\n",
       "      <td>0.294538</td>\n",
       "      <td>0.187416</td>\n",
       "      <td>0.131668</td>\n",
       "      <td>0.158508</td>\n",
       "      <td>0.160452</td>\n",
       "      <td>0.170618</td>\n",
       "      <td>0.129147</td>\n",
       "    </tr>\n",
       "    <tr>\n",
       "      <th>DSI</th>\n",
       "      <td>0.496463</td>\n",
       "      <td>0.495303</td>\n",
       "      <td>0.740959</td>\n",
       "      <td>0.839590</td>\n",
       "      <td>0.522509</td>\n",
       "      <td>0.524311</td>\n",
       "      <td>0.689372</td>\n",
       "      <td>0.810814</td>\n",
       "      <td>0.531423</td>\n",
       "      <td>0.534828</td>\n",
       "      <td>0.653743</td>\n",
       "      <td>0.779571</td>\n",
       "      <td>0.765662</td>\n",
       "      <td>0.766305</td>\n",
       "      <td>0.701073</td>\n",
       "      <td>0.787492</td>\n",
       "    </tr>\n",
       "    <tr>\n",
       "      <th>DS_5to75</th>\n",
       "      <td>0.564611</td>\n",
       "      <td>0.557460</td>\n",
       "      <td>0.728583</td>\n",
       "      <td>0.761745</td>\n",
       "      <td>0.559859</td>\n",
       "      <td>0.566147</td>\n",
       "      <td>0.681707</td>\n",
       "      <td>0.733470</td>\n",
       "      <td>0.545112</td>\n",
       "      <td>0.549292</td>\n",
       "      <td>0.632733</td>\n",
       "      <td>0.705341</td>\n",
       "      <td>0.710706</td>\n",
       "      <td>0.710949</td>\n",
       "      <td>0.655283</td>\n",
       "      <td>0.709765</td>\n",
       "    </tr>\n",
       "    <tr>\n",
       "      <th>DS_5to95</th>\n",
       "      <td>0.567675</td>\n",
       "      <td>0.562252</td>\n",
       "      <td>0.768982</td>\n",
       "      <td>0.815194</td>\n",
       "      <td>0.571739</td>\n",
       "      <td>0.579923</td>\n",
       "      <td>0.717794</td>\n",
       "      <td>0.781498</td>\n",
       "      <td>0.555757</td>\n",
       "      <td>0.562545</td>\n",
       "      <td>0.667109</td>\n",
       "      <td>0.748829</td>\n",
       "      <td>0.754975</td>\n",
       "      <td>0.755489</td>\n",
       "      <td>0.696806</td>\n",
       "      <td>0.755352</td>\n",
       "    </tr>\n",
       "  </tbody>\n",
       "</table>\n",
       "</div>"
      ],
      "text/plain": [
       "         1st Story                               2nd Story            \\\n",
       "         SDR_X_Avg SDR_Z_Avg PFA_X_Avg PFA_Z_Avg SDR_X_Avg SDR_Z_Avg   \n",
       "IM                                                                     \n",
       "SaT1      0.306560  0.298939  0.212809  0.299464  0.251068  0.258472   \n",
       "PGA       0.345271  0.340625  0.202065  0.193986  0.286287  0.296319   \n",
       "PGV       0.367408  0.367921  0.515318  0.613536  0.365682  0.376729   \n",
       "Sa_avg    0.301730  0.294439  0.161258  0.236964  0.243988  0.249735   \n",
       "CAV       0.417079  0.412715  0.531557  0.611540  0.412766  0.417970   \n",
       "SI        0.339409  0.340051  0.473371  0.591283  0.338039  0.347350   \n",
       "ASI       0.354667  0.344909  0.202595  0.146872  0.295303  0.295745   \n",
       "DSI       0.496463  0.495303  0.740959  0.839590  0.522509  0.524311   \n",
       "DS_5to75  0.564611  0.557460  0.728583  0.761745  0.559859  0.566147   \n",
       "DS_5to95  0.567675  0.562252  0.768982  0.815194  0.571739  0.579923   \n",
       "\n",
       "                             3rd Story                                \\\n",
       "         PFA_X_Avg PFA_Z_Avg SDR_X_Avg SDR_Z_Avg PFA_X_Avg PFA_Z_Avg   \n",
       "IM                                                                     \n",
       "SaT1      0.180937  0.291670  0.277566  0.280441  0.184343  0.284668   \n",
       "PGA       0.221042  0.211531  0.286733  0.294519  0.225105  0.216176   \n",
       "PGV       0.484165  0.601925  0.385978  0.393045  0.471412  0.582273   \n",
       "Sa_avg    0.162919  0.244688  0.259856  0.263950  0.178400  0.243784   \n",
       "CAV       0.500670  0.593449  0.430475  0.434717  0.480714  0.571337   \n",
       "SI        0.444218  0.582619  0.360086  0.366708  0.437628  0.564052   \n",
       "ASI       0.200995  0.137543  0.294913  0.294538  0.187416  0.131668   \n",
       "DSI       0.689372  0.810814  0.531423  0.534828  0.653743  0.779571   \n",
       "DS_5to75  0.681707  0.733470  0.545112  0.549292  0.632733  0.705341   \n",
       "DS_5to95  0.717794  0.781498  0.555757  0.562545  0.667109  0.748829   \n",
       "\n",
       "         4th Story                                \n",
       "         SDR_X_Avg SDR_Z_Avg PFA_X_Avg PFA_Z_Avg  \n",
       "IM                                                \n",
       "SaT1      0.240318  0.239300  0.237981  0.298973  \n",
       "PGA       0.221077  0.220843  0.231202  0.229705  \n",
       "PGV       0.560894  0.560785  0.523527  0.596837  \n",
       "Sa_avg    0.211794  0.212310  0.221485  0.260257  \n",
       "CAV       0.559970  0.560207  0.512541  0.578204  \n",
       "SI        0.530075  0.529516  0.498297  0.580770  \n",
       "ASI       0.158508  0.160452  0.170618  0.129147  \n",
       "DSI       0.765662  0.766305  0.701073  0.787492  \n",
       "DS_5to75  0.710706  0.710949  0.655283  0.709765  \n",
       "DS_5to95  0.754975  0.755489  0.696806  0.755352  "
      ]
     },
     "execution_count": 13,
     "metadata": {},
     "output_type": "execute_result"
    }
   ],
   "source": [
    "IM_list = ['SaT1', 'PGA', 'PGV', 'Sa_avg', 'CAV', 'SI', 'ASI', 'DSI','DS_5to75', 'DS_5to95' ]\n",
    "s1_48x32_high= SummaryResutls_efficiency(9, gminfo_rotD50, IM_list, pairingID = 1, average_EDP=True)\n",
    "s1_48x32_high"
   ]
  },
  {
   "cell_type": "code",
   "execution_count": 15,
   "id": "452a05c9",
   "metadata": {},
   "outputs": [
    {
     "data": {
      "text/html": [
       "<div>\n",
       "<style scoped>\n",
       "    .dataframe tbody tr th:only-of-type {\n",
       "        vertical-align: middle;\n",
       "    }\n",
       "\n",
       "    .dataframe tbody tr th {\n",
       "        vertical-align: top;\n",
       "    }\n",
       "\n",
       "    .dataframe thead tr th {\n",
       "        text-align: left;\n",
       "    }\n",
       "\n",
       "    .dataframe thead tr:last-of-type th {\n",
       "        text-align: right;\n",
       "    }\n",
       "</style>\n",
       "<table border=\"1\" class=\"dataframe\">\n",
       "  <thead>\n",
       "    <tr>\n",
       "      <th></th>\n",
       "      <th colspan=\"2\" halign=\"left\">1st Story</th>\n",
       "      <th colspan=\"2\" halign=\"left\">2nd Story</th>\n",
       "      <th colspan=\"2\" halign=\"left\">3rd Story</th>\n",
       "      <th colspan=\"2\" halign=\"left\">4th Story</th>\n",
       "    </tr>\n",
       "    <tr>\n",
       "      <th></th>\n",
       "      <th>SDR_RotD50</th>\n",
       "      <th>PFA_RotD50</th>\n",
       "      <th>SDR_RotD50</th>\n",
       "      <th>PFA_RotD50</th>\n",
       "      <th>SDR_RotD50</th>\n",
       "      <th>PFA_RotD50</th>\n",
       "      <th>SDR_RotD50</th>\n",
       "      <th>PFA_RotD50</th>\n",
       "    </tr>\n",
       "    <tr>\n",
       "      <th>IM</th>\n",
       "      <th></th>\n",
       "      <th></th>\n",
       "      <th></th>\n",
       "      <th></th>\n",
       "      <th></th>\n",
       "      <th></th>\n",
       "      <th></th>\n",
       "      <th></th>\n",
       "    </tr>\n",
       "  </thead>\n",
       "  <tbody>\n",
       "    <tr>\n",
       "      <th>SaT1</th>\n",
       "      <td>0.300520</td>\n",
       "      <td>0.260847</td>\n",
       "      <td>0.252916</td>\n",
       "      <td>0.242626</td>\n",
       "      <td>0.276599</td>\n",
       "      <td>0.239476</td>\n",
       "      <td>0.233848</td>\n",
       "      <td>0.268485</td>\n",
       "    </tr>\n",
       "    <tr>\n",
       "      <th>PGA</th>\n",
       "      <td>0.341490</td>\n",
       "      <td>0.177703</td>\n",
       "      <td>0.291382</td>\n",
       "      <td>0.193897</td>\n",
       "      <td>0.290126</td>\n",
       "      <td>0.201391</td>\n",
       "      <td>0.215546</td>\n",
       "      <td>0.219241</td>\n",
       "    </tr>\n",
       "    <tr>\n",
       "      <th>PGV</th>\n",
       "      <td>0.363558</td>\n",
       "      <td>0.576633</td>\n",
       "      <td>0.367859</td>\n",
       "      <td>0.556707</td>\n",
       "      <td>0.386974</td>\n",
       "      <td>0.539088</td>\n",
       "      <td>0.557337</td>\n",
       "      <td>0.566574</td>\n",
       "    </tr>\n",
       "    <tr>\n",
       "      <th>Sa_avg</th>\n",
       "      <td>0.295634</td>\n",
       "      <td>0.197126</td>\n",
       "      <td>0.244359</td>\n",
       "      <td>0.199283</td>\n",
       "      <td>0.259547</td>\n",
       "      <td>0.205836</td>\n",
       "      <td>0.205881</td>\n",
       "      <td>0.235894</td>\n",
       "    </tr>\n",
       "    <tr>\n",
       "      <th>CAV</th>\n",
       "      <td>0.410226</td>\n",
       "      <td>0.580134</td>\n",
       "      <td>0.411832</td>\n",
       "      <td>0.556362</td>\n",
       "      <td>0.430599</td>\n",
       "      <td>0.534056</td>\n",
       "      <td>0.556728</td>\n",
       "      <td>0.550116</td>\n",
       "    </tr>\n",
       "    <tr>\n",
       "      <th>SI</th>\n",
       "      <td>0.336132</td>\n",
       "      <td>0.548735</td>\n",
       "      <td>0.339134</td>\n",
       "      <td>0.531455</td>\n",
       "      <td>0.360328</td>\n",
       "      <td>0.516171</td>\n",
       "      <td>0.525830</td>\n",
       "      <td>0.547435</td>\n",
       "    </tr>\n",
       "    <tr>\n",
       "      <th>ASI</th>\n",
       "      <td>0.347277</td>\n",
       "      <td>0.141723</td>\n",
       "      <td>0.293538</td>\n",
       "      <td>0.132550</td>\n",
       "      <td>0.292845</td>\n",
       "      <td>0.127176</td>\n",
       "      <td>0.153430</td>\n",
       "      <td>0.125524</td>\n",
       "    </tr>\n",
       "    <tr>\n",
       "      <th>DSI</th>\n",
       "      <td>0.490666</td>\n",
       "      <td>0.803326</td>\n",
       "      <td>0.518545</td>\n",
       "      <td>0.766352</td>\n",
       "      <td>0.530344</td>\n",
       "      <td>0.732998</td>\n",
       "      <td>0.763045</td>\n",
       "      <td>0.753571</td>\n",
       "    </tr>\n",
       "    <tr>\n",
       "      <th>DS_5to75</th>\n",
       "      <td>0.557819</td>\n",
       "      <td>0.745204</td>\n",
       "      <td>0.562377</td>\n",
       "      <td>0.709987</td>\n",
       "      <td>0.546034</td>\n",
       "      <td>0.675397</td>\n",
       "      <td>0.709521</td>\n",
       "      <td>0.687327</td>\n",
       "    </tr>\n",
       "    <tr>\n",
       "      <th>DS_5to95</th>\n",
       "      <td>0.561355</td>\n",
       "      <td>0.794639</td>\n",
       "      <td>0.574852</td>\n",
       "      <td>0.754063</td>\n",
       "      <td>0.558264</td>\n",
       "      <td>0.715898</td>\n",
       "      <td>0.753826</td>\n",
       "      <td>0.731290</td>\n",
       "    </tr>\n",
       "  </tbody>\n",
       "</table>\n",
       "</div>"
      ],
      "text/plain": [
       "          1st Story             2nd Story             3rd Story             \\\n",
       "         SDR_RotD50 PFA_RotD50 SDR_RotD50 PFA_RotD50 SDR_RotD50 PFA_RotD50   \n",
       "IM                                                                           \n",
       "SaT1       0.300520   0.260847   0.252916   0.242626   0.276599   0.239476   \n",
       "PGA        0.341490   0.177703   0.291382   0.193897   0.290126   0.201391   \n",
       "PGV        0.363558   0.576633   0.367859   0.556707   0.386974   0.539088   \n",
       "Sa_avg     0.295634   0.197126   0.244359   0.199283   0.259547   0.205836   \n",
       "CAV        0.410226   0.580134   0.411832   0.556362   0.430599   0.534056   \n",
       "SI         0.336132   0.548735   0.339134   0.531455   0.360328   0.516171   \n",
       "ASI        0.347277   0.141723   0.293538   0.132550   0.292845   0.127176   \n",
       "DSI        0.490666   0.803326   0.518545   0.766352   0.530344   0.732998   \n",
       "DS_5to75   0.557819   0.745204   0.562377   0.709987   0.546034   0.675397   \n",
       "DS_5to95   0.561355   0.794639   0.574852   0.754063   0.558264   0.715898   \n",
       "\n",
       "          4th Story             \n",
       "         SDR_RotD50 PFA_RotD50  \n",
       "IM                              \n",
       "SaT1       0.233848   0.268485  \n",
       "PGA        0.215546   0.219241  \n",
       "PGV        0.557337   0.566574  \n",
       "Sa_avg     0.205881   0.235894  \n",
       "CAV        0.556728   0.550116  \n",
       "SI         0.525830   0.547435  \n",
       "ASI        0.153430   0.125524  \n",
       "DSI        0.763045   0.753571  \n",
       "DS_5to75   0.709521   0.687327  \n",
       "DS_5to95   0.753826   0.731290  "
      ]
     },
     "execution_count": 15,
     "metadata": {},
     "output_type": "execute_result"
    }
   ],
   "source": [
    "s1_48x32_high= SummaryResutls_efficiency(9, gminfo_rotD50, IM_list, pairingID = 1, average_EDP=True, rotate_EDP=True)\n",
    "s1_48x32_high"
   ]
  },
  {
   "cell_type": "code",
   "execution_count": 65,
   "id": "c297f6a9",
   "metadata": {},
   "outputs": [
    {
     "data": {
      "text/html": [
       "<div>\n",
       "<style scoped>\n",
       "    .dataframe tbody tr th:only-of-type {\n",
       "        vertical-align: middle;\n",
       "    }\n",
       "\n",
       "    .dataframe tbody tr th {\n",
       "        vertical-align: top;\n",
       "    }\n",
       "\n",
       "    .dataframe thead tr th {\n",
       "        text-align: left;\n",
       "    }\n",
       "\n",
       "    .dataframe thead tr:last-of-type th {\n",
       "        text-align: right;\n",
       "    }\n",
       "</style>\n",
       "<table border=\"1\" class=\"dataframe\">\n",
       "  <thead>\n",
       "    <tr>\n",
       "      <th></th>\n",
       "      <th colspan=\"8\" halign=\"left\">1st Story</th>\n",
       "    </tr>\n",
       "    <tr>\n",
       "      <th></th>\n",
       "      <th>SDR_X vs M</th>\n",
       "      <th>SDR_Z vs M</th>\n",
       "      <th>PFA_X vs M</th>\n",
       "      <th>PFA_Z vs M</th>\n",
       "      <th>SDR_X vs R</th>\n",
       "      <th>SDR_Z vs R</th>\n",
       "      <th>PFA_X vs R</th>\n",
       "      <th>PFA_Z vs R</th>\n",
       "    </tr>\n",
       "    <tr>\n",
       "      <th>IM</th>\n",
       "      <th></th>\n",
       "      <th></th>\n",
       "      <th></th>\n",
       "      <th></th>\n",
       "      <th></th>\n",
       "      <th></th>\n",
       "      <th></th>\n",
       "      <th></th>\n",
       "    </tr>\n",
       "  </thead>\n",
       "  <tbody>\n",
       "    <tr>\n",
       "      <th>SaT1</th>\n",
       "      <td>NO(0.0002)</td>\n",
       "      <td>NO(0.0003)</td>\n",
       "      <td>NO(0.0011)</td>\n",
       "      <td>NO(0.0011)</td>\n",
       "      <td>NO(0.0)</td>\n",
       "      <td>NO(0.0)</td>\n",
       "      <td>NO(0.0007)</td>\n",
       "      <td>NO(0.0)</td>\n",
       "    </tr>\n",
       "    <tr>\n",
       "      <th>PGA</th>\n",
       "      <td>NO(0.0)</td>\n",
       "      <td>NO(0.0)</td>\n",
       "      <td>NO(0.0)</td>\n",
       "      <td>NO(0.0)</td>\n",
       "      <td>NO(0.0)</td>\n",
       "      <td>NO(0.0)</td>\n",
       "      <td>YES(0.3537)</td>\n",
       "      <td>YES(0.1306)</td>\n",
       "    </tr>\n",
       "    <tr>\n",
       "      <th>PGV</th>\n",
       "      <td>NO(0.0)</td>\n",
       "      <td>NO(0.0)</td>\n",
       "      <td>NO(0.0)</td>\n",
       "      <td>NO(0.0)</td>\n",
       "      <td>NO(0.0)</td>\n",
       "      <td>NO(0.0)</td>\n",
       "      <td>NO(0.0)</td>\n",
       "      <td>NO(0.0)</td>\n",
       "    </tr>\n",
       "    <tr>\n",
       "      <th>Sa_avg</th>\n",
       "      <td>NO(0.0)</td>\n",
       "      <td>NO(0.0)</td>\n",
       "      <td>NO(0.0)</td>\n",
       "      <td>NO(0.0)</td>\n",
       "      <td>NO(0.0)</td>\n",
       "      <td>NO(0.0)</td>\n",
       "      <td>NO(0.0011)</td>\n",
       "      <td>NO(0.0001)</td>\n",
       "    </tr>\n",
       "    <tr>\n",
       "      <th>CAV</th>\n",
       "      <td>NO(0.0)</td>\n",
       "      <td>NO(0.0)</td>\n",
       "      <td>NO(0.0)</td>\n",
       "      <td>NO(0.0)</td>\n",
       "      <td>NO(0.0)</td>\n",
       "      <td>NO(0.0)</td>\n",
       "      <td>NO(0.0)</td>\n",
       "      <td>NO(0.0)</td>\n",
       "    </tr>\n",
       "    <tr>\n",
       "      <th>SI</th>\n",
       "      <td>NO(0.0)</td>\n",
       "      <td>NO(0.0)</td>\n",
       "      <td>NO(0.0)</td>\n",
       "      <td>NO(0.0)</td>\n",
       "      <td>NO(0.0)</td>\n",
       "      <td>NO(0.0)</td>\n",
       "      <td>NO(0.0)</td>\n",
       "      <td>NO(0.0)</td>\n",
       "    </tr>\n",
       "    <tr>\n",
       "      <th>ASI</th>\n",
       "      <td>NO(0.0)</td>\n",
       "      <td>NO(0.0)</td>\n",
       "      <td>NO(0.0)</td>\n",
       "      <td>NO(0.0)</td>\n",
       "      <td>NO(0.0)</td>\n",
       "      <td>NO(0.0)</td>\n",
       "      <td>YES(0.1521)</td>\n",
       "      <td>NO(0.007)</td>\n",
       "    </tr>\n",
       "    <tr>\n",
       "      <th>DSI</th>\n",
       "      <td>NO(0.0)</td>\n",
       "      <td>NO(0.0)</td>\n",
       "      <td>NO(0.0)</td>\n",
       "      <td>NO(0.0)</td>\n",
       "      <td>NO(0.0)</td>\n",
       "      <td>NO(0.0)</td>\n",
       "      <td>NO(0.0)</td>\n",
       "      <td>NO(0.0)</td>\n",
       "    </tr>\n",
       "    <tr>\n",
       "      <th>DS_5to75</th>\n",
       "      <td>NO(0.0)</td>\n",
       "      <td>NO(0.0)</td>\n",
       "      <td>NO(0.0)</td>\n",
       "      <td>NO(0.0)</td>\n",
       "      <td>NO(0.0)</td>\n",
       "      <td>NO(0.0)</td>\n",
       "      <td>NO(0.0)</td>\n",
       "      <td>NO(0.0)</td>\n",
       "    </tr>\n",
       "    <tr>\n",
       "      <th>DS_5to95</th>\n",
       "      <td>NO(0.0)</td>\n",
       "      <td>NO(0.0)</td>\n",
       "      <td>NO(0.0)</td>\n",
       "      <td>NO(0.0)</td>\n",
       "      <td>NO(0.0)</td>\n",
       "      <td>NO(0.0)</td>\n",
       "      <td>NO(0.0)</td>\n",
       "      <td>NO(0.0)</td>\n",
       "    </tr>\n",
       "  </tbody>\n",
       "</table>\n",
       "</div>"
      ],
      "text/plain": [
       "           1st Story                                                 \\\n",
       "          SDR_X vs M  SDR_Z vs M  PFA_X vs M  PFA_Z vs M SDR_X vs R   \n",
       "IM                                                                    \n",
       "SaT1      NO(0.0002)  NO(0.0003)  NO(0.0011)  NO(0.0011)    NO(0.0)   \n",
       "PGA          NO(0.0)     NO(0.0)     NO(0.0)     NO(0.0)    NO(0.0)   \n",
       "PGV          NO(0.0)     NO(0.0)     NO(0.0)     NO(0.0)    NO(0.0)   \n",
       "Sa_avg       NO(0.0)     NO(0.0)     NO(0.0)     NO(0.0)    NO(0.0)   \n",
       "CAV          NO(0.0)     NO(0.0)     NO(0.0)     NO(0.0)    NO(0.0)   \n",
       "SI           NO(0.0)     NO(0.0)     NO(0.0)     NO(0.0)    NO(0.0)   \n",
       "ASI          NO(0.0)     NO(0.0)     NO(0.0)     NO(0.0)    NO(0.0)   \n",
       "DSI          NO(0.0)     NO(0.0)     NO(0.0)     NO(0.0)    NO(0.0)   \n",
       "DS_5to75     NO(0.0)     NO(0.0)     NO(0.0)     NO(0.0)    NO(0.0)   \n",
       "DS_5to95     NO(0.0)     NO(0.0)     NO(0.0)     NO(0.0)    NO(0.0)   \n",
       "\n",
       "                                               \n",
       "         SDR_Z vs R   PFA_X vs R   PFA_Z vs R  \n",
       "IM                                             \n",
       "SaT1        NO(0.0)   NO(0.0007)      NO(0.0)  \n",
       "PGA         NO(0.0)  YES(0.3537)  YES(0.1306)  \n",
       "PGV         NO(0.0)      NO(0.0)      NO(0.0)  \n",
       "Sa_avg      NO(0.0)   NO(0.0011)   NO(0.0001)  \n",
       "CAV         NO(0.0)      NO(0.0)      NO(0.0)  \n",
       "SI          NO(0.0)      NO(0.0)      NO(0.0)  \n",
       "ASI         NO(0.0)  YES(0.1521)    NO(0.007)  \n",
       "DSI         NO(0.0)      NO(0.0)      NO(0.0)  \n",
       "DS_5to75    NO(0.0)      NO(0.0)      NO(0.0)  \n",
       "DS_5to95    NO(0.0)      NO(0.0)      NO(0.0)  "
      ]
     },
     "execution_count": 65,
     "metadata": {},
     "output_type": "execute_result"
    }
   ],
   "source": [
    "def SummaryResutls_sufficiency(buildingIndex, df_IMs, IMs=['SaT1', 'PGA', 'PGV', 'Sa_avg'],\n",
    "                               pairingID = 1, fit_residual = True, average_EDP = False):\n",
    "    dataDir = os.path.join(baseDir, *['Results', 'IM_study_826GMs', BuildingList[buildingIndex]])\n",
    "    os.chdir(dataDir)\n",
    "    sdr = pd.read_csv('SDR.csv', header = None)\n",
    "    pfa = pd.read_csv('PFA.csv', header = None)\n",
    "    \n",
    "    numStory = int(BuildingList[buildingIndex].split('_')[0][1])\n",
    "    tempdf = []\n",
    "    d = []\n",
    "    keys = ['1st Story', '2nd Story', '3rd Story', '4th Story']\n",
    "    temp_sdr = {}\n",
    "    \n",
    "    if pairingID == 1:\n",
    "        start_index_multiplier = 0\n",
    "        end_index_multiplier = 1\n",
    "    else:\n",
    "        start_index_multiplier = 2\n",
    "        end_index_multiplier = 3\n",
    "    \n",
    "    for i in range(len(IMs)):\n",
    "        if IMs[i] == 'SaT1':\n",
    "            IM = df_IMs['T_%s'%T[buildingIndex]].values\n",
    "        else:\n",
    "            IM = df_IMs[IMs[i]]\n",
    "\n",
    "        for j in range(numStory):\n",
    "                ## geometric average of EDP (in X and Z direction) between pairing ID 1 and 2\n",
    "            if average_EDP: \n",
    "                sdrX = gmean([sdr[3+j].values[0:numGM], sdr[3+j].values[numGM*2:numGM*3]])\n",
    "                pfaX = gmean([pfa[4+j].values[0:numGM], pfa[4+j].values[numGM*2:numGM*3]])\n",
    "                \n",
    "                sdrZ = gmean([sdr[3+j].values[numGM:numGM*2], sdr[3+j].values[numGM*3:numGM*4]])\n",
    "                pfaZ = gmean([pfa[4+j].values[numGM:numGM*2], pfa[4+j].values[numGM*3:numGM*4]])\n",
    "            else:\n",
    "                sdrX = sdr[3+j].values[numGM * start_index_multiplier : numGM * end_index_multiplier]\n",
    "                sdrZ = sdr[3+j].values[numGM * end_index_multiplier : numGM * (end_index_multiplier + 1)]\n",
    "\n",
    "                pfaX = pfa[4+j].values[numGM * start_index_multiplier : numGM * end_index_multiplier]\n",
    "                pfaZ = pfa[4+j].values[numGM * end_index_multiplier : numGM * (end_index_multiplier + 1)]\n",
    "            \n",
    "            residuals_sdrX = OLS(sdrX, IM).result.resid\n",
    "            residuals_sdrZ = OLS(sdrZ, IM).result.resid\n",
    "            residuals_pfaX = OLS(pfaX, IM).result.resid\n",
    "            residuals_pfaZ = OLS(pfaZ, IM).result.resid\n",
    "            \n",
    "            if fit_residual:\n",
    "                suff_sdrX = Sufficiency(residuals_sdrX, np.log(IM),\n",
    "                                    df_IMs['Distance_Rjb'].values, df_IMs['Magnitude'].values)\n",
    "                suff_sdrZ = Sufficiency(residuals_sdrZ, np.log(IM),\n",
    "                                        df_IMs['Distance_Rjb'].values, df_IMs['Magnitude'].values)\n",
    "                suff_pfaX = Sufficiency(residuals_pfaX, np.log(IM),\n",
    "                                        df_IMs['Distance_Rjb'].values, df_IMs['Magnitude'].values)\n",
    "                suff_pfaZ = Sufficiency(residuals_pfaZ, np.log(IM),\n",
    "                                        df_IMs['Distance_Rjb'].values, df_IMs['Magnitude'].values)\n",
    "            else:\n",
    "                suff_sdrX = Sufficiency(np.log(sdrX), np.log(IM),\n",
    "                                        df_IMs['Distance_Rjb'].values, df_IMs['Magnitude'].values)\n",
    "                suff_sdrZ = Sufficiency(np.log(sdrZ), np.log(IM),\n",
    "                                        df_IMs['Distance_Rjb'].values, df_IMs['Magnitude'].values)\n",
    "                suff_pfaX = Sufficiency(np.log(pfaX), np.log(IM),\n",
    "                                        df_IMs['Distance_Rjb'].values, df_IMs['Magnitude'].values)\n",
    "                suff_pfaZ = Sufficiency(np.log(pfaZ), np.log(IM),\n",
    "                                        df_IMs['Distance_Rjb'].values, df_IMs['Magnitude'].values)\n",
    "            #### sufficiency against R\n",
    "            p_sdrX_R = np.round(suff_sdrX.sufficiency_against_R(), 4)\n",
    "            p_sdrZ_R = np.round(suff_sdrZ.sufficiency_against_R(), 4)\n",
    "            p_pfaX_R = np.round(suff_pfaX.sufficiency_against_R(), 4)\n",
    "            p_pfaZ_R = np.round(suff_pfaZ.sufficiency_against_R(), 4)\n",
    "            #### sufficiency against M \n",
    "            p_sdrX_M = np.round(suff_sdrX.sufficiency_against_M(), 4)\n",
    "            p_sdrZ_M = np.round(suff_sdrZ.sufficiency_against_M(), 4)\n",
    "            p_pfaX_M = np.round(suff_pfaX.sufficiency_against_M(), 4)\n",
    "            p_pfaZ_M = np.round(suff_pfaZ.sufficiency_against_M(), 4)\n",
    "            #### sufficiency against R and M\n",
    "#             p_sdrX_M_and_R = np.round(suff_sdrX.sufficiency_against_M_and_R(), 4)\n",
    "#             p_sdrZ_M_and_R = np.round(suff_sdrZ.sufficiency_against_M_and_R(), 4)\n",
    "#             p_pfaX_M_and_R = np.round(suff_pfaX.sufficiency_against_M_and_R(), 4)\n",
    "#             p_pfaZ_M_and_R = np.round(suff_pfaZ.sufficiency_against_M_and_R(), 4)\n",
    "#             print(p_pfaZ_M,p_sdrX_M_and_R)\n",
    "            temp_sdr[keys[j]] = {'SDR_X vs M':'YES(%s)'%p_sdrX_M if p_sdrX_M >= 0.05 else 'NO(%s)'%p_sdrX_M,\n",
    "                                 'SDR_Z vs M':'YES(%s)'%p_sdrZ_M if p_sdrZ_M >= 0.05 else 'NO(%s)'%p_sdrZ_M,\n",
    "                                 'PFA_X vs M':'YES(%s)'%p_pfaX_M if p_pfaX_M >= 0.05 else 'NO(%s)'%p_pfaX_M,\n",
    "                                 'PFA_Z vs M':'YES(%s)'%p_pfaZ_M if p_pfaZ_M >= 0.05 else 'NO(%s)'%p_pfaZ_M,\n",
    "                                 'SDR_X vs R':'YES(%s)'%p_sdrX_R if p_sdrX_R >= 0.05 else 'NO(%s)'%p_sdrX_R,\n",
    "                                 'SDR_Z vs R':'YES(%s)'%p_sdrZ_R if p_sdrZ_R >= 0.05 else 'NO(%s)'%p_sdrZ_R,\n",
    "                                 'PFA_X vs R':'YES(%s)'%p_pfaX_R if p_pfaX_R >= 0.05 else 'NO(%s)'%p_pfaX_R,\n",
    "                                 'PFA_Z vs R':'YES(%s)'%p_pfaZ_R if p_pfaZ_R >= 0.05 else 'NO(%s)'%p_pfaZ_R,\n",
    "#                                  'SDR_X vs M & R':'YES(%s)'%p_sdrX_M_and_R if p_sdrX_M_and_R >= 0.05 else 'NO(%s)'%p_sdrX_M_and_R,\n",
    "#                                  'SDR_Z vs M & R':'YES(%s)'%p_sdrZ_M_and_R if p_sdrZ_M_and_R >= 0.05 else 'NO(%s)'%p_sdrZ_M_and_R,\n",
    "#                                  'PFA_X vs M & R':'YES(%s)'%p_pfaX_M_and_R if p_pfaX_M_and_R >= 0.05 else 'NO(%s)'%p_pfaX_M_and_R,\n",
    "#                                  'PFA_Z vs M & R':'YES(%s)'%p_pfaZ_M_and_R if p_pfaZ_M_and_R >= 0.05 else 'NO(%s)'%p_pfaZ_M_and_R\n",
    "                                 \n",
    "                                }\n",
    "        reform = {(outerKey, innerKey): values for outerKey, innerDict in temp_sdr.items() for innerKey, values in innerDict.items()}\n",
    "        df = pd.DataFrame.from_dict(reform, orient='index').transpose()\n",
    "        df.columns = pd.MultiIndex.from_tuples(df.columns)\n",
    "        df['IM'] = IMs[i]\n",
    "        df = df.set_index('IM')\n",
    "        tempdf.append(df)\n",
    "\n",
    "    return pd.concat(tempdf)\n",
    "IM_list = ['SaT1', 'PGA', 'PGV', 'Sa_avg', 'CAV', 'SI', 'ASI', 'DSI','DS_5to75', 'DS_5to95' ]\n",
    "s1_48x32_high= SummaryResutls_sufficiency(2, gminfo_rotD50, IM_list, pairingID = 1, fit_residual=False)\n",
    "s1_48x32_high"
   ]
  },
  {
   "cell_type": "code",
   "execution_count": 20,
   "id": "51626ad8",
   "metadata": {},
   "outputs": [],
   "source": [
    "# s4_96x48_veryhigh= SummaryResutls_sufficiency(9, gminfo_rotD50, IM_list, fit_residual=True, average_EDP=True)\n",
    "# s4_96x48_veryhigh.T"
   ]
  },
  {
   "cell_type": "code",
   "execution_count": 25,
   "id": "2e2d12ea",
   "metadata": {},
   "outputs": [],
   "source": [
    "from scipy.stats import chi2_contingency\n",
    "\n",
    "def calc_MI(x, y, bins):\n",
    "    '''\n",
    "    Calculates mutual information\n",
    "    '''\n",
    "    c_xy = np.histogram2d(x, y, bins)[0]\n",
    "    g, p, dof, expected = chi2_contingency(c_xy, lambda_=\"log-likelihood\", correction=False)\n",
    "    mi = 0.5 * g / c_xy.sum()\n",
    "    return mi"
   ]
  },
  {
   "cell_type": "code",
   "execution_count": 67,
   "id": "e2cb11d4",
   "metadata": {},
   "outputs": [
    {
     "data": {
      "text/plain": [
       "2.86097841481566"
      ]
     },
     "execution_count": 67,
     "metadata": {},
     "output_type": "execute_result"
    }
   ],
   "source": [
    "calc_MI(np.log(df_comb1['SaT1'].values), np.log(df_comb1['SaT1'].values), bins = 23)"
   ]
  },
  {
   "cell_type": "code",
   "execution_count": 36,
   "id": "73fd017c",
   "metadata": {},
   "outputs": [
    {
     "data": {
      "text/plain": [
       "2.387067746938215"
      ]
     },
     "execution_count": 36,
     "metadata": {},
     "output_type": "execute_result"
    }
   ],
   "source": [
    "calc_MI(np.log(df_comb1['story_1_sdrX'].values), np.log(df_comb1['story_1_sdrX'].values), bins = 16)"
   ]
  },
  {
   "cell_type": "code",
   "execution_count": 85,
   "id": "3f65df39",
   "metadata": {},
   "outputs": [
    {
     "data": {
      "text/plain": [
       "0.5951640611212174"
      ]
     },
     "execution_count": 85,
     "metadata": {},
     "output_type": "execute_result"
    }
   ],
   "source": [
    "calc_MI(np.log(df_comb1['story_1_sdrX'].values), np.log(df_comb1['Distance_Rjb'].values), bins = 13)"
   ]
  },
  {
   "cell_type": "code",
   "execution_count": 92,
   "id": "a5b35617",
   "metadata": {},
   "outputs": [
    {
     "data": {
      "text/plain": [
       "1.801746785568513"
      ]
     },
     "execution_count": 92,
     "metadata": {},
     "output_type": "execute_result"
    }
   ],
   "source": [
    "calc_MI(np.log(df_comb1['Distance_Rjb'].values), np.log(df_comb1['Distance_Rjb'].values), bins = 13)"
   ]
  },
  {
   "cell_type": "code",
   "execution_count": 82,
   "id": "cff4044a",
   "metadata": {},
   "outputs": [
    {
     "data": {
      "text/plain": [
       "0.2731504363498451"
      ]
     },
     "execution_count": 82,
     "metadata": {},
     "output_type": "execute_result"
    }
   ],
   "source": [
    "calc_MI(np.log(df_comb1['SaT1'].values), df_comb1['Magnitude'].values, bins = 15)"
   ]
  },
  {
   "cell_type": "code",
   "execution_count": 95,
   "id": "a5147119",
   "metadata": {},
   "outputs": [
    {
     "data": {
      "text/plain": [
       "0.24713927993779908"
      ]
     },
     "execution_count": 95,
     "metadata": {},
     "output_type": "execute_result"
    }
   ],
   "source": [
    "calc_MI(np.log(df_comb1['Distance_Rjb'].values), df_comb1['Magnitude'].values, bins = 13)"
   ]
  },
  {
   "cell_type": "code",
   "execution_count": 88,
   "id": "e4faa2fa",
   "metadata": {},
   "outputs": [
    {
     "data": {
      "text/plain": [
       "2.2417363405451156"
      ]
     },
     "execution_count": 88,
     "metadata": {},
     "output_type": "execute_result"
    }
   ],
   "source": [
    "calc_MI(df_comb1['Magnitude'].values, df_comb1['Magnitude'].values, bins = 15)"
   ]
  },
  {
   "cell_type": "code",
   "execution_count": null,
   "id": "169e2a1f",
   "metadata": {},
   "outputs": [],
   "source": []
  },
  {
   "cell_type": "code",
   "execution_count": null,
   "id": "97bc2ebc",
   "metadata": {},
   "outputs": [],
   "source": []
  },
  {
   "cell_type": "code",
   "execution_count": null,
   "id": "bf1d0a49",
   "metadata": {},
   "outputs": [],
   "source": [
    "calc_MI(df_comb1.loc[:,'story_1_sdrX'].values, df_comb1.loc[:,'story_1_sdrX'].values, 5)"
   ]
  },
  {
   "cell_type": "code",
   "execution_count": null,
   "id": "433b9b10",
   "metadata": {},
   "outputs": [],
   "source": [
    "0.5 * -np.log(1-0.96**2)"
   ]
  },
  {
   "cell_type": "code",
   "execution_count": null,
   "id": "8d77766f",
   "metadata": {},
   "outputs": [],
   "source": [
    "0.5 * -np.log(1-0.77**2)"
   ]
  },
  {
   "cell_type": "code",
   "execution_count": 39,
   "id": "19a6fbce",
   "metadata": {},
   "outputs": [
    {
     "data": {
      "text/plain": [
       "3.1075541117319436"
      ]
     },
     "execution_count": 39,
     "metadata": {},
     "output_type": "execute_result"
    }
   ],
   "source": [
    "0.5 * -np.log(1-0.999**2)"
   ]
  },
  {
   "cell_type": "code",
   "execution_count": null,
   "id": "d3e015a2",
   "metadata": {},
   "outputs": [],
   "source": [
    "calc_MI(df_comb1.loc[:,'story_2_pfaZ'].values, df_comb1.loc[:,'story_1_sdrX'].values, 5)"
   ]
  },
  {
   "cell_type": "code",
   "execution_count": null,
   "id": "fb867c7c",
   "metadata": {},
   "outputs": [],
   "source": [
    "for ii in range(len(BuildingList)):\n",
    "    save_data_for_R(ii, gminfo_rotD50, IM_list, pairingID=1, average_EDP=True, rotate_EDP=True)"
   ]
  },
  {
   "cell_type": "code",
   "execution_count": null,
   "id": "00f492ee",
   "metadata": {},
   "outputs": [],
   "source": [
    "s2_48x32_high= SummaryResutls_efficiency(4, ['SaT1', 'PGA', 'PGV'])\n",
    "s2_48x32_high"
   ]
  },
  {
   "cell_type": "code",
   "execution_count": null,
   "id": "84ed9329",
   "metadata": {},
   "outputs": [],
   "source": [
    "s4_96x48_high= SummaryResutls_efficiency(8, ['SaT1', 'PGA', 'PGV', 'Sa_avg'])\n",
    "s4_96x48_high"
   ]
  },
  {
   "cell_type": "code",
   "execution_count": null,
   "id": "40434e7d",
   "metadata": {},
   "outputs": [],
   "source": [
    "s4_96x48_veryhigh= SummaryResutls_efficiency(9, ['SaT1', 'PGA', 'PGV', 'Sa_avg'])\n",
    "s4_96x48_veryhigh"
   ]
  },
  {
   "cell_type": "markdown",
   "id": "b6fa9c06",
   "metadata": {},
   "source": [
    "Combining all the data efficiency into a big data frame."
   ]
  },
  {
   "cell_type": "code",
   "execution_count": null,
   "id": "59b30f5e",
   "metadata": {},
   "outputs": [],
   "source": [
    "d = []\n",
    "for i in range(len(BuildingList)):\n",
    "    d.append(SummaryResutls_efficiency(i, ['SaT1', 'PGA', 'PGV', 'Sa_avg', 'CAV']))\n",
    "\n",
    "finaldf = pd.concat(d, keys = BuildingList)\n",
    "finaldf.head(50)"
   ]
  },
  {
   "cell_type": "markdown",
   "id": "b2c87f2d",
   "metadata": {},
   "source": [
    "## Debugging"
   ]
  },
  {
   "cell_type": "code",
   "execution_count": 21,
   "id": "aaa3e0b1",
   "metadata": {},
   "outputs": [],
   "source": [
    "def compute_RotDxx_EDP(edpX, edpZ, percentile = 50):\n",
    "    angles = np.arange(0, 180, step=1)\n",
    "    radians = np.radians(angles)\n",
    "    coeffs = np.c_[np.cos(radians), np.sin(radians)]\n",
    "    \n",
    "    edp_stacked = np.vstack([edpX, edpZ])\n",
    "    rotated_edp = np.dot(coeffs, edp_stacked)\n",
    "    percentile_edp = np.percentile(rotated_edp, q = percentile, axis = 0, interpolation='linear')\n",
    "    return percentile_edp"
   ]
  },
  {
   "cell_type": "code",
   "execution_count": 95,
   "id": "d8b35cd1",
   "metadata": {},
   "outputs": [
    {
     "name": "stdout",
     "output_type": "stream",
     "text": [
      "(826,)\n"
     ]
    }
   ],
   "source": [
    "buildingIndex = 9\n",
    "pairingID = 1\n",
    "IMs = 'SaT1'\n",
    "numGM = 826\n",
    "\n",
    "if pairingID == 1:\n",
    "    start_index_multiplier = 0\n",
    "    end_index_multiplier = 1\n",
    "else:\n",
    "    start_index_multiplier = 2\n",
    "    end_index_multiplier = 3\n",
    "\n",
    "if IMs == 'SaT1':\n",
    "    IM = gminfo_rotD50['T_%s'%T[buildingIndex]].values\n",
    "else:\n",
    "    IM = gminfo_rotD50[IMs]\n",
    "    \n",
    "baseDir = r'/Users/laxmandahal/Desktop/UCLA/Phd/Research/IM_study'\n",
    "dataDir = os.path.join(baseDir, *['Results', 'IM_study_826GMs', BuildingList[buildingIndex]])\n",
    "\n",
    "os.chdir(dataDir)\n",
    "sdr = pd.read_csv('SDR.csv', header = None)\n",
    "pfa = pd.read_csv('PFA.csv', header = None)\n",
    "\n",
    "#story index\n",
    "i = 0\n",
    "j = 0\n",
    "sdrX = sdr[3+i].values[numGM * start_index_multiplier : numGM * end_index_multiplier]\n",
    "sdrZ = sdr[3+i].values[numGM * end_index_multiplier : numGM * (end_index_multiplier + 1)]\n",
    "\n",
    "pfaX = pfa[4+i].values[numGM * start_index_multiplier : numGM * end_index_multiplier]\n",
    "pfaZ = pfa[4+i].values[numGM * end_index_multiplier : numGM * (end_index_multiplier + 1)]\n",
    "\n",
    "sdr_rotd50 = compute_RotDxx_EDP(sdrX, sdrZ, percentile=50)\n",
    "pfa_rotd50 = compute_RotDxx_EDP(pfaX, pfaZ, percentile=50)\n",
    "X = sm.add_constant(np.log(IM))\n",
    "\n",
    "sdrX_avg = gmean([sdr[3+j].values[0:numGM], sdr[3+j].values[numGM*2:numGM*3]])\n",
    "pfaX_avg = gmean([pfa[3+j].values[0:numGM], pfa[3+j].values[numGM*2:numGM*3]])\n",
    "\n",
    "sdrZ_avg = gmean([sdr[3+j].values[numGM:numGM*2], sdr[3+j].values[numGM*3:numGM*4]])\n",
    "pfaZ_avg = gmean([pfa[3+j].values[numGM:numGM*2], pfa[3+j].values[numGM*3:numGM*4]])\n",
    "print(pfaZ_avg.shape)\n",
    "#                 compute_RotDxx_EDP(sdrX, sdrZ, percentile=50)\n",
    "#                 pfa_rotD50 = compute_RotDxx_EDP(pfaX, pfaZ, percentile=50)\n",
    "ols_sdrX = OLS(sdrX_avg, IM)\n",
    "ols_sdrZ = OLS(sdrZ_avg, IM)\n",
    "ols_pfaX = OLS(pfaX_avg, IM)\n",
    "ols_pfaZ = OLS(pfaZ_avg, IM)"
   ]
  },
  {
   "cell_type": "code",
   "execution_count": 36,
   "id": "9a47fb71",
   "metadata": {},
   "outputs": [],
   "source": [
    "from scipy.stats import chi2_contingency\n",
    "\n",
    "def calc_MI(x, y, bins):\n",
    "    '''\n",
    "    Calculates mutual information\n",
    "    '''\n",
    "    c_xy = np.histogram2d(x, y, bins)[0]\n",
    "    g, p, dof, expected = chi2_contingency(c_xy, lambda_=\"log-likelihood\", correction=False)\n",
    "    mi = 0.5 * g / c_xy.sum()\n",
    "    return mi"
   ]
  },
  {
   "cell_type": "code",
   "execution_count": null,
   "id": "191de13e",
   "metadata": {},
   "outputs": [],
   "source": [
    "calc_MI(gminfo_rotD50['Magnitude'].values, ols_pfaX.result.resid, bins = 8)"
   ]
  },
  {
   "cell_type": "code",
   "execution_count": null,
   "id": "ff8f5727",
   "metadata": {},
   "outputs": [],
   "source": [
    "calc_MI(gminfo_rotD50['Distance_Rjb'].values, ols_pfaX.result.resid, bins=8)"
   ]
  },
  {
   "cell_type": "code",
   "execution_count": null,
   "id": "545f7095",
   "metadata": {},
   "outputs": [],
   "source": [
    "calc_MI(gminfo_rotD50['Distance_Rjb'].values, gminfo_rotD50['Magnitude'].values, bins=15)"
   ]
  },
  {
   "cell_type": "code",
   "execution_count": null,
   "id": "4fe450bc",
   "metadata": {},
   "outputs": [],
   "source": [
    "calc_MI(IM, gminfo_rotD50['Magnitude'].values, bins=8)"
   ]
  },
  {
   "cell_type": "code",
   "execution_count": null,
   "id": "aab2c720",
   "metadata": {},
   "outputs": [],
   "source": [
    "calc_MI(IM, gminfo_rotD50['Distance_Rjb'].values, bins=8)"
   ]
  },
  {
   "cell_type": "code",
   "execution_count": null,
   "id": "574773e6",
   "metadata": {},
   "outputs": [],
   "source": [
    "calc_MI(IM, sdrZ_avg, bins=6)"
   ]
  },
  {
   "cell_type": "code",
   "execution_count": null,
   "id": "c3c356e2",
   "metadata": {},
   "outputs": [],
   "source": [
    "calc_MI(np.log(sdrZ_avg), np.log(sdrZ_avg), bins=14)"
   ]
  },
  {
   "cell_type": "code",
   "execution_count": null,
   "id": "7f9b2830",
   "metadata": {},
   "outputs": [],
   "source": [
    "calc_MI(IM, IM, bins=8)"
   ]
  },
  {
   "cell_type": "code",
   "execution_count": null,
   "id": "6a5af757",
   "metadata": {},
   "outputs": [],
   "source": [
    "pfa.shape"
   ]
  },
  {
   "cell_type": "code",
   "execution_count": null,
   "id": "04000693",
   "metadata": {},
   "outputs": [],
   "source": [
    "sdrgmean = gmean([sdrX, sdrZ])\n",
    "sdr.shape"
   ]
  },
  {
   "cell_type": "code",
   "execution_count": null,
   "id": "c7986733",
   "metadata": {},
   "outputs": [],
   "source": [
    "np.exp(np.mean([np.log(sdrX[0]), np.log(sdrZ[0])]))"
   ]
  },
  {
   "cell_type": "code",
   "execution_count": null,
   "id": "008e65ff",
   "metadata": {},
   "outputs": [],
   "source": [
    "np.sqrt(sdrX[0]**2 + sdrZ[0]**2)"
   ]
  },
  {
   "cell_type": "code",
   "execution_count": null,
   "id": "4395efa0",
   "metadata": {},
   "outputs": [],
   "source": [
    "angles = np.arange(0, 180, step=1)\n",
    "radians = np.radians(angles)\n",
    "coeffs = np.c_[np.cos(radians), np.sin(radians)]\n",
    "sdr_stacked = np.vstack([sdrX, sdrZ])\n",
    "rotated_sdr = np.dot(coeffs, sdr_stacked)"
   ]
  },
  {
   "cell_type": "code",
   "execution_count": null,
   "id": "5624f3bc",
   "metadata": {},
   "outputs": [],
   "source": [
    "percentile_sdr = np.percentile(rotated_sdr, 50, axis = 0, interpolation='linear')\n",
    "percentile_sdr.shape"
   ]
  },
  {
   "cell_type": "code",
   "execution_count": null,
   "id": "601283ee",
   "metadata": {},
   "outputs": [],
   "source": [
    "np.median(rotated_sdr)"
   ]
  },
  {
   "cell_type": "code",
   "execution_count": null,
   "id": "acd238dc",
   "metadata": {},
   "outputs": [],
   "source": [
    "testEff = OLS(sdrX, IM)\n",
    "np.std(testEff.result.resid)"
   ]
  },
  {
   "cell_type": "code",
   "execution_count": null,
   "id": "870be8cd",
   "metadata": {},
   "outputs": [],
   "source": [
    "testEff = OLS(sdr, IM)\n",
    "np.std(testEff.result.resid)\n"
   ]
  },
  {
   "cell_type": "code",
   "execution_count": null,
   "id": "98fb66b1",
   "metadata": {},
   "outputs": [],
   "source": [
    "# testSuff = sm.OLS(testEff.result.resid, sm.add_constant(np.log(gminfo_rotD50['Distance_Rjb'])))\n",
    "testSuff = sm.OLS(testEff.result.resid, sm.add_constant(np.log(gminfo_rotD50['Magnitude'])))\n",
    "\n",
    "testSuff.fit().summary()\n"
   ]
  },
  {
   "cell_type": "code",
   "execution_count": null,
   "id": "c050bca4",
   "metadata": {},
   "outputs": [],
   "source": [
    "testSuff.fit().pvalues\n"
   ]
  },
  {
   "cell_type": "code",
   "execution_count": 96,
   "id": "3d21619b",
   "metadata": {},
   "outputs": [],
   "source": [
    "epsilon_onlyIM = ols_sdrX.result.resid"
   ]
  },
  {
   "cell_type": "code",
   "execution_count": 97,
   "id": "b2f3d5ee",
   "metadata": {},
   "outputs": [
    {
     "data": {
      "text/html": [
       "<table class=\"simpletable\">\n",
       "<caption>OLS Regression Results</caption>\n",
       "<tr>\n",
       "  <th>Dep. Variable:</th>          <td>lnEDP</td>      <th>  R-squared:         </th> <td>   0.697</td> \n",
       "</tr>\n",
       "<tr>\n",
       "  <th>Model:</th>                   <td>OLS</td>       <th>  Adj. R-squared:    </th> <td>   0.697</td> \n",
       "</tr>\n",
       "<tr>\n",
       "  <th>Method:</th>             <td>Least Squares</td>  <th>  F-statistic:       </th> <td>   948.5</td> \n",
       "</tr>\n",
       "<tr>\n",
       "  <th>Date:</th>             <td>Fri, 23 Sep 2022</td> <th>  Prob (F-statistic):</th> <td>2.28e-214</td>\n",
       "</tr>\n",
       "<tr>\n",
       "  <th>Time:</th>                 <td>15:43:52</td>     <th>  Log-Likelihood:    </th> <td> -291.27</td> \n",
       "</tr>\n",
       "<tr>\n",
       "  <th>No. Observations:</th>      <td>   826</td>      <th>  AIC:               </th> <td>   588.5</td> \n",
       "</tr>\n",
       "<tr>\n",
       "  <th>Df Residuals:</th>          <td>   823</td>      <th>  BIC:               </th> <td>   602.7</td> \n",
       "</tr>\n",
       "<tr>\n",
       "  <th>Df Model:</th>              <td>     2</td>      <th>                     </th>     <td> </td>    \n",
       "</tr>\n",
       "<tr>\n",
       "  <th>Covariance Type:</th>      <td>nonrobust</td>    <th>                     </th>     <td> </td>    \n",
       "</tr>\n",
       "</table>\n",
       "<table class=\"simpletable\">\n",
       "<tr>\n",
       "      <td></td>         <th>coef</th>     <th>std err</th>      <th>t</th>      <th>P>|t|</th>  <th>[0.025</th>    <th>0.975]</th>  \n",
       "</tr>\n",
       "<tr>\n",
       "  <th>Intercept</th> <td>   -9.0981</td> <td>    0.153</td> <td>  -59.652</td> <td> 0.000</td> <td>   -9.398</td> <td>   -8.799</td>\n",
       "</tr>\n",
       "<tr>\n",
       "  <th>lnSaT1</th>    <td>    0.5063</td> <td>    0.012</td> <td>   42.206</td> <td> 0.000</td> <td>    0.483</td> <td>    0.530</td>\n",
       "</tr>\n",
       "<tr>\n",
       "  <th>M</th>         <td>    0.1121</td> <td>    0.022</td> <td>    5.174</td> <td> 0.000</td> <td>    0.070</td> <td>    0.155</td>\n",
       "</tr>\n",
       "</table>\n",
       "<table class=\"simpletable\">\n",
       "<tr>\n",
       "  <th>Omnibus:</th>       <td>700.374</td> <th>  Durbin-Watson:     </th> <td>   1.883</td> \n",
       "</tr>\n",
       "<tr>\n",
       "  <th>Prob(Omnibus):</th> <td> 0.000</td>  <th>  Jarque-Bera (JB):  </th> <td>29665.313</td>\n",
       "</tr>\n",
       "<tr>\n",
       "  <th>Skew:</th>          <td> 3.561</td>  <th>  Prob(JB):          </th> <td>    0.00</td> \n",
       "</tr>\n",
       "<tr>\n",
       "  <th>Kurtosis:</th>      <td>31.482</td>  <th>  Cond. No.          </th> <td>    110.</td> \n",
       "</tr>\n",
       "</table><br/><br/>Notes:<br/>[1] Standard Errors assume that the covariance matrix of the errors is correctly specified."
      ],
      "text/plain": [
       "<class 'statsmodels.iolib.summary.Summary'>\n",
       "\"\"\"\n",
       "                            OLS Regression Results                            \n",
       "==============================================================================\n",
       "Dep. Variable:                  lnEDP   R-squared:                       0.697\n",
       "Model:                            OLS   Adj. R-squared:                  0.697\n",
       "Method:                 Least Squares   F-statistic:                     948.5\n",
       "Date:                Fri, 23 Sep 2022   Prob (F-statistic):          2.28e-214\n",
       "Time:                        15:43:52   Log-Likelihood:                -291.27\n",
       "No. Observations:                 826   AIC:                             588.5\n",
       "Df Residuals:                     823   BIC:                             602.7\n",
       "Df Model:                           2                                         \n",
       "Covariance Type:            nonrobust                                         \n",
       "==============================================================================\n",
       "                 coef    std err          t      P>|t|      [0.025      0.975]\n",
       "------------------------------------------------------------------------------\n",
       "Intercept     -9.0981      0.153    -59.652      0.000      -9.398      -8.799\n",
       "lnSaT1         0.5063      0.012     42.206      0.000       0.483       0.530\n",
       "M              0.1121      0.022      5.174      0.000       0.070       0.155\n",
       "==============================================================================\n",
       "Omnibus:                      700.374   Durbin-Watson:                   1.883\n",
       "Prob(Omnibus):                  0.000   Jarque-Bera (JB):            29665.313\n",
       "Skew:                           3.561   Prob(JB):                         0.00\n",
       "Kurtosis:                      31.482   Cond. No.                         110.\n",
       "==============================================================================\n",
       "\n",
       "Notes:\n",
       "[1] Standard Errors assume that the covariance matrix of the errors is correctly specified.\n",
       "\"\"\""
      ]
     },
     "execution_count": 97,
     "metadata": {},
     "output_type": "execute_result"
    }
   ],
   "source": [
    "##### Using residual from efficiency to compute sufficiency instead of direct linear model\n",
    "\n",
    "temp = {'I': np.ones(shape = int(numGM)),\n",
    "        'lnEDP': np.log(sdrX),\n",
    "        'lnSaT1': np.log(IM),\n",
    "        'M': gminfo_rotD50['Magnitude'].values}\n",
    "dummydf = pd.DataFrame(temp, index = None)\n",
    "model = smf.ols('lnEDP ~ lnSaT1 + M', data = dummydf)\n",
    "model_res = model.fit()\n",
    "model_res.summary()"
   ]
  },
  {
   "cell_type": "code",
   "execution_count": 98,
   "id": "0a8cf839",
   "metadata": {},
   "outputs": [],
   "source": [
    "epsilon_onlyIM_M = model_res.resid"
   ]
  },
  {
   "cell_type": "code",
   "execution_count": 99,
   "id": "329a15f4",
   "metadata": {},
   "outputs": [],
   "source": [
    "temp = {'I': np.ones(shape = int(numGM)),\n",
    "        'lnEDP': np.log(sdrX),\n",
    "        'lnSaT1': np.log(IM),\n",
    "        'M': gminfo_rotD50['Magnitude'].values,\n",
    "        'lnRjb': np.log(gminfo_rotD50['Distance_Rjb'].values)}\n",
    "dummydf = pd.DataFrame(temp, index = None)\n",
    "model = smf.ols('lnEDP ~ lnSaT1 + M + lnRjb', data = dummydf)\n",
    "model_res = model.fit()"
   ]
  },
  {
   "cell_type": "code",
   "execution_count": 105,
   "id": "ba157226",
   "metadata": {},
   "outputs": [],
   "source": [
    "temp = {'I': np.ones(shape = int(numGM)),\n",
    "        'lnEDP': np.log(sdrX),\n",
    "        'lnSaT1': np.log(IM),\n",
    "        'M': gminfo_rotD50['Magnitude'].values,\n",
    "        'lnRjb': np.log(gminfo_rotD50['Distance_Rjb'].values)}\n",
    "dummydf = pd.DataFrame(temp, index = None)\n",
    "model = smf.ols('lnEDP ~ lnSaT1 + lnRjb', data = dummydf)\n",
    "model_res = model.fit()\n",
    "epsilon_onlyIM_R = model_res.resid"
   ]
  },
  {
   "cell_type": "code",
   "execution_count": 100,
   "id": "f3115e96",
   "metadata": {},
   "outputs": [],
   "source": [
    "epsilon_IM_and_M_andR = model_res.resid\n"
   ]
  },
  {
   "cell_type": "markdown",
   "id": "03bf623a",
   "metadata": {},
   "source": [
    "## KL Divergence\n",
    "\n",
    "using ```scipy.stats.entropy``` because\n",
    "\n",
    "If qk is not None, then compute the Kullback-Leibler divergence S = sum(pk * log(pk / qk), axis=axis).\n",
    "\n",
    "This routine will normalize pk and qk if they don’t sum to 1."
   ]
  },
  {
   "cell_type": "code",
   "execution_count": 101,
   "id": "c3f130b6",
   "metadata": {},
   "outputs": [
    {
     "name": "stdout",
     "output_type": "stream",
     "text": [
      "0.3065601324156886 0.34427439551076744\n"
     ]
    }
   ],
   "source": [
    "print(np.std(epsilon_onlyIM), np.std(epsilon_onlyIM_M))"
   ]
  },
  {
   "cell_type": "code",
   "execution_count": 102,
   "id": "0d74dd20",
   "metadata": {},
   "outputs": [
    {
     "data": {
      "text/plain": [
       "0.012478253832410302"
      ]
     },
     "execution_count": 102,
     "metadata": {},
     "output_type": "execute_result"
    }
   ],
   "source": [
    "sigma1 = np.std(epsilon_onlyIM)\n",
    "sigma2 = np.std(epsilon_onlyIM_M)\n",
    "kld_manual = np.log(sigma2 / sigma1) + sigma1 ** 2 / (2 * sigma2 ** 2) - 0.5\n",
    "kld_manual"
   ]
  },
  {
   "cell_type": "code",
   "execution_count": 106,
   "id": "06c4c28c",
   "metadata": {},
   "outputs": [
    {
     "data": {
      "text/plain": [
       "0.005885370969308856"
      ]
     },
     "execution_count": 106,
     "metadata": {},
     "output_type": "execute_result"
    }
   ],
   "source": [
    "sigma1 = np.std(epsilon_onlyIM)\n",
    "sigma2 = np.std(epsilon_onlyIM_R)\n",
    "kld_manual = np.log(sigma2 / sigma1) + sigma1 ** 2 / (2 * sigma2 ** 2) - 0.5\n",
    "kld_manual"
   ]
  },
  {
   "cell_type": "code",
   "execution_count": 108,
   "id": "f55a6b00",
   "metadata": {},
   "outputs": [
    {
     "data": {
      "text/plain": [
       "0.0065368253749309435"
      ]
     },
     "execution_count": 108,
     "metadata": {},
     "output_type": "execute_result"
    }
   ],
   "source": [
    "sigma2 = np.std(epsilon_onlyIM)\n",
    "sigma1 = np.std(epsilon_onlyIM_R)\n",
    "kld_manual = np.log(sigma2 / sigma1) + sigma1 ** 2 / (2 * sigma2 ** 2) - 0.5\n",
    "kld_manual"
   ]
  },
  {
   "cell_type": "code",
   "execution_count": 103,
   "id": "c3465990",
   "metadata": {},
   "outputs": [
    {
     "data": {
      "text/plain": [
       "0.001014521011153957"
      ]
     },
     "execution_count": 103,
     "metadata": {},
     "output_type": "execute_result"
    }
   ],
   "source": [
    "sigma1 = np.std(epsilon_onlyIM)\n",
    "sigma2 = np.std(epsilon_IM_and_M_andR)\n",
    "kld_manual = np.log(sigma2 / sigma1) + sigma1 ** 2 / (2 * sigma2 ** 2) - 0.5\n",
    "kld_manual"
   ]
  },
  {
   "cell_type": "code",
   "execution_count": 104,
   "id": "a8ebbc00",
   "metadata": {},
   "outputs": [
    {
     "data": {
      "text/plain": [
       "0.007437556595203398"
      ]
     },
     "execution_count": 104,
     "metadata": {},
     "output_type": "execute_result"
    }
   ],
   "source": [
    "sigma1 = np.std(epsilon_onlyIM_M)\n",
    "sigma2 = np.std(epsilon_IM_and_M_andR)\n",
    "kld_manual = np.log(sigma2 / sigma1) + sigma1 ** 2 / (2 * sigma2 ** 2) - 0.5\n",
    "kld_manual"
   ]
  },
  {
   "cell_type": "code",
   "execution_count": 109,
   "id": "30f38ba5",
   "metadata": {},
   "outputs": [
    {
     "data": {
      "text/html": [
       "<div>\n",
       "<style scoped>\n",
       "    .dataframe tbody tr th:only-of-type {\n",
       "        vertical-align: middle;\n",
       "    }\n",
       "\n",
       "    .dataframe tbody tr th {\n",
       "        vertical-align: top;\n",
       "    }\n",
       "\n",
       "    .dataframe thead th {\n",
       "        text-align: right;\n",
       "    }\n",
       "</style>\n",
       "<table border=\"1\" class=\"dataframe\">\n",
       "  <thead>\n",
       "    <tr style=\"text-align: right;\">\n",
       "      <th></th>\n",
       "      <th>PGA</th>\n",
       "      <th>PGV</th>\n",
       "      <th>DS_5to75</th>\n",
       "      <th>DS_5to95</th>\n",
       "      <th>CAV</th>\n",
       "      <th>T_0.01</th>\n",
       "      <th>T_0.02</th>\n",
       "      <th>T_0.03</th>\n",
       "      <th>T_0.04</th>\n",
       "      <th>T_0.05</th>\n",
       "      <th>...</th>\n",
       "      <th>SI</th>\n",
       "      <th>ASI</th>\n",
       "      <th>DSI</th>\n",
       "      <th>Sa_avg</th>\n",
       "      <th>5-75% Duration (sec)_NGA2</th>\n",
       "      <th>5-95% Duration (sec)_NGA2</th>\n",
       "      <th>Magnitude</th>\n",
       "      <th>Distance_Rjb</th>\n",
       "      <th>Distance_rup</th>\n",
       "      <th>Vs_30</th>\n",
       "    </tr>\n",
       "    <tr>\n",
       "      <th>GMID</th>\n",
       "      <th></th>\n",
       "      <th></th>\n",
       "      <th></th>\n",
       "      <th></th>\n",
       "      <th></th>\n",
       "      <th></th>\n",
       "      <th></th>\n",
       "      <th></th>\n",
       "      <th></th>\n",
       "      <th></th>\n",
       "      <th></th>\n",
       "      <th></th>\n",
       "      <th></th>\n",
       "      <th></th>\n",
       "      <th></th>\n",
       "      <th></th>\n",
       "      <th></th>\n",
       "      <th></th>\n",
       "      <th></th>\n",
       "      <th></th>\n",
       "      <th></th>\n",
       "    </tr>\n",
       "  </thead>\n",
       "  <tbody>\n",
       "    <tr>\n",
       "      <th>GM1_RSN9</th>\n",
       "      <td>36.502124</td>\n",
       "      <td>5.937849</td>\n",
       "      <td>19.685</td>\n",
       "      <td>34.455</td>\n",
       "      <td>283.719540</td>\n",
       "      <td>51.430077</td>\n",
       "      <td>51.828501</td>\n",
       "      <td>52.199865</td>\n",
       "      <td>53.467670</td>\n",
       "      <td>60.151525</td>\n",
       "      <td>...</td>\n",
       "      <td>23.862338</td>\n",
       "      <td>52.239226</td>\n",
       "      <td>15.522318</td>\n",
       "      <td>88.184618</td>\n",
       "      <td>21.5</td>\n",
       "      <td>37.2</td>\n",
       "      <td>6.50</td>\n",
       "      <td>56.88</td>\n",
       "      <td>56.88</td>\n",
       "      <td>213.44</td>\n",
       "    </tr>\n",
       "    <tr>\n",
       "      <th>GM2_RSN12</th>\n",
       "      <td>41.268564</td>\n",
       "      <td>7.295614</td>\n",
       "      <td>17.045</td>\n",
       "      <td>29.345</td>\n",
       "      <td>366.517457</td>\n",
       "      <td>51.778268</td>\n",
       "      <td>51.878934</td>\n",
       "      <td>52.120331</td>\n",
       "      <td>52.842837</td>\n",
       "      <td>53.337184</td>\n",
       "      <td>...</td>\n",
       "      <td>31.550051</td>\n",
       "      <td>48.979590</td>\n",
       "      <td>29.362105</td>\n",
       "      <td>108.306517</td>\n",
       "      <td>18.6</td>\n",
       "      <td>33.5</td>\n",
       "      <td>7.36</td>\n",
       "      <td>114.62</td>\n",
       "      <td>117.75</td>\n",
       "      <td>316.46</td>\n",
       "    </tr>\n",
       "    <tr>\n",
       "      <th>GM3_RSN30</th>\n",
       "      <td>267.680106</td>\n",
       "      <td>15.747787</td>\n",
       "      <td>2.170</td>\n",
       "      <td>7.520</td>\n",
       "      <td>488.062285</td>\n",
       "      <td>372.944795</td>\n",
       "      <td>375.846988</td>\n",
       "      <td>384.420565</td>\n",
       "      <td>393.843876</td>\n",
       "      <td>386.595013</td>\n",
       "      <td>...</td>\n",
       "      <td>72.350526</td>\n",
       "      <td>332.892287</td>\n",
       "      <td>29.018868</td>\n",
       "      <td>432.395587</td>\n",
       "      <td>2.4</td>\n",
       "      <td>7.5</td>\n",
       "      <td>6.19</td>\n",
       "      <td>9.58</td>\n",
       "      <td>9.58</td>\n",
       "      <td>289.56</td>\n",
       "    </tr>\n",
       "    <tr>\n",
       "      <th>GM4_RSN31</th>\n",
       "      <td>213.757067</td>\n",
       "      <td>9.276829</td>\n",
       "      <td>3.840</td>\n",
       "      <td>10.840</td>\n",
       "      <td>376.026733</td>\n",
       "      <td>244.018592</td>\n",
       "      <td>249.149985</td>\n",
       "      <td>262.084464</td>\n",
       "      <td>267.504131</td>\n",
       "      <td>291.647979</td>\n",
       "      <td>...</td>\n",
       "      <td>41.966040</td>\n",
       "      <td>182.466462</td>\n",
       "      <td>22.814141</td>\n",
       "      <td>263.701266</td>\n",
       "      <td>5.9</td>\n",
       "      <td>13.1</td>\n",
       "      <td>6.19</td>\n",
       "      <td>12.90</td>\n",
       "      <td>12.90</td>\n",
       "      <td>256.82</td>\n",
       "    </tr>\n",
       "    <tr>\n",
       "      <th>GM5_RSN36</th>\n",
       "      <td>44.924604</td>\n",
       "      <td>12.420486</td>\n",
       "      <td>24.580</td>\n",
       "      <td>48.150</td>\n",
       "      <td>511.568742</td>\n",
       "      <td>92.436785</td>\n",
       "      <td>92.892724</td>\n",
       "      <td>93.627472</td>\n",
       "      <td>95.195204</td>\n",
       "      <td>98.252641</td>\n",
       "      <td>...</td>\n",
       "      <td>67.155975</td>\n",
       "      <td>64.886716</td>\n",
       "      <td>49.462109</td>\n",
       "      <td>140.320730</td>\n",
       "      <td>25.0</td>\n",
       "      <td>49.3</td>\n",
       "      <td>6.63</td>\n",
       "      <td>45.12</td>\n",
       "      <td>45.66</td>\n",
       "      <td>213.44</td>\n",
       "    </tr>\n",
       "  </tbody>\n",
       "</table>\n",
       "<p>5 rows × 156 columns</p>\n",
       "</div>"
      ],
      "text/plain": [
       "                  PGA        PGV  DS_5to75  DS_5to95         CAV      T_0.01  \\\n",
       "GMID                                                                           \n",
       "GM1_RSN9    36.502124   5.937849    19.685    34.455  283.719540   51.430077   \n",
       "GM2_RSN12   41.268564   7.295614    17.045    29.345  366.517457   51.778268   \n",
       "GM3_RSN30  267.680106  15.747787     2.170     7.520  488.062285  372.944795   \n",
       "GM4_RSN31  213.757067   9.276829     3.840    10.840  376.026733  244.018592   \n",
       "GM5_RSN36   44.924604  12.420486    24.580    48.150  511.568742   92.436785   \n",
       "\n",
       "               T_0.02      T_0.03      T_0.04      T_0.05  ...         SI  \\\n",
       "GMID                                                       ...              \n",
       "GM1_RSN9    51.828501   52.199865   53.467670   60.151525  ...  23.862338   \n",
       "GM2_RSN12   51.878934   52.120331   52.842837   53.337184  ...  31.550051   \n",
       "GM3_RSN30  375.846988  384.420565  393.843876  386.595013  ...  72.350526   \n",
       "GM4_RSN31  249.149985  262.084464  267.504131  291.647979  ...  41.966040   \n",
       "GM5_RSN36   92.892724   93.627472   95.195204   98.252641  ...  67.155975   \n",
       "\n",
       "                  ASI        DSI      Sa_avg  5-75% Duration (sec)_NGA2  \\\n",
       "GMID                                                                      \n",
       "GM1_RSN9    52.239226  15.522318   88.184618                       21.5   \n",
       "GM2_RSN12   48.979590  29.362105  108.306517                       18.6   \n",
       "GM3_RSN30  332.892287  29.018868  432.395587                        2.4   \n",
       "GM4_RSN31  182.466462  22.814141  263.701266                        5.9   \n",
       "GM5_RSN36   64.886716  49.462109  140.320730                       25.0   \n",
       "\n",
       "           5-95% Duration (sec)_NGA2  Magnitude  Distance_Rjb  Distance_rup  \\\n",
       "GMID                                                                          \n",
       "GM1_RSN9                        37.2       6.50         56.88         56.88   \n",
       "GM2_RSN12                       33.5       7.36        114.62        117.75   \n",
       "GM3_RSN30                        7.5       6.19          9.58          9.58   \n",
       "GM4_RSN31                       13.1       6.19         12.90         12.90   \n",
       "GM5_RSN36                       49.3       6.63         45.12         45.66   \n",
       "\n",
       "            Vs_30  \n",
       "GMID               \n",
       "GM1_RSN9   213.44  \n",
       "GM2_RSN12  316.46  \n",
       "GM3_RSN30  289.56  \n",
       "GM4_RSN31  256.82  \n",
       "GM5_RSN36  213.44  \n",
       "\n",
       "[5 rows x 156 columns]"
      ]
     },
     "execution_count": 109,
     "metadata": {},
     "output_type": "execute_result"
    }
   ],
   "source": [
    "gminfo_rotD50.head()"
   ]
  },
  {
   "cell_type": "code",
   "execution_count": 121,
   "id": "4b923a7a",
   "metadata": {},
   "outputs": [],
   "source": [
    "gminfo_rotD50['lnRjb'] = np.log(gminfo_rotD50.Distance_Rjb.values)\n",
    "gminfo_rotD50['lnM'] = np.log(gminfo_rotD50.Magnitude.values)"
   ]
  },
  {
   "cell_type": "code",
   "execution_count": 124,
   "id": "c4f02807",
   "metadata": {},
   "outputs": [
    {
     "data": {
      "text/plain": [
       "<seaborn.axisgrid.FacetGrid at 0x7fe1b20a8a00>"
      ]
     },
     "execution_count": 124,
     "metadata": {},
     "output_type": "execute_result"
    },
    {
     "data": {
      "image/png": "[encoded data removed]",
      "text/plain": [
       "<Figure size 360x360 with 1 Axes>"
      ]
     },
     "metadata": {
      "needs_background": "light"
     },
     "output_type": "display_data"
    }
   ],
   "source": [
    "import seaborn as sns\n",
    "sns.displot(data=gminfo_rotD50, x='Magnitude', kde=True)"
   ]
  },
  {
   "cell_type": "code",
   "execution_count": 119,
   "id": "c0aec346",
   "metadata": {},
   "outputs": [
    {
     "data": {
      "text/plain": [
       "<seaborn.axisgrid.FacetGrid at 0x7fe1a12dfd90>"
      ]
     },
     "execution_count": 119,
     "metadata": {},
     "output_type": "execute_result"
    },
    {
     "data": {
      "image/png": "[encoded data removed]",
      "text/plain": [
       "<Figure size 360x360 with 1 Axes>"
      ]
     },
     "metadata": {
      "needs_background": "light"
     },
     "output_type": "display_data"
    }
   ],
   "source": [
    "sns.displot(data=gminfo_rotD50, x='lnRjb', kde=True)"
   ]
  },
  {
   "cell_type": "code",
   "execution_count": 122,
   "id": "c6cbee4f",
   "metadata": {},
   "outputs": [
    {
     "data": {
      "text/plain": [
       "<AxesSubplot:xlabel='lnM', ylabel='lnRjb'>"
      ]
     },
     "execution_count": 122,
     "metadata": {},
     "output_type": "execute_result"
    },
    {
     "data": {
      "image/png": "[encoded data removed]",
      "text/plain": [
       "<Figure size 432x288 with 1 Axes>"
      ]
     },
     "metadata": {
      "needs_background": "light"
     },
     "output_type": "display_data"
    }
   ],
   "source": [
    "sns.scatterplot(data=gminfo_rotD50, x='lnM', y = 'lnRjb')"
   ]
  },
  {
   "cell_type": "code",
   "execution_count": 127,
   "id": "787b2970",
   "metadata": {},
   "outputs": [],
   "source": [
    "sdrX_nocollapse = sdrX[sdrX < 0.1]"
   ]
  },
  {
   "cell_type": "code",
   "execution_count": 128,
   "id": "6ea0cf08",
   "metadata": {},
   "outputs": [
    {
     "data": {
      "text/plain": [
       "(821,)"
      ]
     },
     "execution_count": 128,
     "metadata": {},
     "output_type": "execute_result"
    }
   ],
   "source": [
    "sdrX_nocollapse.shape"
   ]
  },
  {
   "cell_type": "code",
   "execution_count": 130,
   "id": "da52867e",
   "metadata": {},
   "outputs": [
    {
     "data": {
      "text/plain": [
       "<seaborn.axisgrid.FacetGrid at 0x7fe170afa100>"
      ]
     },
     "execution_count": 130,
     "metadata": {},
     "output_type": "execute_result"
    },
    {
     "data": {
      "image/png": "[encoded data removed]",
      "text/plain": [
       "<Figure size 360x360 with 1 Axes>"
      ]
     },
     "metadata": {
      "needs_background": "light"
     },
     "output_type": "display_data"
    }
   ],
   "source": [
    "sns.displot(np.log(sdrX_nocollapse))"
   ]
  },
  {
   "cell_type": "code",
   "execution_count": 35,
   "id": "15c6e3aa",
   "metadata": {},
   "outputs": [
    {
     "data": {
      "text/plain": [
       "inf"
      ]
     },
     "execution_count": 35,
     "metadata": {},
     "output_type": "execute_result"
    }
   ],
   "source": [
    "from scipy.stats import entropy \n",
    "\n",
    "kld = entropy(pk=epsilon_onlyIM, qk=epsilon_IM_and_M)\n",
    "kld"
   ]
  },
  {
   "cell_type": "code",
   "execution_count": 44,
   "id": "089cb402",
   "metadata": {},
   "outputs": [
    {
     "data": {
      "text/plain": [
       "inf"
      ]
     },
     "execution_count": 44,
     "metadata": {},
     "output_type": "execute_result"
    }
   ],
   "source": [
    "from scipy.special import rel_entr\n",
    "sum(rel_entr(epsilon_onlyIM, epsilon_IM_and_M))"
   ]
  },
  {
   "cell_type": "code",
   "execution_count": 40,
   "id": "e35c3e43",
   "metadata": {},
   "outputs": [
    {
     "data": {
      "text/plain": [
       "0.23225597534055087"
      ]
     },
     "execution_count": 40,
     "metadata": {},
     "output_type": "execute_result"
    }
   ],
   "source": [
    "calc_MI(epsilon_onlyIM, epsilon_IM_and_M, bins=8)"
   ]
  },
  {
   "cell_type": "code",
   "execution_count": 58,
   "id": "539692db",
   "metadata": {},
   "outputs": [
    {
     "data": {
      "text/html": [
       "<table class=\"simpletable\">\n",
       "<caption>OLS Regression Results</caption>\n",
       "<tr>\n",
       "  <th>Dep. Variable:</th>          <td>lnEDP</td>      <th>  R-squared:         </th> <td>   0.744</td> \n",
       "</tr>\n",
       "<tr>\n",
       "  <th>Model:</th>                   <td>OLS</td>       <th>  Adj. R-squared:    </th> <td>   0.743</td> \n",
       "</tr>\n",
       "<tr>\n",
       "  <th>Method:</th>             <td>Least Squares</td>  <th>  F-statistic:       </th> <td>   796.9</td> \n",
       "</tr>\n",
       "<tr>\n",
       "  <th>Date:</th>             <td>Fri, 23 Sep 2022</td> <th>  Prob (F-statistic):</th> <td>9.69e-243</td>\n",
       "</tr>\n",
       "<tr>\n",
       "  <th>Time:</th>                 <td>11:42:02</td>     <th>  Log-Likelihood:    </th> <td> -222.02</td> \n",
       "</tr>\n",
       "<tr>\n",
       "  <th>No. Observations:</th>      <td>   826</td>      <th>  AIC:               </th> <td>   452.0</td> \n",
       "</tr>\n",
       "<tr>\n",
       "  <th>Df Residuals:</th>          <td>   822</td>      <th>  BIC:               </th> <td>   470.9</td> \n",
       "</tr>\n",
       "<tr>\n",
       "  <th>Df Model:</th>              <td>     3</td>      <th>                     </th>     <td> </td>    \n",
       "</tr>\n",
       "<tr>\n",
       "  <th>Covariance Type:</th>      <td>nonrobust</td>    <th>                     </th>     <td> </td>    \n",
       "</tr>\n",
       "</table>\n",
       "<table class=\"simpletable\">\n",
       "<tr>\n",
       "      <td></td>         <th>coef</th>     <th>std err</th>      <th>t</th>      <th>P>|t|</th>  <th>[0.025</th>    <th>0.975]</th>  \n",
       "</tr>\n",
       "<tr>\n",
       "  <th>Intercept</th> <td>   -8.3409</td> <td>    0.153</td> <td>  -54.389</td> <td> 0.000</td> <td>   -8.642</td> <td>   -8.040</td>\n",
       "</tr>\n",
       "<tr>\n",
       "  <th>lnSaT1</th>    <td>    0.3601</td> <td>    0.016</td> <td>   22.144</td> <td> 0.000</td> <td>    0.328</td> <td>    0.392</td>\n",
       "</tr>\n",
       "<tr>\n",
       "  <th>M</th>         <td>    0.1867</td> <td>    0.021</td> <td>    8.954</td> <td> 0.000</td> <td>    0.146</td> <td>    0.228</td>\n",
       "</tr>\n",
       "<tr>\n",
       "  <th>lnRjb</th>     <td>   -0.1385</td> <td>    0.011</td> <td>  -12.249</td> <td> 0.000</td> <td>   -0.161</td> <td>   -0.116</td>\n",
       "</tr>\n",
       "</table>\n",
       "<table class=\"simpletable\">\n",
       "<tr>\n",
       "  <th>Omnibus:</th>       <td>626.977</td> <th>  Durbin-Watson:     </th> <td>   1.878</td> \n",
       "</tr>\n",
       "<tr>\n",
       "  <th>Prob(Omnibus):</th> <td> 0.000</td>  <th>  Jarque-Bera (JB):  </th> <td>25286.250</td>\n",
       "</tr>\n",
       "<tr>\n",
       "  <th>Skew:</th>          <td> 2.997</td>  <th>  Prob(JB):          </th> <td>    0.00</td> \n",
       "</tr>\n",
       "<tr>\n",
       "  <th>Kurtosis:</th>      <td>29.434</td>  <th>  Cond. No.          </th> <td>    131.</td> \n",
       "</tr>\n",
       "</table><br/><br/>Notes:<br/>[1] Standard Errors assume that the covariance matrix of the errors is correctly specified."
      ],
      "text/plain": [
       "<class 'statsmodels.iolib.summary.Summary'>\n",
       "\"\"\"\n",
       "                            OLS Regression Results                            \n",
       "==============================================================================\n",
       "Dep. Variable:                  lnEDP   R-squared:                       0.744\n",
       "Model:                            OLS   Adj. R-squared:                  0.743\n",
       "Method:                 Least Squares   F-statistic:                     796.9\n",
       "Date:                Fri, 23 Sep 2022   Prob (F-statistic):          9.69e-243\n",
       "Time:                        11:42:02   Log-Likelihood:                -222.02\n",
       "No. Observations:                 826   AIC:                             452.0\n",
       "Df Residuals:                     822   BIC:                             470.9\n",
       "Df Model:                           3                                         \n",
       "Covariance Type:            nonrobust                                         \n",
       "==============================================================================\n",
       "                 coef    std err          t      P>|t|      [0.025      0.975]\n",
       "------------------------------------------------------------------------------\n",
       "Intercept     -8.3409      0.153    -54.389      0.000      -8.642      -8.040\n",
       "lnSaT1         0.3601      0.016     22.144      0.000       0.328       0.392\n",
       "M              0.1867      0.021      8.954      0.000       0.146       0.228\n",
       "lnRjb         -0.1385      0.011    -12.249      0.000      -0.161      -0.116\n",
       "==============================================================================\n",
       "Omnibus:                      626.977   Durbin-Watson:                   1.878\n",
       "Prob(Omnibus):                  0.000   Jarque-Bera (JB):            25286.250\n",
       "Skew:                           2.997   Prob(JB):                         0.00\n",
       "Kurtosis:                      29.434   Cond. No.                         131.\n",
       "==============================================================================\n",
       "\n",
       "Notes:\n",
       "[1] Standard Errors assume that the covariance matrix of the errors is correctly specified.\n",
       "\"\"\""
      ]
     },
     "execution_count": 58,
     "metadata": {},
     "output_type": "execute_result"
    }
   ],
   "source": [
    "##### Using residual from efficiency to compute sufficiency instead of direct linear model\n",
    "\n",
    "temp = {'I': np.ones(shape = int(numGM)),\n",
    "        'lnEDP': np.log(sdrX),\n",
    "        'lnSaT1': np.log(IM),\n",
    "        'M': gminfo_rotD50['Magnitude'].values,\n",
    "        'lnRjb': np.log(gminfo_rotD50['Distance_Rjb'].values)}\n",
    "dummydf = pd.DataFrame(temp, index = None)\n",
    "model = smf.ols('lnEDP ~ lnSaT1 + M + lnRjb', data = dummydf)\n",
    "model_res = model.fit()\n",
    "model_res.summary()"
   ]
  },
  {
   "cell_type": "code",
   "execution_count": null,
   "id": "edc3be89",
   "metadata": {},
   "outputs": [],
   "source": []
  },
  {
   "cell_type": "code",
   "execution_count": 135,
   "id": "53c40ccd",
   "metadata": {},
   "outputs": [
    {
     "data": {
      "text/html": [
       "<div>\n",
       "<style scoped>\n",
       "    .dataframe tbody tr th:only-of-type {\n",
       "        vertical-align: middle;\n",
       "    }\n",
       "\n",
       "    .dataframe tbody tr th {\n",
       "        vertical-align: top;\n",
       "    }\n",
       "\n",
       "    .dataframe thead th {\n",
       "        text-align: right;\n",
       "    }\n",
       "</style>\n",
       "<table border=\"1\" class=\"dataframe\">\n",
       "  <thead>\n",
       "    <tr style=\"text-align: right;\">\n",
       "      <th></th>\n",
       "      <th>PGA</th>\n",
       "      <th>PGV</th>\n",
       "      <th>DS_5to75</th>\n",
       "      <th>DS_5to95</th>\n",
       "      <th>CAV</th>\n",
       "      <th>T_0.01</th>\n",
       "      <th>T_0.02</th>\n",
       "      <th>T_0.03</th>\n",
       "      <th>T_0.04</th>\n",
       "      <th>T_0.05</th>\n",
       "      <th>...</th>\n",
       "      <th>DSI</th>\n",
       "      <th>Sa_avg</th>\n",
       "      <th>5-75% Duration (sec)_NGA2</th>\n",
       "      <th>5-95% Duration (sec)_NGA2</th>\n",
       "      <th>Magnitude</th>\n",
       "      <th>Distance_Rjb</th>\n",
       "      <th>Distance_rup</th>\n",
       "      <th>Vs_30</th>\n",
       "      <th>lnRjb</th>\n",
       "      <th>lnM</th>\n",
       "    </tr>\n",
       "    <tr>\n",
       "      <th>GMID</th>\n",
       "      <th></th>\n",
       "      <th></th>\n",
       "      <th></th>\n",
       "      <th></th>\n",
       "      <th></th>\n",
       "      <th></th>\n",
       "      <th></th>\n",
       "      <th></th>\n",
       "      <th></th>\n",
       "      <th></th>\n",
       "      <th></th>\n",
       "      <th></th>\n",
       "      <th></th>\n",
       "      <th></th>\n",
       "      <th></th>\n",
       "      <th></th>\n",
       "      <th></th>\n",
       "      <th></th>\n",
       "      <th></th>\n",
       "      <th></th>\n",
       "      <th></th>\n",
       "    </tr>\n",
       "  </thead>\n",
       "  <tbody>\n",
       "    <tr>\n",
       "      <th>GM1_RSN9</th>\n",
       "      <td>36.502124</td>\n",
       "      <td>5.937849</td>\n",
       "      <td>19.685</td>\n",
       "      <td>34.455</td>\n",
       "      <td>283.719540</td>\n",
       "      <td>51.430077</td>\n",
       "      <td>51.828501</td>\n",
       "      <td>52.199865</td>\n",
       "      <td>53.467670</td>\n",
       "      <td>60.151525</td>\n",
       "      <td>...</td>\n",
       "      <td>15.522318</td>\n",
       "      <td>88.184618</td>\n",
       "      <td>21.5</td>\n",
       "      <td>37.2</td>\n",
       "      <td>6.50</td>\n",
       "      <td>56.88</td>\n",
       "      <td>56.88</td>\n",
       "      <td>213.44</td>\n",
       "      <td>4.040944</td>\n",
       "      <td>1.871802</td>\n",
       "    </tr>\n",
       "    <tr>\n",
       "      <th>GM2_RSN12</th>\n",
       "      <td>41.268564</td>\n",
       "      <td>7.295614</td>\n",
       "      <td>17.045</td>\n",
       "      <td>29.345</td>\n",
       "      <td>366.517457</td>\n",
       "      <td>51.778268</td>\n",
       "      <td>51.878934</td>\n",
       "      <td>52.120331</td>\n",
       "      <td>52.842837</td>\n",
       "      <td>53.337184</td>\n",
       "      <td>...</td>\n",
       "      <td>29.362105</td>\n",
       "      <td>108.306517</td>\n",
       "      <td>18.6</td>\n",
       "      <td>33.5</td>\n",
       "      <td>7.36</td>\n",
       "      <td>114.62</td>\n",
       "      <td>117.75</td>\n",
       "      <td>316.46</td>\n",
       "      <td>4.741622</td>\n",
       "      <td>1.996060</td>\n",
       "    </tr>\n",
       "    <tr>\n",
       "      <th>GM3_RSN30</th>\n",
       "      <td>267.680106</td>\n",
       "      <td>15.747787</td>\n",
       "      <td>2.170</td>\n",
       "      <td>7.520</td>\n",
       "      <td>488.062285</td>\n",
       "      <td>372.944795</td>\n",
       "      <td>375.846988</td>\n",
       "      <td>384.420565</td>\n",
       "      <td>393.843876</td>\n",
       "      <td>386.595013</td>\n",
       "      <td>...</td>\n",
       "      <td>29.018868</td>\n",
       "      <td>432.395587</td>\n",
       "      <td>2.4</td>\n",
       "      <td>7.5</td>\n",
       "      <td>6.19</td>\n",
       "      <td>9.58</td>\n",
       "      <td>9.58</td>\n",
       "      <td>289.56</td>\n",
       "      <td>2.259678</td>\n",
       "      <td>1.822935</td>\n",
       "    </tr>\n",
       "    <tr>\n",
       "      <th>GM4_RSN31</th>\n",
       "      <td>213.757067</td>\n",
       "      <td>9.276829</td>\n",
       "      <td>3.840</td>\n",
       "      <td>10.840</td>\n",
       "      <td>376.026733</td>\n",
       "      <td>244.018592</td>\n",
       "      <td>249.149985</td>\n",
       "      <td>262.084464</td>\n",
       "      <td>267.504131</td>\n",
       "      <td>291.647979</td>\n",
       "      <td>...</td>\n",
       "      <td>22.814141</td>\n",
       "      <td>263.701266</td>\n",
       "      <td>5.9</td>\n",
       "      <td>13.1</td>\n",
       "      <td>6.19</td>\n",
       "      <td>12.90</td>\n",
       "      <td>12.90</td>\n",
       "      <td>256.82</td>\n",
       "      <td>2.557227</td>\n",
       "      <td>1.822935</td>\n",
       "    </tr>\n",
       "    <tr>\n",
       "      <th>GM5_RSN36</th>\n",
       "      <td>44.924604</td>\n",
       "      <td>12.420486</td>\n",
       "      <td>24.580</td>\n",
       "      <td>48.150</td>\n",
       "      <td>511.568742</td>\n",
       "      <td>92.436785</td>\n",
       "      <td>92.892724</td>\n",
       "      <td>93.627472</td>\n",
       "      <td>95.195204</td>\n",
       "      <td>98.252641</td>\n",
       "      <td>...</td>\n",
       "      <td>49.462109</td>\n",
       "      <td>140.320730</td>\n",
       "      <td>25.0</td>\n",
       "      <td>49.3</td>\n",
       "      <td>6.63</td>\n",
       "      <td>45.12</td>\n",
       "      <td>45.66</td>\n",
       "      <td>213.44</td>\n",
       "      <td>3.809326</td>\n",
       "      <td>1.891605</td>\n",
       "    </tr>\n",
       "  </tbody>\n",
       "</table>\n",
       "<p>5 rows × 158 columns</p>\n",
       "</div>"
      ],
      "text/plain": [
       "                  PGA        PGV  DS_5to75  DS_5to95         CAV      T_0.01  \\\n",
       "GMID                                                                           \n",
       "GM1_RSN9    36.502124   5.937849    19.685    34.455  283.719540   51.430077   \n",
       "GM2_RSN12   41.268564   7.295614    17.045    29.345  366.517457   51.778268   \n",
       "GM3_RSN30  267.680106  15.747787     2.170     7.520  488.062285  372.944795   \n",
       "GM4_RSN31  213.757067   9.276829     3.840    10.840  376.026733  244.018592   \n",
       "GM5_RSN36   44.924604  12.420486    24.580    48.150  511.568742   92.436785   \n",
       "\n",
       "               T_0.02      T_0.03      T_0.04      T_0.05  ...        DSI  \\\n",
       "GMID                                                       ...              \n",
       "GM1_RSN9    51.828501   52.199865   53.467670   60.151525  ...  15.522318   \n",
       "GM2_RSN12   51.878934   52.120331   52.842837   53.337184  ...  29.362105   \n",
       "GM3_RSN30  375.846988  384.420565  393.843876  386.595013  ...  29.018868   \n",
       "GM4_RSN31  249.149985  262.084464  267.504131  291.647979  ...  22.814141   \n",
       "GM5_RSN36   92.892724   93.627472   95.195204   98.252641  ...  49.462109   \n",
       "\n",
       "               Sa_avg  5-75% Duration (sec)_NGA2  5-95% Duration (sec)_NGA2  \\\n",
       "GMID                                                                          \n",
       "GM1_RSN9    88.184618                       21.5                       37.2   \n",
       "GM2_RSN12  108.306517                       18.6                       33.5   \n",
       "GM3_RSN30  432.395587                        2.4                        7.5   \n",
       "GM4_RSN31  263.701266                        5.9                       13.1   \n",
       "GM5_RSN36  140.320730                       25.0                       49.3   \n",
       "\n",
       "           Magnitude  Distance_Rjb  Distance_rup   Vs_30     lnRjb       lnM  \n",
       "GMID                                                                          \n",
       "GM1_RSN9        6.50         56.88         56.88  213.44  4.040944  1.871802  \n",
       "GM2_RSN12       7.36        114.62        117.75  316.46  4.741622  1.996060  \n",
       "GM3_RSN30       6.19          9.58          9.58  289.56  2.259678  1.822935  \n",
       "GM4_RSN31       6.19         12.90         12.90  256.82  2.557227  1.822935  \n",
       "GM5_RSN36       6.63         45.12         45.66  213.44  3.809326  1.891605  \n",
       "\n",
       "[5 rows x 158 columns]"
      ]
     },
     "execution_count": 135,
     "metadata": {},
     "output_type": "execute_result"
    }
   ],
   "source": [
    "gminfo_rotD50.head()"
   ]
  },
  {
   "cell_type": "code",
   "execution_count": 140,
   "id": "26c4d46e",
   "metadata": {},
   "outputs": [
    {
     "data": {
      "text/plain": [
       "{0.03: 65,\n",
       " 0.02: 51,\n",
       " 0.07: 44,\n",
       " 0.1: 39,\n",
       " 0.09: 36,\n",
       " 0.04: 35,\n",
       " 0.05: 34,\n",
       " 0.06: 33,\n",
       " 0.08: 32,\n",
       " 0.01: 30,\n",
       " 0.13: 23,\n",
       " 0.14: 18,\n",
       " 0.12: 18,\n",
       " 0.15: 17,\n",
       " 0.11: 17,\n",
       " 0.2: 17,\n",
       " 0.16: 15,\n",
       " 0.17: 14,\n",
       " 0.18: 13,\n",
       " 0.29: 12,\n",
       " 0.19: 12,\n",
       " 0.21: 10,\n",
       " 0.22: 9,\n",
       " 0.28: 8,\n",
       " 0.4: 8,\n",
       " 0.23: 8,\n",
       " 0.3: 7,\n",
       " 0.31: 7,\n",
       " 0.39: 7,\n",
       " 0.38: 7,\n",
       " 0.37: 6,\n",
       " 0.24: 6,\n",
       " 0.49: 6,\n",
       " 0.25: 6,\n",
       " 0.45: 5,\n",
       " 0.32: 5,\n",
       " 0.58: 5,\n",
       " 0.52: 5,\n",
       " 0.42: 5,\n",
       " 0.34: 5,\n",
       " 0.27: 4,\n",
       " 0.33: 4,\n",
       " 0.48: 4,\n",
       " 0.46: 4,\n",
       " 0.7: 4,\n",
       " 0.57: 3,\n",
       " 0.35: 3,\n",
       " 0.59: 3,\n",
       " 0.36: 3,\n",
       " 0.72: 3,\n",
       " 1.06: 3,\n",
       " 0.83: 3,\n",
       " 0.61: 3,\n",
       " 0.6: 3,\n",
       " 0.47: 3,\n",
       " 1.21: 2,\n",
       " 0.63: 2,\n",
       " 0.79: 2,\n",
       " 1.33: 2,\n",
       " 0.87: 2,\n",
       " 0.53: 2,\n",
       " 1.65: 2,\n",
       " 0.67: 2,\n",
       " 0.51: 2,\n",
       " 1.27: 2,\n",
       " 1.1: 2,\n",
       " 0.41: 2,\n",
       " 0.9: 2,\n",
       " 0.95: 2,\n",
       " 0.55: 2,\n",
       " 0.77: 2,\n",
       " 1.01: 2,\n",
       " 0.65: 2,\n",
       " 0.56: 2,\n",
       " 0.5: 2,\n",
       " 0.26: 2,\n",
       " 0.97: 2,\n",
       " 1.39: 1,\n",
       " 0.68: 1,\n",
       " 1.26: 1,\n",
       " 1.42: 1,\n",
       " 0.89: 1,\n",
       " 2.25: 1,\n",
       " 0.75: 1,\n",
       " 1.02: 1,\n",
       " 0.64: 1,\n",
       " 0.74: 1,\n",
       " 0.71: 1,\n",
       " 1.18: 1,\n",
       " 0.96: 1,\n",
       " 1.12: 1,\n",
       " 1.04: 1,\n",
       " 1.19: 1,\n",
       " 1.08: 1,\n",
       " 1.31: 1,\n",
       " 0.94: 1,\n",
       " 0.99: 1,\n",
       " 0.82: 1,\n",
       " 1.58: 1,\n",
       " 0.44: 1,\n",
       " 1.03: 1,\n",
       " 0.88: 1,\n",
       " 0.85: 1,\n",
       " 0.76: 1,\n",
       " 0.81: 1,\n",
       " 2.62: 1,\n",
       " 0.84: 1,\n",
       " 0.86: 1,\n",
       " 0.43: 1}"
      ]
     },
     "execution_count": 140,
     "metadata": {},
     "output_type": "execute_result"
    }
   ],
   "source": [
    "gminfo_rotD50['sa(g)'] = np.round(gminfo_rotD50['T_0.13'].values / g, 2)\n",
    "dict(gminfo_rotD50['sa(g)'].value_counts())"
   ]
  },
  {
   "cell_type": "markdown",
   "id": "f00344ff",
   "metadata": {},
   "source": []
  },
  {
   "cell_type": "code",
   "execution_count": 59,
   "id": "0e2925d2",
   "metadata": {},
   "outputs": [],
   "source": [
    "epsilon_IM_and_M_and_lnR = model_res.resid"
   ]
  },
  {
   "cell_type": "code",
   "execution_count": 60,
   "id": "96df7d77",
   "metadata": {},
   "outputs": [
    {
     "data": {
      "text/plain": [
       "0.001014521011153957"
      ]
     },
     "execution_count": 60,
     "metadata": {},
     "output_type": "execute_result"
    }
   ],
   "source": [
    "sigma1 = np.std(epsilon_onlyIM)\n",
    "sigma2 = np.std(epsilon_IM_and_M_and_lnR)\n",
    "kld_manual = np.log(sigma2 / sigma1) + sigma1 ** 2 / (2 * sigma2 ** 2) - 0.5\n",
    "kld_manual"
   ]
  },
  {
   "cell_type": "code",
   "execution_count": null,
   "id": "bb0a0ba9",
   "metadata": {},
   "outputs": [],
   "source": []
  },
  {
   "cell_type": "code",
   "execution_count": 32,
   "id": "d249f26d",
   "metadata": {},
   "outputs": [
    {
     "ename": "NameError",
     "evalue": "name 'spectral_acc' is not defined",
     "output_type": "error",
     "traceback": [
      "\u001b[0;31m---------------------------------------------------------------------------\u001b[0m",
      "\u001b[0;31mNameError\u001b[0m                                 Traceback (most recent call last)",
      "\u001b[0;32m/var/folders/3_/kmdwwvws6jd6jbgwvk49zrfc0000gn/T/ipykernel_92043/1496322285.py\u001b[0m in \u001b[0;36m<module>\u001b[0;34m\u001b[0m\n\u001b[1;32m      1\u001b[0m \u001b[0;31m# I = np.ones(shape = numGM)\u001b[0m\u001b[0;34m\u001b[0m\u001b[0;34m\u001b[0m\u001b[0;34m\u001b[0m\u001b[0m\n\u001b[1;32m      2\u001b[0m \u001b[0;31m# Y = np.log()\u001b[0m\u001b[0;34m\u001b[0m\u001b[0;34m\u001b[0m\u001b[0;34m\u001b[0m\u001b[0m\n\u001b[0;32m----> 3\u001b[0;31m \u001b[0msa_T013\u001b[0m \u001b[0;34m=\u001b[0m \u001b[0mspectral_acc\u001b[0m\u001b[0;34m[\u001b[0m\u001b[0mT\u001b[0m\u001b[0;34m[\u001b[0m\u001b[0;36m4\u001b[0m\u001b[0;34m]\u001b[0m\u001b[0;34m]\u001b[0m\u001b[0;34m.\u001b[0m\u001b[0mvalues\u001b[0m\u001b[0;34m\u001b[0m\u001b[0;34m\u001b[0m\u001b[0m\n\u001b[0m\u001b[1;32m      4\u001b[0m temp = {'I': np.ones(shape = numGM),\n\u001b[1;32m      5\u001b[0m         \u001b[0;34m'lnEDP'\u001b[0m\u001b[0;34m:\u001b[0m \u001b[0mnp\u001b[0m\u001b[0;34m.\u001b[0m\u001b[0mlog\u001b[0m\u001b[0;34m(\u001b[0m\u001b[0msdrX\u001b[0m\u001b[0;34m)\u001b[0m\u001b[0;34m,\u001b[0m\u001b[0;34m\u001b[0m\u001b[0;34m\u001b[0m\u001b[0m\n",
      "\u001b[0;31mNameError\u001b[0m: name 'spectral_acc' is not defined"
     ]
    }
   ],
   "source": [
    "# I = np.ones(shape = numGM)\n",
    "# Y = np.log()\n",
    "sa_T013 = spectral_acc[T[4]].values\n",
    "temp = {'I': np.ones(shape = numGM),\n",
    "        'lnEDP': np.log(sdrX),\n",
    "        'lnSaT1': np.log(sa_T013),\n",
    "        'M': gm_info['Magnitude'].values}\n",
    "dummydf = pd.DataFrame(temp, index = None)\n",
    "model = smf.ols('lnEDP ~ lnSaT1 + M', data = dummydf)\n",
    "model_res = model.fit()\n",
    "model_res.summary()"
   ]
  },
  {
   "cell_type": "code",
   "execution_count": null,
   "id": "def63943",
   "metadata": {},
   "outputs": [],
   "source": [
    "# I = np.ones(shape = numGM)\n",
    "# Y = np.log()\n",
    "sa_T013 = spectral_acc[T[4]].values\n",
    "temp = {'I': np.ones(shape = numGM),\n",
    "        'lnEDP': np.log(sdrX),\n",
    "        'lnSaT1': np.log(sa_T013),\n",
    "        'lnRjb': np.log(gm_info['Distance 1 (km)'].values)}\n",
    "dummydf = pd.DataFrame(temp, index = None)\n",
    "model = smf.ols('lnEDP ~ lnSaT1 + lnRjb', data = dummydf)\n",
    "model_res = model.fit()\n",
    "model_res.summary()"
   ]
  },
  {
   "cell_type": "code",
   "execution_count": null,
   "id": "eff1d89c",
   "metadata": {},
   "outputs": [],
   "source": [
    "model_res.pvalues"
   ]
  },
  {
   "cell_type": "code",
   "execution_count": 47,
   "id": "57961220",
   "metadata": {},
   "outputs": [
    {
     "ename": "NameError",
     "evalue": "name 'spectral_acc' is not defined",
     "output_type": "error",
     "traceback": [
      "\u001b[0;31m---------------------------------------------------------------------------\u001b[0m",
      "\u001b[0;31mNameError\u001b[0m                                 Traceback (most recent call last)",
      "\u001b[0;32m/var/folders/3_/kmdwwvws6jd6jbgwvk49zrfc0000gn/T/ipykernel_92043/826185140.py\u001b[0m in \u001b[0;36m<module>\u001b[0;34m\u001b[0m\n\u001b[0;32m----> 1\u001b[0;31m \u001b[0msa_T013\u001b[0m \u001b[0;34m=\u001b[0m \u001b[0mspectral_acc\u001b[0m\u001b[0;34m[\u001b[0m\u001b[0mT\u001b[0m\u001b[0;34m[\u001b[0m\u001b[0;36m4\u001b[0m\u001b[0;34m]\u001b[0m\u001b[0;34m]\u001b[0m\u001b[0;34m.\u001b[0m\u001b[0mvalues\u001b[0m\u001b[0;34m\u001b[0m\u001b[0;34m\u001b[0m\u001b[0m\n\u001b[0m\u001b[1;32m      2\u001b[0m temp = {'I': np.ones(shape = numGM),\n\u001b[1;32m      3\u001b[0m         \u001b[0;34m'lnEDP'\u001b[0m\u001b[0;34m:\u001b[0m \u001b[0mnp\u001b[0m\u001b[0;34m.\u001b[0m\u001b[0mlog\u001b[0m\u001b[0;34m(\u001b[0m\u001b[0msdrX\u001b[0m\u001b[0;34m)\u001b[0m\u001b[0;34m,\u001b[0m\u001b[0;34m\u001b[0m\u001b[0;34m\u001b[0m\u001b[0m\n\u001b[1;32m      4\u001b[0m         \u001b[0;34m'lnSaT1'\u001b[0m\u001b[0;34m:\u001b[0m \u001b[0mnp\u001b[0m\u001b[0;34m.\u001b[0m\u001b[0mlog\u001b[0m\u001b[0;34m(\u001b[0m\u001b[0msa_T013\u001b[0m\u001b[0;34m)\u001b[0m\u001b[0;34m,\u001b[0m\u001b[0;34m\u001b[0m\u001b[0;34m\u001b[0m\u001b[0m\n\u001b[1;32m      5\u001b[0m         \u001b[0;34m'lnRjb'\u001b[0m\u001b[0;34m:\u001b[0m \u001b[0mnp\u001b[0m\u001b[0;34m.\u001b[0m\u001b[0mlog\u001b[0m\u001b[0;34m(\u001b[0m\u001b[0mgm_info\u001b[0m\u001b[0;34m[\u001b[0m\u001b[0;34m'Distance 1 (km)'\u001b[0m\u001b[0;34m]\u001b[0m\u001b[0;34m.\u001b[0m\u001b[0mvalues\u001b[0m\u001b[0;34m)\u001b[0m\u001b[0;34m,\u001b[0m\u001b[0;34m\u001b[0m\u001b[0;34m\u001b[0m\u001b[0m\n",
      "\u001b[0;31mNameError\u001b[0m: name 'spectral_acc' is not defined"
     ]
    }
   ],
   "source": [
    "sa_T013 = spectral_acc[T[4]].values\n",
    "temp = {'I': np.ones(shape = numGM),\n",
    "        'lnEDP': np.log(sdrX),\n",
    "        'lnSaT1': np.log(sa_T013),\n",
    "        'lnRjb': np.log(gm_info['Distance 1 (km)'].values),\n",
    "        'M':gm_info['Magnitude'].values}\n",
    "dummydf = pd.DataFrame(temp, index = None)\n",
    "model = smf.ols('lnEDP ~ lnSaT1 + lnRjb + M', data = dummydf)\n",
    "model_res = model.fit()\n",
    "model_res.summary()"
   ]
  },
  {
   "cell_type": "code",
   "execution_count": null,
   "id": "4e066ec1",
   "metadata": {},
   "outputs": [],
   "source": [
    "model_res.pvalues"
   ]
  },
  {
   "cell_type": "code",
   "execution_count": null,
   "id": "71b076c8",
   "metadata": {},
   "outputs": [],
   "source": []
  },
  {
   "cell_type": "code",
   "execution_count": null,
   "id": "05b8497c",
   "metadata": {},
   "outputs": [],
   "source": []
  },
  {
   "cell_type": "code",
   "execution_count": null,
   "id": "3cc4eaf1",
   "metadata": {},
   "outputs": [],
   "source": [
    "sdrXx = sdr[3].values[:numGM][1::2]\n",
    "len(sdrXx)"
   ]
  },
  {
   "cell_type": "code",
   "execution_count": null,
   "id": "96aab823",
   "metadata": {},
   "outputs": [],
   "source": [
    "linear_fit = sm.OLS(np.log(sdrX), X)\n",
    "fit_result = linear_fit.fit()\n",
    "fit_result.summary()"
   ]
  },
  {
   "cell_type": "code",
   "execution_count": null,
   "id": "51a026f5",
   "metadata": {},
   "outputs": [],
   "source": [
    "np.std(fit_result.resid)"
   ]
  },
  {
   "cell_type": "code",
   "execution_count": null,
   "id": "a7048db5",
   "metadata": {},
   "outputs": [],
   "source": [
    "linear_fit = sm.OLS(np.log(sdrXx), Xx)\n",
    "fit_result = linear_fit.fit()\n",
    "fit_result.summary()"
   ]
  },
  {
   "cell_type": "code",
   "execution_count": null,
   "id": "f3c79e20",
   "metadata": {},
   "outputs": [],
   "source": [
    "np.std(fit_result.resid)"
   ]
  },
  {
   "cell_type": "code",
   "execution_count": null,
   "id": "b0516452",
   "metadata": {},
   "outputs": [],
   "source": [
    "temp = {'I': np.ones(shape = 240),\n",
    "        'lnEDP': np.log(sdrX),\n",
    "        'lnSaT1': np.log(sa_T013),\n",
    "        'lnRjb': np.log(gm_info['Distance 1 (km)'].values),\n",
    "        'M':gm_info['Magnitude'].values}\n",
    "dummydf = pd.DataFrame(temp, index = None)\n",
    "model = smf.ols('lnEDP ~ lnSaT1 + M', data = dummydf)\n",
    "model_res = model.fit()\n",
    "model_res.summary()"
   ]
  },
  {
   "cell_type": "code",
   "execution_count": null,
   "id": "e84ea28e",
   "metadata": {},
   "outputs": [],
   "source": [
    "model_res.pvalues['lnRjb']\n",
    "\n",
    "a = 'Yes' if model_res.pvalues['lnRjb'] >= 0.05 else 'No'"
   ]
  },
  {
   "cell_type": "code",
   "execution_count": null,
   "id": "d268b84e",
   "metadata": {},
   "outputs": [],
   "source": [
    "np.round(model_res.pvalues['lnRjb'], 2)\n",
    "\n"
   ]
  },
  {
   "cell_type": "code",
   "execution_count": null,
   "id": "2ade8da8",
   "metadata": {},
   "outputs": [],
   "source": [
    "temp = {'I': np.ones(shape = 240),\n",
    "        'lnEDP': np.log(sdrX),\n",
    "        'lnSaT1': np.log(sa_T013),\n",
    "        'lnRjb': np.log(gm_info['Distance 1 (km)'].values),\n",
    "        'M':gm_info['Magnitude'].values}\n",
    "dummydf = pd.DataFrame(temp, index = None)\n",
    "model = smf.ols('lnEDP ~ lnSaT1 + lnRjb', data = dummydf)\n",
    "model_res = model.fit()\n",
    "model_res.summary()"
   ]
  },
  {
   "cell_type": "code",
   "execution_count": null,
   "id": "f8e3f301",
   "metadata": {},
   "outputs": [],
   "source": [
    "sns.histplot(fit_result.resid)"
   ]
  },
  {
   "cell_type": "code",
   "execution_count": null,
   "id": "6cf109e5",
   "metadata": {},
   "outputs": [],
   "source": [
    "mu, std = norm.fit(fit_result.resid)\n",
    "mu, std"
   ]
  },
  {
   "cell_type": "code",
   "execution_count": null,
   "id": "39c0986a",
   "metadata": {},
   "outputs": [],
   "source": [
    "np.std(fit_result.resid)"
   ]
  },
  {
   "cell_type": "code",
   "execution_count": null,
   "id": "54edecde",
   "metadata": {},
   "outputs": [],
   "source": []
  },
  {
   "cell_type": "code",
   "execution_count": null,
   "id": "8a04d1c8",
   "metadata": {},
   "outputs": [],
   "source": [
    "np.std(fit_result.resid)"
   ]
  },
  {
   "cell_type": "code",
   "execution_count": null,
   "id": "a0d7185c",
   "metadata": {},
   "outputs": [],
   "source": [
    "np.std(fit_result.resid)"
   ]
  },
  {
   "cell_type": "code",
   "execution_count": null,
   "id": "24593500",
   "metadata": {},
   "outputs": [],
   "source": [
    "ols_sdrX_saT1 = OLS(sdrX, sa_T013)"
   ]
  },
  {
   "cell_type": "code",
   "execution_count": null,
   "id": "c6e18bf8",
   "metadata": {},
   "outputs": [],
   "source": [
    "ols_sdrX_saT1.get_summary()"
   ]
  },
  {
   "cell_type": "code",
   "execution_count": null,
   "id": "b73305f0",
   "metadata": {},
   "outputs": [],
   "source": [
    "ols_sdrX_saT1.plot_model_fit()"
   ]
  },
  {
   "cell_type": "code",
   "execution_count": null,
   "id": "802b2cb6",
   "metadata": {},
   "outputs": [],
   "source": [
    "ols_sdrX_saT1.plot_residuals_hist()"
   ]
  },
  {
   "cell_type": "code",
   "execution_count": null,
   "id": "c576cd72",
   "metadata": {},
   "outputs": [],
   "source": [
    "# setup the figure and axes\n",
    "fig = plt.figure(figsize=(8, 3))\n",
    "ax1 = fig.add_subplot(121, projection='3d')\n",
    "ax2 = fig.add_subplot(122, projection='3d')\n",
    "\n",
    "# fake data\n",
    "_x = np.arange(4)\n",
    "_y = np.arange(5)\n",
    "_xx, _yy = np.meshgrid(_x, _y)\n",
    "x, y = _xx.ravel(), _yy.ravel()\n",
    "\n",
    "top = x + y\n",
    "bottom = np.zeros_like(top)\n",
    "width = depth = 1\n",
    "\n",
    "ax1.bar3d(x, y, bottom, width, depth, top, shade=True)\n",
    "ax1.set_title('Shaded')\n",
    "\n",
    "ax2.bar3d(x, y, bottom, width, depth, top, shade=False)\n",
    "ax2.set_title('Not Shaded')\n",
    "\n",
    "plt.show()"
   ]
  },
  {
   "cell_type": "code",
   "execution_count": null,
   "id": "53cd06c0",
   "metadata": {},
   "outputs": [],
   "source": [
    "x\n"
   ]
  },
  {
   "cell_type": "code",
   "execution_count": null,
   "id": "ae5af823",
   "metadata": {},
   "outputs": [],
   "source": [
    "y"
   ]
  },
  {
   "cell_type": "code",
   "execution_count": null,
   "id": "eabecf6b",
   "metadata": {},
   "outputs": [],
   "source": [
    "from mpl_toolkits.mplot3d import Axes3D\n",
    "import matplotlib.pyplot as plt\n",
    "import numpy as np\n",
    "\n",
    "fig = plt.figure()\n",
    "ax = fig.add_subplot(111, projection='3d')\n",
    "for c, z in zip(['r', 'g', 'b', 'y'], [30, 20, 10, 0]):\n",
    "    xs = np.arange(20)\n",
    "    ys = np.random.rand(20)\n",
    "\n",
    "    # You can provide either a single color or an array. To demonstrate this,\n",
    "    # the first bar of each set will be colored cyan.\n",
    "    cs = [c] * len(xs)\n",
    "    cs[0] = 'c'\n",
    "    ax.bar(xs, ys, zs=z, zdir='y', color=cs, alpha=0.8)\n",
    "\n",
    "ax.set_xlabel('X')\n",
    "ax.set_ylabel('Y')\n",
    "ax.set_zlabel('Z')\n",
    "\n",
    "plt.show()"
   ]
  },
  {
   "cell_type": "code",
   "execution_count": null,
   "id": "cf95b6d2",
   "metadata": {},
   "outputs": [],
   "source": [
    "z"
   ]
  },
  {
   "cell_type": "code",
   "execution_count": null,
   "id": "a83aa7e1",
   "metadata": {},
   "outputs": [],
   "source": []
  }
 ],
 "metadata": {
  "kernelspec": {
   "display_name": "Python 3 (ipykernel)",
   "language": "python",
   "name": "python3"
  },
  "language_info": {
   "codemirror_mode": {
    "name": "ipython",
    "version": 3
   },
   "file_extension": ".py",
   "mimetype": "text/x-python",
   "name": "python",
   "nbconvert_exporter": "python",
   "pygments_lexer": "ipython3",
   "version": "3.8.6"
  }
 },
 "nbformat": 4,
 "nbformat_minor": 5
}
