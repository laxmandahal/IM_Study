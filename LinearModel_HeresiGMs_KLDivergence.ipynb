{
 "cells": [
  {
   "cell_type": "code",
   "execution_count": 1,
   "id": "4bffe974",
   "metadata": {},
   "outputs": [
    {
     "name": "stderr",
     "output_type": "stream",
     "text": [
      "/Users/laxmandahal/opt/miniconda3/lib/python3.8/site-packages/statsmodels/compat/pandas.py:61: FutureWarning: pandas.Int64Index is deprecated and will be removed from pandas in a future version. Use pandas.Index with the appropriate dtype instead.\n",
      "  from pandas import Int64Index as NumericIndex\n"
     ]
    }
   ],
   "source": [
    "import os \n",
    "import sys\n",
    "import random\n",
    "import math\n",
    "\n",
    "import numpy as np\n",
    "import pandas as pd\n",
    "import matplotlib.pyplot as plt\n",
    "import seaborn as sns\n",
    "\n",
    "from scipy.stats import lognorm\n",
    "from scipy.stats import norm \n",
    "from scipy import integrate\n",
    "from scipy.stats import gmean\n",
    "\n",
    "from scipy.stats import pearsonr\n",
    "\n",
    "import statsmodels.api as sm \n",
    "import statsmodels.formula.api as smf\n",
    "\n",
    "### src; https://github.com/arkottke/pyrotd\n",
    "import pyrotd\n",
    "pd.set_option('display.max_rows', 100)\n",
    "from scipy import stats\n",
    "from efficiency_OLS import OLS\n",
    "from Linear_model_fits import fit_against_IM_and_M, fit_against_IM_and_M_Rjb, fit_against_IM_and_Rjb\n",
    "\n",
    "%load_ext autoreload\n",
    "%autoreload 2"
   ]
  },
  {
   "cell_type": "code",
   "execution_count": 2,
   "id": "4c0aaabb",
   "metadata": {},
   "outputs": [
    {
     "data": {
      "text/plain": [
       "['s1_48x32_high',\n",
       " 's1_48x32_veryhigh',\n",
       " 's1_96x48_high',\n",
       " 's1_96x48_veryhigh',\n",
       " 's2_48x32_high',\n",
       " 's2_48x32_veryhigh',\n",
       " 's2_96x48_high',\n",
       " 's2_96x48_veryhigh',\n",
       " 's4_96x48_high',\n",
       " 's4_96x48_veryhigh']"
      ]
     },
     "execution_count": 2,
     "metadata": {},
     "output_type": "execute_result"
    }
   ],
   "source": [
    "with open('BuildingNames.txt', 'r') as f:\n",
    "    BuildingList = f.read() \n",
    "BuildingList = BuildingList.split('\\n')\n",
    "BuildingList"
   ]
  },
  {
   "cell_type": "code",
   "execution_count": 3,
   "id": "e22d4df0",
   "metadata": {},
   "outputs": [],
   "source": [
    "baseDir = r'/Users/laxmandahal/Desktop/UCLA/Phd/Research/IM_study'\n",
    "\n",
    "## time period of the buildings\n",
    "T = np.array([0.13, 0.12, 0.22, 0.22, 0.16, 0.15, 0.26, 0.25, 0.49, 0.49])\n",
    "\n",
    "numGM = 826\n",
    "g = 980.665 ## converts GM record to cm/sec^2\n",
    "\n",
    "def compute_RotDxx_EDP(edpX, edpZ, percentile = 50):\n",
    "    angles = np.arange(0, 180, step=1)\n",
    "    radians = np.radians(angles)\n",
    "    coeffs = np.c_[np.cos(radians), np.sin(radians)]\n",
    "    \n",
    "    edp_stacked = np.vstack([edpX, edpZ])\n",
    "    rotated_edp = np.dot(coeffs, edp_stacked)\n",
    "    percentile_edp = np.percentile(rotated_edp, q = percentile, axis = 0, interpolation='linear')\n",
    "    return percentile_edp\n",
    "\n",
    "def compute_KL_divergence(p, q):\n",
    "    mu1 = np.mean(p)\n",
    "    mu2 = np.mean(q)\n",
    "    std1 = np.std(p, ddof=0)\n",
    "    std2 = np.std(q, ddof=0)\n",
    "    \n",
    "    kl = np.log(std2 / std1) + (std1 ** 2 + (mu1 - mu2)**2) / (2 * std2 ** 2) - 0.5\n",
    "    return kl\n",
    "    "
   ]
  },
  {
   "cell_type": "code",
   "execution_count": 4,
   "id": "83cc2c10",
   "metadata": {},
   "outputs": [],
   "source": [
    "# heresi_GM_dir = os.path.join(baseDir, *['References', 'Heresi GMs'])\n",
    "# os.chdir(heresi_GM_dir)\n",
    "# heresiGM = pd.read_csv('Ground Motion Records.csv')\n",
    "# RSNs = heresiGM['Record Sequence Number\\n(NGA-West2)'].values\n",
    "# np.savetxt('Heresi_831_RSNs.txt',[RSNs], delimiter=',', fmt='%d')"
   ]
  },
  {
   "cell_type": "code",
   "execution_count": 5,
   "id": "7d61e145",
   "metadata": {},
   "outputs": [],
   "source": [
    "gminfo_h1 = pd.read_csv(r'data/Complete_GM_info_h1.csv')\n",
    "gminfo_h1 = gminfo_h1.set_index('key_0')\n",
    "gminfo_h1.index.names = ['GMID']"
   ]
  },
  {
   "cell_type": "code",
   "execution_count": 6,
   "id": "1203eb0b",
   "metadata": {},
   "outputs": [],
   "source": [
    "gminfo_h2 = pd.read_csv(r'data/Complete_GM_info_h2.csv')\n",
    "gminfo_h2 = gminfo_h2.set_index('key_0')\n",
    "gminfo_h2.index.names = ['GMID']"
   ]
  },
  {
   "cell_type": "code",
   "execution_count": 7,
   "id": "3fa4724c",
   "metadata": {},
   "outputs": [
    {
     "data": {
      "text/plain": [
       "Index(['PGA', 'PGV', 'DS_5to75', 'DS_5to95', 'CAV', 'T_0.01', 'T_0.02',\n",
       "       'T_0.03', 'T_0.04', 'T_0.05',\n",
       "       ...\n",
       "       'SI', 'ASI', 'DSI', 'Sa_avg', '5-75% Duration (sec)_NGA2',\n",
       "       '5-95% Duration (sec)_NGA2', 'Magnitude', 'Distance_Rjb',\n",
       "       'Distance_rup', 'Vs_30'],\n",
       "      dtype='object', length=156)"
      ]
     },
     "execution_count": 7,
     "metadata": {},
     "output_type": "execute_result"
    }
   ],
   "source": [
    "gminfo_rotD50 = pd.read_csv(r'data/Complete_GM_info_RotD50.csv')\n",
    "gminfo_rotD50 = gminfo_rotD50.set_index('key_0')\n",
    "gminfo_rotD50.index.names = ['GMID']\n",
    "gminfo_rotD50.columns"
   ]
  },
  {
   "cell_type": "code",
   "execution_count": 8,
   "id": "4cdac0b6",
   "metadata": {},
   "outputs": [],
   "source": [
    "# sv_rotD50 = pd.read_csv('data/Spectral_velocity_rotD50.csv', index_col='GMID')\n",
    "# sd_rotD50 = pd.read_csv('data/Spectral_Displacement_rotD50.csv', index_col='GMID')"
   ]
  },
  {
   "cell_type": "code",
   "execution_count": 9,
   "id": "0021466c",
   "metadata": {},
   "outputs": [],
   "source": [
    "def extract_EDP_data(baseDir, buildingIndex, edp_type = 'SDR', pairingID = 1, numGM = 826, \n",
    "                    remove_collapse = False):\n",
    "    \n",
    "    dataDir = dataDir = os.path.join(baseDir, *['Results', 'IM_study_826GMs', BuildingList[buildingIndex]])\n",
    "#     dataDir = dataDir = os.path.join(baseDir, *['Results', 'IM_study', BuildingList[buildingIndex]])\n",
    "    edp = pd.read_csv(os.path.join(dataDir, '%s.csv'%edp_type), header = None)\n",
    "    \n",
    "    numStory = int(BuildingList[buildingIndex].split('_')[0][1])\n",
    "    base_col_names = ['Hazard_Level', 'Pairing_ID', 'GM_ID']\n",
    "    if edp_type == 'PFA':\n",
    "        story_col_name = ['Story_%i'%x for x in range(numStory + 1)]\n",
    "    else:\n",
    "        story_col_name = ['Story_%i'%x for x in range(1, numStory + 1)]\n",
    "    col_names = base_col_names + story_col_name\n",
    "    edp = edp.rename(columns = dict(zip(edp.columns, col_names)))\n",
    "    \n",
    "    if pairingID == 1:\n",
    "        edp = edp[edp['Pairing_ID'] == pairingID]\n",
    "        start_index_multiplier = 0\n",
    "        end_index_multiplier = 1\n",
    "    elif pairingID == 2:\n",
    "        edp = edp[edp['Pairing_ID'] == pairingID]\n",
    "        start_index_multiplier = 2\n",
    "        end_index_multiplier = 3\n",
    "    else:\n",
    "        pass\n",
    "        \n",
    "    direction = []\n",
    "    for i in range(len(edp)):\n",
    "        if ((edp['GM_ID'].values[i]> numGM * start_index_multiplier) &\n",
    "            (edp['GM_ID'].values[i]<= numGM * end_index_multiplier)):\n",
    "            direction.append('X')\n",
    "        elif ((edp['GM_ID'].values[i] > 826 * end_index_multiplier) &\n",
    "              (edp['GM_ID'].values[i] <= 826 * (end_index_multiplier + 1))):\n",
    "            direction.append('Z')\n",
    "        else:\n",
    "            pass\n",
    "\n",
    "    edp['Direction'] = direction\n",
    "    if edp_type == 'SDR':\n",
    "        if remove_collapse:\n",
    "            edp = edp[edp['Story_1'] < 0.1]\n",
    "    edp['Max_EDP'] = edp.loc[:,story_col_name].max(axis=1)\n",
    "#     print(len(direction))\n",
    "    return edp"
   ]
  },
  {
   "cell_type": "code",
   "execution_count": null,
   "id": "82ca714f",
   "metadata": {},
   "outputs": [],
   "source": [
    "sdr = extract_EDP_data(baseDir, 9, edp_type='SDR', pairingID=1, numGM=826, remove_collapse=True)\n",
    "sdr_all = extract_EDP_data(baseDir, 9, edp_type='SDR', pairingID=1, numGM=826, remove_collapse=False)\n",
    "sdr.head()"
   ]
  },
  {
   "cell_type": "code",
   "execution_count": null,
   "id": "f60f3a7b",
   "metadata": {},
   "outputs": [],
   "source": [
    "gm_ID_index_X = [sdr_all['GM_ID'].tolist().index(x) for x in sdr[sdr['Direction'] == 'X']['GM_ID'].values]\n",
    "len(gm_ID_index_X)"
   ]
  },
  {
   "cell_type": "code",
   "execution_count": null,
   "id": "175bed36",
   "metadata": {},
   "outputs": [],
   "source": []
  },
  {
   "cell_type": "code",
   "execution_count": null,
   "id": "de297afe",
   "metadata": {},
   "outputs": [],
   "source": []
  },
  {
   "cell_type": "code",
   "execution_count": null,
   "id": "6f283e00",
   "metadata": {},
   "outputs": [],
   "source": [
    "ols_sdrX.qqplot()"
   ]
  },
  {
   "cell_type": "code",
   "execution_count": null,
   "id": "e40a2cac",
   "metadata": {},
   "outputs": [],
   "source": []
  },
  {
   "cell_type": "code",
   "execution_count": 25,
   "id": "47227730",
   "metadata": {},
   "outputs": [],
   "source": [
    "def compile_KL_divergence(building_Index, baseDir, IM_List, df_IMs, pairingID = 1,\n",
    "                          numGM = 826, remove_collapse = False, KL_on_residual=False,\n",
    "                         use_predicted_IM):\n",
    "    ## time period of the buildings, used to get Sa(T1)\n",
    "    T = np.array([0.13, 0.12, 0.22, 0.22, 0.16, 0.15, 0.26, 0.25, 0.49, 0.49])\n",
    "    \n",
    "    sdr_all = extract_EDP_data(baseDir, building_Index, edp_type='SDR', pairingID=pairingID,\n",
    "                           numGM=numGM, remove_collapse=False)\n",
    "    sdr = extract_EDP_data(baseDir, building_Index, edp_type='SDR', pairingID=pairingID,\n",
    "                           numGM=numGM, remove_collapse=remove_collapse)\n",
    "    \n",
    "    sdrX = sdr[sdr['Direction'] == 'X']['Max_EDP'].values\n",
    "    sdrZ = sdr[sdr['Direction'] == 'Z']['Max_EDP'].values\n",
    "    pfa = extract_EDP_data(baseDir, building_Index, edp_type='PFA', pairingID=pairingID, numGM=numGM)\n",
    "    pfa = pfa[pfa['GM_ID'].isin(sdr['GM_ID'].values)] # if collapse is remove, this gives consistent pfa data \n",
    "    pfaX = pfa[pfa['Direction'] == 'X']['Max_EDP'].values\n",
    "    pfaZ = pfa[pfa['Direction'] == 'Z']['Max_EDP'].values\n",
    "    \n",
    "    gm_ID_index_X = [sdr_all[sdr_all['Direction']=='X']['GM_ID'].tolist().index(x) for x in sdr[sdr['Direction'] == 'X']['GM_ID'].values]\n",
    "    gm_ID_index_Z = [sdr_all[sdr_all['Direction']=='Z']['GM_ID'].tolist().index(x) for x in sdr[sdr['Direction'] == 'Z']['GM_ID'].values]\n",
    "    \n",
    "    M = df_IMs['Magnitude'].values\n",
    "    Rjb = df_IMs['Distance_Rjb'].values\n",
    "    \n",
    "\n",
    "    kld_sdrX = []\n",
    "    kld_sdrZ = []\n",
    "    kld_pfaX = []\n",
    "    kld_pfaZ = []\n",
    "    \n",
    "    kld_sdrX_R = []\n",
    "    kld_sdrZ_R = []\n",
    "    kld_pfaX_R = []\n",
    "    kld_pfaZ_R = []\n",
    "    \n",
    "    kld_sdrX_M_R = []\n",
    "    kld_sdrZ_M_R = []\n",
    "    kld_pfaX_M_R = []\n",
    "    kld_pfaZ_M_R = []\n",
    "    \n",
    "    for i in range(len(IM_List)):\n",
    "\n",
    "        if IM_List[i] == 'SaT1':\n",
    "            IM = df_IMs['T_%s'%T[building_Index]].values\n",
    "        else:\n",
    "            IM = df_IMs[IM_List[i]]\n",
    "        \n",
    "#         print(len(IM[gm_ID_index_Z]), len(sdrZ))\n",
    "#         print(len(IM[gm_ID_index_X]), len(sdrX))\n",
    "        sdrX_pred = OLS(sdrX, IM[gm_ID_index_X]).get_pred_values()\n",
    "        sdrZ_pred = OLS(sdrZ, IM[gm_ID_index_Z]).get_pred_values()\n",
    "        pfaX_pred = OLS(pfaX, IM[gm_ID_index_X]).get_pred_values()\n",
    "        pfaZ_pred = OLS(pfaZ, IM[gm_ID_index_Z]).get_pred_values()\n",
    "\n",
    "        sdrX_pred_M = fit_against_IM_and_M(sdrX, IM[gm_ID_index_X],\n",
    "                                           M[gm_ID_index_X]).get_prediction().predicted_mean\n",
    "        sdrZ_pred_M = fit_against_IM_and_M(sdrZ, IM[gm_ID_index_Z],\n",
    "                                           M[gm_ID_index_Z]).get_prediction().predicted_mean\n",
    "        pfaX_pred_M = fit_against_IM_and_M(pfaX, IM[gm_ID_index_X],\n",
    "                                           M[gm_ID_index_X]).get_prediction().predicted_mean\n",
    "        pfaZ_pred_M = fit_against_IM_and_M(pfaZ, IM[gm_ID_index_Z],\n",
    "                                           M[gm_ID_index_Z]).get_prediction().predicted_mean\n",
    "        \n",
    "        sdrX_pred_R = fit_against_IM_and_Rjb(sdrX, IM[gm_ID_index_X],\n",
    "                                             Rjb[gm_ID_index_X]).get_prediction().predicted_mean\n",
    "        sdrZ_pred_R = fit_against_IM_and_Rjb(sdrZ, IM[gm_ID_index_Z],\n",
    "                                             Rjb[gm_ID_index_Z]).get_prediction().predicted_mean\n",
    "        pfaX_pred_R = fit_against_IM_and_Rjb(pfaX, IM[gm_ID_index_X],\n",
    "                                             Rjb[gm_ID_index_X]).get_prediction().predicted_mean\n",
    "        pfaZ_pred_R = fit_against_IM_and_Rjb(pfaZ, IM[gm_ID_index_Z],\n",
    "                                             Rjb[gm_ID_index_Z]).get_prediction().predicted_mean\n",
    "        \n",
    "        sdrX_pred_M_R = fit_against_IM_and_M_Rjb(sdrX, IM[gm_ID_index_X], M[gm_ID_index_X],\n",
    "                                             Rjb[gm_ID_index_X]).get_prediction().predicted_mean\n",
    "        sdrZ_pred_M_R = fit_against_IM_and_M_Rjb(sdrZ, IM[gm_ID_index_Z], M[gm_ID_index_Z],\n",
    "                                             Rjb[gm_ID_index_Z]).get_prediction().predicted_mean\n",
    "        pfaX_pred_M_R = fit_against_IM_and_M_Rjb(pfaX, IM[gm_ID_index_X], M[gm_ID_index_X],\n",
    "                                             Rjb[gm_ID_index_X]).get_prediction().predicted_mean\n",
    "        pfaZ_pred_M_R = fit_against_IM_and_M_Rjb(pfaZ, IM[gm_ID_index_Z], M[gm_ID_index_Z],\n",
    "                                             Rjb[gm_ID_index_Z]).get_prediction().predicted_mean\n",
    "\n",
    "        \n",
    "        if KL_on_residual:\n",
    "            sdrX_pred = OLS(sdrX, IM[gm_ID_index_X]).get_residual()\n",
    "            sdrZ_pred = OLS(sdrZ, IM[gm_ID_index_Z]).get_residual()\n",
    "            pfaX_pred = OLS(pfaX, IM[gm_ID_index_X]).get_residual()\n",
    "            pfaZ_pred = OLS(pfaZ, IM[gm_ID_index_Z]).get_residual()\n",
    "\n",
    "            sdrX_pred_M = fit_against_IM_and_M(sdrX, IM[gm_ID_index_X], M[gm_ID_index_X]).resid\n",
    "            sdrZ_pred_M = fit_against_IM_and_M(sdrZ, IM[gm_ID_index_Z], M[gm_ID_index_Z]).resid\n",
    "            pfaX_pred_M = fit_against_IM_and_M(pfaX, IM[gm_ID_index_X], M[gm_ID_index_X]).resid\n",
    "            pfaZ_pred_M = fit_against_IM_and_M(pfaZ, IM[gm_ID_index_Z], M[gm_ID_index_Z]).resid\n",
    "\n",
    "            sdrX_pred_R = fit_against_IM_and_Rjb(sdrX, IM[gm_ID_index_X], Rjb[gm_ID_index_X]).resid\n",
    "            sdrZ_pred_R = fit_against_IM_and_Rjb(sdrZ, IM[gm_ID_index_Z], Rjb[gm_ID_index_Z]).resid\n",
    "            pfaX_pred_R = fit_against_IM_and_Rjb(pfaX, IM[gm_ID_index_X], Rjb[gm_ID_index_X]).resid\n",
    "            pfaZ_pred_R = fit_against_IM_and_Rjb(pfaZ, IM[gm_ID_index_Z], Rjb[gm_ID_index_Z]).resid\n",
    "            \n",
    "            sdrX_pred_M_R = fit_against_IM_and_M_Rjb(sdrX, IM[gm_ID_index_X], M[gm_ID_index_X],\n",
    "                                             Rjb[gm_ID_index_X]).resid\n",
    "            sdrZ_pred_M_R = fit_against_IM_and_M_Rjb(sdrZ, IM[gm_ID_index_Z], M[gm_ID_index_Z],\n",
    "                                                 Rjb[gm_ID_index_Z]).resid\n",
    "            pfaX_pred_M_R = fit_against_IM_and_M_Rjb(pfaX, IM[gm_ID_index_X], M[gm_ID_index_X],\n",
    "                                                 Rjb[gm_ID_index_X]).resid\n",
    "            pfaZ_pred_M_R = fit_against_IM_and_M_Rjb(pfaZ, IM[gm_ID_index_Z], M[gm_ID_index_Z],\n",
    "                                                 Rjb[gm_ID_index_Z]).resid\n",
    "            \n",
    "            ## scipy.stats.entropy normalizes pk and qk if they don't sum to 1\n",
    "#         kld_sdrX.append(stats.entropy(pk=sdrX_pred, qk=sdrX_pred_M))\n",
    "#         kld_sdrZ.append(stats.entropy(pk=sdrZ_pred, qk=sdrZ_pred_M))\n",
    "#         kld_pfaX.append(stats.entropy(pk=pfaX_pred, qk=pfaX_pred_M))\n",
    "#         kld_pfaZ.append(stats.entropy(pk=pfaZ_pred, qk=pfaZ_pred_M))\n",
    "        \n",
    "#         kld_sdrX_R.append(stats.entropy(pk=sdrX_pred, qk=sdrX_pred_R))\n",
    "#         kld_sdrZ_R.append(stats.entropy(pk=sdrZ_pred, qk=sdrZ_pred_R))\n",
    "#         kld_pfaX_R.append(stats.entropy(pk=pfaX_pred, qk=pfaX_pred_R))\n",
    "#         kld_pfaZ_R.append(stats.entropy(pk=pfaZ_pred, qk=pfaZ_pred_R))\n",
    "        \n",
    "        kld_sdrX.append(compute_KL_divergence(p=sdrX_pred, q=sdrX_pred_M))\n",
    "        kld_sdrZ.append(compute_KL_divergence(p=sdrZ_pred, q=sdrZ_pred_M))\n",
    "        kld_pfaX.append(compute_KL_divergence(p=pfaX_pred, q=pfaX_pred_M))\n",
    "        kld_pfaZ.append(compute_KL_divergence(p=pfaZ_pred, q=pfaZ_pred_M))\n",
    "        \n",
    "        kld_sdrX_R.append(compute_KL_divergence(p=sdrX_pred, q=sdrX_pred_R))\n",
    "        kld_sdrZ_R.append(compute_KL_divergence(p=sdrZ_pred, q=sdrZ_pred_R))\n",
    "        kld_pfaX_R.append(compute_KL_divergence(p=pfaX_pred, q=pfaX_pred_R))\n",
    "        kld_pfaZ_R.append(compute_KL_divergence(p=pfaZ_pred, q=pfaZ_pred_R))\n",
    "        \n",
    "        kld_sdrX_M_R.append(compute_KL_divergence(p=sdrX_pred, q=sdrX_pred_M_R))\n",
    "        kld_sdrZ_M_R.append(compute_KL_divergence(p=sdrZ_pred, q=sdrZ_pred_M_R))\n",
    "        kld_pfaX_M_R.append(compute_KL_divergence(p=pfaX_pred, q=pfaX_pred_M_R))\n",
    "        kld_pfaZ_M_R.append(compute_KL_divergence(p=pfaZ_pred, q=pfaZ_pred_M_R))\n",
    "\n",
    "    d = {\n",
    "        'IM': IM_List,\n",
    "        'KL(sdrX|im, sdrX|im,M)': kld_sdrX,\n",
    "        'KL(sdrZ|im, sdrZ|im,M)': kld_sdrZ,\n",
    "        'KL(pfaX|im, pfaX|im,M)': kld_pfaX,\n",
    "        'KL(pfaZ|im, pfaZ|im,M)': kld_pfaZ,\n",
    "        'KL(sdrX|im, sdrX|im,R)': kld_sdrX_R,\n",
    "        'KL(sdrZ|im, sdrZ|im,R)': kld_sdrZ_R,\n",
    "        'KL(pfaX|im, pfaX|im,R)': kld_pfaX_R,\n",
    "        'KL(pfaZ|im, pfaZ|im,R)': kld_pfaZ_R,\n",
    "        'KL(sdrX|im, sdrX|im,M,R)': kld_sdrX_M_R,\n",
    "        'KL(sdrZ|im, sdrZ|im,M,R)': kld_sdrZ_M_R,\n",
    "        'KL(pfaX|im, pfaX|im,M,R)': kld_pfaX_M_R,\n",
    "        'KL(pfaZ|im, pfaZ|im,M,R)': kld_pfaZ_M_R\n",
    "    }\n",
    "    df = pd.DataFrame(d)\n",
    "    return df\n"
   ]
  },
  {
   "cell_type": "code",
   "execution_count": 28,
   "id": "f01c07f1",
   "metadata": {},
   "outputs": [
    {
     "data": {
      "text/html": [
       "<div>\n",
       "<style scoped>\n",
       "    .dataframe tbody tr th:only-of-type {\n",
       "        vertical-align: middle;\n",
       "    }\n",
       "\n",
       "    .dataframe tbody tr th {\n",
       "        vertical-align: top;\n",
       "    }\n",
       "\n",
       "    .dataframe thead th {\n",
       "        text-align: right;\n",
       "    }\n",
       "</style>\n",
       "<table border=\"1\" class=\"dataframe\">\n",
       "  <thead>\n",
       "    <tr style=\"text-align: right;\">\n",
       "      <th></th>\n",
       "      <th>0</th>\n",
       "      <th>1</th>\n",
       "      <th>2</th>\n",
       "      <th>3</th>\n",
       "      <th>4</th>\n",
       "      <th>5</th>\n",
       "      <th>6</th>\n",
       "      <th>7</th>\n",
       "      <th>8</th>\n",
       "      <th>9</th>\n",
       "    </tr>\n",
       "  </thead>\n",
       "  <tbody>\n",
       "    <tr>\n",
       "      <th>IM</th>\n",
       "      <td>SaT1</td>\n",
       "      <td>PGA</td>\n",
       "      <td>PGV</td>\n",
       "      <td>Sa_avg</td>\n",
       "      <td>CAV</td>\n",
       "      <td>SI</td>\n",
       "      <td>ASI</td>\n",
       "      <td>DSI</td>\n",
       "      <td>DS_5to75</td>\n",
       "      <td>DS_5to95</td>\n",
       "    </tr>\n",
       "    <tr>\n",
       "      <th>KL(sdrX|im, sdrX|im,M)</th>\n",
       "      <td>0.000045</td>\n",
       "      <td>0.000291</td>\n",
       "      <td>0.000001</td>\n",
       "      <td>0.000037</td>\n",
       "      <td>0.000088</td>\n",
       "      <td>0.0</td>\n",
       "      <td>0.000449</td>\n",
       "      <td>0.0</td>\n",
       "      <td>0.053417</td>\n",
       "      <td>0.038472</td>\n",
       "    </tr>\n",
       "    <tr>\n",
       "      <th>KL(sdrZ|im, sdrZ|im,M)</th>\n",
       "      <td>0.000034</td>\n",
       "      <td>0.000228</td>\n",
       "      <td>0.000003</td>\n",
       "      <td>0.000027</td>\n",
       "      <td>0.000128</td>\n",
       "      <td>0.0</td>\n",
       "      <td>0.000378</td>\n",
       "      <td>0.0</td>\n",
       "      <td>0.047095</td>\n",
       "      <td>0.034712</td>\n",
       "    </tr>\n",
       "    <tr>\n",
       "      <th>KL(pfaX|im, pfaX|im,M)</th>\n",
       "      <td>0.000002</td>\n",
       "      <td>0.0</td>\n",
       "      <td>0.000598</td>\n",
       "      <td>0.000003</td>\n",
       "      <td>0.002706</td>\n",
       "      <td>0.00022</td>\n",
       "      <td>0.0</td>\n",
       "      <td>0.000587</td>\n",
       "      <td>0.008053</td>\n",
       "      <td>0.004765</td>\n",
       "    </tr>\n",
       "    <tr>\n",
       "      <th>KL(pfaZ|im, pfaZ|im,M)</th>\n",
       "      <td>0.000009</td>\n",
       "      <td>0.0</td>\n",
       "      <td>0.000975</td>\n",
       "      <td>0.000012</td>\n",
       "      <td>0.003798</td>\n",
       "      <td>0.000394</td>\n",
       "      <td>0.0</td>\n",
       "      <td>0.00107</td>\n",
       "      <td>0.005707</td>\n",
       "      <td>0.00301</td>\n",
       "    </tr>\n",
       "    <tr>\n",
       "      <th>KL(sdrX|im, sdrX|im,R)</th>\n",
       "      <td>0.0005</td>\n",
       "      <td>0.000802</td>\n",
       "      <td>0.002175</td>\n",
       "      <td>0.000241</td>\n",
       "      <td>0.008595</td>\n",
       "      <td>0.000943</td>\n",
       "      <td>0.001002</td>\n",
       "      <td>0.031942</td>\n",
       "      <td>0.160528</td>\n",
       "      <td>0.154471</td>\n",
       "    </tr>\n",
       "    <tr>\n",
       "      <th>KL(sdrZ|im, sdrZ|im,R)</th>\n",
       "      <td>0.000114</td>\n",
       "      <td>0.00014</td>\n",
       "      <td>0.000771</td>\n",
       "      <td>0.000035</td>\n",
       "      <td>0.004407</td>\n",
       "      <td>0.00041</td>\n",
       "      <td>0.000269</td>\n",
       "      <td>0.025583</td>\n",
       "      <td>0.111916</td>\n",
       "      <td>0.116212</td>\n",
       "    </tr>\n",
       "    <tr>\n",
       "      <th>KL(pfaX|im, pfaX|im,R)</th>\n",
       "      <td>0.0</td>\n",
       "      <td>0.0</td>\n",
       "      <td>0.0009</td>\n",
       "      <td>0.0</td>\n",
       "      <td>0.003446</td>\n",
       "      <td>0.000399</td>\n",
       "      <td>0.0</td>\n",
       "      <td>0.039211</td>\n",
       "      <td>0.024003</td>\n",
       "      <td>0.041656</td>\n",
       "    </tr>\n",
       "    <tr>\n",
       "      <th>KL(pfaZ|im, pfaZ|im,R)</th>\n",
       "      <td>0.000003</td>\n",
       "      <td>0.0</td>\n",
       "      <td>0.001665</td>\n",
       "      <td>0.0</td>\n",
       "      <td>0.004572</td>\n",
       "      <td>0.001101</td>\n",
       "      <td>0.0</td>\n",
       "      <td>0.057704</td>\n",
       "      <td>0.021466</td>\n",
       "      <td>0.034927</td>\n",
       "    </tr>\n",
       "    <tr>\n",
       "      <th>KL(sdrX|im, sdrX|im,M,R)</th>\n",
       "      <td>0.001487</td>\n",
       "      <td>0.003285</td>\n",
       "      <td>0.002776</td>\n",
       "      <td>0.000911</td>\n",
       "      <td>0.009089</td>\n",
       "      <td>0.001335</td>\n",
       "      <td>0.004083</td>\n",
       "      <td>0.040275</td>\n",
       "      <td>0.219293</td>\n",
       "      <td>0.208145</td>\n",
       "    </tr>\n",
       "    <tr>\n",
       "      <th>KL(sdrZ|im, sdrZ|im,M,R)</th>\n",
       "      <td>0.000513</td>\n",
       "      <td>0.001208</td>\n",
       "      <td>0.000885</td>\n",
       "      <td>0.00026</td>\n",
       "      <td>0.004447</td>\n",
       "      <td>0.000557</td>\n",
       "      <td>0.001946</td>\n",
       "      <td>0.032172</td>\n",
       "      <td>0.170513</td>\n",
       "      <td>0.169203</td>\n",
       "    </tr>\n",
       "    <tr>\n",
       "      <th>KL(pfaX|im, pfaX|im,M,R)</th>\n",
       "      <td>0.000002</td>\n",
       "      <td>0.0</td>\n",
       "      <td>0.001344</td>\n",
       "      <td>0.000008</td>\n",
       "      <td>0.00548</td>\n",
       "      <td>0.000593</td>\n",
       "      <td>0.0</td>\n",
       "      <td>0.039695</td>\n",
       "      <td>0.041715</td>\n",
       "      <td>0.057168</td>\n",
       "    </tr>\n",
       "    <tr>\n",
       "      <th>KL(pfaZ|im, pfaZ|im,M,R)</th>\n",
       "      <td>0.000013</td>\n",
       "      <td>0.0</td>\n",
       "      <td>0.002349</td>\n",
       "      <td>0.000014</td>\n",
       "      <td>0.007393</td>\n",
       "      <td>0.001415</td>\n",
       "      <td>0.0</td>\n",
       "      <td>0.058253</td>\n",
       "      <td>0.035375</td>\n",
       "      <td>0.046484</td>\n",
       "    </tr>\n",
       "  </tbody>\n",
       "</table>\n",
       "</div>"
      ],
      "text/plain": [
       "                                 0         1         2         3         4  \\\n",
       "IM                            SaT1       PGA       PGV    Sa_avg       CAV   \n",
       "KL(sdrX|im, sdrX|im,M)    0.000045  0.000291  0.000001  0.000037  0.000088   \n",
       "KL(sdrZ|im, sdrZ|im,M)    0.000034  0.000228  0.000003  0.000027  0.000128   \n",
       "KL(pfaX|im, pfaX|im,M)    0.000002       0.0  0.000598  0.000003  0.002706   \n",
       "KL(pfaZ|im, pfaZ|im,M)    0.000009       0.0  0.000975  0.000012  0.003798   \n",
       "KL(sdrX|im, sdrX|im,R)      0.0005  0.000802  0.002175  0.000241  0.008595   \n",
       "KL(sdrZ|im, sdrZ|im,R)    0.000114   0.00014  0.000771  0.000035  0.004407   \n",
       "KL(pfaX|im, pfaX|im,R)         0.0       0.0    0.0009       0.0  0.003446   \n",
       "KL(pfaZ|im, pfaZ|im,R)    0.000003       0.0  0.001665       0.0  0.004572   \n",
       "KL(sdrX|im, sdrX|im,M,R)  0.001487  0.003285  0.002776  0.000911  0.009089   \n",
       "KL(sdrZ|im, sdrZ|im,M,R)  0.000513  0.001208  0.000885   0.00026  0.004447   \n",
       "KL(pfaX|im, pfaX|im,M,R)  0.000002       0.0  0.001344  0.000008   0.00548   \n",
       "KL(pfaZ|im, pfaZ|im,M,R)  0.000013       0.0  0.002349  0.000014  0.007393   \n",
       "\n",
       "                                 5         6         7         8         9  \n",
       "IM                              SI       ASI       DSI  DS_5to75  DS_5to95  \n",
       "KL(sdrX|im, sdrX|im,M)         0.0  0.000449       0.0  0.053417  0.038472  \n",
       "KL(sdrZ|im, sdrZ|im,M)         0.0  0.000378       0.0  0.047095  0.034712  \n",
       "KL(pfaX|im, pfaX|im,M)     0.00022       0.0  0.000587  0.008053  0.004765  \n",
       "KL(pfaZ|im, pfaZ|im,M)    0.000394       0.0   0.00107  0.005707   0.00301  \n",
       "KL(sdrX|im, sdrX|im,R)    0.000943  0.001002  0.031942  0.160528  0.154471  \n",
       "KL(sdrZ|im, sdrZ|im,R)     0.00041  0.000269  0.025583  0.111916  0.116212  \n",
       "KL(pfaX|im, pfaX|im,R)    0.000399       0.0  0.039211  0.024003  0.041656  \n",
       "KL(pfaZ|im, pfaZ|im,R)    0.001101       0.0  0.057704  0.021466  0.034927  \n",
       "KL(sdrX|im, sdrX|im,M,R)  0.001335  0.004083  0.040275  0.219293  0.208145  \n",
       "KL(sdrZ|im, sdrZ|im,M,R)  0.000557  0.001946  0.032172  0.170513  0.169203  \n",
       "KL(pfaX|im, pfaX|im,M,R)  0.000593       0.0  0.039695  0.041715  0.057168  \n",
       "KL(pfaZ|im, pfaZ|im,M,R)  0.001415       0.0  0.058253  0.035375  0.046484  "
      ]
     },
     "execution_count": 28,
     "metadata": {},
     "output_type": "execute_result"
    }
   ],
   "source": [
    "IM_list = ['SaT1', 'PGA', 'PGV', 'Sa_avg', 'CAV', 'SI', 'ASI', 'DSI','DS_5to75', 'DS_5to95' ]\n",
    "a = compile_KL_divergence(9, baseDir, IM_list, gminfo_rotD50, pairingID=1, numGM=826, remove_collapse=False)\n",
    "a.T"
   ]
  },
  {
   "cell_type": "code",
   "execution_count": 29,
   "id": "ce444220",
   "metadata": {},
   "outputs": [
    {
     "data": {
      "text/html": [
       "<div>\n",
       "<style scoped>\n",
       "    .dataframe tbody tr th:only-of-type {\n",
       "        vertical-align: middle;\n",
       "    }\n",
       "\n",
       "    .dataframe tbody tr th {\n",
       "        vertical-align: top;\n",
       "    }\n",
       "\n",
       "    .dataframe thead th {\n",
       "        text-align: right;\n",
       "    }\n",
       "</style>\n",
       "<table border=\"1\" class=\"dataframe\">\n",
       "  <thead>\n",
       "    <tr style=\"text-align: right;\">\n",
       "      <th></th>\n",
       "      <th>0</th>\n",
       "      <th>1</th>\n",
       "      <th>2</th>\n",
       "      <th>3</th>\n",
       "      <th>4</th>\n",
       "      <th>5</th>\n",
       "      <th>6</th>\n",
       "      <th>7</th>\n",
       "      <th>8</th>\n",
       "      <th>9</th>\n",
       "    </tr>\n",
       "  </thead>\n",
       "  <tbody>\n",
       "    <tr>\n",
       "      <th>IM</th>\n",
       "      <td>SaT1</td>\n",
       "      <td>PGA</td>\n",
       "      <td>PGV</td>\n",
       "      <td>Sa_avg</td>\n",
       "      <td>CAV</td>\n",
       "      <td>SI</td>\n",
       "      <td>ASI</td>\n",
       "      <td>DSI</td>\n",
       "      <td>DS_5to75</td>\n",
       "      <td>DS_5to95</td>\n",
       "    </tr>\n",
       "    <tr>\n",
       "      <th>KL(sdrX|im, sdrX|im,M)</th>\n",
       "      <td>0.00024</td>\n",
       "      <td>0.000896</td>\n",
       "      <td>0.000003</td>\n",
       "      <td>0.000201</td>\n",
       "      <td>0.000154</td>\n",
       "      <td>0.0</td>\n",
       "      <td>0.001454</td>\n",
       "      <td>0.0</td>\n",
       "      <td>0.008935</td>\n",
       "      <td>0.005766</td>\n",
       "    </tr>\n",
       "    <tr>\n",
       "      <th>KL(sdrZ|im, sdrZ|im,M)</th>\n",
       "      <td>0.000352</td>\n",
       "      <td>0.001379</td>\n",
       "      <td>0.00001</td>\n",
       "      <td>0.000289</td>\n",
       "      <td>0.000406</td>\n",
       "      <td>0.0</td>\n",
       "      <td>0.002155</td>\n",
       "      <td>0.0</td>\n",
       "      <td>0.012157</td>\n",
       "      <td>0.007187</td>\n",
       "    </tr>\n",
       "    <tr>\n",
       "      <th>KL(pfaX|im, pfaX|im,M)</th>\n",
       "      <td>0.000245</td>\n",
       "      <td>0.0</td>\n",
       "      <td>0.002047</td>\n",
       "      <td>0.000449</td>\n",
       "      <td>0.012305</td>\n",
       "      <td>0.001007</td>\n",
       "      <td>0.000035</td>\n",
       "      <td>0.000193</td>\n",
       "      <td>0.006698</td>\n",
       "      <td>0.001838</td>\n",
       "    </tr>\n",
       "    <tr>\n",
       "      <th>KL(pfaZ|im, pfaZ|im,M)</th>\n",
       "      <td>0.000748</td>\n",
       "      <td>0.000011</td>\n",
       "      <td>0.003116</td>\n",
       "      <td>0.001827</td>\n",
       "      <td>0.018499</td>\n",
       "      <td>0.001391</td>\n",
       "      <td>0.0</td>\n",
       "      <td>0.000277</td>\n",
       "      <td>0.00605</td>\n",
       "      <td>0.001561</td>\n",
       "    </tr>\n",
       "    <tr>\n",
       "      <th>KL(sdrX|im, sdrX|im,R)</th>\n",
       "      <td>0.003053</td>\n",
       "      <td>0.002695</td>\n",
       "      <td>0.00702</td>\n",
       "      <td>0.001423</td>\n",
       "      <td>0.027518</td>\n",
       "      <td>0.004377</td>\n",
       "      <td>0.003527</td>\n",
       "      <td>0.039147</td>\n",
       "      <td>0.07336</td>\n",
       "      <td>0.071446</td>\n",
       "    </tr>\n",
       "    <tr>\n",
       "      <th>KL(sdrZ|im, sdrZ|im,R)</th>\n",
       "      <td>0.001262</td>\n",
       "      <td>0.00082</td>\n",
       "      <td>0.003867</td>\n",
       "      <td>0.000372</td>\n",
       "      <td>0.022447</td>\n",
       "      <td>0.002562</td>\n",
       "      <td>0.001488</td>\n",
       "      <td>0.033581</td>\n",
       "      <td>0.058403</td>\n",
       "      <td>0.058421</td>\n",
       "    </tr>\n",
       "    <tr>\n",
       "      <th>KL(pfaX|im, pfaX|im,R)</th>\n",
       "      <td>0.000007</td>\n",
       "      <td>0.000008</td>\n",
       "      <td>0.003221</td>\n",
       "      <td>0.000014</td>\n",
       "      <td>0.016683</td>\n",
       "      <td>0.001909</td>\n",
       "      <td>0.000021</td>\n",
       "      <td>0.032279</td>\n",
       "      <td>0.030209</td>\n",
       "      <td>0.033993</td>\n",
       "    </tr>\n",
       "    <tr>\n",
       "      <th>KL(pfaZ|im, pfaZ|im,R)</th>\n",
       "      <td>0.000218</td>\n",
       "      <td>0.000005</td>\n",
       "      <td>0.005751</td>\n",
       "      <td>0.0</td>\n",
       "      <td>0.023621</td>\n",
       "      <td>0.004332</td>\n",
       "      <td>0.000002</td>\n",
       "      <td>0.044784</td>\n",
       "      <td>0.036804</td>\n",
       "      <td>0.039317</td>\n",
       "    </tr>\n",
       "    <tr>\n",
       "      <th>KL(sdrX|im, sdrX|im,M,R)</th>\n",
       "      <td>0.010703</td>\n",
       "      <td>0.014136</td>\n",
       "      <td>0.009416</td>\n",
       "      <td>0.006202</td>\n",
       "      <td>0.029781</td>\n",
       "      <td>0.006533</td>\n",
       "      <td>0.019078</td>\n",
       "      <td>0.058308</td>\n",
       "      <td>0.178103</td>\n",
       "      <td>0.163209</td>\n",
       "    </tr>\n",
       "    <tr>\n",
       "      <th>KL(sdrZ|im, sdrZ|im,M,R)</th>\n",
       "      <td>0.006559</td>\n",
       "      <td>0.008922</td>\n",
       "      <td>0.004517</td>\n",
       "      <td>0.003111</td>\n",
       "      <td>0.022719</td>\n",
       "      <td>0.003604</td>\n",
       "      <td>0.014229</td>\n",
       "      <td>0.04885</td>\n",
       "      <td>0.169284</td>\n",
       "      <td>0.149857</td>\n",
       "    </tr>\n",
       "    <tr>\n",
       "      <th>KL(pfaX|im, pfaX|im,M,R)</th>\n",
       "      <td>0.000252</td>\n",
       "      <td>0.000008</td>\n",
       "      <td>0.005077</td>\n",
       "      <td>0.001203</td>\n",
       "      <td>0.030923</td>\n",
       "      <td>0.002955</td>\n",
       "      <td>0.000075</td>\n",
       "      <td>0.032943</td>\n",
       "      <td>0.077184</td>\n",
       "      <td>0.059806</td>\n",
       "    </tr>\n",
       "    <tr>\n",
       "      <th>KL(pfaZ|im, pfaZ|im,M,R)</th>\n",
       "      <td>0.001133</td>\n",
       "      <td>0.000057</td>\n",
       "      <td>0.008649</td>\n",
       "      <td>0.002194</td>\n",
       "      <td>0.046377</td>\n",
       "      <td>0.00578</td>\n",
       "      <td>0.000002</td>\n",
       "      <td>0.045568</td>\n",
       "      <td>0.086248</td>\n",
       "      <td>0.065038</td>\n",
       "    </tr>\n",
       "  </tbody>\n",
       "</table>\n",
       "</div>"
      ],
      "text/plain": [
       "                                 0         1         2         3         4  \\\n",
       "IM                            SaT1       PGA       PGV    Sa_avg       CAV   \n",
       "KL(sdrX|im, sdrX|im,M)     0.00024  0.000896  0.000003  0.000201  0.000154   \n",
       "KL(sdrZ|im, sdrZ|im,M)    0.000352  0.001379   0.00001  0.000289  0.000406   \n",
       "KL(pfaX|im, pfaX|im,M)    0.000245       0.0  0.002047  0.000449  0.012305   \n",
       "KL(pfaZ|im, pfaZ|im,M)    0.000748  0.000011  0.003116  0.001827  0.018499   \n",
       "KL(sdrX|im, sdrX|im,R)    0.003053  0.002695   0.00702  0.001423  0.027518   \n",
       "KL(sdrZ|im, sdrZ|im,R)    0.001262   0.00082  0.003867  0.000372  0.022447   \n",
       "KL(pfaX|im, pfaX|im,R)    0.000007  0.000008  0.003221  0.000014  0.016683   \n",
       "KL(pfaZ|im, pfaZ|im,R)    0.000218  0.000005  0.005751       0.0  0.023621   \n",
       "KL(sdrX|im, sdrX|im,M,R)  0.010703  0.014136  0.009416  0.006202  0.029781   \n",
       "KL(sdrZ|im, sdrZ|im,M,R)  0.006559  0.008922  0.004517  0.003111  0.022719   \n",
       "KL(pfaX|im, pfaX|im,M,R)  0.000252  0.000008  0.005077  0.001203  0.030923   \n",
       "KL(pfaZ|im, pfaZ|im,M,R)  0.001133  0.000057  0.008649  0.002194  0.046377   \n",
       "\n",
       "                                 5         6         7         8         9  \n",
       "IM                              SI       ASI       DSI  DS_5to75  DS_5to95  \n",
       "KL(sdrX|im, sdrX|im,M)         0.0  0.001454       0.0  0.008935  0.005766  \n",
       "KL(sdrZ|im, sdrZ|im,M)         0.0  0.002155       0.0  0.012157  0.007187  \n",
       "KL(pfaX|im, pfaX|im,M)    0.001007  0.000035  0.000193  0.006698  0.001838  \n",
       "KL(pfaZ|im, pfaZ|im,M)    0.001391       0.0  0.000277   0.00605  0.001561  \n",
       "KL(sdrX|im, sdrX|im,R)    0.004377  0.003527  0.039147   0.07336  0.071446  \n",
       "KL(sdrZ|im, sdrZ|im,R)    0.002562  0.001488  0.033581  0.058403  0.058421  \n",
       "KL(pfaX|im, pfaX|im,R)    0.001909  0.000021  0.032279  0.030209  0.033993  \n",
       "KL(pfaZ|im, pfaZ|im,R)    0.004332  0.000002  0.044784  0.036804  0.039317  \n",
       "KL(sdrX|im, sdrX|im,M,R)  0.006533  0.019078  0.058308  0.178103  0.163209  \n",
       "KL(sdrZ|im, sdrZ|im,M,R)  0.003604  0.014229   0.04885  0.169284  0.149857  \n",
       "KL(pfaX|im, pfaX|im,M,R)  0.002955  0.000075  0.032943  0.077184  0.059806  \n",
       "KL(pfaZ|im, pfaZ|im,M,R)   0.00578  0.000002  0.045568  0.086248  0.065038  "
      ]
     },
     "execution_count": 29,
     "metadata": {},
     "output_type": "execute_result"
    }
   ],
   "source": [
    "a = compile_KL_divergence(9, baseDir, IM_list, gminfo_rotD50, pairingID=1, numGM=826, KL_on_residual=True)\n",
    "a.T"
   ]
  },
  {
   "cell_type": "code",
   "execution_count": 129,
   "id": "4319b421",
   "metadata": {},
   "outputs": [
    {
     "data": {
      "text/html": [
       "<div>\n",
       "<style scoped>\n",
       "    .dataframe tbody tr th:only-of-type {\n",
       "        vertical-align: middle;\n",
       "    }\n",
       "\n",
       "    .dataframe tbody tr th {\n",
       "        vertical-align: top;\n",
       "    }\n",
       "\n",
       "    .dataframe thead th {\n",
       "        text-align: right;\n",
       "    }\n",
       "</style>\n",
       "<table border=\"1\" class=\"dataframe\">\n",
       "  <thead>\n",
       "    <tr style=\"text-align: right;\">\n",
       "      <th>IM</th>\n",
       "      <th>SaT1</th>\n",
       "      <th>PGA</th>\n",
       "      <th>PGV</th>\n",
       "      <th>Sa_avg</th>\n",
       "      <th>CAV</th>\n",
       "      <th>SI</th>\n",
       "      <th>ASI</th>\n",
       "      <th>DSI</th>\n",
       "      <th>DS_5to75</th>\n",
       "      <th>DS_5to95</th>\n",
       "    </tr>\n",
       "  </thead>\n",
       "  <tbody>\n",
       "    <tr>\n",
       "      <th>KL(sdrX|im, sdrX|im,M)</th>\n",
       "      <td>4.547268e-05</td>\n",
       "      <td>2.907605e-04</td>\n",
       "      <td>0.000001</td>\n",
       "      <td>3.719177e-05</td>\n",
       "      <td>0.000088</td>\n",
       "      <td>3.540355e-10</td>\n",
       "      <td>4.489677e-04</td>\n",
       "      <td>8.371958e-09</td>\n",
       "      <td>0.053417</td>\n",
       "      <td>0.038472</td>\n",
       "    </tr>\n",
       "    <tr>\n",
       "      <th>KL(sdrZ|im, sdrZ|im,M)</th>\n",
       "      <td>3.375879e-05</td>\n",
       "      <td>2.276397e-04</td>\n",
       "      <td>0.000003</td>\n",
       "      <td>2.748777e-05</td>\n",
       "      <td>0.000128</td>\n",
       "      <td>3.420718e-09</td>\n",
       "      <td>3.780257e-04</td>\n",
       "      <td>2.380254e-08</td>\n",
       "      <td>0.047095</td>\n",
       "      <td>0.034712</td>\n",
       "    </tr>\n",
       "    <tr>\n",
       "      <th>KL(pfaX|im, pfaX|im,M)</th>\n",
       "      <td>2.029090e-06</td>\n",
       "      <td>1.550119e-10</td>\n",
       "      <td>0.000598</td>\n",
       "      <td>3.029694e-06</td>\n",
       "      <td>0.002706</td>\n",
       "      <td>2.199033e-04</td>\n",
       "      <td>1.153120e-07</td>\n",
       "      <td>5.869893e-04</td>\n",
       "      <td>0.008053</td>\n",
       "      <td>0.004765</td>\n",
       "    </tr>\n",
       "    <tr>\n",
       "      <th>KL(pfaZ|im, pfaZ|im,M)</th>\n",
       "      <td>8.997383e-06</td>\n",
       "      <td>4.537583e-08</td>\n",
       "      <td>0.000975</td>\n",
       "      <td>1.212110e-05</td>\n",
       "      <td>0.003798</td>\n",
       "      <td>3.943607e-04</td>\n",
       "      <td>8.437695e-13</td>\n",
       "      <td>1.070390e-03</td>\n",
       "      <td>0.005707</td>\n",
       "      <td>0.003010</td>\n",
       "    </tr>\n",
       "    <tr>\n",
       "      <th>KL(sdrX|im, sdrX|im,R)</th>\n",
       "      <td>5.000883e-04</td>\n",
       "      <td>8.017381e-04</td>\n",
       "      <td>0.002175</td>\n",
       "      <td>2.413807e-04</td>\n",
       "      <td>0.008595</td>\n",
       "      <td>9.429581e-04</td>\n",
       "      <td>1.002131e-03</td>\n",
       "      <td>3.194249e-02</td>\n",
       "      <td>0.160528</td>\n",
       "      <td>0.154471</td>\n",
       "    </tr>\n",
       "    <tr>\n",
       "      <th>KL(sdrZ|im, sdrZ|im,R)</th>\n",
       "      <td>1.144003e-04</td>\n",
       "      <td>1.396686e-04</td>\n",
       "      <td>0.000771</td>\n",
       "      <td>3.511791e-05</td>\n",
       "      <td>0.004407</td>\n",
       "      <td>4.095100e-04</td>\n",
       "      <td>2.685714e-04</td>\n",
       "      <td>2.558253e-02</td>\n",
       "      <td>0.111916</td>\n",
       "      <td>0.116212</td>\n",
       "    </tr>\n",
       "    <tr>\n",
       "      <th>KL(pfaX|im, pfaX|im,R)</th>\n",
       "      <td>5.640318e-08</td>\n",
       "      <td>8.499851e-08</td>\n",
       "      <td>0.000900</td>\n",
       "      <td>9.671874e-08</td>\n",
       "      <td>0.003446</td>\n",
       "      <td>3.987113e-04</td>\n",
       "      <td>7.091290e-08</td>\n",
       "      <td>3.921134e-02</td>\n",
       "      <td>0.024003</td>\n",
       "      <td>0.041656</td>\n",
       "    </tr>\n",
       "    <tr>\n",
       "      <th>KL(pfaZ|im, pfaZ|im,R)</th>\n",
       "      <td>2.724011e-06</td>\n",
       "      <td>2.205210e-08</td>\n",
       "      <td>0.001665</td>\n",
       "      <td>1.332157e-11</td>\n",
       "      <td>0.004572</td>\n",
       "      <td>1.101291e-03</td>\n",
       "      <td>1.834893e-09</td>\n",
       "      <td>5.770425e-02</td>\n",
       "      <td>0.021466</td>\n",
       "      <td>0.034927</td>\n",
       "    </tr>\n",
       "    <tr>\n",
       "      <th>KL(sdrX|im, sdrX|im,M,R)</th>\n",
       "      <td>1.486657e-03</td>\n",
       "      <td>3.285441e-03</td>\n",
       "      <td>0.002776</td>\n",
       "      <td>9.107919e-04</td>\n",
       "      <td>0.009089</td>\n",
       "      <td>1.335121e-03</td>\n",
       "      <td>4.083458e-03</td>\n",
       "      <td>4.027508e-02</td>\n",
       "      <td>0.219293</td>\n",
       "      <td>0.208145</td>\n",
       "    </tr>\n",
       "    <tr>\n",
       "      <th>KL(sdrZ|im, sdrZ|im,M,R)</th>\n",
       "      <td>5.129830e-04</td>\n",
       "      <td>1.208093e-03</td>\n",
       "      <td>0.000885</td>\n",
       "      <td>2.597564e-04</td>\n",
       "      <td>0.004447</td>\n",
       "      <td>5.573927e-04</td>\n",
       "      <td>1.945706e-03</td>\n",
       "      <td>3.217194e-02</td>\n",
       "      <td>0.170513</td>\n",
       "      <td>0.169203</td>\n",
       "    </tr>\n",
       "    <tr>\n",
       "      <th>KL(pfaX|im, pfaX|im,M,R)</th>\n",
       "      <td>2.089149e-06</td>\n",
       "      <td>8.532374e-08</td>\n",
       "      <td>0.001344</td>\n",
       "      <td>7.809050e-06</td>\n",
       "      <td>0.005480</td>\n",
       "      <td>5.934112e-04</td>\n",
       "      <td>2.488536e-07</td>\n",
       "      <td>3.969534e-02</td>\n",
       "      <td>0.041715</td>\n",
       "      <td>0.057168</td>\n",
       "    </tr>\n",
       "    <tr>\n",
       "      <th>KL(pfaZ|im, pfaZ|im,M,R)</th>\n",
       "      <td>1.337988e-05</td>\n",
       "      <td>2.300417e-07</td>\n",
       "      <td>0.002349</td>\n",
       "      <td>1.439286e-05</td>\n",
       "      <td>0.007393</td>\n",
       "      <td>1.414923e-03</td>\n",
       "      <td>1.853945e-09</td>\n",
       "      <td>5.825255e-02</td>\n",
       "      <td>0.035375</td>\n",
       "      <td>0.046484</td>\n",
       "    </tr>\n",
       "  </tbody>\n",
       "</table>\n",
       "</div>"
      ],
      "text/plain": [
       "IM                                SaT1           PGA       PGV        Sa_avg  \\\n",
       "KL(sdrX|im, sdrX|im,M)    4.547268e-05  2.907605e-04  0.000001  3.719177e-05   \n",
       "KL(sdrZ|im, sdrZ|im,M)    3.375879e-05  2.276397e-04  0.000003  2.748777e-05   \n",
       "KL(pfaX|im, pfaX|im,M)    2.029090e-06  1.550119e-10  0.000598  3.029694e-06   \n",
       "KL(pfaZ|im, pfaZ|im,M)    8.997383e-06  4.537583e-08  0.000975  1.212110e-05   \n",
       "KL(sdrX|im, sdrX|im,R)    5.000883e-04  8.017381e-04  0.002175  2.413807e-04   \n",
       "KL(sdrZ|im, sdrZ|im,R)    1.144003e-04  1.396686e-04  0.000771  3.511791e-05   \n",
       "KL(pfaX|im, pfaX|im,R)    5.640318e-08  8.499851e-08  0.000900  9.671874e-08   \n",
       "KL(pfaZ|im, pfaZ|im,R)    2.724011e-06  2.205210e-08  0.001665  1.332157e-11   \n",
       "KL(sdrX|im, sdrX|im,M,R)  1.486657e-03  3.285441e-03  0.002776  9.107919e-04   \n",
       "KL(sdrZ|im, sdrZ|im,M,R)  5.129830e-04  1.208093e-03  0.000885  2.597564e-04   \n",
       "KL(pfaX|im, pfaX|im,M,R)  2.089149e-06  8.532374e-08  0.001344  7.809050e-06   \n",
       "KL(pfaZ|im, pfaZ|im,M,R)  1.337988e-05  2.300417e-07  0.002349  1.439286e-05   \n",
       "\n",
       "IM                             CAV            SI           ASI           DSI  \\\n",
       "KL(sdrX|im, sdrX|im,M)    0.000088  3.540355e-10  4.489677e-04  8.371958e-09   \n",
       "KL(sdrZ|im, sdrZ|im,M)    0.000128  3.420718e-09  3.780257e-04  2.380254e-08   \n",
       "KL(pfaX|im, pfaX|im,M)    0.002706  2.199033e-04  1.153120e-07  5.869893e-04   \n",
       "KL(pfaZ|im, pfaZ|im,M)    0.003798  3.943607e-04  8.437695e-13  1.070390e-03   \n",
       "KL(sdrX|im, sdrX|im,R)    0.008595  9.429581e-04  1.002131e-03  3.194249e-02   \n",
       "KL(sdrZ|im, sdrZ|im,R)    0.004407  4.095100e-04  2.685714e-04  2.558253e-02   \n",
       "KL(pfaX|im, pfaX|im,R)    0.003446  3.987113e-04  7.091290e-08  3.921134e-02   \n",
       "KL(pfaZ|im, pfaZ|im,R)    0.004572  1.101291e-03  1.834893e-09  5.770425e-02   \n",
       "KL(sdrX|im, sdrX|im,M,R)  0.009089  1.335121e-03  4.083458e-03  4.027508e-02   \n",
       "KL(sdrZ|im, sdrZ|im,M,R)  0.004447  5.573927e-04  1.945706e-03  3.217194e-02   \n",
       "KL(pfaX|im, pfaX|im,M,R)  0.005480  5.934112e-04  2.488536e-07  3.969534e-02   \n",
       "KL(pfaZ|im, pfaZ|im,M,R)  0.007393  1.414923e-03  1.853945e-09  5.825255e-02   \n",
       "\n",
       "IM                        DS_5to75  DS_5to95  \n",
       "KL(sdrX|im, sdrX|im,M)    0.053417  0.038472  \n",
       "KL(sdrZ|im, sdrZ|im,M)    0.047095  0.034712  \n",
       "KL(pfaX|im, pfaX|im,M)    0.008053  0.004765  \n",
       "KL(pfaZ|im, pfaZ|im,M)    0.005707  0.003010  \n",
       "KL(sdrX|im, sdrX|im,R)    0.160528  0.154471  \n",
       "KL(sdrZ|im, sdrZ|im,R)    0.111916  0.116212  \n",
       "KL(pfaX|im, pfaX|im,R)    0.024003  0.041656  \n",
       "KL(pfaZ|im, pfaZ|im,R)    0.021466  0.034927  \n",
       "KL(sdrX|im, sdrX|im,M,R)  0.219293  0.208145  \n",
       "KL(sdrZ|im, sdrZ|im,M,R)  0.170513  0.169203  \n",
       "KL(pfaX|im, pfaX|im,M,R)  0.041715  0.057168  \n",
       "KL(pfaZ|im, pfaZ|im,M,R)  0.035375  0.046484  "
      ]
     },
     "execution_count": 129,
     "metadata": {},
     "output_type": "execute_result"
    }
   ],
   "source": [
    "from sufficiency_kl_divergence import compile_kl_divergence\n",
    "b = compile_kl_divergence(BuildingList, 9, baseDir, IM_list, gminfo_rotD50, pairingID=1, numGM=826,\n",
    "                          remove_collapse= False, KL_on_residual=False, use_predicted_IM=False)\n",
    "b = b.T\n",
    "b"
   ]
  },
  {
   "cell_type": "code",
   "execution_count": 135,
   "id": "8290f26f",
   "metadata": {},
   "outputs": [
    {
     "data": {
      "text/plain": [
       "IM\n",
       "SaT1        0.000708\n",
       "PGA         0.001460\n",
       "PGV         0.007088\n",
       "Sa_avg      0.000356\n",
       "CAV         0.027741\n",
       "SI          0.003467\n",
       "ASI         0.002098\n",
       "DSI         0.156098\n",
       "DS_5to75    0.432185\n",
       "DS_5to95    0.428226\n",
       "dtype: float64"
      ]
     },
     "execution_count": 135,
     "metadata": {},
     "output_type": "execute_result"
    }
   ],
   "source": [
    "b.loc[b.index[:8]].sum()"
   ]
  },
  {
   "cell_type": "code",
   "execution_count": 136,
   "id": "b4c518db",
   "metadata": {},
   "outputs": [
    {
     "data": {
      "text/plain": [
       "IM\n",
       "SaT1        0.002015\n",
       "PGA         0.004494\n",
       "PGV         0.007354\n",
       "Sa_avg      0.001193\n",
       "CAV         0.026410\n",
       "SI          0.003901\n",
       "ASI         0.006029\n",
       "DSI         0.170395\n",
       "DS_5to75    0.466896\n",
       "DS_5to95    0.481000\n",
       "dtype: float64"
      ]
     },
     "execution_count": 136,
     "metadata": {},
     "output_type": "execute_result"
    }
   ],
   "source": [
    "b.loc[b.index[8:]].sum()"
   ]
  },
  {
   "cell_type": "code",
   "execution_count": 137,
   "id": "0d826fe7",
   "metadata": {},
   "outputs": [
    {
     "data": {
      "text/html": [
       "<div>\n",
       "<style scoped>\n",
       "    .dataframe tbody tr th:only-of-type {\n",
       "        vertical-align: middle;\n",
       "    }\n",
       "\n",
       "    .dataframe tbody tr th {\n",
       "        vertical-align: top;\n",
       "    }\n",
       "\n",
       "    .dataframe thead th {\n",
       "        text-align: right;\n",
       "    }\n",
       "</style>\n",
       "<table border=\"1\" class=\"dataframe\">\n",
       "  <thead>\n",
       "    <tr style=\"text-align: right;\">\n",
       "      <th>IM</th>\n",
       "      <th>SaT1</th>\n",
       "      <th>PGA</th>\n",
       "      <th>PGV</th>\n",
       "      <th>Sa_avg</th>\n",
       "      <th>CAV</th>\n",
       "      <th>SI</th>\n",
       "      <th>ASI</th>\n",
       "      <th>DSI</th>\n",
       "      <th>DS_5to75</th>\n",
       "      <th>DS_5to95</th>\n",
       "    </tr>\n",
       "  </thead>\n",
       "  <tbody>\n",
       "    <tr>\n",
       "      <th>KL(sdrX|im, sdrX|im,M)</th>\n",
       "      <td>4.047893e-03</td>\n",
       "      <td>8.813997e-05</td>\n",
       "      <td>0.000047</td>\n",
       "      <td>4.317499e-03</td>\n",
       "      <td>0.001342</td>\n",
       "      <td>0.001257</td>\n",
       "      <td>1.230301e-04</td>\n",
       "      <td>0.038400</td>\n",
       "      <td>0.158467</td>\n",
       "      <td>0.176019</td>\n",
       "    </tr>\n",
       "    <tr>\n",
       "      <th>KL(sdrZ|im, sdrZ|im,M)</th>\n",
       "      <td>1.292796e-02</td>\n",
       "      <td>4.328320e-03</td>\n",
       "      <td>0.001536</td>\n",
       "      <td>1.305210e-02</td>\n",
       "      <td>0.000660</td>\n",
       "      <td>0.004366</td>\n",
       "      <td>3.386809e-03</td>\n",
       "      <td>0.030787</td>\n",
       "      <td>0.100594</td>\n",
       "      <td>0.129076</td>\n",
       "    </tr>\n",
       "    <tr>\n",
       "      <th>KL(pfaX|im, pfaX|im,M)</th>\n",
       "      <td>6.545367e-02</td>\n",
       "      <td>5.418857e-02</td>\n",
       "      <td>0.000208</td>\n",
       "      <td>6.668706e-02</td>\n",
       "      <td>0.006361</td>\n",
       "      <td>0.005279</td>\n",
       "      <td>6.673074e-02</td>\n",
       "      <td>0.053008</td>\n",
       "      <td>0.006059</td>\n",
       "      <td>0.008615</td>\n",
       "    </tr>\n",
       "    <tr>\n",
       "      <th>KL(pfaZ|im, pfaZ|im,M)</th>\n",
       "      <td>5.102595e-02</td>\n",
       "      <td>5.572463e-02</td>\n",
       "      <td>0.000116</td>\n",
       "      <td>5.683506e-02</td>\n",
       "      <td>0.003629</td>\n",
       "      <td>0.000915</td>\n",
       "      <td>6.426694e-02</td>\n",
       "      <td>0.078747</td>\n",
       "      <td>0.010330</td>\n",
       "      <td>0.003452</td>\n",
       "    </tr>\n",
       "    <tr>\n",
       "      <th>KL(sdrX|im, sdrX|im,R)</th>\n",
       "      <td>5.000883e-04</td>\n",
       "      <td>8.017381e-04</td>\n",
       "      <td>0.002175</td>\n",
       "      <td>2.413807e-04</td>\n",
       "      <td>0.008595</td>\n",
       "      <td>0.000943</td>\n",
       "      <td>1.002131e-03</td>\n",
       "      <td>0.031942</td>\n",
       "      <td>0.160528</td>\n",
       "      <td>0.154471</td>\n",
       "    </tr>\n",
       "    <tr>\n",
       "      <th>KL(sdrZ|im, sdrZ|im,R)</th>\n",
       "      <td>1.144003e-04</td>\n",
       "      <td>1.396686e-04</td>\n",
       "      <td>0.000771</td>\n",
       "      <td>3.511791e-05</td>\n",
       "      <td>0.004407</td>\n",
       "      <td>0.000410</td>\n",
       "      <td>2.685714e-04</td>\n",
       "      <td>0.025583</td>\n",
       "      <td>0.111916</td>\n",
       "      <td>0.116212</td>\n",
       "    </tr>\n",
       "    <tr>\n",
       "      <th>KL(pfaX|im, pfaX|im,R)</th>\n",
       "      <td>5.640318e-08</td>\n",
       "      <td>8.499851e-08</td>\n",
       "      <td>0.000900</td>\n",
       "      <td>9.671874e-08</td>\n",
       "      <td>0.003446</td>\n",
       "      <td>0.000399</td>\n",
       "      <td>7.091290e-08</td>\n",
       "      <td>0.039211</td>\n",
       "      <td>0.024003</td>\n",
       "      <td>0.041656</td>\n",
       "    </tr>\n",
       "    <tr>\n",
       "      <th>KL(pfaZ|im, pfaZ|im,R)</th>\n",
       "      <td>2.724011e-06</td>\n",
       "      <td>2.205210e-08</td>\n",
       "      <td>0.001665</td>\n",
       "      <td>1.332157e-11</td>\n",
       "      <td>0.004572</td>\n",
       "      <td>0.001101</td>\n",
       "      <td>1.834893e-09</td>\n",
       "      <td>0.057704</td>\n",
       "      <td>0.021466</td>\n",
       "      <td>0.034927</td>\n",
       "    </tr>\n",
       "    <tr>\n",
       "      <th>KL(sdrX|im, sdrX|im,M,R)</th>\n",
       "      <td>3.651328e-03</td>\n",
       "      <td>7.061342e-05</td>\n",
       "      <td>0.000048</td>\n",
       "      <td>3.946971e-03</td>\n",
       "      <td>0.001978</td>\n",
       "      <td>0.001113</td>\n",
       "      <td>1.025121e-04</td>\n",
       "      <td>0.038765</td>\n",
       "      <td>0.220899</td>\n",
       "      <td>0.213097</td>\n",
       "    </tr>\n",
       "    <tr>\n",
       "      <th>KL(sdrZ|im, sdrZ|im,M,R)</th>\n",
       "      <td>1.019905e-02</td>\n",
       "      <td>3.445242e-03</td>\n",
       "      <td>0.001247</td>\n",
       "      <td>1.043385e-02</td>\n",
       "      <td>0.000033</td>\n",
       "      <td>0.003030</td>\n",
       "      <td>2.633228e-03</td>\n",
       "      <td>0.033633</td>\n",
       "      <td>0.164776</td>\n",
       "      <td>0.171799</td>\n",
       "    </tr>\n",
       "    <tr>\n",
       "      <th>KL(pfaX|im, pfaX|im,M,R)</th>\n",
       "      <td>1.958190e-02</td>\n",
       "      <td>1.836301e-02</td>\n",
       "      <td>0.002085</td>\n",
       "      <td>2.077832e-02</td>\n",
       "      <td>0.000236</td>\n",
       "      <td>0.000430</td>\n",
       "      <td>2.545959e-02</td>\n",
       "      <td>0.086225</td>\n",
       "      <td>0.041964</td>\n",
       "      <td>0.084992</td>\n",
       "    </tr>\n",
       "    <tr>\n",
       "      <th>KL(pfaZ|im, pfaZ|im,M,R)</th>\n",
       "      <td>1.398929e-02</td>\n",
       "      <td>2.104512e-02</td>\n",
       "      <td>0.004119</td>\n",
       "      <td>1.741666e-02</td>\n",
       "      <td>0.000956</td>\n",
       "      <td>0.003039</td>\n",
       "      <td>2.608266e-02</td>\n",
       "      <td>0.114192</td>\n",
       "      <td>0.033454</td>\n",
       "      <td>0.067311</td>\n",
       "    </tr>\n",
       "  </tbody>\n",
       "</table>\n",
       "</div>"
      ],
      "text/plain": [
       "IM                                SaT1           PGA       PGV        Sa_avg  \\\n",
       "KL(sdrX|im, sdrX|im,M)    4.047893e-03  8.813997e-05  0.000047  4.317499e-03   \n",
       "KL(sdrZ|im, sdrZ|im,M)    1.292796e-02  4.328320e-03  0.001536  1.305210e-02   \n",
       "KL(pfaX|im, pfaX|im,M)    6.545367e-02  5.418857e-02  0.000208  6.668706e-02   \n",
       "KL(pfaZ|im, pfaZ|im,M)    5.102595e-02  5.572463e-02  0.000116  5.683506e-02   \n",
       "KL(sdrX|im, sdrX|im,R)    5.000883e-04  8.017381e-04  0.002175  2.413807e-04   \n",
       "KL(sdrZ|im, sdrZ|im,R)    1.144003e-04  1.396686e-04  0.000771  3.511791e-05   \n",
       "KL(pfaX|im, pfaX|im,R)    5.640318e-08  8.499851e-08  0.000900  9.671874e-08   \n",
       "KL(pfaZ|im, pfaZ|im,R)    2.724011e-06  2.205210e-08  0.001665  1.332157e-11   \n",
       "KL(sdrX|im, sdrX|im,M,R)  3.651328e-03  7.061342e-05  0.000048  3.946971e-03   \n",
       "KL(sdrZ|im, sdrZ|im,M,R)  1.019905e-02  3.445242e-03  0.001247  1.043385e-02   \n",
       "KL(pfaX|im, pfaX|im,M,R)  1.958190e-02  1.836301e-02  0.002085  2.077832e-02   \n",
       "KL(pfaZ|im, pfaZ|im,M,R)  1.398929e-02  2.104512e-02  0.004119  1.741666e-02   \n",
       "\n",
       "IM                             CAV        SI           ASI       DSI  \\\n",
       "KL(sdrX|im, sdrX|im,M)    0.001342  0.001257  1.230301e-04  0.038400   \n",
       "KL(sdrZ|im, sdrZ|im,M)    0.000660  0.004366  3.386809e-03  0.030787   \n",
       "KL(pfaX|im, pfaX|im,M)    0.006361  0.005279  6.673074e-02  0.053008   \n",
       "KL(pfaZ|im, pfaZ|im,M)    0.003629  0.000915  6.426694e-02  0.078747   \n",
       "KL(sdrX|im, sdrX|im,R)    0.008595  0.000943  1.002131e-03  0.031942   \n",
       "KL(sdrZ|im, sdrZ|im,R)    0.004407  0.000410  2.685714e-04  0.025583   \n",
       "KL(pfaX|im, pfaX|im,R)    0.003446  0.000399  7.091290e-08  0.039211   \n",
       "KL(pfaZ|im, pfaZ|im,R)    0.004572  0.001101  1.834893e-09  0.057704   \n",
       "KL(sdrX|im, sdrX|im,M,R)  0.001978  0.001113  1.025121e-04  0.038765   \n",
       "KL(sdrZ|im, sdrZ|im,M,R)  0.000033  0.003030  2.633228e-03  0.033633   \n",
       "KL(pfaX|im, pfaX|im,M,R)  0.000236  0.000430  2.545959e-02  0.086225   \n",
       "KL(pfaZ|im, pfaZ|im,M,R)  0.000956  0.003039  2.608266e-02  0.114192   \n",
       "\n",
       "IM                        DS_5to75  DS_5to95  \n",
       "KL(sdrX|im, sdrX|im,M)    0.158467  0.176019  \n",
       "KL(sdrZ|im, sdrZ|im,M)    0.100594  0.129076  \n",
       "KL(pfaX|im, pfaX|im,M)    0.006059  0.008615  \n",
       "KL(pfaZ|im, pfaZ|im,M)    0.010330  0.003452  \n",
       "KL(sdrX|im, sdrX|im,R)    0.160528  0.154471  \n",
       "KL(sdrZ|im, sdrZ|im,R)    0.111916  0.116212  \n",
       "KL(pfaX|im, pfaX|im,R)    0.024003  0.041656  \n",
       "KL(pfaZ|im, pfaZ|im,R)    0.021466  0.034927  \n",
       "KL(sdrX|im, sdrX|im,M,R)  0.220899  0.213097  \n",
       "KL(sdrZ|im, sdrZ|im,M,R)  0.164776  0.171799  \n",
       "KL(pfaX|im, pfaX|im,M,R)  0.041964  0.084992  \n",
       "KL(pfaZ|im, pfaZ|im,M,R)  0.033454  0.067311  "
      ]
     },
     "execution_count": 137,
     "metadata": {},
     "output_type": "execute_result"
    }
   ],
   "source": [
    "from sufficiency_kl_divergence import compile_kl_divergence\n",
    "b = compile_kl_divergence(BuildingList, 9, baseDir, IM_list, gminfo_rotD50, pairingID=1, numGM=826,\n",
    "                          remove_collapse= False, KL_on_residual=False, use_predicted_IM=True)\n",
    "b = b.T\n",
    "b"
   ]
  },
  {
   "cell_type": "code",
   "execution_count": 138,
   "id": "180fa022",
   "metadata": {},
   "outputs": [
    {
     "data": {
      "text/plain": [
       "IM\n",
       "SaT1        0.134073\n",
       "PGA         0.115271\n",
       "PGV         0.007419\n",
       "Sa_avg      0.141168\n",
       "CAV         0.033012\n",
       "SI          0.014669\n",
       "ASI         0.135778\n",
       "DSI         0.355382\n",
       "DS_5to75    0.593363\n",
       "DS_5to95    0.664428\n",
       "dtype: float64"
      ]
     },
     "execution_count": 138,
     "metadata": {},
     "output_type": "execute_result"
    }
   ],
   "source": [
    "b.loc[b.index[:8]].sum()"
   ]
  },
  {
   "cell_type": "code",
   "execution_count": 139,
   "id": "9afa4bbf",
   "metadata": {},
   "outputs": [
    {
     "data": {
      "text/plain": [
       "IM\n",
       "SaT1        0.047422\n",
       "PGA         0.042924\n",
       "PGV         0.007499\n",
       "Sa_avg      0.052576\n",
       "CAV         0.003203\n",
       "SI          0.007613\n",
       "ASI         0.054278\n",
       "DSI         0.272815\n",
       "DS_5to75    0.461093\n",
       "DS_5to95    0.537199\n",
       "dtype: float64"
      ]
     },
     "execution_count": 139,
     "metadata": {},
     "output_type": "execute_result"
    }
   ],
   "source": [
    "b.loc[b.index[8:]].sum()"
   ]
  },
  {
   "cell_type": "code",
   "execution_count": null,
   "id": "b1034f08",
   "metadata": {},
   "outputs": [],
   "source": [
    "d = {}\n",
    "for idx in range(len(BuildingList)):\n",
    "    a = compile_KL_divergence(idx, baseDir, IM_list, gminfo_rotD50, pairingID=1, numGM=826, remove_collapse=False)\n",
    "    d[BuildingList[idx]] = a\n",
    "\n",
    "finaldf = pd.concat(d.values(), axis = 0, keys=d.keys())"
   ]
  },
  {
   "cell_type": "code",
   "execution_count": null,
   "id": "616a2a7b",
   "metadata": {
    "scrolled": false
   },
   "outputs": [],
   "source": [
    "finaldf"
   ]
  },
  {
   "cell_type": "code",
   "execution_count": 16,
   "id": "a5e7a3a2",
   "metadata": {},
   "outputs": [
    {
     "name": "stdout",
     "output_type": "stream",
     "text": [
      "(826,)\n"
     ]
    }
   ],
   "source": [
    "buildingIndex = 9\n",
    "pairingID = 1\n",
    "IMs = 'SaT1'\n",
    "numGM = 826\n",
    "\n",
    "if pairingID == 1:\n",
    "    start_index_multiplier = 0\n",
    "    end_index_multiplier = 1\n",
    "else:\n",
    "    start_index_multiplier = 2\n",
    "    end_index_multiplier = 3\n",
    "\n",
    "if IMs == 'SaT1':\n",
    "    IM = gminfo_rotD50['T_%s'%T[buildingIndex]].values\n",
    "else:\n",
    "    IM = gminfo_rotD50[IMs]\n",
    "    \n",
    "baseDir = r'/Users/laxmandahal/Desktop/UCLA/Phd/Research/IM_study'\n",
    "dataDir = os.path.join(baseDir, *['Results', 'IM_study_826GMs', BuildingList[buildingIndex]])\n",
    "\n",
    "os.chdir(dataDir)\n",
    "sdr = pd.read_csv(os.path.join(dataDir, 'SDR.csv'), header = None)\n",
    "pfa = pd.read_csv(os.path.join(dataDir, 'PFA.csv'), header = None)\n",
    "\n",
    "#story index\n",
    "i = 0\n",
    "j = 0\n",
    "sdrX = sdr[3+i].values[numGM * start_index_multiplier : numGM * end_index_multiplier]\n",
    "sdrZ = sdr[3+i].values[numGM * end_index_multiplier : numGM * (end_index_multiplier + 1)]\n",
    "\n",
    "pfaX = pfa[4+i].values[numGM * start_index_multiplier : numGM * end_index_multiplier]\n",
    "pfaZ = pfa[4+i].values[numGM * end_index_multiplier : numGM * (end_index_multiplier + 1)]\n",
    "\n",
    "sdr_rotd50 = compute_RotDxx_EDP(sdrX, sdrZ, percentile=50)\n",
    "pfa_rotd50 = compute_RotDxx_EDP(pfaX, pfaZ, percentile=50)\n",
    "X = sm.add_constant(np.log(IM))\n",
    "\n",
    "sdrX_avg = gmean([sdr[3+j].values[0:numGM], sdr[3+j].values[numGM*2:numGM*3]])\n",
    "pfaX_avg = gmean([pfa[3+j].values[0:numGM], pfa[3+j].values[numGM*2:numGM*3]])\n",
    "\n",
    "sdrZ_avg = gmean([sdr[3+j].values[numGM:numGM*2], sdr[3+j].values[numGM*3:numGM*4]])\n",
    "pfaZ_avg = gmean([pfa[3+j].values[numGM:numGM*2], pfa[3+j].values[numGM*3:numGM*4]])\n",
    "print(pfaZ_avg.shape)\n",
    "#                 compute_RotDxx_EDP(sdrX, sdrZ, percentile=50)\n",
    "#                 pfa_rotD50 = compute_RotDxx_EDP(pfaX, pfaZ, percentile=50)\n",
    "ols_sdrX = OLS(sdrX, IM)\n",
    "ols_sdrZ = OLS(sdrZ, IM)\n",
    "ols_pfaX = OLS(pfaX, IM)\n",
    "ols_pfaZ = OLS(pfaZ, IM).get_pred_values()\n",
    "\n",
    "ols_sdrX_M = fit_against_IM_and_M(sdrX, IM, gminfo_rotD50['Magnitude'].values)"
   ]
  },
  {
   "cell_type": "code",
   "execution_count": 18,
   "id": "e123ee57",
   "metadata": {},
   "outputs": [
    {
     "data": {
      "text/plain": [
       "0.0002588942486828616"
      ]
     },
     "execution_count": 18,
     "metadata": {},
     "output_type": "execute_result"
    }
   ],
   "source": [
    "compute_KL_divergence(ols_sdrX.get_residual(), ols_sdrX_M.resid)"
   ]
  },
  {
   "cell_type": "code",
   "execution_count": 19,
   "id": "52be63f6",
   "metadata": {},
   "outputs": [
    {
     "data": {
      "text/plain": [
       "inf"
      ]
     },
     "execution_count": 19,
     "metadata": {},
     "output_type": "execute_result"
    }
   ],
   "source": [
    "kld = stats.entropy(pk=ols_sdrX.get_residual(), qk=ols_sdrX_M.resid)\n",
    "kld"
   ]
  },
  {
   "cell_type": "code",
   "execution_count": 15,
   "id": "e4495b53",
   "metadata": {},
   "outputs": [
    {
     "data": {
      "text/plain": [
       "ShapiroResult(statistic=0.7340855598449707, pvalue=2.620209509584015e-34)"
      ]
     },
     "execution_count": 15,
     "metadata": {},
     "output_type": "execute_result"
    }
   ],
   "source": [
    "sdrX_pred = ols_sdrX.get_residual()\n",
    "stats.shapiro(sdrX_pred)"
   ]
  },
  {
   "cell_type": "code",
   "execution_count": null,
   "id": "d31dcde0",
   "metadata": {},
   "outputs": [],
   "source": [
    "sdrZ_pred = ols_sdrZ.result.get_prediction().predicted_mean\n",
    "stats.shapiro(sdrZ_pred)"
   ]
  },
  {
   "cell_type": "code",
   "execution_count": null,
   "id": "6c972b42",
   "metadata": {},
   "outputs": [],
   "source": [
    "pfaX_pred = ols_pfaX.result.get_prediction().predicted_mean\n",
    "stats.shapiro(pfaX_pred)"
   ]
  },
  {
   "cell_type": "code",
   "execution_count": null,
   "id": "a2f46470",
   "metadata": {},
   "outputs": [],
   "source": [
    "pfaZ_pred = ols_pfaZ.result.get_prediction().predicted_mean\n",
    "stats.shapiro(pfaZ_pred)"
   ]
  },
  {
   "cell_type": "code",
   "execution_count": null,
   "id": "00446e8e",
   "metadata": {},
   "outputs": [],
   "source": [
    "X = [sdrX_pred, pfaX_pred]\n",
    "X = np.array(X).T\n",
    "k2, pval = stats.normaltest(X)\n",
    "print(pval)\n",
    "for i in pval:\n",
    "    if i < 0.05:  # null hypothesis: x comes from a normal distribution\n",
    "        print('Null hypothesis can be rejected')\n",
    "    else:\n",
    "        print('Null hypothesis cannot be rejected')"
   ]
  },
  {
   "cell_type": "code",
   "execution_count": null,
   "id": "46519c84",
   "metadata": {},
   "outputs": [],
   "source": [
    "# from pingouin import multivariate_normality\n",
    "# d = {\n",
    "#     'sdrX': sdrX_pred, \n",
    "#     'sdrZ':sdrZ_pred,\n",
    "#     'pfaX':pfaX_pred,\n",
    "#     'pfaZ':pfaZ_pred\n",
    "#     }\n",
    "# df_pred = pd.DataFrame(d)\n",
    "\n",
    "# multivariate_normality(df_pred, alpha=0.05)"
   ]
  },
  {
   "cell_type": "code",
   "execution_count": 33,
   "id": "d3dd5798",
   "metadata": {},
   "outputs": [],
   "source": [
    "sdrX_ols_M = fit_against_IM_and_M(sdrX, IM, gminfo_rotD50['Magnitude'].values)\n",
    "sdrX_ols_R = fit_against_IM_and_Rjb(sdrX, IM, gminfo_rotD50['Distance_Rjb'].values)\n",
    "sdrX_ols_M_R = fit_against_IM_and_M_Rjb(sdrX, IM, gminfo_rotD50['Magnitude'].values, gminfo_rotD50['Distance_Rjb'].values)"
   ]
  },
  {
   "cell_type": "code",
   "execution_count": 38,
   "id": "9ad89c79",
   "metadata": {},
   "outputs": [
    {
     "data": {
      "text/plain": [
       "-5.79118128456862"
      ]
     },
     "execution_count": 38,
     "metadata": {},
     "output_type": "execute_result"
    }
   ],
   "source": [
    "np.mean(sdrX_ols_M_R.get_prediction().predicted_mean)"
   ]
  },
  {
   "cell_type": "code",
   "execution_count": 66,
   "id": "13bee5a0",
   "metadata": {},
   "outputs": [
    {
     "name": "stdout",
     "output_type": "stream",
     "text": [
      "-5.79118128456862 -5.791181284568619 -5.79118128456862\n"
     ]
    }
   ],
   "source": [
    "print(np.mean(sdrX_ols_M.get_prediction().predicted_mean), np.mean(sdrX_ols_R.get_prediction().predicted_mean),\n",
    "      np.mean(sdrX_ols_M_R.get_prediction().predicted_mean))"
   ]
  },
  {
   "cell_type": "code",
   "execution_count": 67,
   "id": "acf61dbf",
   "metadata": {},
   "outputs": [
    {
     "name": "stdout",
     "output_type": "stream",
     "text": [
      "0.34427439551076744 0.33167085988808714 0.3165899070991588\n"
     ]
    }
   ],
   "source": [
    "print(np.std(sdrX_ols_M.resid), np.std(sdrX_ols_R.resid), np.std(sdrX_ols_M_R.resid))"
   ]
  },
  {
   "cell_type": "code",
   "execution_count": 68,
   "id": "17417739",
   "metadata": {},
   "outputs": [
    {
     "name": "stdout",
     "output_type": "stream",
     "text": [
      "-5.791181284568618 0.6258842073742625\n"
     ]
    }
   ],
   "source": [
    "print(np.mean(np.log(sdrX)), np.std(np.log(sdrX)))"
   ]
  },
  {
   "cell_type": "code",
   "execution_count": 70,
   "id": "1797c3f4",
   "metadata": {},
   "outputs": [
    {
     "name": "stdout",
     "output_type": "stream",
     "text": [
      "-5.791181284568618 0.34982861202958787\n"
     ]
    }
   ],
   "source": [
    "print(np.mean(ols_sdrX.get_pred_values()), np.std(ols_sdrX.get_residual()))"
   ]
  },
  {
   "cell_type": "code",
   "execution_count": 39,
   "id": "9e7ccf03",
   "metadata": {},
   "outputs": [
    {
     "data": {
      "text/plain": [
       "0.3165899070991588"
      ]
     },
     "execution_count": 39,
     "metadata": {},
     "output_type": "execute_result"
    }
   ],
   "source": [
    "np.std(sdrX_ols_M_R.resid)"
   ]
  },
  {
   "cell_type": "code",
   "execution_count": 97,
   "id": "f9ffe516",
   "metadata": {},
   "outputs": [],
   "source": [
    "edp_randn = stats.truncnorm((min(sdrX) - np.mean(sdrX))/np.std(sdrX),\n",
    "                            (0.06 - np.mean(sdrX))/np.std(sdrX),\n",
    "                           loc=np.mean(sdrX),\n",
    "                           scale = np.std(sdrX)).rvs(1000)\n",
    "edp_randn = np.linspace(0.001, 0.10, 500)"
   ]
  },
  {
   "cell_type": "code",
   "execution_count": 98,
   "id": "fa7563dd",
   "metadata": {},
   "outputs": [],
   "source": [
    "prob_exceedance = np.ones(len(edp_randn)) - stats.norm.cdf((np.log(edp_randn) - np.mean(ols_sdrX.get_pred_values()))/ np.std(ols_sdrX.get_residual()))\n",
    "prob_exceedance_M = np.ones(len(edp_randn)) - stats.norm.cdf((np.log(edp_randn) - np.mean(sdrX_ols_M.get_prediction().predicted_mean))/ np.std(sdrX_ols_M.resid))\n",
    "prob_exceedance_R = np.ones(len(edp_randn)) - stats.norm.cdf((np.log(edp_randn) - np.mean(sdrX_ols_R.get_prediction().predicted_mean))/ np.std(sdrX_ols_R.resid))\n",
    "prob_exceedance_M_R = np.ones(len(edp_randn)) - stats.norm.cdf((np.log(edp_randn) - np.mean(sdrX_ols_M_R.get_prediction().predicted_mean))/ np.std(sdrX_ols_M_R.resid))"
   ]
  },
  {
   "cell_type": "code",
   "execution_count": 99,
   "id": "d54d082b",
   "metadata": {},
   "outputs": [
    {
     "name": "stdout",
     "output_type": "stream",
     "text": [
      "2.490545247368914e-06 2.696159134796261e-05 9.172510477406526e-05\n"
     ]
    }
   ],
   "source": [
    "kld_M = compute_KL_divergence(p=prob_exceedance, q=prob_exceedance_M)\n",
    "kld_R = compute_KL_divergence(p=prob_exceedance, q=prob_exceedance_R)\n",
    "kld_M_R = compute_KL_divergence(p=prob_exceedance, q=prob_exceedance_M_R)\n",
    "print(kld_M, kld_R, kld_M_R)"
   ]
  },
  {
   "cell_type": "code",
   "execution_count": 92,
   "id": "4ad1b263",
   "metadata": {},
   "outputs": [
    {
     "data": {
      "text/plain": [
       "ShapiroResult(statistic=0.9485870003700256, pvalue=3.486884332856538e-18)"
      ]
     },
     "execution_count": 92,
     "metadata": {},
     "output_type": "execute_result"
    }
   ],
   "source": [
    "stats.shapiro(edp_randn)"
   ]
  },
  {
   "cell_type": "code",
   "execution_count": 91,
   "id": "082525b9",
   "metadata": {},
   "outputs": [
    {
     "data": {
      "text/plain": [
       "<seaborn.axisgrid.FacetGrid at 0x7fd2aa0c2820>"
      ]
     },
     "execution_count": 91,
     "metadata": {},
     "output_type": "execute_result"
    },
    {
     "data": {
      "image/png": "[encoded data removed]",
      "text/plain": [
       "<Figure size 360x360 with 1 Axes>"
      ]
     },
     "metadata": {
      "needs_background": "light"
     },
     "output_type": "display_data"
    }
   ],
   "source": [
    "sns.displot(edp_randn, kind='kde')"
   ]
  },
  {
   "cell_type": "code",
   "execution_count": 100,
   "id": "72bf6f2e",
   "metadata": {},
   "outputs": [
    {
     "data": {
      "text/plain": [
       "<seaborn.axisgrid.FacetGrid at 0x7fd1bdf182e0>"
      ]
     },
     "execution_count": 100,
     "metadata": {},
     "output_type": "execute_result"
    },
    {
     "data": {
      "image/png": "[encoded data removed]",
      "text/plain": [
       "<Figure size 360x360 with 1 Axes>"
      ]
     },
     "metadata": {
      "needs_background": "light"
     },
     "output_type": "display_data"
    }
   ],
   "source": [
    "sns.displot(prob_exceedance, kind='kde')"
   ]
  },
  {
   "cell_type": "code",
   "execution_count": null,
   "id": "cd585475",
   "metadata": {},
   "outputs": [],
   "source": []
  },
  {
   "cell_type": "code",
   "execution_count": 102,
   "id": "e0f84b9c",
   "metadata": {},
   "outputs": [
    {
     "data": {
      "text/plain": [
       "2.780807180861065"
      ]
     },
     "execution_count": 102,
     "metadata": {},
     "output_type": "execute_result"
    }
   ],
   "source": [
    "max(IM/g)"
   ]
  },
  {
   "cell_type": "code",
   "execution_count": 104,
   "id": "a9c7099d",
   "metadata": {},
   "outputs": [],
   "source": [
    "def fit_IM_against_M_and_Rjb(IM, M, Rjb):\n",
    "    '''\n",
    "    return Model fit result\n",
    "    '''\n",
    "    temp = {'I': np.ones(shape = len(IM)),\n",
    "        'lnSaT1': np.log(IM),\n",
    "        'M': np.log(M),\n",
    "        'Rjb': np.log(Rjb)}\n",
    "    dummydf = pd.DataFrame(temp, index = None)\n",
    "    model = smf.ols('lnSaT1 ~ M + Rjb', data = dummydf)\n",
    "    model_res = model.fit()\n",
    "    return model_res\n",
    "    "
   ]
  },
  {
   "cell_type": "code",
   "execution_count": 105,
   "id": "2d106f4d",
   "metadata": {},
   "outputs": [],
   "source": [
    "im_fit = fit_IM_against_M_and_Rjb(IM, gminfo_rotD50['Magnitude'].values, gminfo_rotD50['Distance_Rjb'].values)"
   ]
  },
  {
   "cell_type": "code",
   "execution_count": 106,
   "id": "0f9a612e",
   "metadata": {},
   "outputs": [
    {
     "data": {
      "text/plain": [
       "const   -5.791181\n",
       "0        0.359138\n",
       "dtype: float64"
      ]
     },
     "execution_count": 106,
     "metadata": {},
     "output_type": "execute_result"
    }
   ],
   "source": [
    "epd_fit_resid_IM = OLS(sdrX, np.exp(im_fit.resid))\n",
    "epd_fit_resid_IM.result.params\n",
    "epd_fit_resid_IM.get_pred_values()"
   ]
  },
  {
   "cell_type": "code",
   "execution_count": 112,
   "id": "63f4d503",
   "metadata": {},
   "outputs": [],
   "source": [
    "edp_fit_resid_IM = OLS(sdrX, np.exp(im_fit.get_prediction().predicted_mean))\n",
    "param = edp_fit_resid_IM.result.params"
   ]
  },
  {
   "cell_type": "code",
   "execution_count": 113,
   "id": "02574c51",
   "metadata": {},
   "outputs": [
    {
     "data": {
      "text/plain": [
       "148.82980630166082"
      ]
     },
     "execution_count": 113,
     "metadata": {},
     "output_type": "execute_result"
    }
   ],
   "source": [
    "np.median(IM)"
   ]
  },
  {
   "cell_type": "code",
   "execution_count": 118,
   "id": "26ffa8cb",
   "metadata": {},
   "outputs": [],
   "source": [
    "IM_range = np.linspace(min(IM), max(IM), 1000)\n"
   ]
  },
  {
   "cell_type": "code",
   "execution_count": null,
   "id": "7b339e15",
   "metadata": {},
   "outputs": [],
   "source": []
  },
  {
   "cell_type": "code",
   "execution_count": null,
   "id": "a88b0941",
   "metadata": {},
   "outputs": [],
   "source": []
  },
  {
   "cell_type": "code",
   "execution_count": null,
   "id": "9a47fb71",
   "metadata": {},
   "outputs": [],
   "source": [
    "from scipy.stats import chi2_contingency\n",
    "\n",
    "def calc_MI(x, y, bins):\n",
    "    '''\n",
    "    Calculates mutual information\n",
    "    '''\n",
    "    c_xy = np.histogram2d(x, y, bins)[0]\n",
    "    g, p, dof, expected = chi2_contingency(c_xy, lambda_=\"log-likelihood\", correction=False)\n",
    "    mi = 0.5 * g / c_xy.sum()\n",
    "    return mi"
   ]
  },
  {
   "cell_type": "code",
   "execution_count": null,
   "id": "191de13e",
   "metadata": {},
   "outputs": [],
   "source": [
    "calc_MI(gminfo_rotD50['Magnitude'].values, ols_pfaX.result.resid, bins = 8)"
   ]
  },
  {
   "cell_type": "code",
   "execution_count": null,
   "id": "ff8f5727",
   "metadata": {},
   "outputs": [],
   "source": [
    "calc_MI(gminfo_rotD50['Distance_Rjb'].values, ols_pfaX.result.resid, bins=8)"
   ]
  },
  {
   "cell_type": "code",
   "execution_count": null,
   "id": "545f7095",
   "metadata": {},
   "outputs": [],
   "source": [
    "calc_MI(gminfo_rotD50['Distance_Rjb'].values, gminfo_rotD50['Magnitude'].values, bins=15)"
   ]
  },
  {
   "cell_type": "code",
   "execution_count": null,
   "id": "4fe450bc",
   "metadata": {},
   "outputs": [],
   "source": [
    "calc_MI(IM, gminfo_rotD50['Magnitude'].values, bins=8)"
   ]
  },
  {
   "cell_type": "code",
   "execution_count": null,
   "id": "aab2c720",
   "metadata": {},
   "outputs": [],
   "source": [
    "calc_MI(IM, gminfo_rotD50['Distance_Rjb'].values, bins=8)"
   ]
  },
  {
   "cell_type": "code",
   "execution_count": null,
   "id": "574773e6",
   "metadata": {},
   "outputs": [],
   "source": [
    "calc_MI(IM, sdrZ_avg, bins=6)"
   ]
  },
  {
   "cell_type": "code",
   "execution_count": null,
   "id": "c3c356e2",
   "metadata": {},
   "outputs": [],
   "source": [
    "calc_MI(np.log(sdrZ_avg), np.log(sdrZ_avg), bins=14)"
   ]
  },
  {
   "cell_type": "code",
   "execution_count": null,
   "id": "7f9b2830",
   "metadata": {},
   "outputs": [],
   "source": [
    "calc_MI(IM, IM, bins=8)"
   ]
  },
  {
   "cell_type": "code",
   "execution_count": null,
   "id": "6a5af757",
   "metadata": {},
   "outputs": [],
   "source": [
    "pfa.shape"
   ]
  },
  {
   "cell_type": "code",
   "execution_count": null,
   "id": "04000693",
   "metadata": {},
   "outputs": [],
   "source": [
    "sdrgmean = gmean([sdrX, sdrZ])\n",
    "sdr.shape"
   ]
  },
  {
   "cell_type": "code",
   "execution_count": null,
   "id": "c7986733",
   "metadata": {},
   "outputs": [],
   "source": [
    "np.exp(np.mean([np.log(sdrX[0]), np.log(sdrZ[0])]))"
   ]
  },
  {
   "cell_type": "code",
   "execution_count": null,
   "id": "008e65ff",
   "metadata": {},
   "outputs": [],
   "source": [
    "np.sqrt(sdrX[0]**2 + sdrZ[0]**2)"
   ]
  },
  {
   "cell_type": "code",
   "execution_count": null,
   "id": "4395efa0",
   "metadata": {},
   "outputs": [],
   "source": [
    "angles = np.arange(0, 180, step=1)\n",
    "radians = np.radians(angles)\n",
    "coeffs = np.c_[np.cos(radians), np.sin(radians)]\n",
    "sdr_stacked = np.vstack([sdrX, sdrZ])\n",
    "rotated_sdr = np.dot(coeffs, sdr_stacked)"
   ]
  },
  {
   "cell_type": "code",
   "execution_count": null,
   "id": "5624f3bc",
   "metadata": {},
   "outputs": [],
   "source": [
    "percentile_sdr = np.percentile(rotated_sdr, 50, axis = 0, interpolation='linear')\n",
    "percentile_sdr.shape"
   ]
  },
  {
   "cell_type": "code",
   "execution_count": null,
   "id": "601283ee",
   "metadata": {},
   "outputs": [],
   "source": [
    "np.median(rotated_sdr)"
   ]
  },
  {
   "cell_type": "code",
   "execution_count": null,
   "id": "acd238dc",
   "metadata": {},
   "outputs": [],
   "source": [
    "testEff = OLS(sdrX, IM)\n",
    "np.std(testEff.result.resid)"
   ]
  },
  {
   "cell_type": "code",
   "execution_count": null,
   "id": "870be8cd",
   "metadata": {},
   "outputs": [],
   "source": [
    "testEff = OLS(sdr, IM)\n",
    "np.std(testEff.result.resid)\n"
   ]
  },
  {
   "cell_type": "code",
   "execution_count": null,
   "id": "98fb66b1",
   "metadata": {},
   "outputs": [],
   "source": [
    "# testSuff = sm.OLS(testEff.result.resid, sm.add_constant(np.log(gminfo_rotD50['Distance_Rjb'])))\n",
    "testSuff = sm.OLS(testEff.result.resid, sm.add_constant(np.log(gminfo_rotD50['Magnitude'])))\n",
    "\n",
    "testSuff.fit().summary()\n"
   ]
  },
  {
   "cell_type": "code",
   "execution_count": null,
   "id": "c050bca4",
   "metadata": {},
   "outputs": [],
   "source": [
    "testSuff.fit().pvalues\n"
   ]
  },
  {
   "cell_type": "code",
   "execution_count": null,
   "id": "3d21619b",
   "metadata": {},
   "outputs": [],
   "source": [
    "epsilon_onlyIM = ols_sdrX.result.resid"
   ]
  },
  {
   "cell_type": "code",
   "execution_count": null,
   "id": "b2f3d5ee",
   "metadata": {},
   "outputs": [],
   "source": [
    "##### Using residual from efficiency to compute sufficiency instead of direct linear model\n",
    "\n",
    "temp = {'I': np.ones(shape = int(numGM)),\n",
    "        'lnEDP': np.log(sdrX),\n",
    "        'lnSaT1': np.log(IM),\n",
    "        'M': gminfo_rotD50['Magnitude'].values}\n",
    "dummydf = pd.DataFrame(temp, index = None)\n",
    "model = smf.ols('lnEDP ~ lnSaT1 + M', data = dummydf)\n",
    "model_res = model.fit()\n",
    "model_res.summary()"
   ]
  },
  {
   "cell_type": "code",
   "execution_count": null,
   "id": "0a8cf839",
   "metadata": {},
   "outputs": [],
   "source": [
    "epsilon_onlyIM_M = model_res.resid"
   ]
  },
  {
   "cell_type": "code",
   "execution_count": null,
   "id": "329a15f4",
   "metadata": {},
   "outputs": [],
   "source": [
    "temp = {'I': np.ones(shape = int(numGM)),\n",
    "        'lnEDP': np.log(sdrX),\n",
    "        'lnSaT1': np.log(IM),\n",
    "        'M': gminfo_rotD50['Magnitude'].values,\n",
    "        'lnRjb': np.log(gminfo_rotD50['Distance_Rjb'].values)}\n",
    "dummydf = pd.DataFrame(temp, index = None)\n",
    "model = smf.ols('lnEDP ~ lnSaT1 + M + lnRjb', data = dummydf)\n",
    "model_res = model.fit()"
   ]
  },
  {
   "cell_type": "code",
   "execution_count": null,
   "id": "ba157226",
   "metadata": {},
   "outputs": [],
   "source": [
    "temp = {'I': np.ones(shape = int(numGM)),\n",
    "        'lnEDP': np.log(sdrX),\n",
    "        'lnSaT1': np.log(IM),\n",
    "        'M': gminfo_rotD50['Magnitude'].values,\n",
    "        'lnRjb': np.log(gminfo_rotD50['Distance_Rjb'].values)}\n",
    "dummydf = pd.DataFrame(temp, index = None)\n",
    "model = smf.ols('lnEDP ~ lnSaT1 + lnRjb', data = dummydf)\n",
    "model_res = model.fit()\n",
    "epsilon_onlyIM_R = model_res.resid"
   ]
  },
  {
   "cell_type": "code",
   "execution_count": null,
   "id": "f3115e96",
   "metadata": {},
   "outputs": [],
   "source": [
    "epsilon_IM_and_M_andR = model_res.resid\n"
   ]
  },
  {
   "cell_type": "markdown",
   "id": "03bf623a",
   "metadata": {},
   "source": [
    "## KL Divergence\n",
    "\n",
    "using ```scipy.stats.entropy``` because\n",
    "\n",
    "If qk is not None, then compute the Kullback-Leibler divergence S = sum(pk * log(pk / qk), axis=axis).\n",
    "\n",
    "This routine will normalize pk and qk if they don’t sum to 1."
   ]
  },
  {
   "cell_type": "code",
   "execution_count": null,
   "id": "c3f130b6",
   "metadata": {},
   "outputs": [],
   "source": [
    "print(np.std(epsilon_onlyIM), np.std(epsilon_onlyIM_M))"
   ]
  },
  {
   "cell_type": "code",
   "execution_count": null,
   "id": "0d74dd20",
   "metadata": {},
   "outputs": [],
   "source": [
    "sigma1 = np.std(epsilon_onlyIM)\n",
    "sigma2 = np.std(epsilon_onlyIM_M)\n",
    "kld_manual = np.log(sigma2 / sigma1) + sigma1 ** 2 / (2 * sigma2 ** 2) - 0.5\n",
    "kld_manual"
   ]
  },
  {
   "cell_type": "code",
   "execution_count": null,
   "id": "06c4c28c",
   "metadata": {},
   "outputs": [],
   "source": [
    "sigma1 = np.std(epsilon_onlyIM)\n",
    "sigma2 = np.std(epsilon_onlyIM_R)\n",
    "kld_manual = np.log(sigma2 / sigma1) + sigma1 ** 2 / (2 * sigma2 ** 2) - 0.5\n",
    "kld_manual"
   ]
  },
  {
   "cell_type": "code",
   "execution_count": null,
   "id": "f55a6b00",
   "metadata": {},
   "outputs": [],
   "source": [
    "sigma2 = np.std(epsilon_onlyIM)\n",
    "sigma1 = np.std(epsilon_onlyIM_R)\n",
    "kld_manual = np.log(sigma2 / sigma1) + sigma1 ** 2 / (2 * sigma2 ** 2) - 0.5\n",
    "kld_manual"
   ]
  },
  {
   "cell_type": "code",
   "execution_count": null,
   "id": "c3465990",
   "metadata": {},
   "outputs": [],
   "source": [
    "sigma1 = np.std(epsilon_onlyIM)\n",
    "sigma2 = np.std(epsilon_IM_and_M_andR)\n",
    "kld_manual = np.log(sigma2 / sigma1) + sigma1 ** 2 / (2 * sigma2 ** 2) - 0.5\n",
    "kld_manual"
   ]
  },
  {
   "cell_type": "code",
   "execution_count": null,
   "id": "a8ebbc00",
   "metadata": {},
   "outputs": [],
   "source": [
    "sigma1 = np.std(epsilon_onlyIM_M)\n",
    "sigma2 = np.std(epsilon_IM_and_M_andR)\n",
    "kld_manual = np.log(sigma2 / sigma1) + sigma1 ** 2 / (2 * sigma2 ** 2) - 0.5\n",
    "kld_manual"
   ]
  },
  {
   "cell_type": "code",
   "execution_count": null,
   "id": "30f38ba5",
   "metadata": {},
   "outputs": [],
   "source": [
    "gminfo_rotD50.head()"
   ]
  },
  {
   "cell_type": "code",
   "execution_count": null,
   "id": "4b923a7a",
   "metadata": {},
   "outputs": [],
   "source": [
    "gminfo_rotD50['lnRjb'] = np.log(gminfo_rotD50.Distance_Rjb.values)\n",
    "gminfo_rotD50['lnM'] = np.log(gminfo_rotD50.Magnitude.values)"
   ]
  },
  {
   "cell_type": "code",
   "execution_count": null,
   "id": "c4f02807",
   "metadata": {},
   "outputs": [],
   "source": [
    "import seaborn as sns\n",
    "sns.displot(data=gminfo_rotD50, x='Magnitude', kde=True)"
   ]
  },
  {
   "cell_type": "code",
   "execution_count": null,
   "id": "c0aec346",
   "metadata": {},
   "outputs": [],
   "source": [
    "sns.displot(data=gminfo_rotD50, x='lnRjb', kde=True)"
   ]
  },
  {
   "cell_type": "code",
   "execution_count": null,
   "id": "c6cbee4f",
   "metadata": {},
   "outputs": [],
   "source": [
    "sns.scatterplot(data=gminfo_rotD50, x='lnM', y = 'lnRjb')"
   ]
  },
  {
   "cell_type": "code",
   "execution_count": null,
   "id": "787b2970",
   "metadata": {},
   "outputs": [],
   "source": [
    "sdrX_nocollapse = sdrX[sdrX < 0.1]"
   ]
  },
  {
   "cell_type": "code",
   "execution_count": null,
   "id": "6ea0cf08",
   "metadata": {},
   "outputs": [],
   "source": [
    "sdrX_nocollapse.shape"
   ]
  },
  {
   "cell_type": "code",
   "execution_count": null,
   "id": "da52867e",
   "metadata": {},
   "outputs": [],
   "source": [
    "sns.displot(np.log(sdrX_nocollapse))"
   ]
  },
  {
   "cell_type": "code",
   "execution_count": null,
   "id": "15c6e3aa",
   "metadata": {},
   "outputs": [],
   "source": [
    "from scipy.stats import entropy \n",
    "\n",
    "kld = entropy(pk=epsilon_onlyIM, qk=epsilon_IM_and_M)\n",
    "kld"
   ]
  },
  {
   "cell_type": "code",
   "execution_count": null,
   "id": "089cb402",
   "metadata": {},
   "outputs": [],
   "source": [
    "from scipy.special import rel_entr\n",
    "sum(rel_entr(epsilon_onlyIM, epsilon_IM_and_M))"
   ]
  },
  {
   "cell_type": "code",
   "execution_count": null,
   "id": "e35c3e43",
   "metadata": {},
   "outputs": [],
   "source": [
    "calc_MI(epsilon_onlyIM, epsilon_IM_and_M, bins=8)"
   ]
  },
  {
   "cell_type": "code",
   "execution_count": null,
   "id": "539692db",
   "metadata": {},
   "outputs": [],
   "source": [
    "##### Using residual from efficiency to compute sufficiency instead of direct linear model\n",
    "\n",
    "temp = {'I': np.ones(shape = int(numGM)),\n",
    "        'lnEDP': np.log(sdrX),\n",
    "        'lnSaT1': np.log(IM),\n",
    "        'M': gminfo_rotD50['Magnitude'].values,\n",
    "        'lnRjb': np.log(gminfo_rotD50['Distance_Rjb'].values)}\n",
    "dummydf = pd.DataFrame(temp, index = None)\n",
    "model = smf.ols('lnEDP ~ lnSaT1 + M + lnRjb', data = dummydf)\n",
    "model_res = model.fit()\n",
    "model_res.summary()"
   ]
  },
  {
   "cell_type": "code",
   "execution_count": null,
   "id": "edc3be89",
   "metadata": {},
   "outputs": [],
   "source": []
  },
  {
   "cell_type": "code",
   "execution_count": null,
   "id": "53c40ccd",
   "metadata": {},
   "outputs": [],
   "source": [
    "gminfo_rotD50.head()"
   ]
  },
  {
   "cell_type": "code",
   "execution_count": null,
   "id": "26c4d46e",
   "metadata": {},
   "outputs": [],
   "source": [
    "gminfo_rotD50['sa(g)'] = np.round(gminfo_rotD50['T_0.13'].values / g, 2)\n",
    "dict(gminfo_rotD50['sa(g)'].value_counts())"
   ]
  },
  {
   "cell_type": "markdown",
   "id": "f00344ff",
   "metadata": {},
   "source": []
  },
  {
   "cell_type": "code",
   "execution_count": null,
   "id": "0e2925d2",
   "metadata": {},
   "outputs": [],
   "source": [
    "epsilon_IM_and_M_and_lnR = model_res.resid"
   ]
  },
  {
   "cell_type": "code",
   "execution_count": null,
   "id": "96df7d77",
   "metadata": {},
   "outputs": [],
   "source": [
    "sigma1 = np.std(epsilon_onlyIM)\n",
    "sigma2 = np.std(epsilon_IM_and_M_and_lnR)\n",
    "kld_manual = np.log(sigma2 / sigma1) + sigma1 ** 2 / (2 * sigma2 ** 2) - 0.5\n",
    "kld_manual"
   ]
  },
  {
   "cell_type": "code",
   "execution_count": null,
   "id": "bb0a0ba9",
   "metadata": {},
   "outputs": [],
   "source": []
  },
  {
   "cell_type": "code",
   "execution_count": null,
   "id": "d249f26d",
   "metadata": {},
   "outputs": [],
   "source": [
    "# I = np.ones(shape = numGM)\n",
    "# Y = np.log()\n",
    "sa_T013 = spectral_acc[T[4]].values\n",
    "temp = {'I': np.ones(shape = numGM),\n",
    "        'lnEDP': np.log(sdrX),\n",
    "        'lnSaT1': np.log(sa_T013),\n",
    "        'M': gm_info['Magnitude'].values}\n",
    "dummydf = pd.DataFrame(temp, index = None)\n",
    "model = smf.ols('lnEDP ~ lnSaT1 + M', data = dummydf)\n",
    "model_res = model.fit()\n",
    "model_res.summary()"
   ]
  },
  {
   "cell_type": "code",
   "execution_count": null,
   "id": "def63943",
   "metadata": {},
   "outputs": [],
   "source": [
    "# I = np.ones(shape = numGM)\n",
    "# Y = np.log()\n",
    "sa_T013 = spectral_acc[T[4]].values\n",
    "temp = {'I': np.ones(shape = numGM),\n",
    "        'lnEDP': np.log(sdrX),\n",
    "        'lnSaT1': np.log(sa_T013),\n",
    "        'lnRjb': np.log(gm_info['Distance 1 (km)'].values)}\n",
    "dummydf = pd.DataFrame(temp, index = None)\n",
    "model = smf.ols('lnEDP ~ lnSaT1 + lnRjb', data = dummydf)\n",
    "model_res = model.fit()\n",
    "model_res.summary()"
   ]
  },
  {
   "cell_type": "code",
   "execution_count": null,
   "id": "eff1d89c",
   "metadata": {},
   "outputs": [],
   "source": [
    "model_res.pvalues"
   ]
  },
  {
   "cell_type": "code",
   "execution_count": null,
   "id": "57961220",
   "metadata": {},
   "outputs": [],
   "source": [
    "sa_T013 = spectral_acc[T[4]].values\n",
    "temp = {'I': np.ones(shape = numGM),\n",
    "        'lnEDP': np.log(sdrX),\n",
    "        'lnSaT1': np.log(sa_T013),\n",
    "        'lnRjb': np.log(gm_info['Distance 1 (km)'].values),\n",
    "        'M':gm_info['Magnitude'].values}\n",
    "dummydf = pd.DataFrame(temp, index = None)\n",
    "model = smf.ols('lnEDP ~ lnSaT1 + lnRjb + M', data = dummydf)\n",
    "model_res = model.fit()\n",
    "model_res.summary()"
   ]
  },
  {
   "cell_type": "code",
   "execution_count": null,
   "id": "4e066ec1",
   "metadata": {},
   "outputs": [],
   "source": [
    "model_res.pvalues"
   ]
  },
  {
   "cell_type": "code",
   "execution_count": null,
   "id": "71b076c8",
   "metadata": {},
   "outputs": [],
   "source": []
  },
  {
   "cell_type": "code",
   "execution_count": null,
   "id": "05b8497c",
   "metadata": {},
   "outputs": [],
   "source": []
  },
  {
   "cell_type": "code",
   "execution_count": null,
   "id": "3cc4eaf1",
   "metadata": {},
   "outputs": [],
   "source": [
    "sdrXx = sdr[3].values[:numGM][1::2]\n",
    "len(sdrXx)"
   ]
  },
  {
   "cell_type": "code",
   "execution_count": null,
   "id": "96aab823",
   "metadata": {},
   "outputs": [],
   "source": [
    "linear_fit = sm.OLS(np.log(sdrX), X)\n",
    "fit_result = linear_fit.fit()\n",
    "fit_result.summary()"
   ]
  },
  {
   "cell_type": "code",
   "execution_count": null,
   "id": "51a026f5",
   "metadata": {},
   "outputs": [],
   "source": [
    "np.std(fit_result.resid)"
   ]
  },
  {
   "cell_type": "code",
   "execution_count": null,
   "id": "a7048db5",
   "metadata": {},
   "outputs": [],
   "source": [
    "linear_fit = sm.OLS(np.log(sdrXx), Xx)\n",
    "fit_result = linear_fit.fit()\n",
    "fit_result.summary()"
   ]
  },
  {
   "cell_type": "code",
   "execution_count": null,
   "id": "f3c79e20",
   "metadata": {},
   "outputs": [],
   "source": [
    "np.std(fit_result.resid)"
   ]
  },
  {
   "cell_type": "code",
   "execution_count": null,
   "id": "b0516452",
   "metadata": {},
   "outputs": [],
   "source": [
    "temp = {'I': np.ones(shape = 240),\n",
    "        'lnEDP': np.log(sdrX),\n",
    "        'lnSaT1': np.log(sa_T013),\n",
    "        'lnRjb': np.log(gm_info['Distance 1 (km)'].values),\n",
    "        'M':gm_info['Magnitude'].values}\n",
    "dummydf = pd.DataFrame(temp, index = None)\n",
    "model = smf.ols('lnEDP ~ lnSaT1 + M', data = dummydf)\n",
    "model_res = model.fit()\n",
    "model_res.summary()"
   ]
  },
  {
   "cell_type": "code",
   "execution_count": null,
   "id": "e84ea28e",
   "metadata": {},
   "outputs": [],
   "source": [
    "model_res.pvalues['lnRjb']\n",
    "\n",
    "a = 'Yes' if model_res.pvalues['lnRjb'] >= 0.05 else 'No'"
   ]
  },
  {
   "cell_type": "code",
   "execution_count": null,
   "id": "d268b84e",
   "metadata": {},
   "outputs": [],
   "source": [
    "np.round(model_res.pvalues['lnRjb'], 2)\n",
    "\n"
   ]
  },
  {
   "cell_type": "code",
   "execution_count": null,
   "id": "2ade8da8",
   "metadata": {},
   "outputs": [],
   "source": [
    "temp = {'I': np.ones(shape = 240),\n",
    "        'lnEDP': np.log(sdrX),\n",
    "        'lnSaT1': np.log(sa_T013),\n",
    "        'lnRjb': np.log(gm_info['Distance 1 (km)'].values),\n",
    "        'M':gm_info['Magnitude'].values}\n",
    "dummydf = pd.DataFrame(temp, index = None)\n",
    "model = smf.ols('lnEDP ~ lnSaT1 + lnRjb', data = dummydf)\n",
    "model_res = model.fit()\n",
    "model_res.summary()"
   ]
  },
  {
   "cell_type": "code",
   "execution_count": null,
   "id": "f8e3f301",
   "metadata": {},
   "outputs": [],
   "source": [
    "sns.histplot(fit_result.resid)"
   ]
  },
  {
   "cell_type": "code",
   "execution_count": null,
   "id": "6cf109e5",
   "metadata": {},
   "outputs": [],
   "source": [
    "mu, std = norm.fit(fit_result.resid)\n",
    "mu, std"
   ]
  },
  {
   "cell_type": "code",
   "execution_count": null,
   "id": "39c0986a",
   "metadata": {},
   "outputs": [],
   "source": [
    "np.std(fit_result.resid)"
   ]
  },
  {
   "cell_type": "code",
   "execution_count": null,
   "id": "54edecde",
   "metadata": {},
   "outputs": [],
   "source": []
  },
  {
   "cell_type": "code",
   "execution_count": null,
   "id": "8a04d1c8",
   "metadata": {},
   "outputs": [],
   "source": [
    "np.std(fit_result.resid)"
   ]
  },
  {
   "cell_type": "code",
   "execution_count": null,
   "id": "a0d7185c",
   "metadata": {},
   "outputs": [],
   "source": [
    "np.std(fit_result.resid)"
   ]
  },
  {
   "cell_type": "code",
   "execution_count": null,
   "id": "24593500",
   "metadata": {},
   "outputs": [],
   "source": [
    "ols_sdrX_saT1 = OLS(sdrX, sa_T013)"
   ]
  },
  {
   "cell_type": "code",
   "execution_count": null,
   "id": "c6e18bf8",
   "metadata": {},
   "outputs": [],
   "source": [
    "ols_sdrX_saT1.get_summary()"
   ]
  },
  {
   "cell_type": "code",
   "execution_count": null,
   "id": "b73305f0",
   "metadata": {},
   "outputs": [],
   "source": [
    "ols_sdrX_saT1.plot_model_fit()"
   ]
  },
  {
   "cell_type": "code",
   "execution_count": null,
   "id": "802b2cb6",
   "metadata": {},
   "outputs": [],
   "source": [
    "ols_sdrX_saT1.plot_residuals_hist()"
   ]
  },
  {
   "cell_type": "code",
   "execution_count": null,
   "id": "c576cd72",
   "metadata": {},
   "outputs": [],
   "source": [
    "# setup the figure and axes\n",
    "fig = plt.figure(figsize=(8, 3))\n",
    "ax1 = fig.add_subplot(121, projection='3d')\n",
    "ax2 = fig.add_subplot(122, projection='3d')\n",
    "\n",
    "# fake data\n",
    "_x = np.arange(4)\n",
    "_y = np.arange(5)\n",
    "_xx, _yy = np.meshgrid(_x, _y)\n",
    "x, y = _xx.ravel(), _yy.ravel()\n",
    "\n",
    "top = x + y\n",
    "bottom = np.zeros_like(top)\n",
    "width = depth = 1\n",
    "\n",
    "ax1.bar3d(x, y, bottom, width, depth, top, shade=True)\n",
    "ax1.set_title('Shaded')\n",
    "\n",
    "ax2.bar3d(x, y, bottom, width, depth, top, shade=False)\n",
    "ax2.set_title('Not Shaded')\n",
    "\n",
    "plt.show()"
   ]
  },
  {
   "cell_type": "code",
   "execution_count": null,
   "id": "53cd06c0",
   "metadata": {},
   "outputs": [],
   "source": [
    "x\n"
   ]
  },
  {
   "cell_type": "code",
   "execution_count": null,
   "id": "ae5af823",
   "metadata": {},
   "outputs": [],
   "source": [
    "y"
   ]
  },
  {
   "cell_type": "code",
   "execution_count": null,
   "id": "eabecf6b",
   "metadata": {},
   "outputs": [],
   "source": [
    "from mpl_toolkits.mplot3d import Axes3D\n",
    "import matplotlib.pyplot as plt\n",
    "import numpy as np\n",
    "\n",
    "fig = plt.figure()\n",
    "ax = fig.add_subplot(111, projection='3d')\n",
    "for c, z in zip(['r', 'g', 'b', 'y'], [30, 20, 10, 0]):\n",
    "    xs = np.arange(20)\n",
    "    ys = np.random.rand(20)\n",
    "\n",
    "    # You can provide either a single color or an array. To demonstrate this,\n",
    "    # the first bar of each set will be colored cyan.\n",
    "    cs = [c] * len(xs)\n",
    "    cs[0] = 'c'\n",
    "    ax.bar(xs, ys, zs=z, zdir='y', color=cs, alpha=0.8)\n",
    "\n",
    "ax.set_xlabel('X')\n",
    "ax.set_ylabel('Y')\n",
    "ax.set_zlabel('Z')\n",
    "\n",
    "plt.show()"
   ]
  },
  {
   "cell_type": "code",
   "execution_count": null,
   "id": "cf95b6d2",
   "metadata": {},
   "outputs": [],
   "source": [
    "z"
   ]
  },
  {
   "cell_type": "code",
   "execution_count": null,
   "id": "a83aa7e1",
   "metadata": {},
   "outputs": [],
   "source": []
  }
 ],
 "metadata": {
  "kernelspec": {
   "display_name": "Python 3 (ipykernel)",
   "language": "python",
   "name": "python3"
  },
  "language_info": {
   "codemirror_mode": {
    "name": "ipython",
    "version": 3
   },
   "file_extension": ".py",
   "mimetype": "text/x-python",
   "name": "python",
   "nbconvert_exporter": "python",
   "pygments_lexer": "ipython3",
   "version": "3.8.2"
  }
 },
 "nbformat": 4,
 "nbformat_minor": 5
}
